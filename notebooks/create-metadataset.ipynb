{
 "cells": [
  {
   "cell_type": "markdown",
   "source": [
    "# Create Metadataset\n",
    "This notebook creates a metadataset from the raw data. The metadataset contains the following columns:\n",
    "- percentage clouds\n",
    "- percentage land\n",
    "- percentage missing landsat data\n",
    "- percentage kelp (if labeled)\n",
    "\n",
    "The metadataset is saved in `../data/processed/metadata.csv`"
   ],
   "metadata": {
    "collapsed": false
   },
   "id": "a0542d4e9fc10854"
  },
  {
   "cell_type": "code",
   "execution_count": 2,
   "id": "initial_id",
   "metadata": {
    "collapsed": true,
    "ExecuteTime": {
     "end_time": "2024-01-18T14:00:15.535548100Z",
     "start_time": "2024-01-18T14:00:15.454102Z"
    }
   },
   "outputs": [],
   "source": [
    "from pathlib import Path\n",
    "\n",
    "import numpy as np\n",
    "import pandas as pd\n",
    "import rasterio\n",
    "from tqdm.notebook import tqdm"
   ]
  },
  {
   "cell_type": "markdown",
   "source": [
    "Start by reading the raw metadataset"
   ],
   "metadata": {
    "collapsed": false
   },
   "id": "7ab7ca7f770179a8"
  },
  {
   "cell_type": "code",
   "execution_count": 3,
   "outputs": [
    {
     "data": {
      "text/plain": "    tile_id                filename                          md5_hash  \\\n0  JW725114  JW725114_satellite.tif  97b19f0747260df89e23f33caced3632   \n1  UX493605  UX493605_satellite.tif  fbdd888f115ede68ee83996071c007dc   \n2  OU500661  OU500661_satellite.tif  2003e7d0eaf10894e796721b5d344eeb   \n3  DC227980  DC227980_satellite.tif  8498ccaff72b8d7cfcc7f9404baf36f2   \n4  SS602790  SS602790_satellite.tif  525618743f94a065158f432bd5ee2d32   \n\n   filesize_bytes       type  in_train  \n0         1105392  satellite      True  \n1         1270901  satellite      True  \n2         1238008  satellite      True  \n3         1252483  satellite      True  \n4         1535964  satellite      True  ",
      "text/html": "<div>\n<style scoped>\n    .dataframe tbody tr th:only-of-type {\n        vertical-align: middle;\n    }\n\n    .dataframe tbody tr th {\n        vertical-align: top;\n    }\n\n    .dataframe thead th {\n        text-align: right;\n    }\n</style>\n<table border=\"1\" class=\"dataframe\">\n  <thead>\n    <tr style=\"text-align: right;\">\n      <th></th>\n      <th>tile_id</th>\n      <th>filename</th>\n      <th>md5_hash</th>\n      <th>filesize_bytes</th>\n      <th>type</th>\n      <th>in_train</th>\n    </tr>\n  </thead>\n  <tbody>\n    <tr>\n      <th>0</th>\n      <td>JW725114</td>\n      <td>JW725114_satellite.tif</td>\n      <td>97b19f0747260df89e23f33caced3632</td>\n      <td>1105392</td>\n      <td>satellite</td>\n      <td>True</td>\n    </tr>\n    <tr>\n      <th>1</th>\n      <td>UX493605</td>\n      <td>UX493605_satellite.tif</td>\n      <td>fbdd888f115ede68ee83996071c007dc</td>\n      <td>1270901</td>\n      <td>satellite</td>\n      <td>True</td>\n    </tr>\n    <tr>\n      <th>2</th>\n      <td>OU500661</td>\n      <td>OU500661_satellite.tif</td>\n      <td>2003e7d0eaf10894e796721b5d344eeb</td>\n      <td>1238008</td>\n      <td>satellite</td>\n      <td>True</td>\n    </tr>\n    <tr>\n      <th>3</th>\n      <td>DC227980</td>\n      <td>DC227980_satellite.tif</td>\n      <td>8498ccaff72b8d7cfcc7f9404baf36f2</td>\n      <td>1252483</td>\n      <td>satellite</td>\n      <td>True</td>\n    </tr>\n    <tr>\n      <th>4</th>\n      <td>SS602790</td>\n      <td>SS602790_satellite.tif</td>\n      <td>525618743f94a065158f432bd5ee2d32</td>\n      <td>1535964</td>\n      <td>satellite</td>\n      <td>True</td>\n    </tr>\n  </tbody>\n</table>\n</div>"
     },
     "execution_count": 3,
     "metadata": {},
     "output_type": "execute_result"
    }
   ],
   "source": [
    "metadata = pd.read_csv('../data/raw/metadata_fTq0l2T.csv')\n",
    "metadata.head()"
   ],
   "metadata": {
    "collapsed": false,
    "ExecuteTime": {
     "end_time": "2024-01-18T14:00:15.558262200Z",
     "start_time": "2024-01-18T14:00:15.535548100Z"
    }
   },
   "id": "57d9927dc97b1190"
  },
  {
   "cell_type": "code",
   "execution_count": 4,
   "outputs": [],
   "source": [
    "metadata = metadata[metadata['type'] == 'satellite']"
   ],
   "metadata": {
    "collapsed": false,
    "ExecuteTime": {
     "end_time": "2024-01-18T14:00:15.568502500Z",
     "start_time": "2024-01-18T14:00:15.560263200Z"
    }
   },
   "id": "7aeee532b19b4260"
  },
  {
   "cell_type": "code",
   "execution_count": 5,
   "outputs": [],
   "source": [
    "def process_image(tile_id: str, filename: str, in_train: bool) -> pd.Series:\n",
    "    folder = Path('../data/raw/train_satellite' if in_train else '../data/raw/test_satellite')\n",
    "    file = folder / filename\n",
    "    with rasterio.open(file) as src:\n",
    "        img = src.read()\n",
    "    imsize = img.shape[1] * img.shape[2]\n",
    "    img.reshape(img.shape[0], -1)\n",
    "\n",
    "    cloud = np.sum(img[5, :, :]) / imsize\n",
    "    land = np.sum(img[6, :, :] > 0) / imsize\n",
    "    missing_landsat = np.any(img[0:5, :, :] < 0, axis=0)\n",
    "    missing_landsat = np.sum(missing_landsat) / imsize\n",
    "\n",
    "    kelp = None\n",
    "    if in_train:\n",
    "        kelp_file = Path('../data/raw/train_kelp') / f'{tile_id}_kelp.tif'\n",
    "        with rasterio.open(kelp_file) as src:\n",
    "            kelp = src.read()\n",
    "        kelp = kelp.reshape(-1)\n",
    "        kelp = np.sum(kelp) / imsize\n",
    "\n",
    "    return pd.Series([tile_id, cloud, land, missing_landsat, kelp, in_train],\n",
    "                     index=['tile_id', 'cloud', 'land', 'missing_landsat', 'kelp', 'in_train'])"
   ],
   "metadata": {
    "collapsed": false,
    "ExecuteTime": {
     "end_time": "2024-01-18T14:00:15.576502200Z",
     "start_time": "2024-01-18T14:00:15.563230Z"
    }
   },
   "id": "7c7abcaf84c13409"
  },
  {
   "cell_type": "code",
   "execution_count": 6,
   "outputs": [
    {
     "data": {
      "text/plain": "  0%|          | 0/7061 [00:00<?, ?it/s]",
      "application/vnd.jupyter.widget-view+json": {
       "version_major": 2,
       "version_minor": 0,
       "model_id": "8f0f6ab027d74d6ab3ac1f01bbb2184f"
      }
     },
     "metadata": {},
     "output_type": "display_data"
    },
    {
     "name": "stderr",
     "output_type": "stream",
     "text": [
      "C:\\Users\\hjdeh\\Documents\\GitHub\\Q2\\q2-detect-kelp\\venv\\Lib\\site-packages\\rasterio\\__init__.py:317: NotGeoreferencedWarning: Dataset has no geotransform, gcps, or rpcs. The identity matrix will be returned.\n",
      "  dataset = DatasetReader(path, driver=driver, sharing=sharing, **kwargs)\n"
     ]
    }
   ],
   "source": [
    "# Do it without appending\n",
    "tqdm.pandas()\n",
    "df = metadata.progress_apply(lambda row: process_image(row['tile_id'], row['filename'], row['in_train']), axis=1)"
   ],
   "metadata": {
    "collapsed": false,
    "ExecuteTime": {
     "end_time": "2024-01-18T14:03:10.971812500Z",
     "start_time": "2024-01-18T14:00:15.568502500Z"
    }
   },
   "id": "75ab647638a30a91"
  },
  {
   "cell_type": "code",
   "execution_count": 7,
   "outputs": [],
   "source": [
    "df.to_csv('../data/processed/metadata.csv', index=False)"
   ],
   "metadata": {
    "collapsed": false,
    "ExecuteTime": {
     "end_time": "2024-01-18T14:03:10.994092900Z",
     "start_time": "2024-01-18T14:03:10.971812500Z"
    }
   },
   "id": "62e2392f605dbd4b"
  }
 ],
 "metadata": {
  "kernelspec": {
   "display_name": "Python 3",
   "language": "python",
   "name": "python3"
  },
  "language_info": {
   "codemirror_mode": {
    "name": "ipython",
    "version": 2
   },
   "file_extension": ".py",
   "mimetype": "text/x-python",
   "name": "python",
   "nbconvert_exporter": "python",
   "pygments_lexer": "ipython2",
   "version": "2.7.6"
  }
 },
 "nbformat": 4,
 "nbformat_minor": 5
}
