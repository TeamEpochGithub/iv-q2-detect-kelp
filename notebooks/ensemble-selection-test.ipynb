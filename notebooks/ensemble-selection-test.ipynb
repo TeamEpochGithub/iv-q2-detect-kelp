{
 "cells": [
  {
   "cell_type": "code",
   "execution_count": 48,
   "outputs": [],
   "source": [
    "import numpy as np\n",
    "import pandas as pd"
   ],
   "metadata": {
    "collapsed": false,
    "ExecuteTime": {
     "end_time": "2024-02-18T11:09:24.883757Z",
     "start_time": "2024-02-18T11:09:24.865751300Z"
    }
   },
   "id": "14cbbea0e7ec61a6"
  },
  {
   "cell_type": "code",
   "execution_count": 49,
   "id": "initial_id",
   "metadata": {
    "collapsed": true,
    "ExecuteTime": {
     "end_time": "2024-02-18T11:09:24.934712500Z",
     "start_time": "2024-02-18T11:09:24.874755700Z"
    }
   },
   "outputs": [],
   "source": [
    "# Create dummy data in this cell, to test the rest of the algorithm with for now\n",
    "\n",
    "# target\n",
    "t = np.array([0,0,0,1,1,1])\n",
    "\n",
    "# base learner predictions\n",
    "p = np.array([\n",
    "    [0,0,0,1,1,1],\n",
    "    [0,1,0,1,1,1],\n",
    "    [0,0,0,1,0,1],\n",
    "    [0,0,0,1,2,1]\n",
    "])"
   ]
  },
  {
   "cell_type": "code",
   "execution_count": 143,
   "outputs": [
    {
     "name": "stdout",
     "output_type": "stream",
     "text": [
      "[[ 0  0  0  0  0  0]\n",
      " [ 0  1  0  0  0  0]\n",
      " [ 0  0  0  0 -1  0]\n",
      " [ 0  0  0  0  1  0]]\n"
     ]
    }
   ],
   "source": [
    "# error is prediction minus target\n",
    "e = p - t\n",
    "print(e)"
   ],
   "metadata": {
    "collapsed": false,
    "ExecuteTime": {
     "end_time": "2024-02-17T11:54:47.017892500Z",
     "start_time": "2024-02-17T11:54:46.997886700Z"
    }
   },
   "id": "37b761ed59421890"
  },
  {
   "cell_type": "code",
   "execution_count": 144,
   "outputs": [
    {
     "name": "stdout",
     "output_type": "stream",
     "text": [
      "[ 0.          0.16666667 -0.16666667  0.16666667]\n"
     ]
    }
   ],
   "source": [
    "# calculate the mean  for each base learner\n",
    "means = np.mean(e, axis=1)\n",
    "print(means)"
   ],
   "metadata": {
    "collapsed": false,
    "ExecuteTime": {
     "end_time": "2024-02-17T11:54:47.039457800Z",
     "start_time": "2024-02-17T11:54:47.013892Z"
    }
   },
   "id": "35417698e378eba0"
  },
  {
   "cell_type": "code",
   "execution_count": 50,
   "outputs": [
    {
     "data": {
      "text/plain": "0.044642857142857144"
     },
     "execution_count": 50,
     "metadata": {},
     "output_type": "execute_result"
    }
   ],
   "source": [
    "# calculate the covariance matrix of the errors\n",
    "cov = np.cov(e)\n",
    "print(cov)"
   ],
   "metadata": {
    "collapsed": false,
    "ExecuteTime": {
     "end_time": "2024-02-18T11:09:24.934712500Z",
     "start_time": "2024-02-18T11:09:24.889264400Z"
    }
   },
   "id": "9512d0286f3ee6c"
  },
  {
   "cell_type": "code",
   "execution_count": 51,
   "outputs": [
    {
     "data": {
      "text/plain": "0.044642857142857144"
     },
     "execution_count": 51,
     "metadata": {},
     "output_type": "execute_result"
    }
   ],
   "source": [
    "# define a function that gives the ensemble MSE for a given set of weights\n",
    "def ensemble_mse(weights, errors):\n",
    "    weights = np.array(weights)/np.sum(weights)\n",
    "    error = np.dot(weights, errors)\n",
    "    return np.mean(error**2)   \n",
    "    "
   ],
   "metadata": {
    "collapsed": false,
    "ExecuteTime": {
     "end_time": "2024-02-18T11:09:24.935713200Z",
     "start_time": "2024-02-18T11:09:24.904706500Z"
    }
   },
   "id": "214996e57fc81f63"
  },
  {
   "cell_type": "code",
   "execution_count": 52,
   "outputs": [
    {
     "name": "stdout",
     "output_type": "stream",
     "text": [
      "-0.03571428571428571 0.04336734693877552\n"
     ]
    },
    {
     "data": {
      "text/plain": "0.04464285714285715"
     },
     "execution_count": 52,
     "metadata": {},
     "output_type": "execute_result"
    }
   ],
   "source": [
    "print(ensemble_mse([0,0,0,1], e))"
   ],
   "metadata": {
    "collapsed": false,
    "ExecuteTime": {
     "end_time": "2024-02-18T11:09:24.935713200Z",
     "start_time": "2024-02-18T11:09:24.920710200Z"
    }
   },
   "id": "27f9d82b12abd80"
  },
  {
   "cell_type": "code",
   "execution_count": 53,
   "outputs": [
    {
     "name": "stdout",
     "output_type": "stream",
     "text": [
      "[[ 0.          0.          0.          0.        ]\n",
      " [ 0.          0.28571429  0.          0.14285714]\n",
      " [ 0.          0.          0.12244898 -0.14285714]\n",
      " [ 0.          0.14285714 -0.14285714  0.28571429]]\n"
     ]
    },
    {
     "data": {
      "text/plain": "0.0433673469387755"
     },
     "execution_count": 53,
     "metadata": {},
     "output_type": "execute_result"
    }
   ],
   "source": [
    "# define a function that approximates the ensemble mse for a given set of weights\n",
    "# uses that mse is the same as the variance of the errors, assuming the errors have \n",
    "def approx_ensemble_error(weights, covariances, means):\n",
    "    selection = np.array(weights) != 0\n",
    "    cov = covariances[selection][:,selection]\n",
    "    print(np.mean(cov))\n",
    "    print(means[selection])\n",
    "    return np.mean(cov) + np.mean(means[selection])**2"
   ],
   "metadata": {
    "collapsed": false,
    "ExecuteTime": {
     "end_time": "2024-02-18T11:09:24.959718700Z",
     "start_time": "2024-02-18T11:09:24.936713300Z"
    }
   },
   "id": "ce0ccc1fd3b27fbb"
  },
  {
   "cell_type": "code",
   "execution_count": 54,
   "outputs": [],
   "source": [
    "print(approx_ensemble_error([0,0,0,1], cov, means))"
   ],
   "metadata": {
    "collapsed": false,
    "ExecuteTime": {
     "end_time": "2024-02-18T11:09:25.014178100Z",
     "start_time": "2024-02-18T11:09:24.952716900Z"
    }
   },
   "id": "bf7718afb29cf9fa"
  },
  {
   "cell_type": "code",
   "execution_count": 55,
   "outputs": [
    {
     "name": "stdout",
     "output_type": "stream",
     "text": [
      "[0, 0, 0, 0] 0.0 0.0 True\n",
      "[0, 0, 0, 1] 0.017857142857142856 0.017857142857142856 True\n",
      "[0, 0, 1, 0] 0.017857142857142856 0.017857142857142856 True\n",
      "[0, 0, 1, 1] 0.07142857142857142 0.07142857142857142 True\n",
      "[0, 1, 0, 0] 0.017857142857142856 0.017857142857142856 True\n",
      "[0, 1, 0, 1] 0.07142857142857142 0.07142857142857142 True\n",
      "[0, 1, 1, 0] 0.07142857142857142 0.07142857142857142 True\n",
      "[0, 1, 1, 1] 0.16071428571428573 0.1607142857142857 True\n",
      "[1, 0, 0, 0] 0.017857142857142856 0.017857142857142856 True\n",
      "[1, 0, 0, 1] 0.07142857142857142 0.07142857142857142 True\n",
      "[1, 0, 1, 0] 0.07142857142857142 0.07142857142857142 True\n",
      "[1, 0, 1, 1] 0.16071428571428573 0.1607142857142857 True\n",
      "[1, 1, 0, 0] 0.07142857142857142 0.07142857142857142 True\n",
      "[1, 1, 0, 1] 0.16071428571428573 0.1607142857142857 True\n",
      "[1, 1, 1, 0] 0.16071428571428573 0.1607142857142857 True\n",
      "[1, 1, 1, 1] 0.2857142857142857 0.2857142857142857 True\n"
     ]
    }
   ],
   "source": [
    "# test the approx_ensemble_error function\n",
    "# iterate over all combinations of weights (binary)\n",
    "# and compare the approximated ensemble error with the actual ensemble error\n",
    "for i in range(2**4):\n",
    "    weights = [int(x) for x in list(bin(i)[2:].zfill(4))]\n",
    "    real = ensemble_mse(weights, e)\n",
    "    approx = approx_ensemble_error(weights, cov, means)\n",
    "    isclose = np.isclose(real, approx)\n",
    "    print(weights, real, approx, isclose)"
   ],
   "metadata": {
    "collapsed": false,
    "ExecuteTime": {
     "end_time": "2024-02-18T11:09:25.028181100Z",
     "start_time": "2024-02-18T11:09:24.968720800Z"
    }
   },
   "id": "f0fe7ba31678e11d"
  }
 ],
 "metadata": {
  "kernelspec": {
   "display_name": "Python 3",
   "language": "python",
   "name": "python3"
  },
  "language_info": {
   "codemirror_mode": {
    "name": "ipython",
    "version": 2
   },
   "file_extension": ".py",
   "mimetype": "text/x-python",
   "name": "python",
   "nbconvert_exporter": "python",
   "pygments_lexer": "ipython2",
   "version": "2.7.6"
  }
 },
 "nbformat": 4,
 "nbformat_minor": 5
}
