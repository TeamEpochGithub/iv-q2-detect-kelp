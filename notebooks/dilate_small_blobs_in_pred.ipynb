{
 "cells": [
  {
   "cell_type": "code",
   "execution_count": 1,
   "id": "14cbbea0e7ec61a6",
   "metadata": {
    "ExecuteTime": {
     "end_time": "2024-02-20T13:09:02.342830400Z",
     "start_time": "2024-02-20T13:09:02.331826500Z"
    },
    "collapsed": false
   },
   "outputs": [],
   "source": [
    "import numpy as np\n",
    "import pandas as pd\n",
    "import glob\n",
    "import os\n",
    "from omegaconf import OmegaConf\n",
    "import skimage\n",
    "from tqdm.notebook import tqdm, trange"
   ]
  },
  {
   "cell_type": "code",
   "execution_count": 2,
   "id": "a9fc316582519e43",
   "metadata": {
    "ExecuteTime": {
     "end_time": "2024-02-20T13:09:03.294821300Z",
     "start_time": "2024-02-20T13:09:03.273270400Z"
    },
    "collapsed": false
   },
   "outputs": [],
   "source": [
    "# Define parameters here\n",
    "start_date = \"2024-02-19\"\n",
    "max_images = 424242\n",
    "output_path = \"../outputs\"\n",
    "target_path = \"../data/raw/train_kelp/\""
   ]
  },
  {
   "cell_type": "code",
   "execution_count": 3,
   "id": "4814e0907416f14",
   "metadata": {
    "ExecuteTime": {
     "end_time": "2024-02-20T13:09:10.330020100Z",
     "start_time": "2024-02-20T13:09:09.851345300Z"
    },
    "collapsed": false
   },
   "outputs": [
    {
     "name": "stdout",
     "output_type": "stream",
     "text": [
      "../outputs\\2024-02-19\\14-58-07\\\n",
      "../outputs\\2024-02-19\\15-16-43\\\n",
      "../outputs\\2024-02-19\\15-55-52\\\n",
      "../outputs\\2024-02-19\\16-01-33\\\n",
      "../outputs\\2024-02-19\\16-24-33\\\n",
      "../outputs\\2024-02-19\\16-37-53\\\n",
      "../outputs\\2024-02-19\\16-49-42\\\n",
      "../outputs\\2024-02-19\\17-22-32\\\n",
      "../outputs\\2024-02-19\\17-38-08\\\n",
      "../outputs\\2024-02-19\\17-50-54\\\n",
      "../outputs\\2024-02-19\\17-55-40\\\n",
      "../outputs\\2024-02-19\\18-13-00\\\n",
      "../outputs\\2024-02-19\\18-40-20\\\n",
      "../outputs\\2024-02-19\\23-38-11\\\n",
      "../outputs\\2024-02-19\\23-51-19\\\n",
      "../outputs\\2024-02-19\\23-52-02\\\n",
      "../outputs\\2024-02-19\\23-53-38\\\n",
      "../outputs\\2024-02-20\\01-16-30\\\n",
      "../outputs\\2024-02-20\\09-57-58\\\n",
      "../outputs\\2024-02-20\\09-58-57\\\n",
      "../outputs\\2024-02-20\\10-01-40\\\n",
      "../outputs\\2024-02-20\\10-09-29\\\n",
      "../outputs\\2024-02-20\\14-42-33\\\n",
      "../outputs\\2024-02-20\\15-25-02\\\n",
      "../outputs\\2024-02-20\\23-52-02\\\n",
      "../outputs\\2024-02-21\\00-13-01\\\n",
      "Found 26 suitable folders\n"
     ]
    }
   ],
   "source": [
    "# Search for suitable output folders\n",
    "folders = []\n",
    "confs = dict()\n",
    "for day_folder in glob.glob(os.path.join(output_path, \"*/\")):\n",
    "    if day_folder.split(os.sep)[-2] < start_date:\n",
    "        continue       \n",
    "    for timestamp_folder in glob.glob(os.path.join(day_folder, \"*/\")):\n",
    "        if not os.path.exists(os.path.join(timestamp_folder, \"preds\")):\n",
    "            continue\n",
    "        \n",
    "        # read the .hydra/config.yaml file with omegaconf into a dictionary\n",
    "        with open(os.path.join(timestamp_folder, \".hydra\", \"config.yaml\"), \"r\") as f:\n",
    "            cfg = OmegaConf.load(f)\n",
    "            \n",
    "        if \"test_size\" not in cfg or cfg.test_size != 0.2:\n",
    "            continue\n",
    "        \n",
    "        confs[timestamp_folder] = cfg            \n",
    "        print(timestamp_folder)\n",
    "        folders.append(timestamp_folder)\n",
    "print(f\"Found {len(folders)} suitable folders\")"
   ]
  },
  {
   "cell_type": "code",
   "execution_count": 4,
   "id": "9b234de836eea921",
   "metadata": {
    "ExecuteTime": {
     "end_time": "2024-02-20T13:09:13.233005700Z",
     "start_time": "2024-02-20T13:09:13.186995800Z"
    },
    "collapsed": false
   },
   "outputs": [
    {
     "name": "stdout",
     "output_type": "stream",
     "text": [
      "Remaining folders: 23\n"
     ]
    }
   ],
   "source": [
    "# Filter out folders with identical configurations\n",
    "unique_confs = dict()\n",
    "for folder, conf in confs.items():\n",
    "    if conf not in unique_confs.values():\n",
    "        unique_confs[folder] = conf\n",
    "folders = list(unique_confs.keys())\n",
    "print(f\"Remaining folders: {len(folders)}\")"
   ]
  },
  {
   "cell_type": "code",
   "execution_count": 5,
   "id": "4406758953145ea9",
   "metadata": {
    "ExecuteTime": {
     "end_time": "2024-02-20T13:09:17.558696100Z",
     "start_time": "2024-02-20T13:09:17.524687500Z"
    },
    "collapsed": false
   },
   "outputs": [],
   "source": [
    "# Read the filenames inside the first folder\n",
    "filenames = glob.glob(os.path.join(folders[0], \"preds\", \"*.tif\"))\n",
    "image_names = [os.path.basename(f)[:-9] for f in filenames]"
   ]
  },
  {
   "cell_type": "code",
   "execution_count": 6,
   "id": "95eb8bc2f93c7ce4",
   "metadata": {
    "ExecuteTime": {
     "end_time": "2024-02-20T13:09:17.972318Z",
     "start_time": "2024-02-20T13:09:17.949808900Z"
    },
    "collapsed": false
   },
   "outputs": [],
   "source": [
    "# have a dictionary of the feature combinations:\n",
    "feature_combinations = {\n",
    "    \"f13\": [0,1,2,3,4,7,8,9,10,11,12,13,14],\n",
    "    \"f18\": [0,1,2,3,4,7,8,9,10,11,12,13,14,15,16,17,18,19],\n",
    "    \"fm1\": [0,1,2,7,13,14,18,19],\n",
    "    \"fm2\": [0,1,2,3,4,12,19],\n",
    "    \"fm3\": [7,8,9,10,11,12,13,14,15,16,17,18,19],\n",
    "    \"fm4\": [0,1,2,3,4,19], \n",
    "}"
   ]
  },
  {
   "cell_type": "code",
   "execution_count": 7,
   "id": "b228be1589fd9531",
   "metadata": {
    "ExecuteTime": {
     "end_time": "2024-02-20T13:09:18.592036800Z",
     "start_time": "2024-02-20T13:09:18.550979300Z"
    },
    "collapsed": false
   },
   "outputs": [
    {
     "name": "stdout",
     "output_type": "stream",
     "text": [
      "../outputs\\2024-02-19\\14-58-07\\ vgg13-Unet-f18-bs16-e75-FocalDiceBoundaryLoss\n",
      "../outputs\\2024-02-19\\15-16-43\\ vgg13-Unet-f13-bs16-e75-DiceLoss\n",
      "../outputs\\2024-02-19\\15-55-52\\ vgg13-Unet-f18-bs16-e75-DiceLoss\n",
      "../outputs\\2024-02-19\\16-01-33\\ SwinUNETR-f13-bs16-e75-DiceLoss\n",
      "../outputs\\2024-02-19\\16-24-33\\ vgg13-Unet-f18-bs16-e75-DiceLoss\n",
      "../outputs\\2024-02-19\\16-37-53\\ vgg13-Unet-fm4-bs16-e75-DiceLoss\n",
      "../outputs\\2024-02-19\\16-49-42\\ vgg13-Unet-fm2-bs16-e75-DiceLoss\n",
      "../outputs\\2024-02-19\\17-22-32\\ vgg13-Unet-f18-bs16-e75-FocalDice2BoundaryLoss\n",
      "../outputs\\2024-02-19\\17-38-08\\ SwinUNETR-f18-bs16-e75-FocalDiceBoundaryLoss\n",
      "../outputs\\2024-02-19\\17-50-54\\ vgg13-Unet-f13-bs16-e75-FocalDiceBoundaryLoss\n",
      "../outputs\\2024-02-19\\17-55-40\\ SwinUNETR-f13-bs16-e75-FocalDiceBoundaryLoss\n",
      "../outputs\\2024-02-19\\18-13-00\\ timm-resnest14d-Unet-f13-bs16-e75-DiceLoss\n",
      "../outputs\\2024-02-19\\18-40-20\\ timm-res2net50_26w_4s-Unet-f13-bs16-e75-DiceLoss\n",
      "../outputs\\2024-02-19\\23-38-11\\ timm-res2net50_26w_4s-Unet-f18-bs16-e75-DiceLoss\n",
      "../outputs\\2024-02-19\\23-51-19\\ SwinUNETR-f18-bs16-e75-DiceLoss\n",
      "../outputs\\2024-02-19\\23-53-38\\ CustomTimm-f18-bs16-e100-FocalDiceBoundaryLoss\n",
      "../outputs\\2024-02-20\\09-57-58\\ timm-res2net50_26w_4s-Unet-f18-bs16-e100-FocalDiceBoundaryLoss\n",
      "../outputs\\2024-02-20\\09-58-57\\ vgg13-Unet-f18-bs16-e100-FocalDiceBoundaryLoss\n",
      "../outputs\\2024-02-20\\10-01-40\\ timm-res2net50_26w_4s-Unet-f18-bs16-e100-DiceLoss\n",
      "../outputs\\2024-02-20\\10-09-29\\ timm-res2net50_26w_4s-Unet-f13-bs16-e100-FocalDiceBoundaryLoss\n",
      "../outputs\\2024-02-20\\14-42-33\\ vgg13-Unet-f18-bs16-e75-DiceLoss\n",
      "../outputs\\2024-02-20\\15-25-02\\ CustomTimm-f18-bs16-e75-FocalDiceBoundaryLoss\n",
      "../outputs\\2024-02-21\\00-13-01\\ vgg13-Unet-f13-bs16-e100-FocalDice2BoundaryLoss\n"
     ]
    }
   ],
   "source": [
    "# Create a name based on the config\n",
    "names = dict()\n",
    "for folder in folders:\n",
    "    conf = confs[folder]\n",
    "    name = conf.model.model_loop_pipeline.model_blocks_pipeline.model_blocks[0].model.model._target_.split(\".\")[-1]\n",
    "    if name == \"Unet\":\n",
    "        name = f\"{conf.model.model_loop_pipeline.model_blocks_pipeline.model_blocks[0].model.model.encoder_name}-{name}\"\n",
    "        \n",
    "    # find the feature name based on the column selection\n",
    "    for feature_name, feature_columns in feature_combinations.items():\n",
    "        if feature_columns == conf.model.model_loop_pipeline.pretrain_pipeline.pretrain_steps[1].columns:\n",
    "            name += f\"-{feature_name}\"\n",
    "            break\n",
    "\n",
    "    name += f\"-bs{conf.model.model_loop_pipeline.model_blocks_pipeline.model_blocks[0].batch_size}\"\n",
    "    name += f\"-e{conf.model.model_loop_pipeline.model_blocks_pipeline.model_blocks[0].epochs}\"\n",
    "    name += f\"-{conf.model.model_loop_pipeline.model_blocks_pipeline.model_blocks[0].criterion._target_.split('.')[-1]}\"\n",
    "    names[folder] = name\n",
    "for folder, name in names.items():\n",
    "    print(folder, name)"
   ]
  },
  {
   "cell_type": "code",
   "execution_count": 8,
   "id": "76ff6d2cb86d38e2",
   "metadata": {
    "ExecuteTime": {
     "end_time": "2024-02-20T13:09:19.931918200Z",
     "start_time": "2024-02-20T13:09:19.910913500Z"
    },
    "collapsed": false
   },
   "outputs": [],
   "source": [
    "# Take the first max_images images\n",
    "image_selection = image_names[:min(max_images, len(image_names))]"
   ]
  },
  {
   "cell_type": "code",
   "execution_count": 9,
   "id": "b47c8eca0f56d075",
   "metadata": {
    "ExecuteTime": {
     "end_time": "2024-02-20T13:09:23.384758100Z",
     "start_time": "2024-02-20T13:09:21.918644Z"
    },
    "collapsed": false
   },
   "outputs": [
    {
     "data": {
      "application/vnd.jupyter.widget-view+json": {
       "model_id": "b2a5b846e82e492fb04f0beecba27485",
       "version_major": 2,
       "version_minor": 0
      },
      "text/plain": [
       "  0%|          | 0/1127 [00:00<?, ?it/s]"
      ]
     },
     "metadata": {},
     "output_type": "display_data"
    }
   ],
   "source": [
    "# Load the target tiffs into an array\n",
    "targets = []\n",
    "for image_name in tqdm(image_selection):\n",
    "    target = skimage.io.imread(os.path.join(target_path, f\"{image_name}_kelp.tif\"))\n",
    "    targets.append(target)\n",
    "targets = np.array(targets).flatten()"
   ]
  },
  {
   "cell_type": "code",
   "execution_count": 10,
   "id": "923568e1d4df43af",
   "metadata": {
    "ExecuteTime": {
     "end_time": "2024-02-20T13:09:42.988023600Z",
     "start_time": "2024-02-20T13:09:23.945412800Z"
    },
    "collapsed": false
   },
   "outputs": [
    {
     "data": {
      "application/vnd.jupyter.widget-view+json": {
       "model_id": "8e4588afa7144284a9cefb840267c959",
       "version_major": 2,
       "version_minor": 0
      },
      "text/plain": [
       "  0%|          | 0/23 [00:00<?, ?it/s]"
      ]
     },
     "metadata": {},
     "output_type": "display_data"
    }
   ],
   "source": [
    "# Load the predictions into an array\n",
    "predictions = dict()\n",
    "for folder in tqdm(folders):\n",
    "    preds = []\n",
    "    for image_name in image_selection:\n",
    "        pred = skimage.io.imread(os.path.join(folder, \"preds\", f\"{image_name}_pred.tif\"))\n",
    "        preds.append(pred)\n",
    "    predictions[folder] = np.array(preds).flatten()"
   ]
  },
  {
   "cell_type": "code",
   "execution_count": 11,
   "id": "e3de2df21717d041",
   "metadata": {
    "ExecuteTime": {
     "end_time": "2024-02-20T13:10:00.539769600Z",
     "start_time": "2024-02-20T13:09:51.030734700Z"
    },
    "collapsed": false
   },
   "outputs": [
    {
     "data": {
      "application/vnd.jupyter.widget-view+json": {
       "model_id": "b9dd59974c634eaa9ba2867228d80ed9",
       "version_major": 2,
       "version_minor": 0
      },
      "text/plain": [
       "  0%|          | 0/23 [00:00<?, ?it/s]"
      ]
     },
     "metadata": {},
     "output_type": "display_data"
    }
   ],
   "source": [
    "# Calculate the dice scores and square error\n",
    "dice_scores = dict()\n",
    "square_errors = dict()\n",
    "for folder, preds in tqdm(predictions.items()):\n",
    "    preds_thresholded = np.copy(preds) > 0.5\n",
    "    dice_scores[folder] = 2 * np.sum(targets * preds_thresholded) / (np.sum(targets) + np.sum(preds_thresholded))   \n",
    "    square_errors[folder] = np.mean((targets - preds_thresholded) ** 2)"
   ]
  },
  {
   "cell_type": "code",
   "execution_count": 12,
   "id": "ab56073961f03988",
   "metadata": {
    "ExecuteTime": {
     "end_time": "2024-02-20T13:10:00.559774600Z",
     "start_time": "2024-02-20T13:10:00.541770100Z"
    },
    "collapsed": false
   },
   "outputs": [
    {
     "name": "stdout",
     "output_type": "stream",
     "text": [
      "Remaining models: 23\n"
     ]
    }
   ],
   "source": [
    "# Remove all models with dice score below 0.6\n",
    "folders = [folder for folder in folders if dice_scores[folder] > 0.6]\n",
    "print(f\"Remaining models: {len(folders)}\")"
   ]
  },
  {
   "cell_type": "code",
   "execution_count": 13,
   "id": "af46844318af9563",
   "metadata": {
    "ExecuteTime": {
     "end_time": "2024-02-20T13:10:00.601289100Z",
     "start_time": "2024-02-20T13:10:00.556773400Z"
    },
    "collapsed": false
   },
   "outputs": [],
   "source": [
    "# Sort the folders by dice score\n",
    "folders = sorted(folders, key=lambda folder: dice_scores[folder], reverse=True)"
   ]
  },
  {
   "cell_type": "code",
   "execution_count": 14,
   "id": "bd45008b09522c5a",
   "metadata": {
    "ExecuteTime": {
     "end_time": "2024-02-20T09:20:51.397997600Z",
     "start_time": "2024-02-20T09:20:51.355986600Z"
    },
    "collapsed": false
   },
   "outputs": [],
   "source": [
    "# Create a dataframe with the results\n",
    "df = pd.DataFrame({\n",
    "    \"name\": [names[folder] for folder in folders],\n",
    "    \"dice_score\": [dice_scores[folder] for folder in folders],\n",
    "    \"square_error\": [square_errors[folder] for folder in folders]\n",
    "})"
   ]
  },
  {
   "cell_type": "code",
   "execution_count": 15,
   "id": "5696c4aa13c792ad",
   "metadata": {
    "ExecuteTime": {
     "end_time": "2024-02-20T09:20:51.414505200Z",
     "start_time": "2024-02-20T09:20:51.371989800Z"
    },
    "collapsed": false
   },
   "outputs": [
    {
     "data": {
      "application/vnd.plotly.v1+json": {
       "config": {
        "plotlyServerURL": "https://plot.ly"
       },
       "data": [
        {
         "hovertemplate": "dice_score=%{x}<br>square_error=%{y}<br>name=%{text}<extra></extra>",
         "legendgroup": "",
         "marker": {
          "color": "#636efa",
          "symbol": "circle"
         },
         "mode": "markers+text",
         "name": "",
         "orientation": "v",
         "showlegend": false,
         "text": [
          "vgg13-Unet-f18-bs16-e100-FocalDiceBoundaryLoss",
          "vgg13-Unet-f18-bs16-e75-DiceLoss",
          "SwinUNETR-f18-bs16-e75-FocalDiceBoundaryLoss",
          "vgg13-Unet-f13-bs16-e100-FocalDice2BoundaryLoss",
          "vgg13-Unet-f18-bs16-e75-FocalDice2BoundaryLoss",
          "vgg13-Unet-f13-bs16-e75-FocalDiceBoundaryLoss",
          "vgg13-Unet-f18-bs16-e75-DiceLoss",
          "timm-res2net50_26w_4s-Unet-f13-bs16-e100-FocalDiceBoundaryLoss",
          "vgg13-Unet-f18-bs16-e75-FocalDiceBoundaryLoss",
          "SwinUNETR-f18-bs16-e75-DiceLoss",
          "SwinUNETR-f13-bs16-e75-DiceLoss",
          "timm-res2net50_26w_4s-Unet-f18-bs16-e100-FocalDiceBoundaryLoss",
          "vgg13-Unet-f13-bs16-e75-DiceLoss",
          "timm-res2net50_26w_4s-Unet-f13-bs16-e75-DiceLoss",
          "vgg13-Unet-fm4-bs16-e75-DiceLoss",
          "SwinUNETR-f13-bs16-e75-FocalDiceBoundaryLoss",
          "timm-res2net50_26w_4s-Unet-f18-bs16-e100-DiceLoss",
          "vgg13-Unet-fm2-bs16-e75-DiceLoss",
          "timm-resnest14d-Unet-f13-bs16-e75-DiceLoss",
          "CustomTimm-f18-bs16-e100-FocalDiceBoundaryLoss",
          "timm-res2net50_26w_4s-Unet-f18-bs16-e75-DiceLoss",
          "CustomTimm-f18-bs16-e75-FocalDiceBoundaryLoss",
          "vgg13-Unet-f18-bs16-e75-DiceLoss"
         ],
         "type": "scatter",
         "x": [
          0.7121225320317373,
          0.7110400397553813,
          0.7108714599297189,
          0.7104728707176808,
          0.7096790379891593,
          0.7093946026303101,
          0.7090091820146841,
          0.7089151462304798,
          0.7085422191430709,
          0.7082098777711783,
          0.7081584095836048,
          0.7077951424854831,
          0.7075618136981727,
          0.7074130000634083,
          0.7061121728482657,
          0.7052038246421212,
          0.704843706889421,
          0.7040664120766269,
          0.703989264639001,
          0.7034612386627512,
          0.703211657605398,
          0.7029574857100643,
          0.6950260122351551
         ],
         "xaxis": "x",
         "y": [
          0.003614399797185955,
          0.0036727233218043207,
          0.003693207540336454,
          0.0035821378773337196,
          0.003604179417996125,
          0.003675801749271137,
          0.0037756731796534052,
          0.0036971334407764882,
          0.003626177498506057,
          0.003718573782663021,
          0.003719088061133948,
          0.003769987143038227,
          0.003755435235318617,
          0.0037768248736939317,
          0.0037203049454031835,
          0.003721210365246365,
          0.003851098274269779,
          0.003842717708201293,
          0.003818727704036362,
          0.0036842547489270776,
          0.003932738170689749,
          0.0037280263658258333,
          0.004098806656646687
         ],
         "yaxis": "y"
        }
       ],
       "layout": {
        "legend": {
         "tracegroupgap": 0
        },
        "margin": {
         "t": 60
        },
        "template": {
         "data": {
          "bar": [
           {
            "error_x": {
             "color": "#2a3f5f"
            },
            "error_y": {
             "color": "#2a3f5f"
            },
            "marker": {
             "line": {
              "color": "#E5ECF6",
              "width": 0.5
             },
             "pattern": {
              "fillmode": "overlay",
              "size": 10,
              "solidity": 0.2
             }
            },
            "type": "bar"
           }
          ],
          "barpolar": [
           {
            "marker": {
             "line": {
              "color": "#E5ECF6",
              "width": 0.5
             },
             "pattern": {
              "fillmode": "overlay",
              "size": 10,
              "solidity": 0.2
             }
            },
            "type": "barpolar"
           }
          ],
          "carpet": [
           {
            "aaxis": {
             "endlinecolor": "#2a3f5f",
             "gridcolor": "white",
             "linecolor": "white",
             "minorgridcolor": "white",
             "startlinecolor": "#2a3f5f"
            },
            "baxis": {
             "endlinecolor": "#2a3f5f",
             "gridcolor": "white",
             "linecolor": "white",
             "minorgridcolor": "white",
             "startlinecolor": "#2a3f5f"
            },
            "type": "carpet"
           }
          ],
          "choropleth": [
           {
            "colorbar": {
             "outlinewidth": 0,
             "ticks": ""
            },
            "type": "choropleth"
           }
          ],
          "contour": [
           {
            "colorbar": {
             "outlinewidth": 0,
             "ticks": ""
            },
            "colorscale": [
             [
              0,
              "#0d0887"
             ],
             [
              0.1111111111111111,
              "#46039f"
             ],
             [
              0.2222222222222222,
              "#7201a8"
             ],
             [
              0.3333333333333333,
              "#9c179e"
             ],
             [
              0.4444444444444444,
              "#bd3786"
             ],
             [
              0.5555555555555556,
              "#d8576b"
             ],
             [
              0.6666666666666666,
              "#ed7953"
             ],
             [
              0.7777777777777778,
              "#fb9f3a"
             ],
             [
              0.8888888888888888,
              "#fdca26"
             ],
             [
              1,
              "#f0f921"
             ]
            ],
            "type": "contour"
           }
          ],
          "contourcarpet": [
           {
            "colorbar": {
             "outlinewidth": 0,
             "ticks": ""
            },
            "type": "contourcarpet"
           }
          ],
          "heatmap": [
           {
            "colorbar": {
             "outlinewidth": 0,
             "ticks": ""
            },
            "colorscale": [
             [
              0,
              "#0d0887"
             ],
             [
              0.1111111111111111,
              "#46039f"
             ],
             [
              0.2222222222222222,
              "#7201a8"
             ],
             [
              0.3333333333333333,
              "#9c179e"
             ],
             [
              0.4444444444444444,
              "#bd3786"
             ],
             [
              0.5555555555555556,
              "#d8576b"
             ],
             [
              0.6666666666666666,
              "#ed7953"
             ],
             [
              0.7777777777777778,
              "#fb9f3a"
             ],
             [
              0.8888888888888888,
              "#fdca26"
             ],
             [
              1,
              "#f0f921"
             ]
            ],
            "type": "heatmap"
           }
          ],
          "heatmapgl": [
           {
            "colorbar": {
             "outlinewidth": 0,
             "ticks": ""
            },
            "colorscale": [
             [
              0,
              "#0d0887"
             ],
             [
              0.1111111111111111,
              "#46039f"
             ],
             [
              0.2222222222222222,
              "#7201a8"
             ],
             [
              0.3333333333333333,
              "#9c179e"
             ],
             [
              0.4444444444444444,
              "#bd3786"
             ],
             [
              0.5555555555555556,
              "#d8576b"
             ],
             [
              0.6666666666666666,
              "#ed7953"
             ],
             [
              0.7777777777777778,
              "#fb9f3a"
             ],
             [
              0.8888888888888888,
              "#fdca26"
             ],
             [
              1,
              "#f0f921"
             ]
            ],
            "type": "heatmapgl"
           }
          ],
          "histogram": [
           {
            "marker": {
             "pattern": {
              "fillmode": "overlay",
              "size": 10,
              "solidity": 0.2
             }
            },
            "type": "histogram"
           }
          ],
          "histogram2d": [
           {
            "colorbar": {
             "outlinewidth": 0,
             "ticks": ""
            },
            "colorscale": [
             [
              0,
              "#0d0887"
             ],
             [
              0.1111111111111111,
              "#46039f"
             ],
             [
              0.2222222222222222,
              "#7201a8"
             ],
             [
              0.3333333333333333,
              "#9c179e"
             ],
             [
              0.4444444444444444,
              "#bd3786"
             ],
             [
              0.5555555555555556,
              "#d8576b"
             ],
             [
              0.6666666666666666,
              "#ed7953"
             ],
             [
              0.7777777777777778,
              "#fb9f3a"
             ],
             [
              0.8888888888888888,
              "#fdca26"
             ],
             [
              1,
              "#f0f921"
             ]
            ],
            "type": "histogram2d"
           }
          ],
          "histogram2dcontour": [
           {
            "colorbar": {
             "outlinewidth": 0,
             "ticks": ""
            },
            "colorscale": [
             [
              0,
              "#0d0887"
             ],
             [
              0.1111111111111111,
              "#46039f"
             ],
             [
              0.2222222222222222,
              "#7201a8"
             ],
             [
              0.3333333333333333,
              "#9c179e"
             ],
             [
              0.4444444444444444,
              "#bd3786"
             ],
             [
              0.5555555555555556,
              "#d8576b"
             ],
             [
              0.6666666666666666,
              "#ed7953"
             ],
             [
              0.7777777777777778,
              "#fb9f3a"
             ],
             [
              0.8888888888888888,
              "#fdca26"
             ],
             [
              1,
              "#f0f921"
             ]
            ],
            "type": "histogram2dcontour"
           }
          ],
          "mesh3d": [
           {
            "colorbar": {
             "outlinewidth": 0,
             "ticks": ""
            },
            "type": "mesh3d"
           }
          ],
          "parcoords": [
           {
            "line": {
             "colorbar": {
              "outlinewidth": 0,
              "ticks": ""
             }
            },
            "type": "parcoords"
           }
          ],
          "pie": [
           {
            "automargin": true,
            "type": "pie"
           }
          ],
          "scatter": [
           {
            "fillpattern": {
             "fillmode": "overlay",
             "size": 10,
             "solidity": 0.2
            },
            "type": "scatter"
           }
          ],
          "scatter3d": [
           {
            "line": {
             "colorbar": {
              "outlinewidth": 0,
              "ticks": ""
             }
            },
            "marker": {
             "colorbar": {
              "outlinewidth": 0,
              "ticks": ""
             }
            },
            "type": "scatter3d"
           }
          ],
          "scattercarpet": [
           {
            "marker": {
             "colorbar": {
              "outlinewidth": 0,
              "ticks": ""
             }
            },
            "type": "scattercarpet"
           }
          ],
          "scattergeo": [
           {
            "marker": {
             "colorbar": {
              "outlinewidth": 0,
              "ticks": ""
             }
            },
            "type": "scattergeo"
           }
          ],
          "scattergl": [
           {
            "marker": {
             "colorbar": {
              "outlinewidth": 0,
              "ticks": ""
             }
            },
            "type": "scattergl"
           }
          ],
          "scattermapbox": [
           {
            "marker": {
             "colorbar": {
              "outlinewidth": 0,
              "ticks": ""
             }
            },
            "type": "scattermapbox"
           }
          ],
          "scatterpolar": [
           {
            "marker": {
             "colorbar": {
              "outlinewidth": 0,
              "ticks": ""
             }
            },
            "type": "scatterpolar"
           }
          ],
          "scatterpolargl": [
           {
            "marker": {
             "colorbar": {
              "outlinewidth": 0,
              "ticks": ""
             }
            },
            "type": "scatterpolargl"
           }
          ],
          "scatterternary": [
           {
            "marker": {
             "colorbar": {
              "outlinewidth": 0,
              "ticks": ""
             }
            },
            "type": "scatterternary"
           }
          ],
          "surface": [
           {
            "colorbar": {
             "outlinewidth": 0,
             "ticks": ""
            },
            "colorscale": [
             [
              0,
              "#0d0887"
             ],
             [
              0.1111111111111111,
              "#46039f"
             ],
             [
              0.2222222222222222,
              "#7201a8"
             ],
             [
              0.3333333333333333,
              "#9c179e"
             ],
             [
              0.4444444444444444,
              "#bd3786"
             ],
             [
              0.5555555555555556,
              "#d8576b"
             ],
             [
              0.6666666666666666,
              "#ed7953"
             ],
             [
              0.7777777777777778,
              "#fb9f3a"
             ],
             [
              0.8888888888888888,
              "#fdca26"
             ],
             [
              1,
              "#f0f921"
             ]
            ],
            "type": "surface"
           }
          ],
          "table": [
           {
            "cells": {
             "fill": {
              "color": "#EBF0F8"
             },
             "line": {
              "color": "white"
             }
            },
            "header": {
             "fill": {
              "color": "#C8D4E3"
             },
             "line": {
              "color": "white"
             }
            },
            "type": "table"
           }
          ]
         },
         "layout": {
          "annotationdefaults": {
           "arrowcolor": "#2a3f5f",
           "arrowhead": 0,
           "arrowwidth": 1
          },
          "autotypenumbers": "strict",
          "coloraxis": {
           "colorbar": {
            "outlinewidth": 0,
            "ticks": ""
           }
          },
          "colorscale": {
           "diverging": [
            [
             0,
             "#8e0152"
            ],
            [
             0.1,
             "#c51b7d"
            ],
            [
             0.2,
             "#de77ae"
            ],
            [
             0.3,
             "#f1b6da"
            ],
            [
             0.4,
             "#fde0ef"
            ],
            [
             0.5,
             "#f7f7f7"
            ],
            [
             0.6,
             "#e6f5d0"
            ],
            [
             0.7,
             "#b8e186"
            ],
            [
             0.8,
             "#7fbc41"
            ],
            [
             0.9,
             "#4d9221"
            ],
            [
             1,
             "#276419"
            ]
           ],
           "sequential": [
            [
             0,
             "#0d0887"
            ],
            [
             0.1111111111111111,
             "#46039f"
            ],
            [
             0.2222222222222222,
             "#7201a8"
            ],
            [
             0.3333333333333333,
             "#9c179e"
            ],
            [
             0.4444444444444444,
             "#bd3786"
            ],
            [
             0.5555555555555556,
             "#d8576b"
            ],
            [
             0.6666666666666666,
             "#ed7953"
            ],
            [
             0.7777777777777778,
             "#fb9f3a"
            ],
            [
             0.8888888888888888,
             "#fdca26"
            ],
            [
             1,
             "#f0f921"
            ]
           ],
           "sequentialminus": [
            [
             0,
             "#0d0887"
            ],
            [
             0.1111111111111111,
             "#46039f"
            ],
            [
             0.2222222222222222,
             "#7201a8"
            ],
            [
             0.3333333333333333,
             "#9c179e"
            ],
            [
             0.4444444444444444,
             "#bd3786"
            ],
            [
             0.5555555555555556,
             "#d8576b"
            ],
            [
             0.6666666666666666,
             "#ed7953"
            ],
            [
             0.7777777777777778,
             "#fb9f3a"
            ],
            [
             0.8888888888888888,
             "#fdca26"
            ],
            [
             1,
             "#f0f921"
            ]
           ]
          },
          "colorway": [
           "#636efa",
           "#EF553B",
           "#00cc96",
           "#ab63fa",
           "#FFA15A",
           "#19d3f3",
           "#FF6692",
           "#B6E880",
           "#FF97FF",
           "#FECB52"
          ],
          "font": {
           "color": "#2a3f5f"
          },
          "geo": {
           "bgcolor": "white",
           "lakecolor": "white",
           "landcolor": "#E5ECF6",
           "showlakes": true,
           "showland": true,
           "subunitcolor": "white"
          },
          "hoverlabel": {
           "align": "left"
          },
          "hovermode": "closest",
          "mapbox": {
           "style": "light"
          },
          "paper_bgcolor": "white",
          "plot_bgcolor": "#E5ECF6",
          "polar": {
           "angularaxis": {
            "gridcolor": "white",
            "linecolor": "white",
            "ticks": ""
           },
           "bgcolor": "#E5ECF6",
           "radialaxis": {
            "gridcolor": "white",
            "linecolor": "white",
            "ticks": ""
           }
          },
          "scene": {
           "xaxis": {
            "backgroundcolor": "#E5ECF6",
            "gridcolor": "white",
            "gridwidth": 2,
            "linecolor": "white",
            "showbackground": true,
            "ticks": "",
            "zerolinecolor": "white"
           },
           "yaxis": {
            "backgroundcolor": "#E5ECF6",
            "gridcolor": "white",
            "gridwidth": 2,
            "linecolor": "white",
            "showbackground": true,
            "ticks": "",
            "zerolinecolor": "white"
           },
           "zaxis": {
            "backgroundcolor": "#E5ECF6",
            "gridcolor": "white",
            "gridwidth": 2,
            "linecolor": "white",
            "showbackground": true,
            "ticks": "",
            "zerolinecolor": "white"
           }
          },
          "shapedefaults": {
           "line": {
            "color": "#2a3f5f"
           }
          },
          "ternary": {
           "aaxis": {
            "gridcolor": "white",
            "linecolor": "white",
            "ticks": ""
           },
           "baxis": {
            "gridcolor": "white",
            "linecolor": "white",
            "ticks": ""
           },
           "bgcolor": "#E5ECF6",
           "caxis": {
            "gridcolor": "white",
            "linecolor": "white",
            "ticks": ""
           }
          },
          "title": {
           "x": 0.05
          },
          "xaxis": {
           "automargin": true,
           "gridcolor": "white",
           "linecolor": "white",
           "ticks": "",
           "title": {
            "standoff": 15
           },
           "zerolinecolor": "white",
           "zerolinewidth": 2
          },
          "yaxis": {
           "automargin": true,
           "gridcolor": "white",
           "linecolor": "white",
           "ticks": "",
           "title": {
            "standoff": 15
           },
           "zerolinecolor": "white",
           "zerolinewidth": 2
          }
         }
        },
        "xaxis": {
         "anchor": "y",
         "domain": [
          0,
          1
         ],
         "title": {
          "text": "dice_score"
         }
        },
        "yaxis": {
         "anchor": "x",
         "domain": [
          0,
          1
         ],
         "title": {
          "text": "square_error"
         }
        }
       }
      }
     },
     "metadata": {},
     "output_type": "display_data"
    }
   ],
   "source": [
    "# Create a scatterplot with plotly express\n",
    "import plotly.express as px\n",
    "fig = px.scatter(df, x=\"dice_score\", y=\"square_error\", text=\"name\")\n",
    "fig.show()"
   ]
  },
  {
   "cell_type": "code",
   "execution_count": 16,
   "id": "5991730d",
   "metadata": {},
   "outputs": [
    {
     "name": "stdout",
     "output_type": "stream",
     "text": [
      "../outputs\\2024-02-20\\09-58-57\\\n",
      "../outputs\\2024-02-20\\14-42-33\\\n",
      "../outputs\\2024-02-19\\17-38-08\\\n",
      "../outputs\\2024-02-21\\00-13-01\\\n",
      "../outputs\\2024-02-19\\17-22-32\\\n",
      "../outputs\\2024-02-19\\17-50-54\\\n",
      "../outputs\\2024-02-19\\15-55-52\\\n",
      "../outputs\\2024-02-20\\10-09-29\\\n",
      "../outputs\\2024-02-19\\14-58-07\\\n",
      "../outputs\\2024-02-19\\23-51-19\\\n",
      "../outputs\\2024-02-19\\16-01-33\\\n",
      "../outputs\\2024-02-20\\09-57-58\\\n",
      "../outputs\\2024-02-19\\15-16-43\\\n",
      "../outputs\\2024-02-19\\18-40-20\\\n",
      "../outputs\\2024-02-19\\16-37-53\\\n",
      "../outputs\\2024-02-19\\17-55-40\\\n",
      "../outputs\\2024-02-20\\10-01-40\\\n",
      "../outputs\\2024-02-19\\16-49-42\\\n",
      "../outputs\\2024-02-19\\18-13-00\\\n",
      "../outputs\\2024-02-19\\23-53-38\\\n",
      "../outputs\\2024-02-19\\23-38-11\\\n",
      "../outputs\\2024-02-20\\15-25-02\\\n",
      "../outputs\\2024-02-19\\16-24-33\\\n"
     ]
    }
   ],
   "source": [
    "for i in folders:\n",
    "    print(i)"
   ]
  },
  {
   "cell_type": "code",
   "execution_count": 38,
   "id": "04b7f475",
   "metadata": {},
   "outputs": [
    {
     "name": "stdout",
     "output_type": "stream",
     "text": [
      "(138057500,)\n",
      "CustomTimm-f18-bs16-e75-FocalDiceBoundaryLoss\n",
      "vgg13-Unet-f18-bs16-e100-FocalDiceBoundaryLoss\n",
      "SwinUNETR-f18-bs16-e75-FocalDiceBoundaryLoss\n",
      "vgg13-Unet-f18-bs16-e75-FocalDice2BoundaryLoss\n",
      "timm-res2net50_26w_4s-Unet-f13-bs16-e100-FocalDiceBoundaryLoss\n",
      "SwinUNETR-f13-bs16-e75-FocalDiceBoundaryLoss\n"
     ]
    },
    {
     "data": {
      "image/png": "[encoded data removed]",
      "text/plain": [
       "<Figure size 1500x500 with 3 Axes>"
      ]
     },
     "metadata": {},
     "output_type": "display_data"
    }
   ],
   "source": [
    "# Create an array of zeros that has the reshaped shape of the images\n",
    "print(targets.shape)\n",
    "reshaped_targets = targets.reshape(-1, 350, 350)\n",
    "reshaped_predictions = dict()\n",
    "\n",
    "best_submission_folders = [\"../outputs\\\\2024-02-20\\\\15-25-02\\\\\", \"../outputs\\\\2024-02-20\\\\09-58-57\\\\\", \"../outputs\\\\2024-02-19\\\\17-38-08\\\\\",\n",
    "                           \"../outputs\\\\2024-02-19\\\\17-22-32\\\\\", \"../outputs\\\\2024-02-20\\\\10-09-29\\\\\", \"../outputs\\\\2024-02-19\\\\17-55-40\\\\\"]\n",
    "\n",
    "for folder in best_submission_folders:\n",
    "    print(names[folder])\n",
    "for folder in folders:\n",
    "    if folder in best_submission_folders:\n",
    "        # for each folders images reshape them back to 350x350\n",
    "        reshaped_predictions[folder] = predictions[folder].reshape(-1, 350, 350)\n",
    "# Take the mean of all the prediction dicts per image so we end up with ensemble preds\n",
    "ensemble_preds = np.mean([preds for preds in reshaped_predictions.values()], axis=0)\n",
    "\n",
    "# Visualize the ensemble predictions\n",
    "import matplotlib.pyplot as plt\n",
    "n = 1\n",
    "\n",
    "\n",
    "# Now plot all the 3 things plotted above in a single figure\n",
    "fig, ax = plt.subplots(1, 3, figsize=(15, 5))\n",
    "\n",
    "ax[0].imshow(ensemble_preds[n])\n",
    "ax[0].set_title(\"Ensemble prediction\")\n",
    "# plot the thresholded preds\n",
    "ensemble_preds_to_plot = ensemble_preds > 0.5\n",
    "ax[1].imshow(ensemble_preds_to_plot[n])\n",
    "ax[1].set_title(\"Thresholded Preds\")\n",
    "ax[2].imshow(reshaped_targets[n])\n",
    "ax[2].set_title(\"Target\")\n",
    "plt.show()\n"
   ]
  },
  {
   "cell_type": "code",
   "execution_count": 39,
   "id": "a3e3db1b",
   "metadata": {},
   "outputs": [
    {
     "name": "stdout",
     "output_type": "stream",
     "text": [
      "866400\n",
      "864654\n"
     ]
    }
   ],
   "source": [
    "print(np.sum(reshaped_targets))\n",
    "print(np.sum(ensemble_preds_to_plot))\n"
   ]
  },
  {
   "cell_type": "code",
   "execution_count": 40,
   "id": "b898b042",
   "metadata": {},
   "outputs": [
    {
     "data": {
      "image/png": "[encoded data removed]",
      "text/plain": [
       "<Figure size 1000x500 with 1 Axes>"
      ]
     },
     "metadata": {},
     "output_type": "display_data"
    },
    {
     "name": "stdout",
     "output_type": "stream",
     "text": [
      "Max score: 0.68260152\n",
      "Threshold: 0.50102041\n"
     ]
    },
    {
     "data": {
      "image/png": "[encoded data removed]",
      "text/plain": [
       "<Figure size 1000x500 with 1 Axes>"
      ]
     },
     "metadata": {},
     "output_type": "display_data"
    },
    {
     "name": "stdout",
     "output_type": "stream",
     "text": [
      "Max score: 0.72907350\n",
      "Threshold: 0.48469388\n"
     ]
    },
    {
     "data": {
      "image/png": "[encoded data removed]",
      "text/plain": [
       "<Figure size 1000x500 with 1 Axes>"
      ]
     },
     "metadata": {},
     "output_type": "display_data"
    },
    {
     "name": "stdout",
     "output_type": "stream",
     "text": [
      "Max score: 0.74018621\n",
      "Threshold: 0.51530612\n"
     ]
    }
   ],
   "source": [
    "# sweep over the threshold and calculate the dice score and make a plot of the dice scores over the thresholds\n",
    "\n",
    "# split the dataset into k folds\n",
    "from sklearn.model_selection import KFold\n",
    "kf = KFold(n_splits=3, shuffle=True, random_state=42)\n",
    "for train_index, test_index in kf.split(reshaped_targets):\n",
    "    pred_fold = ensemble_preds[test_index]\n",
    "    target_fold = reshaped_targets[test_index]\n",
    "\n",
    "    plt.figure(figsize=(10, 5))\n",
    "    max_score = 0\n",
    "    thresh_score = dict()\n",
    "    thresholds = np.linspace(.45, .55, 50)\n",
    "    dices = np.empty_like(thresholds)\n",
    "    for i, threshold in enumerate(thresholds):\n",
    "        ensemble_preds_to_plot = pred_fold > threshold\n",
    "        dice_score = 2 * np.sum(target_fold * ensemble_preds_to_plot) / (np.sum(target_fold) + np.sum(ensemble_preds_to_plot))\n",
    "        thresh_score[threshold] = dice_score\n",
    "        dices[i] = dice_score\n",
    "    # print(f\"Threshold: {threshold:.2f}, Dice score: {dice_score:.2f}\")\n",
    "    plt.plot(thresholds, dices, c=\"blue\")\n",
    "    plt.xlabel(\"Threshold\")\n",
    "    plt.ylabel(\"Dice score\")\n",
    "    plt.title(\"Dice score over threshold\")\n",
    "    plt.show()\n",
    "    print(f\"Max score: {max(thresh_score.values()):.8f}\")\n",
    "    print(f\"Threshold: {max(thresh_score, key=thresh_score.get):.8f}\")"
   ]
  },
  {
   "cell_type": "code",
   "execution_count": 41,
   "id": "4b30023f",
   "metadata": {},
   "outputs": [
    {
     "name": "stdout",
     "output_type": "stream",
     "text": [
      "0.7168834709951278\n",
      "True\n"
     ]
    }
   ],
   "source": [
    "# now compute the dice score for the ensemble preds\n",
    "ensemble_preds_thresholded = ensemble_preds > 0.5\n",
    "ensemble_dice_score = 2 * np.sum(reshaped_targets * ensemble_preds_thresholded) / (np.sum(reshaped_targets) + np.sum(ensemble_preds_thresholded))\n",
    "print(ensemble_dice_score)\n",
    "print(ensemble_dice_score == 0.7168834709951278)"
   ]
  },
  {
   "cell_type": "code",
   "execution_count": 42,
   "id": "2c07eda6",
   "metadata": {},
   "outputs": [
    {
     "name": "stdout",
     "output_type": "stream",
     "text": [
      "107120 202\n"
     ]
    }
   ],
   "source": [
    "# given the labels find the image that has the smallest number of zeros\n",
    "min_zeros = 350*350\n",
    "min_zeros_index = 0\n",
    "for i in range(reshaped_targets.shape[0]):\n",
    "    zeros = np.count_nonzero(reshaped_targets[i] == 0)\n",
    "    if zeros < min_zeros:\n",
    "        min_zeros = zeros\n",
    "        min_zeros_index = i\n",
    "print(min_zeros, min_zeros_index)"
   ]
  },
  {
   "cell_type": "code",
   "execution_count": 43,
   "id": "1304bd77",
   "metadata": {},
   "outputs": [],
   "source": [
    "import numpy as np\n",
    "from scipy.ndimage import label\n",
    "from numpy import bincount\n"
   ]
  },
  {
   "cell_type": "code",
   "execution_count": 44,
   "id": "a13f875e",
   "metadata": {},
   "outputs": [],
   "source": [
    "def find_small_blobs(image):\n",
    "    # Label the blobs\n",
    "    labeled_array, num_features = label(image)\n",
    "\n",
    "    # Fast pixel counting for each label\n",
    "    # Note: We skip the first count (background) by slicing `[1:]`\n",
    "    # Add a zero at the start to align label indices with counts indices\n",
    "    blob_sizes = bincount(labeled_array.flat)[1:]\n",
    "    blob_sizes = np.insert(blob_sizes, 0, 122500, axis=0)\n",
    "\n",
    "\n",
    "    valid_labels_lower = np.where(blob_sizes <= 2)[0]\n",
    "    valid_labels_upper = np.where(blob_sizes >= 1)[0]\n",
    "    # Combine the two criteria with the intersection\n",
    "    valid_labels = np.intersect1d(valid_labels_lower, valid_labels_upper)\n",
    "    # Generate the binary mask\n",
    "    # Use `np.isin` for a vectorized check if each label in `labeled_array` is in `valid_labels`\n",
    "    binary_mask = np.isin(labeled_array, valid_labels).astype(int)\n",
    "    return binary_mask\n"
   ]
  },
  {
   "cell_type": "code",
   "execution_count": 45,
   "id": "d805ca5d",
   "metadata": {},
   "outputs": [],
   "source": [
    "blobs = np.zeros_like(ensemble_preds)\n",
    "for i in range(ensemble_preds.shape[0]):\n",
    "    small_blobs = find_small_blobs(ensemble_preds[i] > 0.5)\n",
    "    blobs[i] = small_blobs\n"
   ]
  },
  {
   "cell_type": "code",
   "execution_count": 46,
   "id": "661cae1d",
   "metadata": {},
   "outputs": [
    {
     "data": {
      "image/png": "[encoded data removed]",
      "text/plain": [
       "<Figure size 2500x1000 with 4 Axes>"
      ]
     },
     "metadata": {},
     "output_type": "display_data"
    }
   ],
   "source": [
    "# Now plot all the 3 things plotted above in a single figure\n",
    "\n",
    "for n in range(1):\n",
    "    fig, ax = plt.subplots(1, 4, figsize=(25, 10))\n",
    "    ax[0].imshow(ensemble_preds[n])\n",
    "    ax[0].set_title(\"Ensemble prediction\")\n",
    "    # plot the thresholded preds\n",
    "    ensemble_preds = ensemble_preds > 0.5\n",
    "    ax[1].imshow(ensemble_preds[n])\n",
    "    ax[1].set_title(\"Thresholded Preds\")\n",
    "    ax[2].imshow(blobs[n])\n",
    "    ax[2].set_title(\"The blobs found in the preds\")\n",
    "    # also include the labels but amplify the points where the blobs are found\n",
    "    reshaped_targets = reshaped_targets.astype(float)\n",
    "    reshaped_targtes_to_plot = np.copy(reshaped_targets)\n",
    "    reshaped_targtes_to_plot[blobs == 1] = 2\n",
    "    ax[3].imshow(reshaped_targtes_to_plot[n])\n",
    "    ax[3].set_title(\"Target\")\n",
    "    plt.show()\n",
    "\n",
    "    "
   ]
  },
  {
   "cell_type": "code",
   "execution_count": 47,
   "id": "d1f83fe6",
   "metadata": {},
   "outputs": [],
   "source": [
    "# `binary_mask` now contains 1s for blobs with <= 15 pixels and 0s for all other areas\n",
    "# Given this mask apply dilation to the predictions after thresholding to where the small blobs are to enhance them\n",
    "from skimage.morphology import binary_dilation, disk\n",
    "# apply dilation to the images in the blobs array\n",
    "dilated_blobs = np.zeros_like(blobs)\n",
    "for i in range(blobs.shape[0]):\n",
    "    dilated_blobs[i] = binary_dilation(blobs[i], disk(1))\n",
    "\n"
   ]
  },
  {
   "cell_type": "code",
   "execution_count": 48,
   "id": "2b49e4eb",
   "metadata": {},
   "outputs": [
    {
     "data": {
      "image/png": "[encoded data removed]",
      "text/plain": [
       "<Figure size 3000x1500 with 5 Axes>"
      ]
     },
     "metadata": {},
     "output_type": "display_data"
    }
   ],
   "source": [
    "for n in range(1):\n",
    "    fig, ax = plt.subplots(1, 5, figsize=(30, 15))\n",
    "    ax[0].imshow(ensemble_preds[n])\n",
    "    ax[0].set_title(\"Ensemble prediction\")\n",
    "    # plot the thresholded preds\n",
    "    ensemble_preds = ensemble_preds > 0.5\n",
    "    ax[1].imshow(ensemble_preds[n])\n",
    "    ax[1].set_title(\"Thresholded Preds\")\n",
    "    ax[2].imshow(blobs[n])\n",
    "    ax[2].set_title(\"The blobs found in the preds\")\n",
    "    ax[3].imshow(dilated_blobs[n])\n",
    "    ax[3].set_title(\"Dilated blobs\")\n",
    "    # also include the labels but amplify the points where the blobs are found\n",
    "    reshaped_targets = reshaped_targets.astype(float)\n",
    "    reshaped_targets_to_plot = np.copy(reshaped_targets)\n",
    "    reshaped_targets_to_plot[blobs == 1] = 0\n",
    "    ax[3].imshow(reshaped_targets_to_plot[n])\n",
    "    ax[3].set_title(\"Target\")\n",
    "    reshaped_targets_to_plot[dilated_blobs == 1] = 2\n",
    "    ax[4].imshow(reshaped_targets_to_plot[n])\n",
    "    ax[4].set_title(\"Target with dilated blobs\")\n",
    "    plt.show()"
   ]
  },
  {
   "cell_type": "code",
   "execution_count": 49,
   "id": "26511724",
   "metadata": {},
   "outputs": [
    {
     "name": "stdout",
     "output_type": "stream",
     "text": [
      "0.716863376789053\n"
     ]
    }
   ],
   "source": [
    "# now replace all parts of theensemble preds with the value of the dilated blobs if dialted blobs are 1\n",
    "for i in range(ensemble_preds.shape[0]):\n",
    "    ensemble_preds[i][blobs[i] == 1] = 0\n",
    "# Now compute the dice score for the ensemble preds\n",
    "ensemble_dice_score = 2 * np.sum(reshaped_targets * ensemble_preds) / (np.sum(reshaped_targets) + np.sum(ensemble_preds))\n",
    "print(ensemble_dice_score)\n"
   ]
  }
 ],
 "metadata": {
  "kernelspec": {
   "display_name": "Python 3",
   "language": "python",
   "name": "python3"
  },
  "language_info": {
   "codemirror_mode": {
    "name": "ipython",
    "version": 3
   },
   "file_extension": ".py",
   "mimetype": "text/x-python",
   "name": "python",
   "nbconvert_exporter": "python",
   "pygments_lexer": "ipython3",
   "version": "3.10.13"
  }
 },
 "nbformat": 4,
 "nbformat_minor": 5
}
