{
 "cells": [
  {
   "cell_type": "markdown",
   "source": [
    "# Analyze the results of the prediction\n",
    "1. Generate the metadataset by running all cells in `create-metadataset.ipynb`\n",
    "2. Run `train.py`. Make sure to use a config with the postprocessing step `VisualizationBlock`\n",
    "3. Find the directory in `outputs/` that was created at the time you ran `train.py` and copy the path\n",
    "4. Paste the path in the `RESULTS_PATH` variable below\n",
    "5. View the plots, explore the tabels in your IDE, and view the images with the dashboard using their `tile_id`"
   ],
   "metadata": {
    "collapsed": false
   },
   "id": "847edc9a98f6c285"
  },
  {
   "cell_type": "code",
   "execution_count": 17,
   "outputs": [],
   "source": [
    "from pathlib import Path\n",
    "\n",
    "import pandas as pd\n",
    "import seaborn as sns\n",
    "import matplotlib.pyplot as plt"
   ],
   "metadata": {
    "collapsed": false,
    "ExecuteTime": {
     "end_time": "2024-01-29T15:19:54.995397800Z",
     "start_time": "2024-01-29T15:19:54.967398500Z"
    }
   },
   "id": "57067a9daf0e0122"
  },
  {
   "cell_type": "code",
   "execution_count": 18,
   "outputs": [],
   "source": [
    "RESULTS_PATH = Path('../outputs/2024-01-29/16-09-04/results.csv')"
   ],
   "metadata": {
    "collapsed": false,
    "ExecuteTime": {
     "end_time": "2024-01-29T15:19:55.023398200Z",
     "start_time": "2024-01-29T15:19:54.997398400Z"
    }
   },
   "id": "175f6e1f100fbf44"
  },
  {
   "cell_type": "code",
   "execution_count": 19,
   "outputs": [
    {
     "data": {
      "text/plain": "             cloud      land  missing_landsat      kelp  in_train\ntile_id                                                          \nJW725114  0.008294  0.142604         0.000000  0.000082      True\nUX493605  0.004155  0.303135         0.000000  0.007404      True\nOU500661  0.039673  0.254376         0.000000  0.000000      True\nDC227980  0.009371  0.429110         0.000000  0.000000      True\nSS602790  0.061763  0.837020         0.000000  0.000000      True\n...            ...       ...              ...       ...       ...\nUT495238  0.297796  0.601306         0.296580       NaN     False\nGE987629  0.307053  0.125967         0.307020       NaN     False\nEN974536  0.348498  0.714710         0.348269       NaN     False\nKI806222  0.215600  0.396090         0.133959       NaN     False\nTV747704  0.423347  0.505731         0.412980       NaN     False\n\n[7061 rows x 5 columns]",
      "text/html": "<div>\n<style scoped>\n    .dataframe tbody tr th:only-of-type {\n        vertical-align: middle;\n    }\n\n    .dataframe tbody tr th {\n        vertical-align: top;\n    }\n\n    .dataframe thead th {\n        text-align: right;\n    }\n</style>\n<table border=\"1\" class=\"dataframe\">\n  <thead>\n    <tr style=\"text-align: right;\">\n      <th></th>\n      <th>cloud</th>\n      <th>land</th>\n      <th>missing_landsat</th>\n      <th>kelp</th>\n      <th>in_train</th>\n    </tr>\n    <tr>\n      <th>tile_id</th>\n      <th></th>\n      <th></th>\n      <th></th>\n      <th></th>\n      <th></th>\n    </tr>\n  </thead>\n  <tbody>\n    <tr>\n      <th>JW725114</th>\n      <td>0.008294</td>\n      <td>0.142604</td>\n      <td>0.000000</td>\n      <td>0.000082</td>\n      <td>True</td>\n    </tr>\n    <tr>\n      <th>UX493605</th>\n      <td>0.004155</td>\n      <td>0.303135</td>\n      <td>0.000000</td>\n      <td>0.007404</td>\n      <td>True</td>\n    </tr>\n    <tr>\n      <th>OU500661</th>\n      <td>0.039673</td>\n      <td>0.254376</td>\n      <td>0.000000</td>\n      <td>0.000000</td>\n      <td>True</td>\n    </tr>\n    <tr>\n      <th>DC227980</th>\n      <td>0.009371</td>\n      <td>0.429110</td>\n      <td>0.000000</td>\n      <td>0.000000</td>\n      <td>True</td>\n    </tr>\n    <tr>\n      <th>SS602790</th>\n      <td>0.061763</td>\n      <td>0.837020</td>\n      <td>0.000000</td>\n      <td>0.000000</td>\n      <td>True</td>\n    </tr>\n    <tr>\n      <th>...</th>\n      <td>...</td>\n      <td>...</td>\n      <td>...</td>\n      <td>...</td>\n      <td>...</td>\n    </tr>\n    <tr>\n      <th>UT495238</th>\n      <td>0.297796</td>\n      <td>0.601306</td>\n      <td>0.296580</td>\n      <td>NaN</td>\n      <td>False</td>\n    </tr>\n    <tr>\n      <th>GE987629</th>\n      <td>0.307053</td>\n      <td>0.125967</td>\n      <td>0.307020</td>\n      <td>NaN</td>\n      <td>False</td>\n    </tr>\n    <tr>\n      <th>EN974536</th>\n      <td>0.348498</td>\n      <td>0.714710</td>\n      <td>0.348269</td>\n      <td>NaN</td>\n      <td>False</td>\n    </tr>\n    <tr>\n      <th>KI806222</th>\n      <td>0.215600</td>\n      <td>0.396090</td>\n      <td>0.133959</td>\n      <td>NaN</td>\n      <td>False</td>\n    </tr>\n    <tr>\n      <th>TV747704</th>\n      <td>0.423347</td>\n      <td>0.505731</td>\n      <td>0.412980</td>\n      <td>NaN</td>\n      <td>False</td>\n    </tr>\n  </tbody>\n</table>\n<p>7061 rows × 5 columns</p>\n</div>"
     },
     "execution_count": 19,
     "metadata": {},
     "output_type": "execute_result"
    }
   ],
   "source": [
    "# Load the processed metadataset\n",
    "metadataset = pd.read_csv('../data/processed/metadata.csv', index_col=0)\n",
    "metadataset"
   ],
   "metadata": {
    "collapsed": false,
    "ExecuteTime": {
     "end_time": "2024-01-29T15:19:55.079399300Z",
     "start_time": "2024-01-29T15:19:55.026398900Z"
    }
   },
   "id": "65ccd03a1e7a51db"
  },
  {
   "cell_type": "markdown",
   "source": [
    "Load prediction results csv to analyze performance"
   ],
   "metadata": {
    "collapsed": false
   },
   "id": "eaf880fcf85787e6"
  },
  {
   "cell_type": "code",
   "execution_count": 20,
   "outputs": [
    {
     "data": {
      "text/plain": "           in_val   sum_targets     sum_preds  intersections  dice_coef  \\\nimage_key                                                                 \nZZ975262      0.0           0.0  2.493400e-15            0.0        0.0   \nMG581061      0.0           0.0  1.425192e-14            0.0        0.0   \nMG668025      0.0           0.0  1.800233e-15            0.0        0.0   \nMG965101      0.0           0.0  1.365679e-15            0.0        0.0   \nMH318964      0.0           0.0  3.495734e-07            0.0        0.0   \n\n           Unnamed: 6  \nimage_key              \nZZ975262          NaN  \nMG581061          NaN  \nMG668025          NaN  \nMG965101          NaN  \nMH318964          NaN  ",
      "text/html": "<div>\n<style scoped>\n    .dataframe tbody tr th:only-of-type {\n        vertical-align: middle;\n    }\n\n    .dataframe tbody tr th {\n        vertical-align: top;\n    }\n\n    .dataframe thead th {\n        text-align: right;\n    }\n</style>\n<table border=\"1\" class=\"dataframe\">\n  <thead>\n    <tr style=\"text-align: right;\">\n      <th></th>\n      <th>in_val</th>\n      <th>sum_targets</th>\n      <th>sum_preds</th>\n      <th>intersections</th>\n      <th>dice_coef</th>\n      <th>Unnamed: 6</th>\n    </tr>\n    <tr>\n      <th>image_key</th>\n      <th></th>\n      <th></th>\n      <th></th>\n      <th></th>\n      <th></th>\n      <th></th>\n    </tr>\n  </thead>\n  <tbody>\n    <tr>\n      <th>ZZ975262</th>\n      <td>0.0</td>\n      <td>0.0</td>\n      <td>2.493400e-15</td>\n      <td>0.0</td>\n      <td>0.0</td>\n      <td>NaN</td>\n    </tr>\n    <tr>\n      <th>MG581061</th>\n      <td>0.0</td>\n      <td>0.0</td>\n      <td>1.425192e-14</td>\n      <td>0.0</td>\n      <td>0.0</td>\n      <td>NaN</td>\n    </tr>\n    <tr>\n      <th>MG668025</th>\n      <td>0.0</td>\n      <td>0.0</td>\n      <td>1.800233e-15</td>\n      <td>0.0</td>\n      <td>0.0</td>\n      <td>NaN</td>\n    </tr>\n    <tr>\n      <th>MG965101</th>\n      <td>0.0</td>\n      <td>0.0</td>\n      <td>1.365679e-15</td>\n      <td>0.0</td>\n      <td>0.0</td>\n      <td>NaN</td>\n    </tr>\n    <tr>\n      <th>MH318964</th>\n      <td>0.0</td>\n      <td>0.0</td>\n      <td>3.495734e-07</td>\n      <td>0.0</td>\n      <td>0.0</td>\n      <td>NaN</td>\n    </tr>\n  </tbody>\n</table>\n</div>"
     },
     "execution_count": 20,
     "metadata": {},
     "output_type": "execute_result"
    }
   ],
   "source": [
    "# Load the prediction results\n",
    "results = pd.read_csv(RESULTS_PATH, index_col=0)\n",
    "results.head()"
   ],
   "metadata": {
    "collapsed": false,
    "ExecuteTime": {
     "end_time": "2024-01-29T15:19:55.081399200Z",
     "start_time": "2024-01-29T15:19:55.046399400Z"
    }
   },
   "id": "c1f54860d8c694dd"
  },
  {
   "cell_type": "markdown",
   "source": [
    "Join the results with the metadata"
   ],
   "metadata": {
    "collapsed": false
   },
   "id": "f51cdd7d5bf9dfd0"
  },
  {
   "cell_type": "code",
   "execution_count": 21,
   "outputs": [
    {
     "data": {
      "text/plain": "             cloud      land  missing_landsat      kelp  in_train  in_val  \\\nJW725114  0.008294  0.142604         0.000000  0.000082      True     0.0   \nUX493605  0.004155  0.303135         0.000000  0.007404      True     0.0   \nOU500661  0.039673  0.254376         0.000000  0.000000      True     0.0   \nDC227980  0.009371  0.429110         0.000000  0.000000      True     0.0   \nSS602790  0.061763  0.837020         0.000000  0.000000      True     0.0   \n...            ...       ...              ...       ...       ...     ...   \nCW974988  0.378718  0.085527         0.356580  0.000000      True     0.0   \nVQ623772  0.486841  0.512327         0.396473  0.000000      True     0.0   \nLX380049  0.394204  0.742816         0.326229  0.000000      True     0.0   \nOY863116  0.449755  0.585037         0.368482  0.000000      True     0.0   \nWS807935  0.586220  0.470327         0.501567  0.000000      True     0.0   \n\n           sum_targets     sum_preds  intersections     dice_coef  Unnamed: 6  \nJW725114     10.000000  1.342341e+03   1.441950e-22  2.132523e-25         NaN  \nUX493605    906.999939  1.315559e+03   7.524381e+02  6.770917e-01         NaN  \nOU500661      0.000000  1.750560e-14   0.000000e+00  0.000000e+00         NaN  \nDC227980      0.000000  7.180388e-15   0.000000e+00  0.000000e+00         NaN  \nSS602790      0.000000  6.384926e+00   0.000000e+00  0.000000e+00         NaN  \n...                ...           ...            ...           ...         ...  \nCW974988      0.000000  4.159625e-14   0.000000e+00  0.000000e+00         NaN  \nVQ623772      0.000000  1.833054e-14   0.000000e+00  0.000000e+00         NaN  \nLX380049      0.000000  2.039163e-14   0.000000e+00  0.000000e+00         NaN  \nOY863116      0.000000  1.388007e-14   0.000000e+00  0.000000e+00         NaN  \nWS807935      0.000000  1.322518e-14   0.000000e+00  0.000000e+00         NaN  \n\n[5635 rows x 11 columns]",
      "text/html": "<div>\n<style scoped>\n    .dataframe tbody tr th:only-of-type {\n        vertical-align: middle;\n    }\n\n    .dataframe tbody tr th {\n        vertical-align: top;\n    }\n\n    .dataframe thead th {\n        text-align: right;\n    }\n</style>\n<table border=\"1\" class=\"dataframe\">\n  <thead>\n    <tr style=\"text-align: right;\">\n      <th></th>\n      <th>cloud</th>\n      <th>land</th>\n      <th>missing_landsat</th>\n      <th>kelp</th>\n      <th>in_train</th>\n      <th>in_val</th>\n      <th>sum_targets</th>\n      <th>sum_preds</th>\n      <th>intersections</th>\n      <th>dice_coef</th>\n      <th>Unnamed: 6</th>\n    </tr>\n  </thead>\n  <tbody>\n    <tr>\n      <th>JW725114</th>\n      <td>0.008294</td>\n      <td>0.142604</td>\n      <td>0.000000</td>\n      <td>0.000082</td>\n      <td>True</td>\n      <td>0.0</td>\n      <td>10.000000</td>\n      <td>1.342341e+03</td>\n      <td>1.441950e-22</td>\n      <td>2.132523e-25</td>\n      <td>NaN</td>\n    </tr>\n    <tr>\n      <th>UX493605</th>\n      <td>0.004155</td>\n      <td>0.303135</td>\n      <td>0.000000</td>\n      <td>0.007404</td>\n      <td>True</td>\n      <td>0.0</td>\n      <td>906.999939</td>\n      <td>1.315559e+03</td>\n      <td>7.524381e+02</td>\n      <td>6.770917e-01</td>\n      <td>NaN</td>\n    </tr>\n    <tr>\n      <th>OU500661</th>\n      <td>0.039673</td>\n      <td>0.254376</td>\n      <td>0.000000</td>\n      <td>0.000000</td>\n      <td>True</td>\n      <td>0.0</td>\n      <td>0.000000</td>\n      <td>1.750560e-14</td>\n      <td>0.000000e+00</td>\n      <td>0.000000e+00</td>\n      <td>NaN</td>\n    </tr>\n    <tr>\n      <th>DC227980</th>\n      <td>0.009371</td>\n      <td>0.429110</td>\n      <td>0.000000</td>\n      <td>0.000000</td>\n      <td>True</td>\n      <td>0.0</td>\n      <td>0.000000</td>\n      <td>7.180388e-15</td>\n      <td>0.000000e+00</td>\n      <td>0.000000e+00</td>\n      <td>NaN</td>\n    </tr>\n    <tr>\n      <th>SS602790</th>\n      <td>0.061763</td>\n      <td>0.837020</td>\n      <td>0.000000</td>\n      <td>0.000000</td>\n      <td>True</td>\n      <td>0.0</td>\n      <td>0.000000</td>\n      <td>6.384926e+00</td>\n      <td>0.000000e+00</td>\n      <td>0.000000e+00</td>\n      <td>NaN</td>\n    </tr>\n    <tr>\n      <th>...</th>\n      <td>...</td>\n      <td>...</td>\n      <td>...</td>\n      <td>...</td>\n      <td>...</td>\n      <td>...</td>\n      <td>...</td>\n      <td>...</td>\n      <td>...</td>\n      <td>...</td>\n      <td>...</td>\n    </tr>\n    <tr>\n      <th>CW974988</th>\n      <td>0.378718</td>\n      <td>0.085527</td>\n      <td>0.356580</td>\n      <td>0.000000</td>\n      <td>True</td>\n      <td>0.0</td>\n      <td>0.000000</td>\n      <td>4.159625e-14</td>\n      <td>0.000000e+00</td>\n      <td>0.000000e+00</td>\n      <td>NaN</td>\n    </tr>\n    <tr>\n      <th>VQ623772</th>\n      <td>0.486841</td>\n      <td>0.512327</td>\n      <td>0.396473</td>\n      <td>0.000000</td>\n      <td>True</td>\n      <td>0.0</td>\n      <td>0.000000</td>\n      <td>1.833054e-14</td>\n      <td>0.000000e+00</td>\n      <td>0.000000e+00</td>\n      <td>NaN</td>\n    </tr>\n    <tr>\n      <th>LX380049</th>\n      <td>0.394204</td>\n      <td>0.742816</td>\n      <td>0.326229</td>\n      <td>0.000000</td>\n      <td>True</td>\n      <td>0.0</td>\n      <td>0.000000</td>\n      <td>2.039163e-14</td>\n      <td>0.000000e+00</td>\n      <td>0.000000e+00</td>\n      <td>NaN</td>\n    </tr>\n    <tr>\n      <th>OY863116</th>\n      <td>0.449755</td>\n      <td>0.585037</td>\n      <td>0.368482</td>\n      <td>0.000000</td>\n      <td>True</td>\n      <td>0.0</td>\n      <td>0.000000</td>\n      <td>1.388007e-14</td>\n      <td>0.000000e+00</td>\n      <td>0.000000e+00</td>\n      <td>NaN</td>\n    </tr>\n    <tr>\n      <th>WS807935</th>\n      <td>0.586220</td>\n      <td>0.470327</td>\n      <td>0.501567</td>\n      <td>0.000000</td>\n      <td>True</td>\n      <td>0.0</td>\n      <td>0.000000</td>\n      <td>1.322518e-14</td>\n      <td>0.000000e+00</td>\n      <td>0.000000e+00</td>\n      <td>NaN</td>\n    </tr>\n  </tbody>\n</table>\n<p>5635 rows × 11 columns</p>\n</div>"
     },
     "execution_count": 21,
     "metadata": {},
     "output_type": "execute_result"
    }
   ],
   "source": [
    "results = metadataset.merge(results,left_index=True, right_index=True, how='inner')\n",
    "results"
   ],
   "metadata": {
    "collapsed": false,
    "ExecuteTime": {
     "end_time": "2024-01-29T15:19:55.082398600Z",
     "start_time": "2024-01-29T15:19:55.061398700Z"
    }
   },
   "id": "f669df68bb6ad685"
  },
  {
   "cell_type": "code",
   "outputs": [],
   "source": [
    "results['union'] = results[' sum_targets'] + results['sum_preds']"
   ],
   "metadata": {
    "collapsed": false,
    "ExecuteTime": {
     "end_time": "2024-01-29T15:19:55.127399500Z",
     "start_time": "2024-01-29T15:19:55.078398100Z"
    }
   },
   "id": "b2d2a73b816f8f48",
   "execution_count": 22
  },
  {
   "cell_type": "markdown",
   "source": [
    "# Compute error\n",
    "Error is roughly \"how much would our score increase if we had perfect predictions for this error\"\n",
    "Lower is better."
   ],
   "metadata": {
    "collapsed": false
   },
   "id": "a1792e1676f2ae8"
  },
  {
   "cell_type": "code",
   "execution_count": 26,
   "outputs": [
    {
     "data": {
      "text/plain": "             cloud      land  missing_landsat      kelp  in_train  in_val  \\\nJW725114  0.008294  0.142604         0.000000  0.000082      True     0.0   \nUX493605  0.004155  0.303135         0.000000  0.007404      True     0.0   \nOU500661  0.039673  0.254376         0.000000  0.000000      True     0.0   \nDC227980  0.009371  0.429110         0.000000  0.000000      True     0.0   \nSS602790  0.061763  0.837020         0.000000  0.000000      True     0.0   \n...            ...       ...              ...       ...       ...     ...   \nCW974988  0.378718  0.085527         0.356580  0.000000      True     0.0   \nVQ623772  0.486841  0.512327         0.396473  0.000000      True     0.0   \nLX380049  0.394204  0.742816         0.326229  0.000000      True     0.0   \nOY863116  0.449755  0.585037         0.368482  0.000000      True     0.0   \nWS807935  0.586220  0.470327         0.501567  0.000000      True     0.0   \n\n           sum_targets     sum_preds  intersections     dice_coef  Unnamed: 6  \\\nJW725114     10.000000  1.342341e+03   1.441950e-22  2.132523e-25         NaN   \nUX493605    906.999939  1.315559e+03   7.524381e+02  6.770917e-01         NaN   \nOU500661      0.000000  1.750560e-14   0.000000e+00  0.000000e+00         NaN   \nDC227980      0.000000  7.180388e-15   0.000000e+00  0.000000e+00         NaN   \nSS602790      0.000000  6.384926e+00   0.000000e+00  0.000000e+00         NaN   \n...                ...           ...            ...           ...         ...   \nCW974988      0.000000  4.159625e-14   0.000000e+00  0.000000e+00         NaN   \nVQ623772      0.000000  1.833054e-14   0.000000e+00  0.000000e+00         NaN   \nLX380049      0.000000  2.039163e-14   0.000000e+00  0.000000e+00         NaN   \nOY863116      0.000000  1.388007e-14   0.000000e+00  0.000000e+00         NaN   \nWS807935      0.000000  1.322518e-14   0.000000e+00  0.000000e+00         NaN   \n\n                 union  perfect_dice  all_dice         error  error_per  \nJW725114  1.352341e+03      0.747921   0.74781  1.100744e-04   0.011007  \nUX493605  2.222559e+03      0.747877   0.74781  6.656276e-05   0.006656  \nOU500661  1.750560e-14      0.747810   0.74781  0.000000e+00   0.000000  \nDC227980  7.180388e-15      0.747810   0.74781  0.000000e+00   0.000000  \nSS602790  6.384926e+00      0.747811   0.74781  5.170505e-07   0.000052  \n...                ...           ...       ...           ...        ...  \nCW974988  4.159625e-14      0.747810   0.74781  0.000000e+00   0.000000  \nVQ623772  1.833054e-14      0.747810   0.74781  0.000000e+00   0.000000  \nLX380049  2.039163e-14      0.747810   0.74781  0.000000e+00   0.000000  \nOY863116  1.388007e-14      0.747810   0.74781  0.000000e+00   0.000000  \nWS807935  1.322518e-14      0.747810   0.74781  0.000000e+00   0.000000  \n\n[5635 rows x 16 columns]",
      "text/html": "<div>\n<style scoped>\n    .dataframe tbody tr th:only-of-type {\n        vertical-align: middle;\n    }\n\n    .dataframe tbody tr th {\n        vertical-align: top;\n    }\n\n    .dataframe thead th {\n        text-align: right;\n    }\n</style>\n<table border=\"1\" class=\"dataframe\">\n  <thead>\n    <tr style=\"text-align: right;\">\n      <th></th>\n      <th>cloud</th>\n      <th>land</th>\n      <th>missing_landsat</th>\n      <th>kelp</th>\n      <th>in_train</th>\n      <th>in_val</th>\n      <th>sum_targets</th>\n      <th>sum_preds</th>\n      <th>intersections</th>\n      <th>dice_coef</th>\n      <th>Unnamed: 6</th>\n      <th>union</th>\n      <th>perfect_dice</th>\n      <th>all_dice</th>\n      <th>error</th>\n      <th>error_per</th>\n    </tr>\n  </thead>\n  <tbody>\n    <tr>\n      <th>JW725114</th>\n      <td>0.008294</td>\n      <td>0.142604</td>\n      <td>0.000000</td>\n      <td>0.000082</td>\n      <td>True</td>\n      <td>0.0</td>\n      <td>10.000000</td>\n      <td>1.342341e+03</td>\n      <td>1.441950e-22</td>\n      <td>2.132523e-25</td>\n      <td>NaN</td>\n      <td>1.352341e+03</td>\n      <td>0.747921</td>\n      <td>0.74781</td>\n      <td>1.100744e-04</td>\n      <td>0.011007</td>\n    </tr>\n    <tr>\n      <th>UX493605</th>\n      <td>0.004155</td>\n      <td>0.303135</td>\n      <td>0.000000</td>\n      <td>0.007404</td>\n      <td>True</td>\n      <td>0.0</td>\n      <td>906.999939</td>\n      <td>1.315559e+03</td>\n      <td>7.524381e+02</td>\n      <td>6.770917e-01</td>\n      <td>NaN</td>\n      <td>2.222559e+03</td>\n      <td>0.747877</td>\n      <td>0.74781</td>\n      <td>6.656276e-05</td>\n      <td>0.006656</td>\n    </tr>\n    <tr>\n      <th>OU500661</th>\n      <td>0.039673</td>\n      <td>0.254376</td>\n      <td>0.000000</td>\n      <td>0.000000</td>\n      <td>True</td>\n      <td>0.0</td>\n      <td>0.000000</td>\n      <td>1.750560e-14</td>\n      <td>0.000000e+00</td>\n      <td>0.000000e+00</td>\n      <td>NaN</td>\n      <td>1.750560e-14</td>\n      <td>0.747810</td>\n      <td>0.74781</td>\n      <td>0.000000e+00</td>\n      <td>0.000000</td>\n    </tr>\n    <tr>\n      <th>DC227980</th>\n      <td>0.009371</td>\n      <td>0.429110</td>\n      <td>0.000000</td>\n      <td>0.000000</td>\n      <td>True</td>\n      <td>0.0</td>\n      <td>0.000000</td>\n      <td>7.180388e-15</td>\n      <td>0.000000e+00</td>\n      <td>0.000000e+00</td>\n      <td>NaN</td>\n      <td>7.180388e-15</td>\n      <td>0.747810</td>\n      <td>0.74781</td>\n      <td>0.000000e+00</td>\n      <td>0.000000</td>\n    </tr>\n    <tr>\n      <th>SS602790</th>\n      <td>0.061763</td>\n      <td>0.837020</td>\n      <td>0.000000</td>\n      <td>0.000000</td>\n      <td>True</td>\n      <td>0.0</td>\n      <td>0.000000</td>\n      <td>6.384926e+00</td>\n      <td>0.000000e+00</td>\n      <td>0.000000e+00</td>\n      <td>NaN</td>\n      <td>6.384926e+00</td>\n      <td>0.747811</td>\n      <td>0.74781</td>\n      <td>5.170505e-07</td>\n      <td>0.000052</td>\n    </tr>\n    <tr>\n      <th>...</th>\n      <td>...</td>\n      <td>...</td>\n      <td>...</td>\n      <td>...</td>\n      <td>...</td>\n      <td>...</td>\n      <td>...</td>\n      <td>...</td>\n      <td>...</td>\n      <td>...</td>\n      <td>...</td>\n      <td>...</td>\n      <td>...</td>\n      <td>...</td>\n      <td>...</td>\n      <td>...</td>\n    </tr>\n    <tr>\n      <th>CW974988</th>\n      <td>0.378718</td>\n      <td>0.085527</td>\n      <td>0.356580</td>\n      <td>0.000000</td>\n      <td>True</td>\n      <td>0.0</td>\n      <td>0.000000</td>\n      <td>4.159625e-14</td>\n      <td>0.000000e+00</td>\n      <td>0.000000e+00</td>\n      <td>NaN</td>\n      <td>4.159625e-14</td>\n      <td>0.747810</td>\n      <td>0.74781</td>\n      <td>0.000000e+00</td>\n      <td>0.000000</td>\n    </tr>\n    <tr>\n      <th>VQ623772</th>\n      <td>0.486841</td>\n      <td>0.512327</td>\n      <td>0.396473</td>\n      <td>0.000000</td>\n      <td>True</td>\n      <td>0.0</td>\n      <td>0.000000</td>\n      <td>1.833054e-14</td>\n      <td>0.000000e+00</td>\n      <td>0.000000e+00</td>\n      <td>NaN</td>\n      <td>1.833054e-14</td>\n      <td>0.747810</td>\n      <td>0.74781</td>\n      <td>0.000000e+00</td>\n      <td>0.000000</td>\n    </tr>\n    <tr>\n      <th>LX380049</th>\n      <td>0.394204</td>\n      <td>0.742816</td>\n      <td>0.326229</td>\n      <td>0.000000</td>\n      <td>True</td>\n      <td>0.0</td>\n      <td>0.000000</td>\n      <td>2.039163e-14</td>\n      <td>0.000000e+00</td>\n      <td>0.000000e+00</td>\n      <td>NaN</td>\n      <td>2.039163e-14</td>\n      <td>0.747810</td>\n      <td>0.74781</td>\n      <td>0.000000e+00</td>\n      <td>0.000000</td>\n    </tr>\n    <tr>\n      <th>OY863116</th>\n      <td>0.449755</td>\n      <td>0.585037</td>\n      <td>0.368482</td>\n      <td>0.000000</td>\n      <td>True</td>\n      <td>0.0</td>\n      <td>0.000000</td>\n      <td>1.388007e-14</td>\n      <td>0.000000e+00</td>\n      <td>0.000000e+00</td>\n      <td>NaN</td>\n      <td>1.388007e-14</td>\n      <td>0.747810</td>\n      <td>0.74781</td>\n      <td>0.000000e+00</td>\n      <td>0.000000</td>\n    </tr>\n    <tr>\n      <th>WS807935</th>\n      <td>0.586220</td>\n      <td>0.470327</td>\n      <td>0.501567</td>\n      <td>0.000000</td>\n      <td>True</td>\n      <td>0.0</td>\n      <td>0.000000</td>\n      <td>1.322518e-14</td>\n      <td>0.000000e+00</td>\n      <td>0.000000e+00</td>\n      <td>NaN</td>\n      <td>1.322518e-14</td>\n      <td>0.747810</td>\n      <td>0.74781</td>\n      <td>0.000000e+00</td>\n      <td>0.000000</td>\n    </tr>\n  </tbody>\n</table>\n<p>5635 rows × 16 columns</p>\n</div>"
     },
     "execution_count": 26,
     "metadata": {},
     "output_type": "execute_result"
    }
   ],
   "source": [
    "# compute error (difference between dice if prediction would've been perfect and actual dice)\n",
    "total_intersection = results['intersections'].sum()\n",
    "total_union = results['union'].sum()\n",
    "\n",
    "perfect_dice = (2 * results[' sum_targets'] + 2 * (total_intersection - results['intersections'])) / ((total_union - results['sum_preds'] - results[' sum_targets']) + 2 * results[' sum_targets'])\n",
    "all_dice = (2 * total_intersection) / (total_union)\n",
    "results['perfect_dice'] = perfect_dice\n",
    "results[\"all_dice\"] = all_dice\n",
    "results['error'] = perfect_dice - all_dice\n",
    "results[\"error_per\"] = results['error'] * 100\n",
    "results"
   ],
   "metadata": {
    "collapsed": false,
    "ExecuteTime": {
     "end_time": "2024-01-29T15:20:04.648786200Z",
     "start_time": "2024-01-29T15:20:04.630789100Z"
    }
   },
   "id": "3557a4a39ae12647"
  },
  {
   "cell_type": "code",
   "outputs": [
    {
     "name": "stdout",
     "output_type": "stream",
     "text": [
      "5635 3526\n"
     ]
    },
    {
     "data": {
      "text/plain": "             cloud      land  missing_landsat      kelp  in_train  in_val  \\\nUK316277  0.115037  0.425143         0.034922  0.000008      True     0.0   \nWV436832  0.000237  0.069829         0.000000  0.000008      True     0.0   \nHN769989  0.000784  0.855388         0.000000  0.000008      True     0.0   \nBR449497  0.212237  0.158098         0.212237  0.000008      True     0.0   \nMN946165  0.017437  0.875943         0.000000  0.000008      True     0.0   \nKF876043  0.050678  0.257355         0.000000  0.000008      True     0.0   \nVX117844  0.000041  0.210318         0.000000  0.000008      True     0.0   \nHG208639  0.024939  0.478759         0.000000  0.000008      True     0.0   \nHP740967  0.081543  0.896955         0.000000  0.000008      True     0.0   \nVM993605  0.000073  0.726555         0.000000  0.000008      True     0.0   \nXA730123  0.058718  0.665673         0.000571  0.000008      True     0.0   \nPD456987  0.107469  0.724384         0.000000  0.000008      True     0.0   \nSL245961  0.184122  0.024359         0.182996  0.000008      True     0.0   \nRG312186  0.002278  0.643208         0.000000  0.000008      True     0.0   \nYN388134  0.424090  0.558751         0.422163  0.000008      True     0.0   \nYW449477  0.000000  0.585869         0.000000  0.000008      True     0.0   \nJS857997  0.000000  0.035273         0.000000  0.000008      True     0.0   \nBE622112  0.034743  0.570678         0.000000  0.000008      True     0.0   \nRS753155  0.000016  0.027118         0.000000  0.000008      True     0.0   \nDE439128  0.127771  0.592661         0.000000  0.000008      True     0.0   \nEQ795984  0.000000  0.778424         0.000000  0.000008      True     0.0   \nHK957287  0.073347  0.440245         0.073331  0.000008      True     0.0   \nYR796241  0.011404  0.301951         0.000000  0.000008      True     0.0   \nRP711116  0.005910  0.870629         0.000000  0.000008      True     0.0   \nVC648913  0.013069  0.852890         0.000000  0.000016      True     0.0   \n\n           sum_targets     sum_preds  intersections     dice_coef  Unnamed: 6  \\\nUK316277           1.0  2.447695e-15   0.000000e+00  0.000000e+00         NaN   \nWV436832           1.0  6.001526e-16   1.609580e-36  3.219161e-36         NaN   \nHN769989           1.0  6.245881e-12   2.241892e-32  4.483783e-32         NaN   \nBR449497           1.0  4.745836e-14   0.000000e+00  0.000000e+00         NaN   \nMN946165           1.0  1.508601e-15   6.533922e-33  1.306784e-32         NaN   \nKF876043           1.0  1.507092e-14   5.332482e-20  1.066496e-19         NaN   \nVX117844           1.0  7.493432e-16   1.310140e-22  2.620280e-22         NaN   \nHG208639           1.0  1.787332e-15   1.913392e-22  3.826783e-22         NaN   \nHP740967           1.0  4.319727e-15   0.000000e+00  0.000000e+00         NaN   \nVM993605           1.0  7.631091e-16   1.370935e-34  2.741869e-34         NaN   \nXA730123           1.0  2.663191e-15   1.394712e-41  2.789425e-41         NaN   \nPD456987           1.0  3.720587e-15   6.010164e-19  1.202033e-18         NaN   \nSL245961           1.0  6.008464e-14   0.000000e+00  0.000000e+00         NaN   \nRG312186           1.0  6.130002e-15   1.733994e-16  3.467988e-16         NaN   \nYN388134           1.0  4.493801e-15   0.000000e+00  0.000000e+00         NaN   \nYW449477           1.0  7.730941e-16   1.345009e-23  2.690018e-23         NaN   \nJS857997           1.0  4.668312e-16   0.000000e+00  0.000000e+00         NaN   \nBE622112           1.0  1.988277e-15   1.383780e-24  2.767561e-24         NaN   \nRS753155           1.0  5.955729e-16   3.348109e-34  6.696218e-34         NaN   \nDE439128           1.0  4.230563e-15   7.655764e-23  1.531153e-22         NaN   \nEQ795984           1.0  9.127062e-16   5.067589e-27  1.013518e-26         NaN   \nHK957287           1.0  5.383153e-08   6.133996e-10  1.226799e-09         NaN   \nYR796241           1.0  9.908327e-08   6.731582e-12  1.346316e-11         NaN   \nRP711116           1.0  6.888839e-07   5.690695e-13  1.138138e-12         NaN   \nVC648913           2.0  2.144678e-15   1.107332e-21  1.107332e-21         NaN   \n\n             union  perfect_dice  all_dice         error  error_per  \nUK316277  1.000000      0.747811   0.74781  1.355986e-07   0.000014  \nWV436832  1.000000      0.747811   0.74781  1.355986e-07   0.000014  \nHN769989  1.000000      0.747811   0.74781  1.355986e-07   0.000014  \nBR449497  1.000000      0.747811   0.74781  1.355986e-07   0.000014  \nMN946165  1.000000      0.747811   0.74781  1.355986e-07   0.000014  \nKF876043  1.000000      0.747811   0.74781  1.355986e-07   0.000014  \nVX117844  1.000000      0.747811   0.74781  1.355986e-07   0.000014  \nHG208639  1.000000      0.747811   0.74781  1.355986e-07   0.000014  \nHP740967  1.000000      0.747811   0.74781  1.355986e-07   0.000014  \nVM993605  1.000000      0.747811   0.74781  1.355986e-07   0.000014  \nXA730123  1.000000      0.747811   0.74781  1.355986e-07   0.000014  \nPD456987  1.000000      0.747811   0.74781  1.355986e-07   0.000014  \nSL245961  1.000000      0.747811   0.74781  1.355986e-07   0.000014  \nRG312186  1.000000      0.747811   0.74781  1.355986e-07   0.000014  \nYN388134  1.000000      0.747811   0.74781  1.355986e-07   0.000014  \nYW449477  1.000000      0.747811   0.74781  1.355986e-07   0.000014  \nJS857997  1.000000      0.747811   0.74781  1.355986e-07   0.000014  \nBE622112  1.000000      0.747811   0.74781  1.355986e-07   0.000014  \nRS753155  1.000000      0.747811   0.74781  1.355986e-07   0.000014  \nDE439128  1.000000      0.747811   0.74781  1.355986e-07   0.000014  \nEQ795984  1.000000      0.747811   0.74781  1.355986e-07   0.000014  \nHK957287  1.000000      0.747811   0.74781  1.355986e-07   0.000014  \nYR796241  1.000000      0.747811   0.74781  1.355986e-07   0.000014  \nRP711116  1.000001      0.747811   0.74781  1.355987e-07   0.000014  \nVC648913  2.000000      0.747811   0.74781  2.711972e-07   0.000027  ",
      "text/html": "<div>\n<style scoped>\n    .dataframe tbody tr th:only-of-type {\n        vertical-align: middle;\n    }\n\n    .dataframe tbody tr th {\n        vertical-align: top;\n    }\n\n    .dataframe thead th {\n        text-align: right;\n    }\n</style>\n<table border=\"1\" class=\"dataframe\">\n  <thead>\n    <tr style=\"text-align: right;\">\n      <th></th>\n      <th>cloud</th>\n      <th>land</th>\n      <th>missing_landsat</th>\n      <th>kelp</th>\n      <th>in_train</th>\n      <th>in_val</th>\n      <th>sum_targets</th>\n      <th>sum_preds</th>\n      <th>intersections</th>\n      <th>dice_coef</th>\n      <th>Unnamed: 6</th>\n      <th>union</th>\n      <th>perfect_dice</th>\n      <th>all_dice</th>\n      <th>error</th>\n      <th>error_per</th>\n    </tr>\n  </thead>\n  <tbody>\n    <tr>\n      <th>UK316277</th>\n      <td>0.115037</td>\n      <td>0.425143</td>\n      <td>0.034922</td>\n      <td>0.000008</td>\n      <td>True</td>\n      <td>0.0</td>\n      <td>1.0</td>\n      <td>2.447695e-15</td>\n      <td>0.000000e+00</td>\n      <td>0.000000e+00</td>\n      <td>NaN</td>\n      <td>1.000000</td>\n      <td>0.747811</td>\n      <td>0.74781</td>\n      <td>1.355986e-07</td>\n      <td>0.000014</td>\n    </tr>\n    <tr>\n      <th>WV436832</th>\n      <td>0.000237</td>\n      <td>0.069829</td>\n      <td>0.000000</td>\n      <td>0.000008</td>\n      <td>True</td>\n      <td>0.0</td>\n      <td>1.0</td>\n      <td>6.001526e-16</td>\n      <td>1.609580e-36</td>\n      <td>3.219161e-36</td>\n      <td>NaN</td>\n      <td>1.000000</td>\n      <td>0.747811</td>\n      <td>0.74781</td>\n      <td>1.355986e-07</td>\n      <td>0.000014</td>\n    </tr>\n    <tr>\n      <th>HN769989</th>\n      <td>0.000784</td>\n      <td>0.855388</td>\n      <td>0.000000</td>\n      <td>0.000008</td>\n      <td>True</td>\n      <td>0.0</td>\n      <td>1.0</td>\n      <td>6.245881e-12</td>\n      <td>2.241892e-32</td>\n      <td>4.483783e-32</td>\n      <td>NaN</td>\n      <td>1.000000</td>\n      <td>0.747811</td>\n      <td>0.74781</td>\n      <td>1.355986e-07</td>\n      <td>0.000014</td>\n    </tr>\n    <tr>\n      <th>BR449497</th>\n      <td>0.212237</td>\n      <td>0.158098</td>\n      <td>0.212237</td>\n      <td>0.000008</td>\n      <td>True</td>\n      <td>0.0</td>\n      <td>1.0</td>\n      <td>4.745836e-14</td>\n      <td>0.000000e+00</td>\n      <td>0.000000e+00</td>\n      <td>NaN</td>\n      <td>1.000000</td>\n      <td>0.747811</td>\n      <td>0.74781</td>\n      <td>1.355986e-07</td>\n      <td>0.000014</td>\n    </tr>\n    <tr>\n      <th>MN946165</th>\n      <td>0.017437</td>\n      <td>0.875943</td>\n      <td>0.000000</td>\n      <td>0.000008</td>\n      <td>True</td>\n      <td>0.0</td>\n      <td>1.0</td>\n      <td>1.508601e-15</td>\n      <td>6.533922e-33</td>\n      <td>1.306784e-32</td>\n      <td>NaN</td>\n      <td>1.000000</td>\n      <td>0.747811</td>\n      <td>0.74781</td>\n      <td>1.355986e-07</td>\n      <td>0.000014</td>\n    </tr>\n    <tr>\n      <th>KF876043</th>\n      <td>0.050678</td>\n      <td>0.257355</td>\n      <td>0.000000</td>\n      <td>0.000008</td>\n      <td>True</td>\n      <td>0.0</td>\n      <td>1.0</td>\n      <td>1.507092e-14</td>\n      <td>5.332482e-20</td>\n      <td>1.066496e-19</td>\n      <td>NaN</td>\n      <td>1.000000</td>\n      <td>0.747811</td>\n      <td>0.74781</td>\n      <td>1.355986e-07</td>\n      <td>0.000014</td>\n    </tr>\n    <tr>\n      <th>VX117844</th>\n      <td>0.000041</td>\n      <td>0.210318</td>\n      <td>0.000000</td>\n      <td>0.000008</td>\n      <td>True</td>\n      <td>0.0</td>\n      <td>1.0</td>\n      <td>7.493432e-16</td>\n      <td>1.310140e-22</td>\n      <td>2.620280e-22</td>\n      <td>NaN</td>\n      <td>1.000000</td>\n      <td>0.747811</td>\n      <td>0.74781</td>\n      <td>1.355986e-07</td>\n      <td>0.000014</td>\n    </tr>\n    <tr>\n      <th>HG208639</th>\n      <td>0.024939</td>\n      <td>0.478759</td>\n      <td>0.000000</td>\n      <td>0.000008</td>\n      <td>True</td>\n      <td>0.0</td>\n      <td>1.0</td>\n      <td>1.787332e-15</td>\n      <td>1.913392e-22</td>\n      <td>3.826783e-22</td>\n      <td>NaN</td>\n      <td>1.000000</td>\n      <td>0.747811</td>\n      <td>0.74781</td>\n      <td>1.355986e-07</td>\n      <td>0.000014</td>\n    </tr>\n    <tr>\n      <th>HP740967</th>\n      <td>0.081543</td>\n      <td>0.896955</td>\n      <td>0.000000</td>\n      <td>0.000008</td>\n      <td>True</td>\n      <td>0.0</td>\n      <td>1.0</td>\n      <td>4.319727e-15</td>\n      <td>0.000000e+00</td>\n      <td>0.000000e+00</td>\n      <td>NaN</td>\n      <td>1.000000</td>\n      <td>0.747811</td>\n      <td>0.74781</td>\n      <td>1.355986e-07</td>\n      <td>0.000014</td>\n    </tr>\n    <tr>\n      <th>VM993605</th>\n      <td>0.000073</td>\n      <td>0.726555</td>\n      <td>0.000000</td>\n      <td>0.000008</td>\n      <td>True</td>\n      <td>0.0</td>\n      <td>1.0</td>\n      <td>7.631091e-16</td>\n      <td>1.370935e-34</td>\n      <td>2.741869e-34</td>\n      <td>NaN</td>\n      <td>1.000000</td>\n      <td>0.747811</td>\n      <td>0.74781</td>\n      <td>1.355986e-07</td>\n      <td>0.000014</td>\n    </tr>\n    <tr>\n      <th>XA730123</th>\n      <td>0.058718</td>\n      <td>0.665673</td>\n      <td>0.000571</td>\n      <td>0.000008</td>\n      <td>True</td>\n      <td>0.0</td>\n      <td>1.0</td>\n      <td>2.663191e-15</td>\n      <td>1.394712e-41</td>\n      <td>2.789425e-41</td>\n      <td>NaN</td>\n      <td>1.000000</td>\n      <td>0.747811</td>\n      <td>0.74781</td>\n      <td>1.355986e-07</td>\n      <td>0.000014</td>\n    </tr>\n    <tr>\n      <th>PD456987</th>\n      <td>0.107469</td>\n      <td>0.724384</td>\n      <td>0.000000</td>\n      <td>0.000008</td>\n      <td>True</td>\n      <td>0.0</td>\n      <td>1.0</td>\n      <td>3.720587e-15</td>\n      <td>6.010164e-19</td>\n      <td>1.202033e-18</td>\n      <td>NaN</td>\n      <td>1.000000</td>\n      <td>0.747811</td>\n      <td>0.74781</td>\n      <td>1.355986e-07</td>\n      <td>0.000014</td>\n    </tr>\n    <tr>\n      <th>SL245961</th>\n      <td>0.184122</td>\n      <td>0.024359</td>\n      <td>0.182996</td>\n      <td>0.000008</td>\n      <td>True</td>\n      <td>0.0</td>\n      <td>1.0</td>\n      <td>6.008464e-14</td>\n      <td>0.000000e+00</td>\n      <td>0.000000e+00</td>\n      <td>NaN</td>\n      <td>1.000000</td>\n      <td>0.747811</td>\n      <td>0.74781</td>\n      <td>1.355986e-07</td>\n      <td>0.000014</td>\n    </tr>\n    <tr>\n      <th>RG312186</th>\n      <td>0.002278</td>\n      <td>0.643208</td>\n      <td>0.000000</td>\n      <td>0.000008</td>\n      <td>True</td>\n      <td>0.0</td>\n      <td>1.0</td>\n      <td>6.130002e-15</td>\n      <td>1.733994e-16</td>\n      <td>3.467988e-16</td>\n      <td>NaN</td>\n      <td>1.000000</td>\n      <td>0.747811</td>\n      <td>0.74781</td>\n      <td>1.355986e-07</td>\n      <td>0.000014</td>\n    </tr>\n    <tr>\n      <th>YN388134</th>\n      <td>0.424090</td>\n      <td>0.558751</td>\n      <td>0.422163</td>\n      <td>0.000008</td>\n      <td>True</td>\n      <td>0.0</td>\n      <td>1.0</td>\n      <td>4.493801e-15</td>\n      <td>0.000000e+00</td>\n      <td>0.000000e+00</td>\n      <td>NaN</td>\n      <td>1.000000</td>\n      <td>0.747811</td>\n      <td>0.74781</td>\n      <td>1.355986e-07</td>\n      <td>0.000014</td>\n    </tr>\n    <tr>\n      <th>YW449477</th>\n      <td>0.000000</td>\n      <td>0.585869</td>\n      <td>0.000000</td>\n      <td>0.000008</td>\n      <td>True</td>\n      <td>0.0</td>\n      <td>1.0</td>\n      <td>7.730941e-16</td>\n      <td>1.345009e-23</td>\n      <td>2.690018e-23</td>\n      <td>NaN</td>\n      <td>1.000000</td>\n      <td>0.747811</td>\n      <td>0.74781</td>\n      <td>1.355986e-07</td>\n      <td>0.000014</td>\n    </tr>\n    <tr>\n      <th>JS857997</th>\n      <td>0.000000</td>\n      <td>0.035273</td>\n      <td>0.000000</td>\n      <td>0.000008</td>\n      <td>True</td>\n      <td>0.0</td>\n      <td>1.0</td>\n      <td>4.668312e-16</td>\n      <td>0.000000e+00</td>\n      <td>0.000000e+00</td>\n      <td>NaN</td>\n      <td>1.000000</td>\n      <td>0.747811</td>\n      <td>0.74781</td>\n      <td>1.355986e-07</td>\n      <td>0.000014</td>\n    </tr>\n    <tr>\n      <th>BE622112</th>\n      <td>0.034743</td>\n      <td>0.570678</td>\n      <td>0.000000</td>\n      <td>0.000008</td>\n      <td>True</td>\n      <td>0.0</td>\n      <td>1.0</td>\n      <td>1.988277e-15</td>\n      <td>1.383780e-24</td>\n      <td>2.767561e-24</td>\n      <td>NaN</td>\n      <td>1.000000</td>\n      <td>0.747811</td>\n      <td>0.74781</td>\n      <td>1.355986e-07</td>\n      <td>0.000014</td>\n    </tr>\n    <tr>\n      <th>RS753155</th>\n      <td>0.000016</td>\n      <td>0.027118</td>\n      <td>0.000000</td>\n      <td>0.000008</td>\n      <td>True</td>\n      <td>0.0</td>\n      <td>1.0</td>\n      <td>5.955729e-16</td>\n      <td>3.348109e-34</td>\n      <td>6.696218e-34</td>\n      <td>NaN</td>\n      <td>1.000000</td>\n      <td>0.747811</td>\n      <td>0.74781</td>\n      <td>1.355986e-07</td>\n      <td>0.000014</td>\n    </tr>\n    <tr>\n      <th>DE439128</th>\n      <td>0.127771</td>\n      <td>0.592661</td>\n      <td>0.000000</td>\n      <td>0.000008</td>\n      <td>True</td>\n      <td>0.0</td>\n      <td>1.0</td>\n      <td>4.230563e-15</td>\n      <td>7.655764e-23</td>\n      <td>1.531153e-22</td>\n      <td>NaN</td>\n      <td>1.000000</td>\n      <td>0.747811</td>\n      <td>0.74781</td>\n      <td>1.355986e-07</td>\n      <td>0.000014</td>\n    </tr>\n    <tr>\n      <th>EQ795984</th>\n      <td>0.000000</td>\n      <td>0.778424</td>\n      <td>0.000000</td>\n      <td>0.000008</td>\n      <td>True</td>\n      <td>0.0</td>\n      <td>1.0</td>\n      <td>9.127062e-16</td>\n      <td>5.067589e-27</td>\n      <td>1.013518e-26</td>\n      <td>NaN</td>\n      <td>1.000000</td>\n      <td>0.747811</td>\n      <td>0.74781</td>\n      <td>1.355986e-07</td>\n      <td>0.000014</td>\n    </tr>\n    <tr>\n      <th>HK957287</th>\n      <td>0.073347</td>\n      <td>0.440245</td>\n      <td>0.073331</td>\n      <td>0.000008</td>\n      <td>True</td>\n      <td>0.0</td>\n      <td>1.0</td>\n      <td>5.383153e-08</td>\n      <td>6.133996e-10</td>\n      <td>1.226799e-09</td>\n      <td>NaN</td>\n      <td>1.000000</td>\n      <td>0.747811</td>\n      <td>0.74781</td>\n      <td>1.355986e-07</td>\n      <td>0.000014</td>\n    </tr>\n    <tr>\n      <th>YR796241</th>\n      <td>0.011404</td>\n      <td>0.301951</td>\n      <td>0.000000</td>\n      <td>0.000008</td>\n      <td>True</td>\n      <td>0.0</td>\n      <td>1.0</td>\n      <td>9.908327e-08</td>\n      <td>6.731582e-12</td>\n      <td>1.346316e-11</td>\n      <td>NaN</td>\n      <td>1.000000</td>\n      <td>0.747811</td>\n      <td>0.74781</td>\n      <td>1.355986e-07</td>\n      <td>0.000014</td>\n    </tr>\n    <tr>\n      <th>RP711116</th>\n      <td>0.005910</td>\n      <td>0.870629</td>\n      <td>0.000000</td>\n      <td>0.000008</td>\n      <td>True</td>\n      <td>0.0</td>\n      <td>1.0</td>\n      <td>6.888839e-07</td>\n      <td>5.690695e-13</td>\n      <td>1.138138e-12</td>\n      <td>NaN</td>\n      <td>1.000001</td>\n      <td>0.747811</td>\n      <td>0.74781</td>\n      <td>1.355987e-07</td>\n      <td>0.000014</td>\n    </tr>\n    <tr>\n      <th>VC648913</th>\n      <td>0.013069</td>\n      <td>0.852890</td>\n      <td>0.000000</td>\n      <td>0.000016</td>\n      <td>True</td>\n      <td>0.0</td>\n      <td>2.0</td>\n      <td>2.144678e-15</td>\n      <td>1.107332e-21</td>\n      <td>1.107332e-21</td>\n      <td>NaN</td>\n      <td>2.000000</td>\n      <td>0.747811</td>\n      <td>0.74781</td>\n      <td>2.711972e-07</td>\n      <td>0.000027</td>\n    </tr>\n  </tbody>\n</table>\n</div>"
     },
     "execution_count": 27,
     "metadata": {},
     "output_type": "execute_result"
    }
   ],
   "source": [
    "# Now lets filter the df on where sum_targets is larger than 0 and sort on asc dice coef\n",
    "\n",
    "df_filter = results[results['kelp'] > 0]\n",
    "print(len(results), len(df_filter))\n",
    "df_filter = df_filter.sort_values(by='error', ascending=True)\n",
    "df_filter.head(25)"
   ],
   "metadata": {
    "collapsed": false,
    "ExecuteTime": {
     "end_time": "2024-01-29T15:20:07.152119300Z",
     "start_time": "2024-01-29T15:20:07.102121100Z"
    }
   },
   "id": "b2cb07aeb1fc8b0a",
   "execution_count": 27
  },
  {
   "cell_type": "code",
   "execution_count": null,
   "outputs": [],
   "source": [
    "# Plot the correlation matrix with sns\n",
    "\n",
    "#Use a good colormap \n",
    "cmap = sns.diverging_palette(230, 20, as_cmap=True)\n",
    "fig, ax = plt.subplots(figsize=(10,10))\n",
    "corr = results.corr()\n",
    "sns.heatmap(corr, annot=True, cmap=cmap, ax=ax)\n",
    "plt.show()"
   ],
   "metadata": {
    "collapsed": false,
    "ExecuteTime": {
     "start_time": "2024-01-29T15:19:55.144400400Z"
    }
   },
   "id": "838705133af0cdbb"
  },
  {
   "cell_type": "markdown",
   "source": [
    "# Plots against error"
   ],
   "metadata": {
    "collapsed": false
   },
   "id": "1b1c0f482352eb3e"
  },
  {
   "cell_type": "markdown",
   "source": [
    "### Do we predict too much or too little kelp?\n"
   ],
   "metadata": {
    "collapsed": false
   },
   "id": "cde5e8c6e9c9b3f8"
  },
  {
   "cell_type": "code",
   "outputs": [],
   "source": [
    "total_predicted = results['sum_preds'].sum()\n",
    "total_actual = results['sum_targets'].sum()\n",
    "print(total_predicted, total_actual)\n",
    "# Print as a percentage\n",
    "\n",
    "print(f\"In total we predict {total_predicted / total_actual * 100}% of the true kelp in the dataset\")\n",
    "print(f\"Kelp in dataset: {total_actual / (350 * 350 * len(results)) * 100}%\")\n",
    "\n",
    "results[\"TP\"] = results[\"intersections\"]\n",
    "a = (350 * 350) - results[\"sum_preds\"]\n",
    "b = (350 * 350) - results[\"sum_targets\"]\n",
    "#Set results TN to the min(a,b)\n",
    "results[\"TN\"] = a.where(a < b, b)\n",
    "results[\"FP\"] = results[\"sum_preds\"] - results[\"intersections\"]\n",
    "results[\"FN\"] = results[\"sum_targets\"] - results[\"intersections\"]\n",
    "\n",
    "#Print the sum of the confusion matrix with annotation f string\n",
    "print(f\"TP: {results['TP'].sum()}, FP: {results['FP'].sum()}, FN: {results['FN'].sum()}, TN: {results['TN'].sum()}\")\n",
    "\n",
    "\n",
    "# Create the confusion matrix from the results\n",
    "#Print in a nice format rounded by 3 decimals\n",
    "confusion_matrix = results[['TP', 'FP', 'FN', 'TN']].sum().values.reshape(2,2)\n",
    "# Print the confusion matrix using seaborn in float with 3 decimals\n",
    "\n",
    "#Print the one with percentages on the right\n",
    "\n",
    "confusion_matrix_perc = (confusion_matrix / confusion_matrix.sum()) * 100\n",
    "fig, ax = plt.subplots(figsize=(10,10))\n",
    "\n",
    "#Name the axis correctly to the format of a heatmap with TP, FP, FN, TN\n",
    "\n",
    "sns.heatmap(confusion_matrix_perc, annot=True, fmt='.3f', cmap=cmap)\n",
    "#Add correct predictions and labels to the confusion matrix axes\n",
    "# Set x axis to 0,1\n",
    "ax.set_xticklabels([1,0])\n",
    "ax.set_yticklabels([1,0])\n",
    "ax.set_ylabel('Predicted labels')\n",
    "ax.set_xlabel('True labels')\n",
    "\n",
    "\n",
    "\n",
    "plt.show()\n",
    "\n",
    "\n",
    "\n"
   ],
   "metadata": {
    "collapsed": false,
    "ExecuteTime": {
     "start_time": "2024-01-29T15:19:55.145399Z"
    }
   },
   "id": "583071aeb7a473e",
   "execution_count": null
  },
  {
   "cell_type": "code",
   "execution_count": 24,
   "outputs": [
    {
     "ename": "ValueError",
     "evalue": "Could not interpret value `error` for `y`. An entry with this name does not appear in `data`.",
     "output_type": "error",
     "traceback": [
      "\u001B[1;31m---------------------------------------------------------------------------\u001B[0m",
      "\u001B[1;31mValueError\u001B[0m                                Traceback (most recent call last)",
      "Cell \u001B[1;32mIn[24], line 3\u001B[0m\n\u001B[0;32m      1\u001B[0m \u001B[38;5;66;03m# Plot scatterplots of error\u001B[39;00m\n\u001B[0;32m      2\u001B[0m \u001B[38;5;28;01mfor\u001B[39;00m col \u001B[38;5;129;01min\u001B[39;00m [\u001B[38;5;124m'\u001B[39m\u001B[38;5;124mdice_coef\u001B[39m\u001B[38;5;124m'\u001B[39m,\u001B[38;5;124m'\u001B[39m\u001B[38;5;124mkelp\u001B[39m\u001B[38;5;124m'\u001B[39m, \u001B[38;5;124m'\u001B[39m\u001B[38;5;124mland\u001B[39m\u001B[38;5;124m'\u001B[39m, \u001B[38;5;124m'\u001B[39m\u001B[38;5;124mcloud\u001B[39m\u001B[38;5;124m'\u001B[39m, \u001B[38;5;124m'\u001B[39m\u001B[38;5;124mmissing_landsat\u001B[39m\u001B[38;5;124m'\u001B[39m]:\n\u001B[1;32m----> 3\u001B[0m     \u001B[43msns\u001B[49m\u001B[38;5;241;43m.\u001B[39;49m\u001B[43mscatterplot\u001B[49m\u001B[43m(\u001B[49m\u001B[43mdata\u001B[49m\u001B[38;5;241;43m=\u001B[39;49m\u001B[43mresults\u001B[49m\u001B[43m,\u001B[49m\u001B[43m \u001B[49m\u001B[43mx\u001B[49m\u001B[38;5;241;43m=\u001B[39;49m\u001B[43mcol\u001B[49m\u001B[43m,\u001B[49m\u001B[43m \u001B[49m\u001B[43my\u001B[49m\u001B[38;5;241;43m=\u001B[39;49m\u001B[38;5;124;43m'\u001B[39;49m\u001B[38;5;124;43merror\u001B[39;49m\u001B[38;5;124;43m'\u001B[39;49m\u001B[43m)\u001B[49m\n\u001B[0;32m      4\u001B[0m     plt\u001B[38;5;241m.\u001B[39mshow()\n",
      "File \u001B[1;32m~\\Documents\\GitHub\\Q2\\q2-detect-kelp\\venv\\lib\\site-packages\\seaborn\\relational.py:603\u001B[0m, in \u001B[0;36mscatterplot\u001B[1;34m(data, x, y, hue, size, style, palette, hue_order, hue_norm, sizes, size_order, size_norm, markers, style_order, legend, ax, **kwargs)\u001B[0m\n\u001B[0;32m    594\u001B[0m \u001B[38;5;28;01mdef\u001B[39;00m \u001B[38;5;21mscatterplot\u001B[39m(\n\u001B[0;32m    595\u001B[0m     data\u001B[38;5;241m=\u001B[39m\u001B[38;5;28;01mNone\u001B[39;00m, \u001B[38;5;241m*\u001B[39m,\n\u001B[0;32m    596\u001B[0m     x\u001B[38;5;241m=\u001B[39m\u001B[38;5;28;01mNone\u001B[39;00m, y\u001B[38;5;241m=\u001B[39m\u001B[38;5;28;01mNone\u001B[39;00m, hue\u001B[38;5;241m=\u001B[39m\u001B[38;5;28;01mNone\u001B[39;00m, size\u001B[38;5;241m=\u001B[39m\u001B[38;5;28;01mNone\u001B[39;00m, style\u001B[38;5;241m=\u001B[39m\u001B[38;5;28;01mNone\u001B[39;00m,\n\u001B[1;32m   (...)\u001B[0m\n\u001B[0;32m    600\u001B[0m     \u001B[38;5;241m*\u001B[39m\u001B[38;5;241m*\u001B[39mkwargs\n\u001B[0;32m    601\u001B[0m ):\n\u001B[1;32m--> 603\u001B[0m     p \u001B[38;5;241m=\u001B[39m \u001B[43m_ScatterPlotter\u001B[49m\u001B[43m(\u001B[49m\n\u001B[0;32m    604\u001B[0m \u001B[43m        \u001B[49m\u001B[43mdata\u001B[49m\u001B[38;5;241;43m=\u001B[39;49m\u001B[43mdata\u001B[49m\u001B[43m,\u001B[49m\n\u001B[0;32m    605\u001B[0m \u001B[43m        \u001B[49m\u001B[43mvariables\u001B[49m\u001B[38;5;241;43m=\u001B[39;49m\u001B[38;5;28;43mdict\u001B[39;49m\u001B[43m(\u001B[49m\u001B[43mx\u001B[49m\u001B[38;5;241;43m=\u001B[39;49m\u001B[43mx\u001B[49m\u001B[43m,\u001B[49m\u001B[43m \u001B[49m\u001B[43my\u001B[49m\u001B[38;5;241;43m=\u001B[39;49m\u001B[43my\u001B[49m\u001B[43m,\u001B[49m\u001B[43m \u001B[49m\u001B[43mhue\u001B[49m\u001B[38;5;241;43m=\u001B[39;49m\u001B[43mhue\u001B[49m\u001B[43m,\u001B[49m\u001B[43m \u001B[49m\u001B[43msize\u001B[49m\u001B[38;5;241;43m=\u001B[39;49m\u001B[43msize\u001B[49m\u001B[43m,\u001B[49m\u001B[43m \u001B[49m\u001B[43mstyle\u001B[49m\u001B[38;5;241;43m=\u001B[39;49m\u001B[43mstyle\u001B[49m\u001B[43m)\u001B[49m\u001B[43m,\u001B[49m\n\u001B[0;32m    606\u001B[0m \u001B[43m        \u001B[49m\u001B[43mlegend\u001B[49m\u001B[38;5;241;43m=\u001B[39;49m\u001B[43mlegend\u001B[49m\n\u001B[0;32m    607\u001B[0m \u001B[43m    \u001B[49m\u001B[43m)\u001B[49m\n\u001B[0;32m    609\u001B[0m     p\u001B[38;5;241m.\u001B[39mmap_hue(palette\u001B[38;5;241m=\u001B[39mpalette, order\u001B[38;5;241m=\u001B[39mhue_order, norm\u001B[38;5;241m=\u001B[39mhue_norm)\n\u001B[0;32m    610\u001B[0m     p\u001B[38;5;241m.\u001B[39mmap_size(sizes\u001B[38;5;241m=\u001B[39msizes, order\u001B[38;5;241m=\u001B[39msize_order, norm\u001B[38;5;241m=\u001B[39msize_norm)\n",
      "File \u001B[1;32m~\\Documents\\GitHub\\Q2\\q2-detect-kelp\\venv\\lib\\site-packages\\seaborn\\relational.py:390\u001B[0m, in \u001B[0;36m_ScatterPlotter.__init__\u001B[1;34m(self, data, variables, legend)\u001B[0m\n\u001B[0;32m    381\u001B[0m \u001B[38;5;28;01mdef\u001B[39;00m \u001B[38;5;21m__init__\u001B[39m(\u001B[38;5;28mself\u001B[39m, \u001B[38;5;241m*\u001B[39m, data\u001B[38;5;241m=\u001B[39m\u001B[38;5;28;01mNone\u001B[39;00m, variables\u001B[38;5;241m=\u001B[39m{}, legend\u001B[38;5;241m=\u001B[39m\u001B[38;5;28;01mNone\u001B[39;00m):\n\u001B[0;32m    382\u001B[0m \n\u001B[0;32m    383\u001B[0m     \u001B[38;5;66;03m# TODO this is messy, we want the mapping to be agnostic about\u001B[39;00m\n\u001B[0;32m    384\u001B[0m     \u001B[38;5;66;03m# the kind of plot to draw, but for the time being we need to set\u001B[39;00m\n\u001B[0;32m    385\u001B[0m     \u001B[38;5;66;03m# this information so the SizeMapping can use it\u001B[39;00m\n\u001B[0;32m    386\u001B[0m     \u001B[38;5;28mself\u001B[39m\u001B[38;5;241m.\u001B[39m_default_size_range \u001B[38;5;241m=\u001B[39m (\n\u001B[0;32m    387\u001B[0m         np\u001B[38;5;241m.\u001B[39mr_[\u001B[38;5;241m.5\u001B[39m, \u001B[38;5;241m2\u001B[39m] \u001B[38;5;241m*\u001B[39m np\u001B[38;5;241m.\u001B[39msquare(mpl\u001B[38;5;241m.\u001B[39mrcParams[\u001B[38;5;124m\"\u001B[39m\u001B[38;5;124mlines.markersize\u001B[39m\u001B[38;5;124m\"\u001B[39m])\n\u001B[0;32m    388\u001B[0m     )\n\u001B[1;32m--> 390\u001B[0m     \u001B[38;5;28;43msuper\u001B[39;49m\u001B[43m(\u001B[49m\u001B[43m)\u001B[49m\u001B[38;5;241;43m.\u001B[39;49m\u001B[38;5;21;43m__init__\u001B[39;49m\u001B[43m(\u001B[49m\u001B[43mdata\u001B[49m\u001B[38;5;241;43m=\u001B[39;49m\u001B[43mdata\u001B[49m\u001B[43m,\u001B[49m\u001B[43m \u001B[49m\u001B[43mvariables\u001B[49m\u001B[38;5;241;43m=\u001B[39;49m\u001B[43mvariables\u001B[49m\u001B[43m)\u001B[49m\n\u001B[0;32m    392\u001B[0m     \u001B[38;5;28mself\u001B[39m\u001B[38;5;241m.\u001B[39mlegend \u001B[38;5;241m=\u001B[39m legend\n",
      "File \u001B[1;32m~\\Documents\\GitHub\\Q2\\q2-detect-kelp\\venv\\lib\\site-packages\\seaborn\\_base.py:634\u001B[0m, in \u001B[0;36mVectorPlotter.__init__\u001B[1;34m(self, data, variables)\u001B[0m\n\u001B[0;32m    629\u001B[0m \u001B[38;5;66;03m# var_ordered is relevant only for categorical axis variables, and may\u001B[39;00m\n\u001B[0;32m    630\u001B[0m \u001B[38;5;66;03m# be better handled by an internal axis information object that tracks\u001B[39;00m\n\u001B[0;32m    631\u001B[0m \u001B[38;5;66;03m# such information and is set up by the scale_* methods. The analogous\u001B[39;00m\n\u001B[0;32m    632\u001B[0m \u001B[38;5;66;03m# information for numeric axes would be information about log scales.\u001B[39;00m\n\u001B[0;32m    633\u001B[0m \u001B[38;5;28mself\u001B[39m\u001B[38;5;241m.\u001B[39m_var_ordered \u001B[38;5;241m=\u001B[39m {\u001B[38;5;124m\"\u001B[39m\u001B[38;5;124mx\u001B[39m\u001B[38;5;124m\"\u001B[39m: \u001B[38;5;28;01mFalse\u001B[39;00m, \u001B[38;5;124m\"\u001B[39m\u001B[38;5;124my\u001B[39m\u001B[38;5;124m\"\u001B[39m: \u001B[38;5;28;01mFalse\u001B[39;00m}  \u001B[38;5;66;03m# alt., used DefaultDict\u001B[39;00m\n\u001B[1;32m--> 634\u001B[0m \u001B[38;5;28;43mself\u001B[39;49m\u001B[38;5;241;43m.\u001B[39;49m\u001B[43massign_variables\u001B[49m\u001B[43m(\u001B[49m\u001B[43mdata\u001B[49m\u001B[43m,\u001B[49m\u001B[43m \u001B[49m\u001B[43mvariables\u001B[49m\u001B[43m)\u001B[49m\n\u001B[0;32m    636\u001B[0m \u001B[38;5;66;03m# TODO Lots of tests assume that these are called to initialize the\u001B[39;00m\n\u001B[0;32m    637\u001B[0m \u001B[38;5;66;03m# mappings to default values on class initialization. I'd prefer to\u001B[39;00m\n\u001B[0;32m    638\u001B[0m \u001B[38;5;66;03m# move away from that and only have a mapping when explicitly called.\u001B[39;00m\n\u001B[0;32m    639\u001B[0m \u001B[38;5;28;01mfor\u001B[39;00m var \u001B[38;5;129;01min\u001B[39;00m [\u001B[38;5;124m\"\u001B[39m\u001B[38;5;124mhue\u001B[39m\u001B[38;5;124m\"\u001B[39m, \u001B[38;5;124m\"\u001B[39m\u001B[38;5;124msize\u001B[39m\u001B[38;5;124m\"\u001B[39m, \u001B[38;5;124m\"\u001B[39m\u001B[38;5;124mstyle\u001B[39m\u001B[38;5;124m\"\u001B[39m]:\n",
      "File \u001B[1;32m~\\Documents\\GitHub\\Q2\\q2-detect-kelp\\venv\\lib\\site-packages\\seaborn\\_base.py:679\u001B[0m, in \u001B[0;36mVectorPlotter.assign_variables\u001B[1;34m(self, data, variables)\u001B[0m\n\u001B[0;32m    674\u001B[0m \u001B[38;5;28;01melse\u001B[39;00m:\n\u001B[0;32m    675\u001B[0m     \u001B[38;5;66;03m# When dealing with long-form input, use the newer PlotData\u001B[39;00m\n\u001B[0;32m    676\u001B[0m     \u001B[38;5;66;03m# object (internal but introduced for the objects interface)\u001B[39;00m\n\u001B[0;32m    677\u001B[0m     \u001B[38;5;66;03m# to centralize / standardize data consumption logic.\u001B[39;00m\n\u001B[0;32m    678\u001B[0m     \u001B[38;5;28mself\u001B[39m\u001B[38;5;241m.\u001B[39minput_format \u001B[38;5;241m=\u001B[39m \u001B[38;5;124m\"\u001B[39m\u001B[38;5;124mlong\u001B[39m\u001B[38;5;124m\"\u001B[39m\n\u001B[1;32m--> 679\u001B[0m     plot_data \u001B[38;5;241m=\u001B[39m \u001B[43mPlotData\u001B[49m\u001B[43m(\u001B[49m\u001B[43mdata\u001B[49m\u001B[43m,\u001B[49m\u001B[43m \u001B[49m\u001B[43mvariables\u001B[49m\u001B[43m)\u001B[49m\n\u001B[0;32m    680\u001B[0m     frame \u001B[38;5;241m=\u001B[39m plot_data\u001B[38;5;241m.\u001B[39mframe\n\u001B[0;32m    681\u001B[0m     names \u001B[38;5;241m=\u001B[39m plot_data\u001B[38;5;241m.\u001B[39mnames\n",
      "File \u001B[1;32m~\\Documents\\GitHub\\Q2\\q2-detect-kelp\\venv\\lib\\site-packages\\seaborn\\_core\\data.py:58\u001B[0m, in \u001B[0;36mPlotData.__init__\u001B[1;34m(self, data, variables)\u001B[0m\n\u001B[0;32m     51\u001B[0m \u001B[38;5;28;01mdef\u001B[39;00m \u001B[38;5;21m__init__\u001B[39m(\n\u001B[0;32m     52\u001B[0m     \u001B[38;5;28mself\u001B[39m,\n\u001B[0;32m     53\u001B[0m     data: DataSource,\n\u001B[0;32m     54\u001B[0m     variables: \u001B[38;5;28mdict\u001B[39m[\u001B[38;5;28mstr\u001B[39m, VariableSpec],\n\u001B[0;32m     55\u001B[0m ):\n\u001B[0;32m     57\u001B[0m     data \u001B[38;5;241m=\u001B[39m handle_data_source(data)\n\u001B[1;32m---> 58\u001B[0m     frame, names, ids \u001B[38;5;241m=\u001B[39m \u001B[38;5;28;43mself\u001B[39;49m\u001B[38;5;241;43m.\u001B[39;49m\u001B[43m_assign_variables\u001B[49m\u001B[43m(\u001B[49m\u001B[43mdata\u001B[49m\u001B[43m,\u001B[49m\u001B[43m \u001B[49m\u001B[43mvariables\u001B[49m\u001B[43m)\u001B[49m\n\u001B[0;32m     60\u001B[0m     \u001B[38;5;28mself\u001B[39m\u001B[38;5;241m.\u001B[39mframe \u001B[38;5;241m=\u001B[39m frame\n\u001B[0;32m     61\u001B[0m     \u001B[38;5;28mself\u001B[39m\u001B[38;5;241m.\u001B[39mnames \u001B[38;5;241m=\u001B[39m names\n",
      "File \u001B[1;32m~\\Documents\\GitHub\\Q2\\q2-detect-kelp\\venv\\lib\\site-packages\\seaborn\\_core\\data.py:232\u001B[0m, in \u001B[0;36mPlotData._assign_variables\u001B[1;34m(self, data, variables)\u001B[0m\n\u001B[0;32m    230\u001B[0m     \u001B[38;5;28;01melse\u001B[39;00m:\n\u001B[0;32m    231\u001B[0m         err \u001B[38;5;241m+\u001B[39m\u001B[38;5;241m=\u001B[39m \u001B[38;5;124m\"\u001B[39m\u001B[38;5;124mAn entry with this name does not appear in `data`.\u001B[39m\u001B[38;5;124m\"\u001B[39m\n\u001B[1;32m--> 232\u001B[0m     \u001B[38;5;28;01mraise\u001B[39;00m \u001B[38;5;167;01mValueError\u001B[39;00m(err)\n\u001B[0;32m    234\u001B[0m \u001B[38;5;28;01melse\u001B[39;00m:\n\u001B[0;32m    235\u001B[0m \n\u001B[0;32m    236\u001B[0m     \u001B[38;5;66;03m# Otherwise, assume the value somehow represents data\u001B[39;00m\n\u001B[0;32m    237\u001B[0m \n\u001B[0;32m    238\u001B[0m     \u001B[38;5;66;03m# Ignore empty data structures\u001B[39;00m\n\u001B[0;32m    239\u001B[0m     \u001B[38;5;28;01mif\u001B[39;00m \u001B[38;5;28misinstance\u001B[39m(val, Sized) \u001B[38;5;129;01mand\u001B[39;00m \u001B[38;5;28mlen\u001B[39m(val) \u001B[38;5;241m==\u001B[39m \u001B[38;5;241m0\u001B[39m:\n",
      "\u001B[1;31mValueError\u001B[0m: Could not interpret value `error` for `y`. An entry with this name does not appear in `data`."
     ]
    }
   ],
   "source": [
    "# Plot scatterplots of error\n",
    "for col in ['dice_coef','kelp', 'land', 'cloud', 'missing_landsat']:\n",
    "    sns.scatterplot(data=results, x=col, y='error')\n",
    "    plt.show()"
   ],
   "metadata": {
    "collapsed": false,
    "ExecuteTime": {
     "start_time": "2024-01-29T15:19:55.198399100Z"
    }
   },
   "id": "6ff645d3379c8680"
  },
  {
   "cell_type": "markdown",
   "source": [
    "# Plots against dice coef"
   ],
   "metadata": {
    "collapsed": false
   },
   "id": "a2efd29d90f4c65c"
  },
  {
   "cell_type": "code",
   "execution_count": 25,
   "outputs": [
    {
     "ename": "ValueError",
     "evalue": "Could not interpret value `error` for `x`. An entry with this name does not appear in `data`.",
     "output_type": "error",
     "traceback": [
      "\u001B[1;31m---------------------------------------------------------------------------\u001B[0m",
      "\u001B[1;31mValueError\u001B[0m                                Traceback (most recent call last)",
      "Cell \u001B[1;32mIn[25], line 2\u001B[0m\n\u001B[0;32m      1\u001B[0m \u001B[38;5;28;01mfor\u001B[39;00m col \u001B[38;5;129;01min\u001B[39;00m [\u001B[38;5;124m'\u001B[39m\u001B[38;5;124merror\u001B[39m\u001B[38;5;124m'\u001B[39m,\u001B[38;5;124m'\u001B[39m\u001B[38;5;124mkelp\u001B[39m\u001B[38;5;124m'\u001B[39m, \u001B[38;5;124m'\u001B[39m\u001B[38;5;124mland\u001B[39m\u001B[38;5;124m'\u001B[39m, \u001B[38;5;124m'\u001B[39m\u001B[38;5;124mcloud\u001B[39m\u001B[38;5;124m'\u001B[39m, \u001B[38;5;124m'\u001B[39m\u001B[38;5;124mmissing_landsat\u001B[39m\u001B[38;5;124m'\u001B[39m]:\n\u001B[1;32m----> 2\u001B[0m     \u001B[43msns\u001B[49m\u001B[38;5;241;43m.\u001B[39;49m\u001B[43mscatterplot\u001B[49m\u001B[43m(\u001B[49m\u001B[43mdata\u001B[49m\u001B[38;5;241;43m=\u001B[39;49m\u001B[43mresults\u001B[49m\u001B[43m,\u001B[49m\u001B[43m \u001B[49m\u001B[43mx\u001B[49m\u001B[38;5;241;43m=\u001B[39;49m\u001B[43mcol\u001B[49m\u001B[43m,\u001B[49m\u001B[43m \u001B[49m\u001B[43my\u001B[49m\u001B[38;5;241;43m=\u001B[39;49m\u001B[38;5;124;43m'\u001B[39;49m\u001B[38;5;124;43mdice_coef\u001B[39;49m\u001B[38;5;124;43m'\u001B[39;49m\u001B[43m)\u001B[49m\n\u001B[0;32m      3\u001B[0m     plt\u001B[38;5;241m.\u001B[39mshow()\n",
      "File \u001B[1;32m~\\Documents\\GitHub\\Q2\\q2-detect-kelp\\venv\\lib\\site-packages\\seaborn\\relational.py:603\u001B[0m, in \u001B[0;36mscatterplot\u001B[1;34m(data, x, y, hue, size, style, palette, hue_order, hue_norm, sizes, size_order, size_norm, markers, style_order, legend, ax, **kwargs)\u001B[0m\n\u001B[0;32m    594\u001B[0m \u001B[38;5;28;01mdef\u001B[39;00m \u001B[38;5;21mscatterplot\u001B[39m(\n\u001B[0;32m    595\u001B[0m     data\u001B[38;5;241m=\u001B[39m\u001B[38;5;28;01mNone\u001B[39;00m, \u001B[38;5;241m*\u001B[39m,\n\u001B[0;32m    596\u001B[0m     x\u001B[38;5;241m=\u001B[39m\u001B[38;5;28;01mNone\u001B[39;00m, y\u001B[38;5;241m=\u001B[39m\u001B[38;5;28;01mNone\u001B[39;00m, hue\u001B[38;5;241m=\u001B[39m\u001B[38;5;28;01mNone\u001B[39;00m, size\u001B[38;5;241m=\u001B[39m\u001B[38;5;28;01mNone\u001B[39;00m, style\u001B[38;5;241m=\u001B[39m\u001B[38;5;28;01mNone\u001B[39;00m,\n\u001B[1;32m   (...)\u001B[0m\n\u001B[0;32m    600\u001B[0m     \u001B[38;5;241m*\u001B[39m\u001B[38;5;241m*\u001B[39mkwargs\n\u001B[0;32m    601\u001B[0m ):\n\u001B[1;32m--> 603\u001B[0m     p \u001B[38;5;241m=\u001B[39m \u001B[43m_ScatterPlotter\u001B[49m\u001B[43m(\u001B[49m\n\u001B[0;32m    604\u001B[0m \u001B[43m        \u001B[49m\u001B[43mdata\u001B[49m\u001B[38;5;241;43m=\u001B[39;49m\u001B[43mdata\u001B[49m\u001B[43m,\u001B[49m\n\u001B[0;32m    605\u001B[0m \u001B[43m        \u001B[49m\u001B[43mvariables\u001B[49m\u001B[38;5;241;43m=\u001B[39;49m\u001B[38;5;28;43mdict\u001B[39;49m\u001B[43m(\u001B[49m\u001B[43mx\u001B[49m\u001B[38;5;241;43m=\u001B[39;49m\u001B[43mx\u001B[49m\u001B[43m,\u001B[49m\u001B[43m \u001B[49m\u001B[43my\u001B[49m\u001B[38;5;241;43m=\u001B[39;49m\u001B[43my\u001B[49m\u001B[43m,\u001B[49m\u001B[43m \u001B[49m\u001B[43mhue\u001B[49m\u001B[38;5;241;43m=\u001B[39;49m\u001B[43mhue\u001B[49m\u001B[43m,\u001B[49m\u001B[43m \u001B[49m\u001B[43msize\u001B[49m\u001B[38;5;241;43m=\u001B[39;49m\u001B[43msize\u001B[49m\u001B[43m,\u001B[49m\u001B[43m \u001B[49m\u001B[43mstyle\u001B[49m\u001B[38;5;241;43m=\u001B[39;49m\u001B[43mstyle\u001B[49m\u001B[43m)\u001B[49m\u001B[43m,\u001B[49m\n\u001B[0;32m    606\u001B[0m \u001B[43m        \u001B[49m\u001B[43mlegend\u001B[49m\u001B[38;5;241;43m=\u001B[39;49m\u001B[43mlegend\u001B[49m\n\u001B[0;32m    607\u001B[0m \u001B[43m    \u001B[49m\u001B[43m)\u001B[49m\n\u001B[0;32m    609\u001B[0m     p\u001B[38;5;241m.\u001B[39mmap_hue(palette\u001B[38;5;241m=\u001B[39mpalette, order\u001B[38;5;241m=\u001B[39mhue_order, norm\u001B[38;5;241m=\u001B[39mhue_norm)\n\u001B[0;32m    610\u001B[0m     p\u001B[38;5;241m.\u001B[39mmap_size(sizes\u001B[38;5;241m=\u001B[39msizes, order\u001B[38;5;241m=\u001B[39msize_order, norm\u001B[38;5;241m=\u001B[39msize_norm)\n",
      "File \u001B[1;32m~\\Documents\\GitHub\\Q2\\q2-detect-kelp\\venv\\lib\\site-packages\\seaborn\\relational.py:390\u001B[0m, in \u001B[0;36m_ScatterPlotter.__init__\u001B[1;34m(self, data, variables, legend)\u001B[0m\n\u001B[0;32m    381\u001B[0m \u001B[38;5;28;01mdef\u001B[39;00m \u001B[38;5;21m__init__\u001B[39m(\u001B[38;5;28mself\u001B[39m, \u001B[38;5;241m*\u001B[39m, data\u001B[38;5;241m=\u001B[39m\u001B[38;5;28;01mNone\u001B[39;00m, variables\u001B[38;5;241m=\u001B[39m{}, legend\u001B[38;5;241m=\u001B[39m\u001B[38;5;28;01mNone\u001B[39;00m):\n\u001B[0;32m    382\u001B[0m \n\u001B[0;32m    383\u001B[0m     \u001B[38;5;66;03m# TODO this is messy, we want the mapping to be agnostic about\u001B[39;00m\n\u001B[0;32m    384\u001B[0m     \u001B[38;5;66;03m# the kind of plot to draw, but for the time being we need to set\u001B[39;00m\n\u001B[0;32m    385\u001B[0m     \u001B[38;5;66;03m# this information so the SizeMapping can use it\u001B[39;00m\n\u001B[0;32m    386\u001B[0m     \u001B[38;5;28mself\u001B[39m\u001B[38;5;241m.\u001B[39m_default_size_range \u001B[38;5;241m=\u001B[39m (\n\u001B[0;32m    387\u001B[0m         np\u001B[38;5;241m.\u001B[39mr_[\u001B[38;5;241m.5\u001B[39m, \u001B[38;5;241m2\u001B[39m] \u001B[38;5;241m*\u001B[39m np\u001B[38;5;241m.\u001B[39msquare(mpl\u001B[38;5;241m.\u001B[39mrcParams[\u001B[38;5;124m\"\u001B[39m\u001B[38;5;124mlines.markersize\u001B[39m\u001B[38;5;124m\"\u001B[39m])\n\u001B[0;32m    388\u001B[0m     )\n\u001B[1;32m--> 390\u001B[0m     \u001B[38;5;28;43msuper\u001B[39;49m\u001B[43m(\u001B[49m\u001B[43m)\u001B[49m\u001B[38;5;241;43m.\u001B[39;49m\u001B[38;5;21;43m__init__\u001B[39;49m\u001B[43m(\u001B[49m\u001B[43mdata\u001B[49m\u001B[38;5;241;43m=\u001B[39;49m\u001B[43mdata\u001B[49m\u001B[43m,\u001B[49m\u001B[43m \u001B[49m\u001B[43mvariables\u001B[49m\u001B[38;5;241;43m=\u001B[39;49m\u001B[43mvariables\u001B[49m\u001B[43m)\u001B[49m\n\u001B[0;32m    392\u001B[0m     \u001B[38;5;28mself\u001B[39m\u001B[38;5;241m.\u001B[39mlegend \u001B[38;5;241m=\u001B[39m legend\n",
      "File \u001B[1;32m~\\Documents\\GitHub\\Q2\\q2-detect-kelp\\venv\\lib\\site-packages\\seaborn\\_base.py:634\u001B[0m, in \u001B[0;36mVectorPlotter.__init__\u001B[1;34m(self, data, variables)\u001B[0m\n\u001B[0;32m    629\u001B[0m \u001B[38;5;66;03m# var_ordered is relevant only for categorical axis variables, and may\u001B[39;00m\n\u001B[0;32m    630\u001B[0m \u001B[38;5;66;03m# be better handled by an internal axis information object that tracks\u001B[39;00m\n\u001B[0;32m    631\u001B[0m \u001B[38;5;66;03m# such information and is set up by the scale_* methods. The analogous\u001B[39;00m\n\u001B[0;32m    632\u001B[0m \u001B[38;5;66;03m# information for numeric axes would be information about log scales.\u001B[39;00m\n\u001B[0;32m    633\u001B[0m \u001B[38;5;28mself\u001B[39m\u001B[38;5;241m.\u001B[39m_var_ordered \u001B[38;5;241m=\u001B[39m {\u001B[38;5;124m\"\u001B[39m\u001B[38;5;124mx\u001B[39m\u001B[38;5;124m\"\u001B[39m: \u001B[38;5;28;01mFalse\u001B[39;00m, \u001B[38;5;124m\"\u001B[39m\u001B[38;5;124my\u001B[39m\u001B[38;5;124m\"\u001B[39m: \u001B[38;5;28;01mFalse\u001B[39;00m}  \u001B[38;5;66;03m# alt., used DefaultDict\u001B[39;00m\n\u001B[1;32m--> 634\u001B[0m \u001B[38;5;28;43mself\u001B[39;49m\u001B[38;5;241;43m.\u001B[39;49m\u001B[43massign_variables\u001B[49m\u001B[43m(\u001B[49m\u001B[43mdata\u001B[49m\u001B[43m,\u001B[49m\u001B[43m \u001B[49m\u001B[43mvariables\u001B[49m\u001B[43m)\u001B[49m\n\u001B[0;32m    636\u001B[0m \u001B[38;5;66;03m# TODO Lots of tests assume that these are called to initialize the\u001B[39;00m\n\u001B[0;32m    637\u001B[0m \u001B[38;5;66;03m# mappings to default values on class initialization. I'd prefer to\u001B[39;00m\n\u001B[0;32m    638\u001B[0m \u001B[38;5;66;03m# move away from that and only have a mapping when explicitly called.\u001B[39;00m\n\u001B[0;32m    639\u001B[0m \u001B[38;5;28;01mfor\u001B[39;00m var \u001B[38;5;129;01min\u001B[39;00m [\u001B[38;5;124m\"\u001B[39m\u001B[38;5;124mhue\u001B[39m\u001B[38;5;124m\"\u001B[39m, \u001B[38;5;124m\"\u001B[39m\u001B[38;5;124msize\u001B[39m\u001B[38;5;124m\"\u001B[39m, \u001B[38;5;124m\"\u001B[39m\u001B[38;5;124mstyle\u001B[39m\u001B[38;5;124m\"\u001B[39m]:\n",
      "File \u001B[1;32m~\\Documents\\GitHub\\Q2\\q2-detect-kelp\\venv\\lib\\site-packages\\seaborn\\_base.py:679\u001B[0m, in \u001B[0;36mVectorPlotter.assign_variables\u001B[1;34m(self, data, variables)\u001B[0m\n\u001B[0;32m    674\u001B[0m \u001B[38;5;28;01melse\u001B[39;00m:\n\u001B[0;32m    675\u001B[0m     \u001B[38;5;66;03m# When dealing with long-form input, use the newer PlotData\u001B[39;00m\n\u001B[0;32m    676\u001B[0m     \u001B[38;5;66;03m# object (internal but introduced for the objects interface)\u001B[39;00m\n\u001B[0;32m    677\u001B[0m     \u001B[38;5;66;03m# to centralize / standardize data consumption logic.\u001B[39;00m\n\u001B[0;32m    678\u001B[0m     \u001B[38;5;28mself\u001B[39m\u001B[38;5;241m.\u001B[39minput_format \u001B[38;5;241m=\u001B[39m \u001B[38;5;124m\"\u001B[39m\u001B[38;5;124mlong\u001B[39m\u001B[38;5;124m\"\u001B[39m\n\u001B[1;32m--> 679\u001B[0m     plot_data \u001B[38;5;241m=\u001B[39m \u001B[43mPlotData\u001B[49m\u001B[43m(\u001B[49m\u001B[43mdata\u001B[49m\u001B[43m,\u001B[49m\u001B[43m \u001B[49m\u001B[43mvariables\u001B[49m\u001B[43m)\u001B[49m\n\u001B[0;32m    680\u001B[0m     frame \u001B[38;5;241m=\u001B[39m plot_data\u001B[38;5;241m.\u001B[39mframe\n\u001B[0;32m    681\u001B[0m     names \u001B[38;5;241m=\u001B[39m plot_data\u001B[38;5;241m.\u001B[39mnames\n",
      "File \u001B[1;32m~\\Documents\\GitHub\\Q2\\q2-detect-kelp\\venv\\lib\\site-packages\\seaborn\\_core\\data.py:58\u001B[0m, in \u001B[0;36mPlotData.__init__\u001B[1;34m(self, data, variables)\u001B[0m\n\u001B[0;32m     51\u001B[0m \u001B[38;5;28;01mdef\u001B[39;00m \u001B[38;5;21m__init__\u001B[39m(\n\u001B[0;32m     52\u001B[0m     \u001B[38;5;28mself\u001B[39m,\n\u001B[0;32m     53\u001B[0m     data: DataSource,\n\u001B[0;32m     54\u001B[0m     variables: \u001B[38;5;28mdict\u001B[39m[\u001B[38;5;28mstr\u001B[39m, VariableSpec],\n\u001B[0;32m     55\u001B[0m ):\n\u001B[0;32m     57\u001B[0m     data \u001B[38;5;241m=\u001B[39m handle_data_source(data)\n\u001B[1;32m---> 58\u001B[0m     frame, names, ids \u001B[38;5;241m=\u001B[39m \u001B[38;5;28;43mself\u001B[39;49m\u001B[38;5;241;43m.\u001B[39;49m\u001B[43m_assign_variables\u001B[49m\u001B[43m(\u001B[49m\u001B[43mdata\u001B[49m\u001B[43m,\u001B[49m\u001B[43m \u001B[49m\u001B[43mvariables\u001B[49m\u001B[43m)\u001B[49m\n\u001B[0;32m     60\u001B[0m     \u001B[38;5;28mself\u001B[39m\u001B[38;5;241m.\u001B[39mframe \u001B[38;5;241m=\u001B[39m frame\n\u001B[0;32m     61\u001B[0m     \u001B[38;5;28mself\u001B[39m\u001B[38;5;241m.\u001B[39mnames \u001B[38;5;241m=\u001B[39m names\n",
      "File \u001B[1;32m~\\Documents\\GitHub\\Q2\\q2-detect-kelp\\venv\\lib\\site-packages\\seaborn\\_core\\data.py:232\u001B[0m, in \u001B[0;36mPlotData._assign_variables\u001B[1;34m(self, data, variables)\u001B[0m\n\u001B[0;32m    230\u001B[0m     \u001B[38;5;28;01melse\u001B[39;00m:\n\u001B[0;32m    231\u001B[0m         err \u001B[38;5;241m+\u001B[39m\u001B[38;5;241m=\u001B[39m \u001B[38;5;124m\"\u001B[39m\u001B[38;5;124mAn entry with this name does not appear in `data`.\u001B[39m\u001B[38;5;124m\"\u001B[39m\n\u001B[1;32m--> 232\u001B[0m     \u001B[38;5;28;01mraise\u001B[39;00m \u001B[38;5;167;01mValueError\u001B[39;00m(err)\n\u001B[0;32m    234\u001B[0m \u001B[38;5;28;01melse\u001B[39;00m:\n\u001B[0;32m    235\u001B[0m \n\u001B[0;32m    236\u001B[0m     \u001B[38;5;66;03m# Otherwise, assume the value somehow represents data\u001B[39;00m\n\u001B[0;32m    237\u001B[0m \n\u001B[0;32m    238\u001B[0m     \u001B[38;5;66;03m# Ignore empty data structures\u001B[39;00m\n\u001B[0;32m    239\u001B[0m     \u001B[38;5;28;01mif\u001B[39;00m \u001B[38;5;28misinstance\u001B[39m(val, Sized) \u001B[38;5;129;01mand\u001B[39;00m \u001B[38;5;28mlen\u001B[39m(val) \u001B[38;5;241m==\u001B[39m \u001B[38;5;241m0\u001B[39m:\n",
      "\u001B[1;31mValueError\u001B[0m: Could not interpret value `error` for `x`. An entry with this name does not appear in `data`."
     ]
    }
   ],
   "source": [
    "for col in ['error','kelp', 'land', 'cloud', 'missing_landsat']:\n",
    "    sns.scatterplot(data=results, x=col, y='dice_coef')\n",
    "    plt.show()"
   ],
   "metadata": {
    "collapsed": false,
    "ExecuteTime": {
     "end_time": "2024-01-29T15:19:55.473398300Z",
     "start_time": "2024-01-29T15:19:55.411398800Z"
    }
   },
   "id": "88a10f9d84611b3f"
  },
  {
   "cell_type": "code",
   "execution_count": null,
   "outputs": [],
   "source": [
    "# There is a clear correlation between error and kelp. \n",
    "# Create a new column that is the error divided by kelp\n",
    "# Then make the plots against error again\n",
    "results['error_per_kelp'] = results['error'] / results['kelp']\n",
    "\n",
    "\n",
    "# remove outliers with an error_per_kelp larger than n stds\n",
    "n = 2\n",
    "results_clean = results[results['kelp'] > 0]\n",
    "mean = results_clean['error_per_kelp'].mean()\n",
    "stds = results_clean['error_per_kelp'].std()\n",
    "results_clean = results_clean[results_clean['error_per_kelp'] < mean + n*stds]\n",
    "\n",
    "\n",
    "for col in ['dice_coef','kelp', 'land', 'cloud', 'missing_landsat']:\n",
    "    \n",
    "    sns.scatterplot(data=results_clean, x=col, y='error_per_kelp')\n",
    "    plt.show()"
   ],
   "metadata": {
    "collapsed": false,
    "ExecuteTime": {
     "start_time": "2024-01-29T15:19:55.459398900Z"
    }
   },
   "id": "d53e28beb7b440b7"
  }
 ],
 "metadata": {
  "kernelspec": {
   "display_name": "Python 3",
   "language": "python",
   "name": "python3"
  },
  "language_info": {
   "codemirror_mode": {
    "name": "ipython",
    "version": 2
   },
   "file_extension": ".py",
   "mimetype": "text/x-python",
   "name": "python",
   "nbconvert_exporter": "python",
   "pygments_lexer": "ipython2",
   "version": "2.7.6"
  }
 },
 "nbformat": 4,
 "nbformat_minor": 5
}
