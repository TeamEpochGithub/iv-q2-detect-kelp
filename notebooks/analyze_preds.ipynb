{
 "cells": [
  {
   "cell_type": "markdown",
   "source": [
    "# Analyze the results of the prediction\n",
    "1. Generate the metadataset by running all cells in `create-metadataset.ipynb`\n",
    "2. Run `train.py`. Make sure to use a config with the postprocessing step `VisualizationBlock`\n",
    "3. Run all cells\n",
    "4. View the plots, explore the tabels in your IDE, and view the images with the dashboard using their `tile_id`"
   ],
   "metadata": {
    "collapsed": false
   },
   "id": "847edc9a98f6c285"
  },
  {
   "cell_type": "code",
   "execution_count": 10,
   "outputs": [],
   "source": [
    "import pandas as pd\n",
    "import seaborn as sns\n",
    "import matplotlib.pyplot as plt"
   ],
   "metadata": {
    "collapsed": false,
    "ExecuteTime": {
     "end_time": "2024-01-17T13:38:04.611708300Z",
     "start_time": "2024-01-17T13:38:04.537632700Z"
    }
   },
   "id": "57067a9daf0e0122"
  },
  {
   "cell_type": "code",
   "execution_count": 11,
   "outputs": [],
   "source": [
    "path = '../outputs/2024-01-17/14-33-08/results.csv'"
   ],
   "metadata": {
    "collapsed": false,
    "ExecuteTime": {
     "end_time": "2024-01-17T13:38:04.637187200Z",
     "start_time": "2024-01-17T13:38:04.542921200Z"
    }
   },
   "id": "175f6e1f100fbf44"
  },
  {
   "cell_type": "code",
   "execution_count": 12,
   "outputs": [
    {
     "data": {
      "text/plain": "             cloud      land  missing_landsat      kelp  in_train\ntile_id                                                          \nJW725114  0.008294  0.142604         0.000000  0.000082      True\nUX493605  0.004155  0.303135         0.000000  0.007404      True\nOU500661  0.039673  0.254376         0.000000  0.000000      True\nDC227980  0.009371  0.429110         0.000000  0.000000      True\nSS602790  0.061763  0.837020         0.000000  0.000000      True\n...            ...       ...              ...       ...       ...\nUT495238  0.297796  0.601306         0.296580       NaN     False\nGE987629  0.307053  0.125967         0.307020       NaN     False\nEN974536  0.348498  0.714710         0.348269       NaN     False\nKI806222  0.215600  0.396090         0.133959       NaN     False\nTV747704  0.423347  0.505731         0.412980       NaN     False\n\n[7061 rows x 5 columns]",
      "text/html": "<div>\n<style scoped>\n    .dataframe tbody tr th:only-of-type {\n        vertical-align: middle;\n    }\n\n    .dataframe tbody tr th {\n        vertical-align: top;\n    }\n\n    .dataframe thead th {\n        text-align: right;\n    }\n</style>\n<table border=\"1\" class=\"dataframe\">\n  <thead>\n    <tr style=\"text-align: right;\">\n      <th></th>\n      <th>cloud</th>\n      <th>land</th>\n      <th>missing_landsat</th>\n      <th>kelp</th>\n      <th>in_train</th>\n    </tr>\n    <tr>\n      <th>tile_id</th>\n      <th></th>\n      <th></th>\n      <th></th>\n      <th></th>\n      <th></th>\n    </tr>\n  </thead>\n  <tbody>\n    <tr>\n      <th>JW725114</th>\n      <td>0.008294</td>\n      <td>0.142604</td>\n      <td>0.000000</td>\n      <td>0.000082</td>\n      <td>True</td>\n    </tr>\n    <tr>\n      <th>UX493605</th>\n      <td>0.004155</td>\n      <td>0.303135</td>\n      <td>0.000000</td>\n      <td>0.007404</td>\n      <td>True</td>\n    </tr>\n    <tr>\n      <th>OU500661</th>\n      <td>0.039673</td>\n      <td>0.254376</td>\n      <td>0.000000</td>\n      <td>0.000000</td>\n      <td>True</td>\n    </tr>\n    <tr>\n      <th>DC227980</th>\n      <td>0.009371</td>\n      <td>0.429110</td>\n      <td>0.000000</td>\n      <td>0.000000</td>\n      <td>True</td>\n    </tr>\n    <tr>\n      <th>SS602790</th>\n      <td>0.061763</td>\n      <td>0.837020</td>\n      <td>0.000000</td>\n      <td>0.000000</td>\n      <td>True</td>\n    </tr>\n    <tr>\n      <th>...</th>\n      <td>...</td>\n      <td>...</td>\n      <td>...</td>\n      <td>...</td>\n      <td>...</td>\n    </tr>\n    <tr>\n      <th>UT495238</th>\n      <td>0.297796</td>\n      <td>0.601306</td>\n      <td>0.296580</td>\n      <td>NaN</td>\n      <td>False</td>\n    </tr>\n    <tr>\n      <th>GE987629</th>\n      <td>0.307053</td>\n      <td>0.125967</td>\n      <td>0.307020</td>\n      <td>NaN</td>\n      <td>False</td>\n    </tr>\n    <tr>\n      <th>EN974536</th>\n      <td>0.348498</td>\n      <td>0.714710</td>\n      <td>0.348269</td>\n      <td>NaN</td>\n      <td>False</td>\n    </tr>\n    <tr>\n      <th>KI806222</th>\n      <td>0.215600</td>\n      <td>0.396090</td>\n      <td>0.133959</td>\n      <td>NaN</td>\n      <td>False</td>\n    </tr>\n    <tr>\n      <th>TV747704</th>\n      <td>0.423347</td>\n      <td>0.505731</td>\n      <td>0.412980</td>\n      <td>NaN</td>\n      <td>False</td>\n    </tr>\n  </tbody>\n</table>\n<p>7061 rows × 5 columns</p>\n</div>"
     },
     "execution_count": 12,
     "metadata": {},
     "output_type": "execute_result"
    }
   ],
   "source": [
    "# Load the processed metadataset\n",
    "metadataset = pd.read_csv('../data/processed/metadata.csv', index_col=0)\n",
    "metadataset"
   ],
   "metadata": {
    "collapsed": false,
    "ExecuteTime": {
     "end_time": "2024-01-17T13:38:04.709882Z",
     "start_time": "2024-01-17T13:38:04.617108600Z"
    }
   },
   "id": "65ccd03a1e7a51db"
  },
  {
   "cell_type": "markdown",
   "source": [
    "Load prediction results csv to analyze performance"
   ],
   "metadata": {
    "collapsed": false
   },
   "id": "eaf880fcf85787e6"
  },
  {
   "cell_type": "code",
   "execution_count": 13,
   "outputs": [
    {
     "data": {
      "text/plain": "           sum_targets      sum_preds  intersections  dice_coef\nimage_key                                                      \nAB417661             0   25348.595703       0.000000   0.000000\nAD125151             0 -190639.875000       0.000000  -0.000000\nAH540191             0   26756.070312       0.000000   0.000000\nAI270757             0   19280.482422       0.000000   0.000000\nAA498489           345   30486.707031      54.042187   0.003506\nAG705659          1149   45786.222656     216.192764   0.009212\nAF191061          1632   40367.937500     364.410583   0.017353",
      "text/html": "<div>\n<style scoped>\n    .dataframe tbody tr th:only-of-type {\n        vertical-align: middle;\n    }\n\n    .dataframe tbody tr th {\n        vertical-align: top;\n    }\n\n    .dataframe thead th {\n        text-align: right;\n    }\n</style>\n<table border=\"1\" class=\"dataframe\">\n  <thead>\n    <tr style=\"text-align: right;\">\n      <th></th>\n      <th>sum_targets</th>\n      <th>sum_preds</th>\n      <th>intersections</th>\n      <th>dice_coef</th>\n    </tr>\n    <tr>\n      <th>image_key</th>\n      <th></th>\n      <th></th>\n      <th></th>\n      <th></th>\n    </tr>\n  </thead>\n  <tbody>\n    <tr>\n      <th>AB417661</th>\n      <td>0</td>\n      <td>25348.595703</td>\n      <td>0.000000</td>\n      <td>0.000000</td>\n    </tr>\n    <tr>\n      <th>AD125151</th>\n      <td>0</td>\n      <td>-190639.875000</td>\n      <td>0.000000</td>\n      <td>-0.000000</td>\n    </tr>\n    <tr>\n      <th>AH540191</th>\n      <td>0</td>\n      <td>26756.070312</td>\n      <td>0.000000</td>\n      <td>0.000000</td>\n    </tr>\n    <tr>\n      <th>AI270757</th>\n      <td>0</td>\n      <td>19280.482422</td>\n      <td>0.000000</td>\n      <td>0.000000</td>\n    </tr>\n    <tr>\n      <th>AA498489</th>\n      <td>345</td>\n      <td>30486.707031</td>\n      <td>54.042187</td>\n      <td>0.003506</td>\n    </tr>\n    <tr>\n      <th>AG705659</th>\n      <td>1149</td>\n      <td>45786.222656</td>\n      <td>216.192764</td>\n      <td>0.009212</td>\n    </tr>\n    <tr>\n      <th>AF191061</th>\n      <td>1632</td>\n      <td>40367.937500</td>\n      <td>364.410583</td>\n      <td>0.017353</td>\n    </tr>\n  </tbody>\n</table>\n</div>"
     },
     "execution_count": 13,
     "metadata": {},
     "output_type": "execute_result"
    }
   ],
   "source": [
    "# Load the prediction results\n",
    "results = pd.read_csv(path, index_col=0)\n",
    "results"
   ],
   "metadata": {
    "collapsed": false,
    "ExecuteTime": {
     "end_time": "2024-01-17T13:38:04.712018Z",
     "start_time": "2024-01-17T13:38:04.669970100Z"
    }
   },
   "id": "c1f54860d8c694dd"
  },
  {
   "cell_type": "markdown",
   "source": [
    "Join the results with the metadata"
   ],
   "metadata": {
    "collapsed": false
   },
   "id": "f51cdd7d5bf9dfd0"
  },
  {
   "cell_type": "code",
   "execution_count": 14,
   "outputs": [
    {
     "data": {
      "text/plain": "           sum_targets      sum_preds  intersections  dice_coef     cloud  \\\nimage_key                                                                   \nAB417661             0   25348.595703       0.000000   0.000000  0.019763   \nAD125151             0 -190639.875000       0.000000  -0.000000  0.097967   \nAH540191             0   26756.070312       0.000000   0.000000  0.006457   \nAI270757             0   19280.482422       0.000000   0.000000  0.025037   \nAA498489           345   30486.707031      54.042187   0.003506  0.000057   \nAG705659          1149   45786.222656     216.192764   0.009212  0.015543   \nAF191061          1632   40367.937500     364.410583   0.017353  0.010245   \n\n               land  missing_landsat      kelp  in_train  \nimage_key                                                 \nAB417661   0.000000         0.000000  0.000000      True  \nAD125151   0.000000         0.000000  0.000000      True  \nAH540191   0.081616         0.000424  0.000000      True  \nAI270757   0.000000         0.025037  0.000000      True  \nAA498489   0.279241         0.000000  0.002816      True  \nAG705659   0.606122         0.000000  0.009380      True  \nAF191061   0.366939         0.000000  0.013322      True  ",
      "text/html": "<div>\n<style scoped>\n    .dataframe tbody tr th:only-of-type {\n        vertical-align: middle;\n    }\n\n    .dataframe tbody tr th {\n        vertical-align: top;\n    }\n\n    .dataframe thead th {\n        text-align: right;\n    }\n</style>\n<table border=\"1\" class=\"dataframe\">\n  <thead>\n    <tr style=\"text-align: right;\">\n      <th></th>\n      <th>sum_targets</th>\n      <th>sum_preds</th>\n      <th>intersections</th>\n      <th>dice_coef</th>\n      <th>cloud</th>\n      <th>land</th>\n      <th>missing_landsat</th>\n      <th>kelp</th>\n      <th>in_train</th>\n    </tr>\n    <tr>\n      <th>image_key</th>\n      <th></th>\n      <th></th>\n      <th></th>\n      <th></th>\n      <th></th>\n      <th></th>\n      <th></th>\n      <th></th>\n      <th></th>\n    </tr>\n  </thead>\n  <tbody>\n    <tr>\n      <th>AB417661</th>\n      <td>0</td>\n      <td>25348.595703</td>\n      <td>0.000000</td>\n      <td>0.000000</td>\n      <td>0.019763</td>\n      <td>0.000000</td>\n      <td>0.000000</td>\n      <td>0.000000</td>\n      <td>True</td>\n    </tr>\n    <tr>\n      <th>AD125151</th>\n      <td>0</td>\n      <td>-190639.875000</td>\n      <td>0.000000</td>\n      <td>-0.000000</td>\n      <td>0.097967</td>\n      <td>0.000000</td>\n      <td>0.000000</td>\n      <td>0.000000</td>\n      <td>True</td>\n    </tr>\n    <tr>\n      <th>AH540191</th>\n      <td>0</td>\n      <td>26756.070312</td>\n      <td>0.000000</td>\n      <td>0.000000</td>\n      <td>0.006457</td>\n      <td>0.081616</td>\n      <td>0.000424</td>\n      <td>0.000000</td>\n      <td>True</td>\n    </tr>\n    <tr>\n      <th>AI270757</th>\n      <td>0</td>\n      <td>19280.482422</td>\n      <td>0.000000</td>\n      <td>0.000000</td>\n      <td>0.025037</td>\n      <td>0.000000</td>\n      <td>0.025037</td>\n      <td>0.000000</td>\n      <td>True</td>\n    </tr>\n    <tr>\n      <th>AA498489</th>\n      <td>345</td>\n      <td>30486.707031</td>\n      <td>54.042187</td>\n      <td>0.003506</td>\n      <td>0.000057</td>\n      <td>0.279241</td>\n      <td>0.000000</td>\n      <td>0.002816</td>\n      <td>True</td>\n    </tr>\n    <tr>\n      <th>AG705659</th>\n      <td>1149</td>\n      <td>45786.222656</td>\n      <td>216.192764</td>\n      <td>0.009212</td>\n      <td>0.015543</td>\n      <td>0.606122</td>\n      <td>0.000000</td>\n      <td>0.009380</td>\n      <td>True</td>\n    </tr>\n    <tr>\n      <th>AF191061</th>\n      <td>1632</td>\n      <td>40367.937500</td>\n      <td>364.410583</td>\n      <td>0.017353</td>\n      <td>0.010245</td>\n      <td>0.366939</td>\n      <td>0.000000</td>\n      <td>0.013322</td>\n      <td>True</td>\n    </tr>\n  </tbody>\n</table>\n</div>"
     },
     "execution_count": 14,
     "metadata": {},
     "output_type": "execute_result"
    }
   ],
   "source": [
    "results = results.join(metadataset)\n",
    "results"
   ],
   "metadata": {
    "collapsed": false,
    "ExecuteTime": {
     "end_time": "2024-01-17T13:38:04.714105800Z",
     "start_time": "2024-01-17T13:38:04.679365200Z"
    }
   },
   "id": "f669df68bb6ad685"
  },
  {
   "cell_type": "markdown",
   "source": [
    "# Compute error\n",
    "Error is roughly \"how much would our score increase if we had perfect predictions for this error\"\n",
    "Lower is better."
   ],
   "metadata": {
    "collapsed": false
   },
   "id": "a1792e1676f2ae8"
  },
  {
   "cell_type": "code",
   "execution_count": 15,
   "outputs": [
    {
     "ename": "KeyError",
     "evalue": "'intersection'",
     "output_type": "error",
     "traceback": [
      "\u001B[1;31m---------------------------------------------------------------------------\u001B[0m",
      "\u001B[1;31mKeyError\u001B[0m                                  Traceback (most recent call last)",
      "File \u001B[1;32mC:\\EpochProjects\\q2-detect-kelp\\venv\\Lib\\site-packages\\pandas\\core\\indexes\\base.py:3791\u001B[0m, in \u001B[0;36mIndex.get_loc\u001B[1;34m(self, key)\u001B[0m\n\u001B[0;32m   3790\u001B[0m \u001B[38;5;28;01mtry\u001B[39;00m:\n\u001B[1;32m-> 3791\u001B[0m     \u001B[38;5;28;01mreturn\u001B[39;00m \u001B[38;5;28;43mself\u001B[39;49m\u001B[38;5;241;43m.\u001B[39;49m\u001B[43m_engine\u001B[49m\u001B[38;5;241;43m.\u001B[39;49m\u001B[43mget_loc\u001B[49m\u001B[43m(\u001B[49m\u001B[43mcasted_key\u001B[49m\u001B[43m)\u001B[49m\n\u001B[0;32m   3792\u001B[0m \u001B[38;5;28;01mexcept\u001B[39;00m \u001B[38;5;167;01mKeyError\u001B[39;00m \u001B[38;5;28;01mas\u001B[39;00m err:\n",
      "File \u001B[1;32mindex.pyx:152\u001B[0m, in \u001B[0;36mpandas._libs.index.IndexEngine.get_loc\u001B[1;34m()\u001B[0m\n",
      "File \u001B[1;32mindex.pyx:181\u001B[0m, in \u001B[0;36mpandas._libs.index.IndexEngine.get_loc\u001B[1;34m()\u001B[0m\n",
      "File \u001B[1;32mpandas\\_libs\\hashtable_class_helper.pxi:7080\u001B[0m, in \u001B[0;36mpandas._libs.hashtable.PyObjectHashTable.get_item\u001B[1;34m()\u001B[0m\n",
      "File \u001B[1;32mpandas\\_libs\\hashtable_class_helper.pxi:7088\u001B[0m, in \u001B[0;36mpandas._libs.hashtable.PyObjectHashTable.get_item\u001B[1;34m()\u001B[0m\n",
      "\u001B[1;31mKeyError\u001B[0m: 'intersection'",
      "\nThe above exception was the direct cause of the following exception:\n",
      "\u001B[1;31mKeyError\u001B[0m                                  Traceback (most recent call last)",
      "Cell \u001B[1;32mIn[15], line 2\u001B[0m\n\u001B[0;32m      1\u001B[0m \u001B[38;5;66;03m# compute error (difference between dice if prediction would've been perfect and actual dice)\u001B[39;00m\n\u001B[1;32m----> 2\u001B[0m total_intersection \u001B[38;5;241m=\u001B[39m \u001B[43mresults\u001B[49m\u001B[43m[\u001B[49m\u001B[38;5;124;43m'\u001B[39;49m\u001B[38;5;124;43mintersection\u001B[39;49m\u001B[38;5;124;43m'\u001B[39;49m\u001B[43m]\u001B[49m\u001B[38;5;241m.\u001B[39msum()\n\u001B[0;32m      3\u001B[0m total_pred_target_sum \u001B[38;5;241m=\u001B[39m results[\u001B[38;5;124m'\u001B[39m\u001B[38;5;124mpred_sum\u001B[39m\u001B[38;5;124m'\u001B[39m]\u001B[38;5;241m.\u001B[39msum() \u001B[38;5;241m+\u001B[39m results[\u001B[38;5;124m'\u001B[39m\u001B[38;5;124mtarget_sum\u001B[39m\u001B[38;5;124m'\u001B[39m]\u001B[38;5;241m.\u001B[39msum()\n\u001B[0;32m      5\u001B[0m perfect_dice_coef \u001B[38;5;241m=\u001B[39m (\u001B[38;5;241m2\u001B[39m\u001B[38;5;241m*\u001B[39mresults[\u001B[38;5;124m'\u001B[39m\u001B[38;5;124mintersection\u001B[39m\u001B[38;5;124m'\u001B[39m]\u001B[38;5;241m+\u001B[39mtotal_intersection) \u001B[38;5;241m/\u001B[39m (\u001B[38;5;241m2\u001B[39m\u001B[38;5;241m*\u001B[39mresults[\u001B[38;5;124m'\u001B[39m\u001B[38;5;124mintersection\u001B[39m\u001B[38;5;124m'\u001B[39m] \u001B[38;5;241m+\u001B[39m total_pred_target_sum)\n",
      "File \u001B[1;32mC:\\EpochProjects\\q2-detect-kelp\\venv\\Lib\\site-packages\\pandas\\core\\frame.py:3893\u001B[0m, in \u001B[0;36mDataFrame.__getitem__\u001B[1;34m(self, key)\u001B[0m\n\u001B[0;32m   3891\u001B[0m \u001B[38;5;28;01mif\u001B[39;00m \u001B[38;5;28mself\u001B[39m\u001B[38;5;241m.\u001B[39mcolumns\u001B[38;5;241m.\u001B[39mnlevels \u001B[38;5;241m>\u001B[39m \u001B[38;5;241m1\u001B[39m:\n\u001B[0;32m   3892\u001B[0m     \u001B[38;5;28;01mreturn\u001B[39;00m \u001B[38;5;28mself\u001B[39m\u001B[38;5;241m.\u001B[39m_getitem_multilevel(key)\n\u001B[1;32m-> 3893\u001B[0m indexer \u001B[38;5;241m=\u001B[39m \u001B[38;5;28;43mself\u001B[39;49m\u001B[38;5;241;43m.\u001B[39;49m\u001B[43mcolumns\u001B[49m\u001B[38;5;241;43m.\u001B[39;49m\u001B[43mget_loc\u001B[49m\u001B[43m(\u001B[49m\u001B[43mkey\u001B[49m\u001B[43m)\u001B[49m\n\u001B[0;32m   3894\u001B[0m \u001B[38;5;28;01mif\u001B[39;00m is_integer(indexer):\n\u001B[0;32m   3895\u001B[0m     indexer \u001B[38;5;241m=\u001B[39m [indexer]\n",
      "File \u001B[1;32mC:\\EpochProjects\\q2-detect-kelp\\venv\\Lib\\site-packages\\pandas\\core\\indexes\\base.py:3798\u001B[0m, in \u001B[0;36mIndex.get_loc\u001B[1;34m(self, key)\u001B[0m\n\u001B[0;32m   3793\u001B[0m     \u001B[38;5;28;01mif\u001B[39;00m \u001B[38;5;28misinstance\u001B[39m(casted_key, \u001B[38;5;28mslice\u001B[39m) \u001B[38;5;129;01mor\u001B[39;00m (\n\u001B[0;32m   3794\u001B[0m         \u001B[38;5;28misinstance\u001B[39m(casted_key, abc\u001B[38;5;241m.\u001B[39mIterable)\n\u001B[0;32m   3795\u001B[0m         \u001B[38;5;129;01mand\u001B[39;00m \u001B[38;5;28many\u001B[39m(\u001B[38;5;28misinstance\u001B[39m(x, \u001B[38;5;28mslice\u001B[39m) \u001B[38;5;28;01mfor\u001B[39;00m x \u001B[38;5;129;01min\u001B[39;00m casted_key)\n\u001B[0;32m   3796\u001B[0m     ):\n\u001B[0;32m   3797\u001B[0m         \u001B[38;5;28;01mraise\u001B[39;00m InvalidIndexError(key)\n\u001B[1;32m-> 3798\u001B[0m     \u001B[38;5;28;01mraise\u001B[39;00m \u001B[38;5;167;01mKeyError\u001B[39;00m(key) \u001B[38;5;28;01mfrom\u001B[39;00m \u001B[38;5;21;01merr\u001B[39;00m\n\u001B[0;32m   3799\u001B[0m \u001B[38;5;28;01mexcept\u001B[39;00m \u001B[38;5;167;01mTypeError\u001B[39;00m:\n\u001B[0;32m   3800\u001B[0m     \u001B[38;5;66;03m# If we have a listlike key, _check_indexing_error will raise\u001B[39;00m\n\u001B[0;32m   3801\u001B[0m     \u001B[38;5;66;03m#  InvalidIndexError. Otherwise we fall through and re-raise\u001B[39;00m\n\u001B[0;32m   3802\u001B[0m     \u001B[38;5;66;03m#  the TypeError.\u001B[39;00m\n\u001B[0;32m   3803\u001B[0m     \u001B[38;5;28mself\u001B[39m\u001B[38;5;241m.\u001B[39m_check_indexing_error(key)\n",
      "\u001B[1;31mKeyError\u001B[0m: 'intersection'"
     ]
    }
   ],
   "source": [
    "# compute error (difference between dice if prediction would've been perfect and actual dice)\n",
    "total_intersection = results['intersection'].sum()\n",
    "total_pred_target_sum = results['pred_sum'].sum() + results['target_sum'].sum()\n",
    "\n",
    "perfect_dice_coef = (2*results['intersection']+total_intersection) / (2*results['intersection'] + total_pred_target_sum)\n",
    "actual_dice_coef = (2*results['intersection']+total_intersection) / (results['pred_sum'] + results['target_sum'] + total_pred_target_sum)\n",
    "results['error'] = perfect_dice_coef - actual_dice_coef\n",
    "results"
   ],
   "metadata": {
    "collapsed": false,
    "ExecuteTime": {
     "end_time": "2024-01-17T13:38:05.245933900Z",
     "start_time": "2024-01-17T13:38:04.696292100Z"
    }
   },
   "id": "3557a4a39ae12647"
  },
  {
   "cell_type": "code",
   "execution_count": null,
   "outputs": [],
   "source": [
    "# Plot the correlation matrix with sns\n",
    "corr = results.corr()\n",
    "sns.heatmap(corr, annot=True)\n",
    "plt.show()"
   ],
   "metadata": {
    "collapsed": false,
    "ExecuteTime": {
     "start_time": "2024-01-17T13:38:04.975844400Z"
    }
   },
   "id": "838705133af0cdbb"
  },
  {
   "cell_type": "markdown",
   "source": [
    "# Plots against error"
   ],
   "metadata": {
    "collapsed": false
   },
   "id": "1b1c0f482352eb3e"
  },
  {
   "cell_type": "code",
   "execution_count": null,
   "outputs": [],
   "source": [
    "# Plot scatterplots of error\n",
    "for col in ['dice_coef','kelp', 'land', 'cloud', 'missing_landsat']:\n",
    "    sns.scatterplot(data=results, x=col, y='error')\n",
    "    plt.show()"
   ],
   "metadata": {
    "collapsed": false,
    "ExecuteTime": {
     "start_time": "2024-01-17T13:38:04.976846600Z"
    }
   },
   "id": "6ff645d3379c8680"
  },
  {
   "cell_type": "markdown",
   "source": [
    "# Plots against dice coef"
   ],
   "metadata": {
    "collapsed": false
   },
   "id": "a2efd29d90f4c65c"
  },
  {
   "cell_type": "code",
   "execution_count": null,
   "outputs": [],
   "source": [
    "for col in ['error','kelp', 'land', 'cloud', 'missing_landsat']:\n",
    "    sns.scatterplot(data=results, x=col, y='dice_coef')\n",
    "    plt.show()"
   ],
   "metadata": {
    "collapsed": false,
    "ExecuteTime": {
     "start_time": "2024-01-17T13:38:04.979019500Z"
    }
   },
   "id": "88a10f9d84611b3f"
  },
  {
   "cell_type": "code",
   "execution_count": 16,
   "outputs": [
    {
     "ename": "KeyError",
     "evalue": "'error'",
     "output_type": "error",
     "traceback": [
      "\u001B[1;31m---------------------------------------------------------------------------\u001B[0m",
      "\u001B[1;31mKeyError\u001B[0m                                  Traceback (most recent call last)",
      "File \u001B[1;32mC:\\EpochProjects\\q2-detect-kelp\\venv\\Lib\\site-packages\\pandas\\core\\indexes\\base.py:3791\u001B[0m, in \u001B[0;36mIndex.get_loc\u001B[1;34m(self, key)\u001B[0m\n\u001B[0;32m   3790\u001B[0m \u001B[38;5;28;01mtry\u001B[39;00m:\n\u001B[1;32m-> 3791\u001B[0m     \u001B[38;5;28;01mreturn\u001B[39;00m \u001B[38;5;28;43mself\u001B[39;49m\u001B[38;5;241;43m.\u001B[39;49m\u001B[43m_engine\u001B[49m\u001B[38;5;241;43m.\u001B[39;49m\u001B[43mget_loc\u001B[49m\u001B[43m(\u001B[49m\u001B[43mcasted_key\u001B[49m\u001B[43m)\u001B[49m\n\u001B[0;32m   3792\u001B[0m \u001B[38;5;28;01mexcept\u001B[39;00m \u001B[38;5;167;01mKeyError\u001B[39;00m \u001B[38;5;28;01mas\u001B[39;00m err:\n",
      "File \u001B[1;32mindex.pyx:152\u001B[0m, in \u001B[0;36mpandas._libs.index.IndexEngine.get_loc\u001B[1;34m()\u001B[0m\n",
      "File \u001B[1;32mindex.pyx:181\u001B[0m, in \u001B[0;36mpandas._libs.index.IndexEngine.get_loc\u001B[1;34m()\u001B[0m\n",
      "File \u001B[1;32mpandas\\_libs\\hashtable_class_helper.pxi:7080\u001B[0m, in \u001B[0;36mpandas._libs.hashtable.PyObjectHashTable.get_item\u001B[1;34m()\u001B[0m\n",
      "File \u001B[1;32mpandas\\_libs\\hashtable_class_helper.pxi:7088\u001B[0m, in \u001B[0;36mpandas._libs.hashtable.PyObjectHashTable.get_item\u001B[1;34m()\u001B[0m\n",
      "\u001B[1;31mKeyError\u001B[0m: 'error'",
      "\nThe above exception was the direct cause of the following exception:\n",
      "\u001B[1;31mKeyError\u001B[0m                                  Traceback (most recent call last)",
      "Cell \u001B[1;32mIn[16], line 4\u001B[0m\n\u001B[0;32m      1\u001B[0m \u001B[38;5;66;03m# There is a clear correlation between error and kelp. \u001B[39;00m\n\u001B[0;32m      2\u001B[0m \u001B[38;5;66;03m# Create a new column that is the error divided by kelp\u001B[39;00m\n\u001B[0;32m      3\u001B[0m \u001B[38;5;66;03m# Then make the plots against error again\u001B[39;00m\n\u001B[1;32m----> 4\u001B[0m results[\u001B[38;5;124m'\u001B[39m\u001B[38;5;124merror_per_kelp\u001B[39m\u001B[38;5;124m'\u001B[39m] \u001B[38;5;241m=\u001B[39m \u001B[43mresults\u001B[49m\u001B[43m[\u001B[49m\u001B[38;5;124;43m'\u001B[39;49m\u001B[38;5;124;43merror\u001B[39;49m\u001B[38;5;124;43m'\u001B[39;49m\u001B[43m]\u001B[49m \u001B[38;5;241m/\u001B[39m results[\u001B[38;5;124m'\u001B[39m\u001B[38;5;124mkelp\u001B[39m\u001B[38;5;124m'\u001B[39m]\n\u001B[0;32m      7\u001B[0m \u001B[38;5;66;03m# remove outliers with an error_per_kelp larger than n stds\u001B[39;00m\n\u001B[0;32m      8\u001B[0m n \u001B[38;5;241m=\u001B[39m \u001B[38;5;241m2\u001B[39m\n",
      "File \u001B[1;32mC:\\EpochProjects\\q2-detect-kelp\\venv\\Lib\\site-packages\\pandas\\core\\frame.py:3893\u001B[0m, in \u001B[0;36mDataFrame.__getitem__\u001B[1;34m(self, key)\u001B[0m\n\u001B[0;32m   3891\u001B[0m \u001B[38;5;28;01mif\u001B[39;00m \u001B[38;5;28mself\u001B[39m\u001B[38;5;241m.\u001B[39mcolumns\u001B[38;5;241m.\u001B[39mnlevels \u001B[38;5;241m>\u001B[39m \u001B[38;5;241m1\u001B[39m:\n\u001B[0;32m   3892\u001B[0m     \u001B[38;5;28;01mreturn\u001B[39;00m \u001B[38;5;28mself\u001B[39m\u001B[38;5;241m.\u001B[39m_getitem_multilevel(key)\n\u001B[1;32m-> 3893\u001B[0m indexer \u001B[38;5;241m=\u001B[39m \u001B[38;5;28;43mself\u001B[39;49m\u001B[38;5;241;43m.\u001B[39;49m\u001B[43mcolumns\u001B[49m\u001B[38;5;241;43m.\u001B[39;49m\u001B[43mget_loc\u001B[49m\u001B[43m(\u001B[49m\u001B[43mkey\u001B[49m\u001B[43m)\u001B[49m\n\u001B[0;32m   3894\u001B[0m \u001B[38;5;28;01mif\u001B[39;00m is_integer(indexer):\n\u001B[0;32m   3895\u001B[0m     indexer \u001B[38;5;241m=\u001B[39m [indexer]\n",
      "File \u001B[1;32mC:\\EpochProjects\\q2-detect-kelp\\venv\\Lib\\site-packages\\pandas\\core\\indexes\\base.py:3798\u001B[0m, in \u001B[0;36mIndex.get_loc\u001B[1;34m(self, key)\u001B[0m\n\u001B[0;32m   3793\u001B[0m     \u001B[38;5;28;01mif\u001B[39;00m \u001B[38;5;28misinstance\u001B[39m(casted_key, \u001B[38;5;28mslice\u001B[39m) \u001B[38;5;129;01mor\u001B[39;00m (\n\u001B[0;32m   3794\u001B[0m         \u001B[38;5;28misinstance\u001B[39m(casted_key, abc\u001B[38;5;241m.\u001B[39mIterable)\n\u001B[0;32m   3795\u001B[0m         \u001B[38;5;129;01mand\u001B[39;00m \u001B[38;5;28many\u001B[39m(\u001B[38;5;28misinstance\u001B[39m(x, \u001B[38;5;28mslice\u001B[39m) \u001B[38;5;28;01mfor\u001B[39;00m x \u001B[38;5;129;01min\u001B[39;00m casted_key)\n\u001B[0;32m   3796\u001B[0m     ):\n\u001B[0;32m   3797\u001B[0m         \u001B[38;5;28;01mraise\u001B[39;00m InvalidIndexError(key)\n\u001B[1;32m-> 3798\u001B[0m     \u001B[38;5;28;01mraise\u001B[39;00m \u001B[38;5;167;01mKeyError\u001B[39;00m(key) \u001B[38;5;28;01mfrom\u001B[39;00m \u001B[38;5;21;01merr\u001B[39;00m\n\u001B[0;32m   3799\u001B[0m \u001B[38;5;28;01mexcept\u001B[39;00m \u001B[38;5;167;01mTypeError\u001B[39;00m:\n\u001B[0;32m   3800\u001B[0m     \u001B[38;5;66;03m# If we have a listlike key, _check_indexing_error will raise\u001B[39;00m\n\u001B[0;32m   3801\u001B[0m     \u001B[38;5;66;03m#  InvalidIndexError. Otherwise we fall through and re-raise\u001B[39;00m\n\u001B[0;32m   3802\u001B[0m     \u001B[38;5;66;03m#  the TypeError.\u001B[39;00m\n\u001B[0;32m   3803\u001B[0m     \u001B[38;5;28mself\u001B[39m\u001B[38;5;241m.\u001B[39m_check_indexing_error(key)\n",
      "\u001B[1;31mKeyError\u001B[0m: 'error'"
     ]
    }
   ],
   "source": [
    "# There is a clear correlation between error and kelp. \n",
    "# Create a new column that is the error divided by kelp\n",
    "# Then make the plots against error again\n",
    "results['error_per_kelp'] = results['error'] / results['kelp']\n",
    "\n",
    "\n",
    "# remove outliers with an error_per_kelp larger than n stds\n",
    "n = 2\n",
    "results_clean = results[results['kelp'] > 0]\n",
    "mean = results_clean['error_per_kelp'].mean()\n",
    "stds = results_clean['error_per_kelp'].std()\n",
    "results_clean = results_clean[results_clean['error_per_kelp'] < mean + n*stds]\n",
    "\n",
    "\n",
    "for col in ['dice_coef','kelp', 'land', 'cloud', 'missing_landsat']:\n",
    "    \n",
    "    sns.scatterplot(data=results_clean, x=col, y='error_per_kelp')\n",
    "    plt.show()"
   ],
   "metadata": {
    "collapsed": false,
    "ExecuteTime": {
     "start_time": "2024-01-17T13:38:05.181406500Z"
    }
   },
   "id": "d53e28beb7b440b7"
  }
 ],
 "metadata": {
  "kernelspec": {
   "display_name": "Python 3",
   "language": "python",
   "name": "python3"
  },
  "language_info": {
   "codemirror_mode": {
    "name": "ipython",
    "version": 2
   },
   "file_extension": ".py",
   "mimetype": "text/x-python",
   "name": "python",
   "nbconvert_exporter": "python",
   "pygments_lexer": "ipython2",
   "version": "2.7.6"
  }
 },
 "nbformat": 4,
 "nbformat_minor": 5
}
