{
 "cells": [
  {
   "cell_type": "code",
   "execution_count": 1,
   "outputs": [],
   "source": [
    "import pandas as pd"
   ],
   "metadata": {
    "collapsed": false,
    "ExecuteTime": {
     "end_time": "2024-01-15T14:43:44.615766600Z",
     "start_time": "2024-01-15T14:43:44.614258300Z"
    }
   },
   "id": "57067a9daf0e0122"
  },
  {
   "cell_type": "code",
   "execution_count": 5,
   "outputs": [
    {
     "data": {
      "text/plain": "             cloud       land  missing_landsat      kelp  in_train\ntile_id                                                           \nJW725114  0.008294   2.849404         0.000000  0.000082      True\nUX493605  0.004155   8.083894         0.000000  0.007404      True\nOU500661  0.039673   2.102188         0.000000  0.000000      True\nDC227980  0.009371  13.158114         0.000000  0.000000      True\nSS602790  0.061763  53.465535         0.000000  0.000000      True\n...            ...        ...              ...       ...       ...\nUT495238  0.297796  39.804449         0.000008       NaN     False\nGE987629  0.307053   4.148800         0.000008       NaN     False\nEN974536  0.348498  43.202147         0.000008       NaN     False\nKI806222  0.215600  12.650335         0.000008       NaN     False\nTV747704  0.423347  37.409722         0.000008       NaN     False\n\n[7061 rows x 5 columns]",
      "text/html": "<div>\n<style scoped>\n    .dataframe tbody tr th:only-of-type {\n        vertical-align: middle;\n    }\n\n    .dataframe tbody tr th {\n        vertical-align: top;\n    }\n\n    .dataframe thead th {\n        text-align: right;\n    }\n</style>\n<table border=\"1\" class=\"dataframe\">\n  <thead>\n    <tr style=\"text-align: right;\">\n      <th></th>\n      <th>cloud</th>\n      <th>land</th>\n      <th>missing_landsat</th>\n      <th>kelp</th>\n      <th>in_train</th>\n    </tr>\n    <tr>\n      <th>tile_id</th>\n      <th></th>\n      <th></th>\n      <th></th>\n      <th></th>\n      <th></th>\n    </tr>\n  </thead>\n  <tbody>\n    <tr>\n      <th>JW725114</th>\n      <td>0.008294</td>\n      <td>2.849404</td>\n      <td>0.000000</td>\n      <td>0.000082</td>\n      <td>True</td>\n    </tr>\n    <tr>\n      <th>UX493605</th>\n      <td>0.004155</td>\n      <td>8.083894</td>\n      <td>0.000000</td>\n      <td>0.007404</td>\n      <td>True</td>\n    </tr>\n    <tr>\n      <th>OU500661</th>\n      <td>0.039673</td>\n      <td>2.102188</td>\n      <td>0.000000</td>\n      <td>0.000000</td>\n      <td>True</td>\n    </tr>\n    <tr>\n      <th>DC227980</th>\n      <td>0.009371</td>\n      <td>13.158114</td>\n      <td>0.000000</td>\n      <td>0.000000</td>\n      <td>True</td>\n    </tr>\n    <tr>\n      <th>SS602790</th>\n      <td>0.061763</td>\n      <td>53.465535</td>\n      <td>0.000000</td>\n      <td>0.000000</td>\n      <td>True</td>\n    </tr>\n    <tr>\n      <th>...</th>\n      <td>...</td>\n      <td>...</td>\n      <td>...</td>\n      <td>...</td>\n      <td>...</td>\n    </tr>\n    <tr>\n      <th>UT495238</th>\n      <td>0.297796</td>\n      <td>39.804449</td>\n      <td>0.000008</td>\n      <td>NaN</td>\n      <td>False</td>\n    </tr>\n    <tr>\n      <th>GE987629</th>\n      <td>0.307053</td>\n      <td>4.148800</td>\n      <td>0.000008</td>\n      <td>NaN</td>\n      <td>False</td>\n    </tr>\n    <tr>\n      <th>EN974536</th>\n      <td>0.348498</td>\n      <td>43.202147</td>\n      <td>0.000008</td>\n      <td>NaN</td>\n      <td>False</td>\n    </tr>\n    <tr>\n      <th>KI806222</th>\n      <td>0.215600</td>\n      <td>12.650335</td>\n      <td>0.000008</td>\n      <td>NaN</td>\n      <td>False</td>\n    </tr>\n    <tr>\n      <th>TV747704</th>\n      <td>0.423347</td>\n      <td>37.409722</td>\n      <td>0.000008</td>\n      <td>NaN</td>\n      <td>False</td>\n    </tr>\n  </tbody>\n</table>\n<p>7061 rows × 5 columns</p>\n</div>"
     },
     "execution_count": 5,
     "metadata": {},
     "output_type": "execute_result"
    }
   ],
   "source": [
    "# Load the processed metadataset\n",
    "metadataset = pd.read_csv('../data/processed/metadata.csv', index_col=0)\n",
    "metadataset"
   ],
   "metadata": {
    "collapsed": false,
    "ExecuteTime": {
     "end_time": "2024-01-15T14:46:35.997534600Z",
     "start_time": "2024-01-15T14:46:35.982939500Z"
    }
   },
   "id": "65ccd03a1e7a51db"
  },
  {
   "cell_type": "markdown",
   "source": [
    "TODO: Load prediction results csv to analyze performance"
   ],
   "metadata": {
    "collapsed": false
   },
   "id": "eaf880fcf85787e6"
  }
 ],
 "metadata": {
  "kernelspec": {
   "display_name": "Python 3",
   "language": "python",
   "name": "python3"
  },
  "language_info": {
   "codemirror_mode": {
    "name": "ipython",
    "version": 2
   },
   "file_extension": ".py",
   "mimetype": "text/x-python",
   "name": "python",
   "nbconvert_exporter": "python",
   "pygments_lexer": "ipython2",
   "version": "2.7.6"
  }
 },
 "nbformat": 4,
 "nbformat_minor": 5
}
