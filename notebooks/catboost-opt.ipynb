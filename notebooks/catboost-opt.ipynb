{
 "cells": [
  {
   "cell_type": "code",
   "execution_count": 1,
   "id": "initial_id",
   "metadata": {
    "collapsed": true,
    "ExecuteTime": {
     "end_time": "2024-01-05T08:20:08.134411800Z",
     "start_time": "2024-01-05T08:20:07.950717800Z"
    }
   },
   "outputs": [],
   "source": [
    "import os\n",
    "import pandas as pd\n",
    "import numpy as np\n",
    "import rasterio\n",
    "import os\n",
    "from tqdm.notebook import tqdm\n",
    "import matplotlib.pyplot as plt\n",
    "import seaborn as sns"
   ]
  },
  {
   "cell_type": "code",
   "execution_count": 2,
   "outputs": [],
   "source": [
    "def load_data(paths):\n",
    "    # Get a list of all files in the directory (X_train, y_train, X_test)\n",
    "    file_list = [[file for file in os.listdir(paths) if file.endswith('.tif')] for paths in directory_paths]\n",
    "\n",
    "    # Sort the file list to ensure consistent order\n",
    "    file_list = [sorted(files) for files in file_list]\n",
    "\n",
    "    # Initialize an empty array to store the image data\n",
    "    X_train, y_train, X_test = [], [], []\n",
    "\n",
    "    # Iterate through the selected files\n",
    "    for X_train_name, y_train_name in tqdm(zip(file_list[0], file_list[1])):\n",
    "        # Construct the full path to the file\n",
    "        X_train_path = os.path.join(paths[0], X_train_name)\n",
    "        y_train_path = os.path.join(paths[1], y_train_name)\n",
    "\n",
    "        # Open the raster file using rasterio\n",
    "        with rasterio.open(X_train_path) as src:\n",
    "            # Read the entire image data as a NumPy array\n",
    "            image_data = src.read()\n",
    "\n",
    "            # Append the image data to the array\n",
    "            X_train.append(image_data)\n",
    "\n",
    "        # Open the raster file using rasterio\n",
    "        with rasterio.open(y_train_path) as src:\n",
    "            # Read the entire image data as a NumPy array\n",
    "            image_data = src.read()\n",
    "\n",
    "            # Append the image data to the array\n",
    "            y_train.append(image_data)\n",
    "\n",
    "    # Convert the list of arrays to a single NumPy array\n",
    "    X_train = np.array(X_train)\n",
    "    y_train = np.array(y_train)\n",
    "\n",
    "    return X_train, y_train"
   ],
   "metadata": {
    "collapsed": false,
    "ExecuteTime": {
     "end_time": "2024-01-05T08:20:08.145418800Z",
     "start_time": "2024-01-05T08:20:08.132410700Z"
    }
   },
   "id": "c1063ffe3471e046"
  },
  {
   "cell_type": "code",
   "execution_count": 3,
   "outputs": [
    {
     "data": {
      "text/plain": "0it [00:00, ?it/s]",
      "application/vnd.jupyter.widget-view+json": {
       "version_major": 2,
       "version_minor": 0,
       "model_id": "aa271bcc64874c40988ed95716a5ff70"
      }
     },
     "metadata": {},
     "output_type": "display_data"
    },
    {
     "name": "stderr",
     "output_type": "stream",
     "text": [
      "C:\\Users\\EmielW\\Epoch\\Competitions\\q2-detect-kelp\\venv\\Lib\\site-packages\\rasterio\\__init__.py:317: NotGeoreferencedWarning: Dataset has no geotransform, gcps, or rpcs. The identity matrix will be returned.\n",
      "  dataset = DatasetReader(path, driver=driver, sharing=sharing, **kwargs)\n"
     ]
    },
    {
     "name": "stdout",
     "output_type": "stream",
     "text": [
      "Shape of the X_train array: (5634, 7, 350, 350)\n",
      "Shape of the y_train array: (5634, 1, 350, 350)\n"
     ]
    }
   ],
   "source": [
    "directory_paths = ['../data/raw/train_satellite', '../data/raw/train_kelp']\n",
    "os.path.abspath(directory_paths[0])\n",
    "X_train, y_train = load_data(directory_paths)\n",
    "\n",
    "print(\"Shape of the X_train array:\", X_train.shape)\n",
    "print(\"Shape of the y_train array:\", y_train.shape)"
   ],
   "metadata": {
    "collapsed": false,
    "ExecuteTime": {
     "end_time": "2024-01-05T08:22:17.622880Z",
     "start_time": "2024-01-05T08:20:08.138417Z"
    }
   },
   "id": "1a5ff3f9fa80139f"
  },
  {
   "cell_type": "code",
   "execution_count": 4,
   "outputs": [],
   "source": [
    "import scipy\n",
    "\n",
    "\n",
    "def reshape(img: np.ndarray):\n",
    "    img = img.transpose(1,2,0)\n",
    "    img = img.reshape(-1,img.shape[2])\n",
    "    return img\n",
    "\n",
    "def to_df(img: np.ndarray, label: np.ndarray):\n",
    "    \n",
    "    # Create a dataframe with the base features\n",
    "    df = pd.DataFrame(reshape(img), columns=['SWIR','NIR', 'R', 'G', 'B','Cloud','Elevation'])\n",
    "    df['Water'] = df['Elevation'] < 1\n",
    "    \n",
    "    df['NDWI'] = (df['G'] - df['NIR']) / (df['G'] + df['NIR'])\n",
    "    df['MNDWI'] = (df['G'] - df['SWIR']) / (df['G'] + df['SWIR'])\n",
    "    df['NDVI'] = (df['NIR'] - df['R']) / (df['NIR'] + df['R'])\n",
    "    \n",
    "    # Land closeness, roughly inverse distance to land\n",
    "    land_dist = scipy.ndimage.distance_transform_edt(img[6, :, :] <= 0)\n",
    "    land_closeness = 1 / (1 + land_dist * 0.1)\n",
    "    df['LandCloseness'] = land_closeness.flatten()\n",
    "    \n",
    "    # Offset features, using difference with median of all water pixels\n",
    "    if df['Water'].sum() > 0:\n",
    "        df['ONIR'] = df['NIR'] - df[df['Water']]['NIR'].median() \n",
    "        \n",
    "        ROffset = df['R'] - df[df['Water']]['R'].median()\n",
    "        GOffset = df['G'] - df[df['Water']]['G'].median()\n",
    "        df['ODWI'] = (GOffset - df['ONIR'])\n",
    "        df['ODVI'] = (df['ONIR'] - ROffset)\n",
    "    else:\n",
    "        df['ONIR'] = 0\n",
    "        df['ODWI'] = 0\n",
    "        df['ODVI'] = 0\n",
    "        \n",
    "    \n",
    "    # Add the label to the dataframe\n",
    "    df['Label'] = label.flatten()\n",
    "    return df"
   ],
   "metadata": {
    "collapsed": false,
    "ExecuteTime": {
     "end_time": "2024-01-05T08:22:17.646089Z",
     "start_time": "2024-01-05T08:22:17.624882100Z"
    }
   },
   "id": "775ea66e9373bf3d"
  },
  {
   "cell_type": "code",
   "execution_count": 5,
   "outputs": [
    {
     "data": {
      "text/plain": "  0%|          | 0/1000 [00:00<?, ?it/s]",
      "application/vnd.jupyter.widget-view+json": {
       "version_major": 2,
       "version_minor": 0,
       "model_id": "39d3ae0022dc4b03a694d0cb4aaaa4ac"
      }
     },
     "metadata": {},
     "output_type": "display_data"
    }
   ],
   "source": [
    "# Get the last N images for testing (trained on the first 3000)\n",
    "N = 1000\n",
    "X_test = pd.concat([to_df(X_train[-i], y_train[-i]) for i in tqdm(range(1, N+1))])"
   ],
   "metadata": {
    "collapsed": false,
    "ExecuteTime": {
     "end_time": "2024-01-05T08:22:51.401692500Z",
     "start_time": "2024-01-05T08:22:17.629085700Z"
    }
   },
   "id": "3d2e3497afecf690"
  },
  {
   "cell_type": "code",
   "execution_count": 8,
   "outputs": [],
   "source": [
    "# load the catboost_model.cbm\n",
    "from catboost import CatBoostClassifier\n",
    "model = CatBoostClassifier()\n",
    "model.load_model('./catboost_model.cbm')\n",
    "\n",
    "# load the catboost_features.txt\n",
    "with open('./catboost_features.txt') as f:\n",
    "    features = f.read().splitlines()"
   ],
   "metadata": {
    "collapsed": false,
    "ExecuteTime": {
     "end_time": "2024-01-05T08:23:16.013075Z",
     "start_time": "2024-01-05T08:23:15.998324800Z"
    }
   },
   "id": "15795d8817ad6020"
  },
  {
   "cell_type": "code",
   "execution_count": 9,
   "outputs": [],
   "source": [
    "# Make predictions on the test data\n",
    "y_pred = model.predict_proba(X_test[features])[:, 1]"
   ],
   "metadata": {
    "collapsed": false,
    "ExecuteTime": {
     "end_time": "2024-01-05T08:23:30.717129600Z",
     "start_time": "2024-01-05T08:23:20.028571800Z"
    }
   },
   "id": "dc5954f1638e2b2a"
  },
  {
   "cell_type": "code",
   "execution_count": 12,
   "outputs": [],
   "source": [
    "def blur_preds(pred: np.ndarray, sigma: float = 3):\n",
    "    \"\"\"Given the flat predictions one or more images, blur the predictions in 2D and flatten again\"\"\"\n",
    "    img = pred.reshape(-1, 350, 350)\n",
    "    img = scipy.ndimage.gaussian_filter(img, sigma=sigma)\n",
    "    return img.flatten()\n",
    "\n",
    "def get_dice(pred: np.ndarray, label: np.ndarray, thresh: float = 0.5):\n",
    "    \"\"\"Given the flat predictions of single image, calculate the dice score\"\"\"\n",
    "    pred = pred > thresh\n",
    "    return 2 * np.sum(pred * label) / (np.sum(pred) + np.sum(label))"
   ],
   "metadata": {
    "collapsed": false,
    "ExecuteTime": {
     "end_time": "2024-01-05T08:28:14.207560Z",
     "start_time": "2024-01-05T08:28:14.168989800Z"
    }
   },
   "id": "3ac8680c20f43ac7"
  },
  {
   "cell_type": "code",
   "execution_count": 34,
   "outputs": [
    {
     "data": {
      "text/plain": "  0%|          | 0/480 [00:00<?, ?it/s]",
      "application/vnd.jupyter.widget-view+json": {
       "version_major": 2,
       "version_minor": 0,
       "model_id": "2d0c8592eac146dea95a1cb1112415a9"
      }
     },
     "metadata": {},
     "output_type": "display_data"
    }
   ],
   "source": [
    "# Perform a grid search over blur sigma and threshold\n",
    "results = []\n",
    "sigmas = np.arange(0, 3, 0.2)\n",
    "threshs = np.arange(0, 0.8, 0.025)\n",
    "pbar = tqdm(total=len(sigmas) * len(threshs))\n",
    "for sigma in sigmas:\n",
    "    y_pred_blur = blur_preds(y_pred, sigma=sigma)\n",
    "    for thresh in threshs:\n",
    "        dice = get_dice(y_pred_blur, X_test['Label'], thresh=thresh)\n",
    "        results.append([sigma, thresh, dice])\n",
    "        pbar.update(1)"
   ],
   "metadata": {
    "collapsed": false,
    "ExecuteTime": {
     "end_time": "2024-01-05T08:46:54.586231500Z",
     "start_time": "2024-01-05T08:43:49.332318800Z"
    }
   },
   "id": "50cbe368ac97140c"
  },
  {
   "cell_type": "code",
   "execution_count": 35,
   "outputs": [],
   "source": [
    "# record the results in a dataframe\n",
    "df = pd.DataFrame(results, columns=['sigma', 'thresh', 'dice'])"
   ],
   "metadata": {
    "collapsed": false,
    "ExecuteTime": {
     "end_time": "2024-01-05T08:52:29.629131Z",
     "start_time": "2024-01-05T08:52:29.625626500Z"
    }
   },
   "id": "9aa39f581a7a08a0"
  },
  {
   "cell_type": "code",
   "execution_count": 36,
   "outputs": [
    {
     "data": {
      "text/plain": "<Figure size 1000x600 with 2 Axes>",
      "image/png": "[encoded data removed]"
     },
     "metadata": {},
     "output_type": "display_data"
    }
   ],
   "source": [
    "# Plot the results in a heatmap\n",
    "plt.figure(figsize=(10, 6))\n",
    "arr = df.pivot(index='sigma', columns='thresh', values='dice')\n",
    "sns.heatmap(arr, cmap='coolwarm')\n",
    "plt.title('Dice score vs blur sigma and threshold')\n",
    "plt.xlabel('Threshold')\n",
    "plt.ylabel('Blur sigma')\n",
    "plt.gca().xaxis.set_major_formatter(plt.FuncFormatter('{:.2f}'.format))\n",
    "plt.gca().yaxis.set_major_formatter(plt.FuncFormatter('{:.2f}'.format))\n",
    "plt.show()"
   ],
   "metadata": {
    "collapsed": false,
    "ExecuteTime": {
     "end_time": "2024-01-05T08:52:30.397434300Z",
     "start_time": "2024-01-05T08:52:30.094506700Z"
    }
   },
   "id": "610683fd83fcfe36"
  },
  {
   "cell_type": "code",
   "execution_count": 52,
   "outputs": [
    {
     "name": "stdout",
     "output_type": "stream",
     "text": [
      "Default score:\n",
      "No blur, thresh 0.50: 0.4367\n",
      "\n",
      "Optimising thresh:\n",
      "No blur, thresh 0.25: 0.5137\n",
      "\n",
      "Optimising both:\n",
      "Best sigma: 0.60\n",
      "Best threshold: 0.15\n",
      "Best dice score: 0.5376\n"
     ]
    }
   ],
   "source": [
    "# print the default score from the dataframe (no blur)\n",
    "print(\"Default score:\")\n",
    "default = df[(df['sigma'] == 0) & (df['thresh'] == 0.5)]\n",
    "print(f'No blur, thresh 0.50: {default[\"dice\"].values[0]:.4f}')\n",
    "\n",
    "print(\"\\nOptimising thresh:\")\n",
    "no_blur = df[df['sigma'] == 0]\n",
    "best_thresh_no_blur = no_blur.sort_values('dice', ascending=False).iloc[0, 1]\n",
    "print(f'No blur, thresh {best_thresh_no_blur}: {no_blur[\"dice\"].max():.4f}')\n",
    "\n",
    "\n",
    "# Get the best sigma and threshold\n",
    "best_sigma, best_thresh = df.sort_values('dice', ascending=False).iloc[0, :2]\n",
    "print(\"\\nOptimising both:\")\n",
    "print(f'Best sigma: {best_sigma:.2f}')\n",
    "print(f'Best threshold: {best_thresh:.2f}')\n",
    "print(f'Best dice score: {df[\"dice\"].max():.4f}')"
   ],
   "metadata": {
    "collapsed": false,
    "ExecuteTime": {
     "end_time": "2024-01-05T09:02:34.925214400Z",
     "start_time": "2024-01-05T09:02:34.917517Z"
    }
   },
   "id": "534b5083d95182cd"
  }
 ],
 "metadata": {
  "kernelspec": {
   "display_name": "Python 3",
   "language": "python",
   "name": "python3"
  },
  "language_info": {
   "codemirror_mode": {
    "name": "ipython",
    "version": 2
   },
   "file_extension": ".py",
   "mimetype": "text/x-python",
   "name": "python",
   "nbconvert_exporter": "python",
   "pygments_lexer": "ipython2",
   "version": "2.7.6"
  }
 },
 "nbformat": 4,
 "nbformat_minor": 5
}
