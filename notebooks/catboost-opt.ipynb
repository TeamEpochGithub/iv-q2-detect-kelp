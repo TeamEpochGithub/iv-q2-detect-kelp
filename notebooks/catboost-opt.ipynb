{
 "cells": [
  {
   "cell_type": "code",
   "execution_count": 4,
   "id": "initial_id",
   "metadata": {
    "collapsed": true,
    "ExecuteTime": {
     "end_time": "2024-01-22T09:46:05.709689300Z",
     "start_time": "2024-01-22T09:46:05.665610100Z"
    }
   },
   "outputs": [],
   "source": [
    "import os\n",
    "import pandas as pd\n",
    "import numpy as np\n",
    "import rasterio\n",
    "import os\n",
    "from tqdm.notebook import tqdm\n",
    "import matplotlib.pyplot as plt\n",
    "import seaborn as sns"
   ]
  },
  {
   "cell_type": "code",
   "execution_count": 5,
   "outputs": [],
   "source": [
    "def load_data(paths):\n",
    "    # Get a list of all files in the directory (X_train, y_train, X_test)\n",
    "    file_list = [[file for file in os.listdir(paths) if file.endswith('.tif')] for paths in directory_paths]\n",
    "\n",
    "    # Sort the file list to ensure consistent order\n",
    "    file_list = [sorted(files) for files in file_list]\n",
    "\n",
    "    # Initialize an empty array to store the image data\n",
    "    X_train, y_train, X_test = [], [], []\n",
    "\n",
    "    # Iterate through the selected files\n",
    "    for X_train_name, y_train_name in tqdm(zip(file_list[0], file_list[1])):\n",
    "        # Construct the full path to the file\n",
    "        X_train_path = os.path.join(paths[0], X_train_name)\n",
    "        y_train_path = os.path.join(paths[1], y_train_name)\n",
    "\n",
    "        # Open the raster file using rasterio\n",
    "        with rasterio.open(X_train_path) as src:\n",
    "            # Read the entire image data as a NumPy array\n",
    "            image_data = src.read()\n",
    "\n",
    "            # Append the image data to the array\n",
    "            X_train.append(image_data)\n",
    "\n",
    "        # Open the raster file using rasterio\n",
    "        with rasterio.open(y_train_path) as src:\n",
    "            # Read the entire image data as a NumPy array\n",
    "            image_data = src.read()\n",
    "\n",
    "            # Append the image data to the array\n",
    "            y_train.append(image_data)\n",
    "\n",
    "    # Convert the list of arrays to a single NumPy array\n",
    "    X_train = np.array(X_train)\n",
    "    y_train = np.array(y_train)\n",
    "\n",
    "    return X_train, y_train"
   ],
   "metadata": {
    "collapsed": false,
    "ExecuteTime": {
     "end_time": "2024-01-22T09:46:05.733975700Z",
     "start_time": "2024-01-22T09:46:05.712852Z"
    }
   },
   "id": "c1063ffe3471e046"
  },
  {
   "cell_type": "code",
   "execution_count": 6,
   "outputs": [
    {
     "data": {
      "text/plain": "0it [00:00, ?it/s]",
      "application/vnd.jupyter.widget-view+json": {
       "version_major": 2,
       "version_minor": 0,
       "model_id": "c4d089ac23484f29868cb802a5d38fd3"
      }
     },
     "metadata": {},
     "output_type": "display_data"
    },
    {
     "name": "stdout",
     "output_type": "stream",
     "text": [
      "Shape of the X_train array: (5635, 7, 350, 350)\n",
      "Shape of the y_train array: (5635, 1, 350, 350)\n"
     ]
    }
   ],
   "source": [
    "directory_paths = ['../data/raw/train_satellite', '../data/raw/train_kelp']\n",
    "os.path.abspath(directory_paths[0])\n",
    "X_train, y_train = load_data(directory_paths)\n",
    "\n",
    "print(\"Shape of the X_train array:\", X_train.shape)\n",
    "print(\"Shape of the y_train array:\", y_train.shape)"
   ],
   "metadata": {
    "collapsed": false,
    "ExecuteTime": {
     "end_time": "2024-01-22T09:48:12.597687400Z",
     "start_time": "2024-01-22T09:46:05.717181600Z"
    }
   },
   "id": "1a5ff3f9fa80139f"
  },
  {
   "cell_type": "code",
   "execution_count": 7,
   "outputs": [],
   "source": [
    "import scipy\n",
    "\n",
    "\n",
    "def reshape(img: np.ndarray):\n",
    "    img = img.transpose(1,2,0)\n",
    "    img = img.reshape(-1,img.shape[2])\n",
    "    return img\n",
    "\n",
    "def to_df(img: np.ndarray, label: np.ndarray):\n",
    "    \n",
    "    # Create a dataframe with the base features\n",
    "    df = pd.DataFrame(reshape(img), columns=['SWIR','NIR', 'R', 'G', 'B','Cloud','Elevation'])\n",
    "    df['Water'] = df['Elevation'] < 1\n",
    "    \n",
    "    df['NDWI'] = (df['G'] - df['NIR']) / (df['G'] + df['NIR'])\n",
    "    df['MNDWI'] = (df['G'] - df['SWIR']) / (df['G'] + df['SWIR'])\n",
    "    df['NDVI'] = (df['NIR'] - df['R']) / (df['NIR'] + df['R'])\n",
    "    \n",
    "    # Land closeness, roughly inverse distance to land\n",
    "    land_dist = scipy.ndimage.distance_transform_edt(img[6, :, :] <= 0)\n",
    "    land_closeness = 1 / (1 + land_dist * 0.1)\n",
    "    df['LandCloseness'] = land_closeness.flatten()\n",
    "    \n",
    "    # Offset features, using difference with median of all water pixels\n",
    "    if df['Water'].sum() > 0:\n",
    "        df['ONIR'] = df['NIR'] - df[df['Water']]['NIR'].median() \n",
    "        \n",
    "        ROffset = df['R'] - df[df['Water']]['R'].median()\n",
    "        GOffset = df['G'] - df[df['Water']]['G'].median()\n",
    "        df['ODWI'] = (GOffset - df['ONIR'])\n",
    "        df['ODVI'] = (df['ONIR'] - ROffset)\n",
    "    else:\n",
    "        df['ONIR'] = 0\n",
    "        df['ODWI'] = 0\n",
    "        df['ODVI'] = 0\n",
    "        \n",
    "    \n",
    "    # Add the label to the dataframe\n",
    "    df['Label'] = label.flatten()\n",
    "    return df"
   ],
   "metadata": {
    "collapsed": false,
    "ExecuteTime": {
     "end_time": "2024-01-22T09:48:12.597687400Z",
     "start_time": "2024-01-22T09:48:12.588956100Z"
    }
   },
   "id": "775ea66e9373bf3d"
  },
  {
   "cell_type": "code",
   "execution_count": 8,
   "outputs": [
    {
     "data": {
      "text/plain": "  0%|          | 0/1000 [00:00<?, ?it/s]",
      "application/vnd.jupyter.widget-view+json": {
       "version_major": 2,
       "version_minor": 0,
       "model_id": "9687f4d5732a4e8dbe1af04c743a899b"
      }
     },
     "metadata": {},
     "output_type": "display_data"
    },
    {
     "data": {
      "text/plain": "  0%|          | 0/500 [00:00<?, ?it/s]",
      "application/vnd.jupyter.widget-view+json": {
       "version_major": 2,
       "version_minor": 0,
       "model_id": "19848a906e01414d8bfbe182ceec8e8b"
      }
     },
     "metadata": {},
     "output_type": "display_data"
    }
   ],
   "source": [
    "# Get the last N images for testing (trained on the first 3000)\n",
    "N = 1000\n",
    "X_test = pd.concat([to_df(X_train[-i], y_train[-i]) for i in tqdm(range(1, N+1))])\n",
    "X_training = pd.concat([to_df(X_train[i], y_train[i]) for i in tqdm(range(2000))])\n"
   ],
   "metadata": {
    "collapsed": false,
    "ExecuteTime": {
     "end_time": "2024-01-22T09:48:42.355901100Z",
     "start_time": "2024-01-22T09:48:12.594686900Z"
    }
   },
   "id": "3d2e3497afecf690"
  },
  {
   "cell_type": "code",
   "outputs": [
    {
     "data": {
      "text/plain": "  0%|          | 0/1000 [00:00<?, ?it/s]",
      "application/vnd.jupyter.widget-view+json": {
       "version_major": 2,
       "version_minor": 0,
       "model_id": "6d864fc578e24869b12a9e48e3aee2d1"
      }
     },
     "metadata": {},
     "output_type": "display_data"
    }
   ],
   "source": [
    "X_training = pd.concat([to_df(X_train[i], y_train[i]) for i in tqdm(range(1000))])\n",
    "Y_training = y_train[:1000].ravel()"
   ],
   "metadata": {
    "collapsed": false,
    "ExecuteTime": {
     "end_time": "2024-01-22T15:02:02.696461700Z",
     "start_time": "2024-01-22T15:01:13.268383300Z"
    }
   },
   "id": "91ec61622edf5acc",
   "execution_count": 98
  },
  {
   "cell_type": "code",
   "outputs": [
    {
     "data": {
      "text/plain": "  0%|          | 0/100 [00:00<?, ?it/s]",
      "application/vnd.jupyter.widget-view+json": {
       "version_major": 2,
       "version_minor": 0,
       "model_id": "de0a531c222b4d38ba6d8214f7855457"
      }
     },
     "metadata": {},
     "output_type": "display_data"
    }
   ],
   "source": [
    "#1000 to 2000\n",
    "X_val = pd.concat([to_df(X_train[i], y_train[i]) for i in tqdm(range(1000,2000))])\n",
    "Y_val = y_train[1000:2000].ravel()"
   ],
   "metadata": {
    "collapsed": false,
    "ExecuteTime": {
     "end_time": "2024-01-22T14:40:30.668551400Z",
     "start_time": "2024-01-22T14:40:25.785622100Z"
    }
   },
   "id": "26ad934b30b5d21",
   "execution_count": 78
  },
  {
   "cell_type": "code",
   "execution_count": 51,
   "outputs": [],
   "source": [
    "# load the catboost_model.cbm\n",
    "from catboost import CatBoostClassifier\n",
    "model = CatBoostClassifier()\n",
    "model.load_model('./catboost_model.cbm')\n",
    "\n",
    "# load the catboost_features.txt\n",
    "with open('./catboost_features.txt') as f:\n",
    "    features = f.read().splitlines()"
   ],
   "metadata": {
    "collapsed": false,
    "ExecuteTime": {
     "end_time": "2024-01-22T13:36:03.459839800Z",
     "start_time": "2024-01-22T13:36:03.408774Z"
    }
   },
   "id": "15795d8817ad6020"
  },
  {
   "cell_type": "code",
   "outputs": [
    {
     "name": "stdout",
     "output_type": "stream",
     "text": [
      "[0]\tvalidation_0-logloss:0.10097\n",
      "[1]\tvalidation_0-logloss:0.07608\n",
      "[2]\tvalidation_0-logloss:0.05862\n",
      "[3]\tvalidation_0-logloss:0.04561\n",
      "[4]\tvalidation_0-logloss:0.03627\n",
      "[5]\tvalidation_0-logloss:0.02936\n",
      "[6]\tvalidation_0-logloss:0.02434\n",
      "[7]\tvalidation_0-logloss:0.02009\n",
      "[8]\tvalidation_0-logloss:0.01715\n",
      "[9]\tvalidation_0-logloss:0.01500\n",
      "[10]\tvalidation_0-logloss:0.01364\n",
      "[11]\tvalidation_0-logloss:0.01227\n",
      "[12]\tvalidation_0-logloss:0.01144\n",
      "[13]\tvalidation_0-logloss:0.01069\n",
      "[14]\tvalidation_0-logloss:0.01025\n",
      "[15]\tvalidation_0-logloss:0.00936\n",
      "[16]\tvalidation_0-logloss:0.00906\n",
      "[17]\tvalidation_0-logloss:0.00883\n",
      "[18]\tvalidation_0-logloss:0.00866\n",
      "[19]\tvalidation_0-logloss:0.00830\n",
      "[20]\tvalidation_0-logloss:0.00798\n",
      "[21]\tvalidation_0-logloss:0.00750\n",
      "[22]\tvalidation_0-logloss:0.00746\n",
      "[23]\tvalidation_0-logloss:0.00742\n",
      "[24]\tvalidation_0-logloss:0.00733\n",
      "[25]\tvalidation_0-logloss:0.00728\n",
      "[26]\tvalidation_0-logloss:0.00717\n",
      "[27]\tvalidation_0-logloss:0.00702\n",
      "[28]\tvalidation_0-logloss:0.00699\n",
      "[29]\tvalidation_0-logloss:0.00700\n",
      "[30]\tvalidation_0-logloss:0.00699\n",
      "[31]\tvalidation_0-logloss:0.00701\n",
      "[32]\tvalidation_0-logloss:0.00678\n",
      "[33]\tvalidation_0-logloss:0.00680\n",
      "[34]\tvalidation_0-logloss:0.00644\n",
      "[35]\tvalidation_0-logloss:0.00644\n",
      "[36]\tvalidation_0-logloss:0.00640\n",
      "[37]\tvalidation_0-logloss:0.00634\n",
      "[38]\tvalidation_0-logloss:0.00607\n",
      "[39]\tvalidation_0-logloss:0.00605\n",
      "[40]\tvalidation_0-logloss:0.00593\n",
      "[41]\tvalidation_0-logloss:0.00593\n",
      "[42]\tvalidation_0-logloss:0.00594\n",
      "[43]\tvalidation_0-logloss:0.00594\n",
      "[44]\tvalidation_0-logloss:0.00593\n",
      "[45]\tvalidation_0-logloss:0.00586\n",
      "[46]\tvalidation_0-logloss:0.00563\n",
      "[47]\tvalidation_0-logloss:0.00564\n",
      "[48]\tvalidation_0-logloss:0.00559\n",
      "[49]\tvalidation_0-logloss:0.00557\n",
      "[50]\tvalidation_0-logloss:0.00555\n",
      "[51]\tvalidation_0-logloss:0.00553\n",
      "[52]\tvalidation_0-logloss:0.00550\n",
      "[53]\tvalidation_0-logloss:0.00548\n",
      "[54]\tvalidation_0-logloss:0.00545\n",
      "[55]\tvalidation_0-logloss:0.00545\n",
      "[56]\tvalidation_0-logloss:0.00534\n",
      "[57]\tvalidation_0-logloss:0.00539\n",
      "[58]\tvalidation_0-logloss:0.00534\n",
      "[59]\tvalidation_0-logloss:0.00534\n",
      "[60]\tvalidation_0-logloss:0.00537\n",
      "[61]\tvalidation_0-logloss:0.00537\n",
      "[62]\tvalidation_0-logloss:0.00538\n",
      "[63]\tvalidation_0-logloss:0.00533\n",
      "[64]\tvalidation_0-logloss:0.00527\n",
      "[65]\tvalidation_0-logloss:0.00527\n",
      "[66]\tvalidation_0-logloss:0.00528\n",
      "[67]\tvalidation_0-logloss:0.00528\n",
      "[68]\tvalidation_0-logloss:0.00528\n",
      "[69]\tvalidation_0-logloss:0.00528\n"
     ]
    },
    {
     "data": {
      "text/plain": "XGBClassifier(base_score=None, booster=None, callbacks=None,\n              colsample_bylevel=None, colsample_bynode=None,\n              colsample_bytree=None, device=None, early_stopping_rounds=5,\n              enable_categorical=False, eval_metric=None, feature_types=None,\n              gamma=None, grow_policy=None, importance_type=None,\n              interaction_constraints=None, learning_rate=None, max_bin=None,\n              max_cat_threshold=None, max_cat_to_onehot=None,\n              max_delta_step=None, max_depth=None, max_leaves=None,\n              min_child_weight=None, missing=nan, monotone_constraints=None,\n              multi_strategy=None, n_estimators=100, n_jobs=-1,\n              num_parallel_tree=None, random_state=None, ...)",
      "text/html": "<style>#sk-container-id-12 {color: black;}#sk-container-id-12 pre{padding: 0;}#sk-container-id-12 div.sk-toggleable {background-color: white;}#sk-container-id-12 label.sk-toggleable__label {cursor: pointer;display: block;width: 100%;margin-bottom: 0;padding: 0.3em;box-sizing: border-box;text-align: center;}#sk-container-id-12 label.sk-toggleable__label-arrow:before {content: \"▸\";float: left;margin-right: 0.25em;color: #696969;}#sk-container-id-12 label.sk-toggleable__label-arrow:hover:before {color: black;}#sk-container-id-12 div.sk-estimator:hover label.sk-toggleable__label-arrow:before {color: black;}#sk-container-id-12 div.sk-toggleable__content {max-height: 0;max-width: 0;overflow: hidden;text-align: left;background-color: #f0f8ff;}#sk-container-id-12 div.sk-toggleable__content pre {margin: 0.2em;color: black;border-radius: 0.25em;background-color: #f0f8ff;}#sk-container-id-12 input.sk-toggleable__control:checked~div.sk-toggleable__content {max-height: 200px;max-width: 100%;overflow: auto;}#sk-container-id-12 input.sk-toggleable__control:checked~label.sk-toggleable__label-arrow:before {content: \"▾\";}#sk-container-id-12 div.sk-estimator input.sk-toggleable__control:checked~label.sk-toggleable__label {background-color: #d4ebff;}#sk-container-id-12 div.sk-label input.sk-toggleable__control:checked~label.sk-toggleable__label {background-color: #d4ebff;}#sk-container-id-12 input.sk-hidden--visually {border: 0;clip: rect(1px 1px 1px 1px);clip: rect(1px, 1px, 1px, 1px);height: 1px;margin: -1px;overflow: hidden;padding: 0;position: absolute;width: 1px;}#sk-container-id-12 div.sk-estimator {font-family: monospace;background-color: #f0f8ff;border: 1px dotted black;border-radius: 0.25em;box-sizing: border-box;margin-bottom: 0.5em;}#sk-container-id-12 div.sk-estimator:hover {background-color: #d4ebff;}#sk-container-id-12 div.sk-parallel-item::after {content: \"\";width: 100%;border-bottom: 1px solid gray;flex-grow: 1;}#sk-container-id-12 div.sk-label:hover label.sk-toggleable__label {background-color: #d4ebff;}#sk-container-id-12 div.sk-serial::before {content: \"\";position: absolute;border-left: 1px solid gray;box-sizing: border-box;top: 0;bottom: 0;left: 50%;z-index: 0;}#sk-container-id-12 div.sk-serial {display: flex;flex-direction: column;align-items: center;background-color: white;padding-right: 0.2em;padding-left: 0.2em;position: relative;}#sk-container-id-12 div.sk-item {position: relative;z-index: 1;}#sk-container-id-12 div.sk-parallel {display: flex;align-items: stretch;justify-content: center;background-color: white;position: relative;}#sk-container-id-12 div.sk-item::before, #sk-container-id-12 div.sk-parallel-item::before {content: \"\";position: absolute;border-left: 1px solid gray;box-sizing: border-box;top: 0;bottom: 0;left: 50%;z-index: -1;}#sk-container-id-12 div.sk-parallel-item {display: flex;flex-direction: column;z-index: 1;position: relative;background-color: white;}#sk-container-id-12 div.sk-parallel-item:first-child::after {align-self: flex-end;width: 50%;}#sk-container-id-12 div.sk-parallel-item:last-child::after {align-self: flex-start;width: 50%;}#sk-container-id-12 div.sk-parallel-item:only-child::after {width: 0;}#sk-container-id-12 div.sk-dashed-wrapped {border: 1px dashed gray;margin: 0 0.4em 0.5em 0.4em;box-sizing: border-box;padding-bottom: 0.4em;background-color: white;}#sk-container-id-12 div.sk-label label {font-family: monospace;font-weight: bold;display: inline-block;line-height: 1.2em;}#sk-container-id-12 div.sk-label-container {text-align: center;}#sk-container-id-12 div.sk-container {/* jupyter's `normalize.less` sets `[hidden] { display: none; }` but bootstrap.min.css set `[hidden] { display: none !important; }` so we also need the `!important` here to be able to override the default hidden behavior on the sphinx rendered scikit-learn.org. See: https://github.com/scikit-learn/scikit-learn/issues/21755 */display: inline-block !important;position: relative;}#sk-container-id-12 div.sk-text-repr-fallback {display: none;}</style><div id=\"sk-container-id-12\" class=\"sk-top-container\"><div class=\"sk-text-repr-fallback\"><pre>XGBClassifier(base_score=None, booster=None, callbacks=None,\n              colsample_bylevel=None, colsample_bynode=None,\n              colsample_bytree=None, device=None, early_stopping_rounds=5,\n              enable_categorical=False, eval_metric=None, feature_types=None,\n              gamma=None, grow_policy=None, importance_type=None,\n              interaction_constraints=None, learning_rate=None, max_bin=None,\n              max_cat_threshold=None, max_cat_to_onehot=None,\n              max_delta_step=None, max_depth=None, max_leaves=None,\n              min_child_weight=None, missing=nan, monotone_constraints=None,\n              multi_strategy=None, n_estimators=100, n_jobs=-1,\n              num_parallel_tree=None, random_state=None, ...)</pre><b>In a Jupyter environment, please rerun this cell to show the HTML representation or trust the notebook. <br />On GitHub, the HTML representation is unable to render, please try loading this page with nbviewer.org.</b></div><div class=\"sk-container\" hidden><div class=\"sk-item\"><div class=\"sk-estimator sk-toggleable\"><input class=\"sk-toggleable__control sk-hidden--visually\" id=\"sk-estimator-id-12\" type=\"checkbox\" checked><label for=\"sk-estimator-id-12\" class=\"sk-toggleable__label sk-toggleable__label-arrow\">XGBClassifier</label><div class=\"sk-toggleable__content\"><pre>XGBClassifier(base_score=None, booster=None, callbacks=None,\n              colsample_bylevel=None, colsample_bynode=None,\n              colsample_bytree=None, device=None, early_stopping_rounds=5,\n              enable_categorical=False, eval_metric=None, feature_types=None,\n              gamma=None, grow_policy=None, importance_type=None,\n              interaction_constraints=None, learning_rate=None, max_bin=None,\n              max_cat_threshold=None, max_cat_to_onehot=None,\n              max_delta_step=None, max_depth=None, max_leaves=None,\n              min_child_weight=None, missing=nan, monotone_constraints=None,\n              multi_strategy=None, n_estimators=100, n_jobs=-1,\n              num_parallel_tree=None, random_state=None, ...)</pre></div></div></div></div></div>"
     },
     "execution_count": 71,
     "metadata": {},
     "output_type": "execute_result"
    }
   ],
   "source": [
    "# Train a random forest\n",
    "from xgboost import XGBClassifier\n",
    "model = XGBClassifier(n_estimators=100, n_jobs=-1, early_stopping_rounds=10)\n",
    "model.fit(X_training[features], Y_training, eval_set = [(X_val[features], Y_val)])   "
   ],
   "metadata": {
    "collapsed": false,
    "ExecuteTime": {
     "end_time": "2024-01-22T14:32:58.080970800Z",
     "start_time": "2024-01-22T14:32:56.677719700Z"
    }
   },
   "id": "f25dedfda09c3fb5",
   "execution_count": 71
  },
  {
   "cell_type": "code",
   "outputs": [
    {
     "name": "stderr",
     "output_type": "stream",
     "text": [
      "C:\\Users\\hjdeh\\Documents\\GitHub\\Q2\\q2-detect-kelp\\venv\\Lib\\site-packages\\lightgbm\\engine.py:172: UserWarning: Found `num_iterations` in params. Will use it instead of argument\n",
      "  _log_warning(f\"Found `{alias}` in params. Will use it instead of argument\")\n"
     ]
    },
    {
     "name": "stdout",
     "output_type": "stream",
     "text": [
      "[LightGBM] [Warning] early_stopping_round is set=10, early_stopping_rounds=10 will be ignored. Current value: early_stopping_round=10\n",
      "[LightGBM] [Info] Number of positive: 895112, number of negative: 121604888\n",
      "[LightGBM] [Info] Auto-choosing row-wise multi-threading, the overhead of testing was 0.312236 seconds.\n",
      "You can set `force_row_wise=true` to remove the overhead.\n",
      "And if memory is not enough, you can set `force_col_wise=true`.\n",
      "[LightGBM] [Info] Total Bins 3054\n",
      "[LightGBM] [Info] Number of data points in the train set: 122500000, number of used features: 12\n",
      "[LightGBM] [Warning] early_stopping_round is set=10, early_stopping_rounds=10 will be ignored. Current value: early_stopping_round=10\n",
      "[LightGBM] [Info] [binary:BoostFromScore]: pavg=0.007307 -> initscore=-4.911584\n",
      "[LightGBM] [Info] Start training from score -4.911584\n",
      "Training until validation scores don't improve for 10 rounds\n",
      "Did not meet early stopping. Best iteration is:\n",
      "[50]\tvalid_0's binary_logloss: 0.0180829\n"
     ]
    },
    {
     "data": {
      "text/plain": "LGBMClassifier(early_stopping_rounds=10, n_jobs=-1, num_iterations=50,\n               verbose=1)",
      "text/html": "<style>#sk-container-id-26 {color: black;}#sk-container-id-26 pre{padding: 0;}#sk-container-id-26 div.sk-toggleable {background-color: white;}#sk-container-id-26 label.sk-toggleable__label {cursor: pointer;display: block;width: 100%;margin-bottom: 0;padding: 0.3em;box-sizing: border-box;text-align: center;}#sk-container-id-26 label.sk-toggleable__label-arrow:before {content: \"▸\";float: left;margin-right: 0.25em;color: #696969;}#sk-container-id-26 label.sk-toggleable__label-arrow:hover:before {color: black;}#sk-container-id-26 div.sk-estimator:hover label.sk-toggleable__label-arrow:before {color: black;}#sk-container-id-26 div.sk-toggleable__content {max-height: 0;max-width: 0;overflow: hidden;text-align: left;background-color: #f0f8ff;}#sk-container-id-26 div.sk-toggleable__content pre {margin: 0.2em;color: black;border-radius: 0.25em;background-color: #f0f8ff;}#sk-container-id-26 input.sk-toggleable__control:checked~div.sk-toggleable__content {max-height: 200px;max-width: 100%;overflow: auto;}#sk-container-id-26 input.sk-toggleable__control:checked~label.sk-toggleable__label-arrow:before {content: \"▾\";}#sk-container-id-26 div.sk-estimator input.sk-toggleable__control:checked~label.sk-toggleable__label {background-color: #d4ebff;}#sk-container-id-26 div.sk-label input.sk-toggleable__control:checked~label.sk-toggleable__label {background-color: #d4ebff;}#sk-container-id-26 input.sk-hidden--visually {border: 0;clip: rect(1px 1px 1px 1px);clip: rect(1px, 1px, 1px, 1px);height: 1px;margin: -1px;overflow: hidden;padding: 0;position: absolute;width: 1px;}#sk-container-id-26 div.sk-estimator {font-family: monospace;background-color: #f0f8ff;border: 1px dotted black;border-radius: 0.25em;box-sizing: border-box;margin-bottom: 0.5em;}#sk-container-id-26 div.sk-estimator:hover {background-color: #d4ebff;}#sk-container-id-26 div.sk-parallel-item::after {content: \"\";width: 100%;border-bottom: 1px solid gray;flex-grow: 1;}#sk-container-id-26 div.sk-label:hover label.sk-toggleable__label {background-color: #d4ebff;}#sk-container-id-26 div.sk-serial::before {content: \"\";position: absolute;border-left: 1px solid gray;box-sizing: border-box;top: 0;bottom: 0;left: 50%;z-index: 0;}#sk-container-id-26 div.sk-serial {display: flex;flex-direction: column;align-items: center;background-color: white;padding-right: 0.2em;padding-left: 0.2em;position: relative;}#sk-container-id-26 div.sk-item {position: relative;z-index: 1;}#sk-container-id-26 div.sk-parallel {display: flex;align-items: stretch;justify-content: center;background-color: white;position: relative;}#sk-container-id-26 div.sk-item::before, #sk-container-id-26 div.sk-parallel-item::before {content: \"\";position: absolute;border-left: 1px solid gray;box-sizing: border-box;top: 0;bottom: 0;left: 50%;z-index: -1;}#sk-container-id-26 div.sk-parallel-item {display: flex;flex-direction: column;z-index: 1;position: relative;background-color: white;}#sk-container-id-26 div.sk-parallel-item:first-child::after {align-self: flex-end;width: 50%;}#sk-container-id-26 div.sk-parallel-item:last-child::after {align-self: flex-start;width: 50%;}#sk-container-id-26 div.sk-parallel-item:only-child::after {width: 0;}#sk-container-id-26 div.sk-dashed-wrapped {border: 1px dashed gray;margin: 0 0.4em 0.5em 0.4em;box-sizing: border-box;padding-bottom: 0.4em;background-color: white;}#sk-container-id-26 div.sk-label label {font-family: monospace;font-weight: bold;display: inline-block;line-height: 1.2em;}#sk-container-id-26 div.sk-label-container {text-align: center;}#sk-container-id-26 div.sk-container {/* jupyter's `normalize.less` sets `[hidden] { display: none; }` but bootstrap.min.css set `[hidden] { display: none !important; }` so we also need the `!important` here to be able to override the default hidden behavior on the sphinx rendered scikit-learn.org. See: https://github.com/scikit-learn/scikit-learn/issues/21755 */display: inline-block !important;position: relative;}#sk-container-id-26 div.sk-text-repr-fallback {display: none;}</style><div id=\"sk-container-id-26\" class=\"sk-top-container\"><div class=\"sk-text-repr-fallback\"><pre>LGBMClassifier(early_stopping_rounds=10, n_jobs=-1, num_iterations=50,\n               verbose=1)</pre><b>In a Jupyter environment, please rerun this cell to show the HTML representation or trust the notebook. <br />On GitHub, the HTML representation is unable to render, please try loading this page with nbviewer.org.</b></div><div class=\"sk-container\" hidden><div class=\"sk-item\"><div class=\"sk-estimator sk-toggleable\"><input class=\"sk-toggleable__control sk-hidden--visually\" id=\"sk-estimator-id-26\" type=\"checkbox\" checked><label for=\"sk-estimator-id-26\" class=\"sk-toggleable__label sk-toggleable__label-arrow\">LGBMClassifier</label><div class=\"sk-toggleable__content\"><pre>LGBMClassifier(early_stopping_rounds=10, n_jobs=-1, num_iterations=50,\n               verbose=1)</pre></div></div></div></div></div>"
     },
     "execution_count": 101,
     "metadata": {},
     "output_type": "execute_result"
    }
   ],
   "source": [
    "# Train lightGBM\n",
    "import lightgbm as lgb\n",
    "model = lgb.LGBMClassifier(n_estimators=100, n_jobs=-1, early_stopping_rounds=10, verbose=1, num_iterations=50)\n",
    "model.fit(X_training[features], Y_training, eval_set = [(X_val[features], Y_val)])"
   ],
   "metadata": {
    "collapsed": false,
    "ExecuteTime": {
     "end_time": "2024-01-22T15:07:10.543793600Z",
     "start_time": "2024-01-22T15:05:48.550102900Z"
    }
   },
   "id": "8afc4c2fc596f521",
   "execution_count": 101
  },
  {
   "cell_type": "code",
   "execution_count": 102,
   "outputs": [],
   "source": [
    "# Make predictions on the test data\n",
    "y_pred = model.predict_proba(X_test[features])[:, 1]"
   ],
   "metadata": {
    "collapsed": false,
    "ExecuteTime": {
     "end_time": "2024-01-22T15:08:35.161045400Z",
     "start_time": "2024-01-22T15:08:02.547236400Z"
    }
   },
   "id": "dc5954f1638e2b2a"
  },
  {
   "cell_type": "code",
   "execution_count": 103,
   "outputs": [],
   "source": [
    "def blur_preds(pred: np.ndarray, sigma: float = 3):\n",
    "    \"\"\"Given the flat predictions one or more images, blur the predictions in 2D and flatten again\"\"\"\n",
    "    img = pred.reshape(-1, 350, 350)\n",
    "    img = scipy.ndimage.gaussian_filter(img, sigma=sigma)\n",
    "    return img.flatten()\n",
    "\n",
    "def get_dice(pred: np.ndarray, label: np.ndarray, thresh: float = 0.5):\n",
    "    \"\"\"Given the flat predictions of single image, calculate the dice score\"\"\"\n",
    "    pred = pred > thresh\n",
    "    return 2 * np.sum(pred * label) / (np.sum(pred) + np.sum(label))"
   ],
   "metadata": {
    "collapsed": false,
    "ExecuteTime": {
     "end_time": "2024-01-22T15:08:35.184657600Z",
     "start_time": "2024-01-22T15:08:35.171436700Z"
    }
   },
   "id": "3ac8680c20f43ac7"
  },
  {
   "cell_type": "code",
   "execution_count": 104,
   "outputs": [
    {
     "data": {
      "text/plain": "  0%|          | 0/480 [00:00<?, ?it/s]",
      "application/vnd.jupyter.widget-view+json": {
       "version_major": 2,
       "version_minor": 0,
       "model_id": "c35ffc0ed6194c19bd9dad43c042be0b"
      }
     },
     "metadata": {},
     "output_type": "display_data"
    }
   ],
   "source": [
    "# Perform a grid search over blur sigma and threshold\n",
    "results = []\n",
    "sigmas = np.arange(0, 3, 0.5)\n",
    "threshs = np.arange(0, 0.8, 0.01)\n",
    "pbar = tqdm(total=len(sigmas) * len(threshs))\n",
    "for sigma in sigmas:\n",
    "    y_pred_blur = blur_preds(y_pred, sigma=sigma)\n",
    "    for thresh in threshs:\n",
    "        dice = get_dice(y_pred_blur, X_test['Label'], thresh=thresh)\n",
    "        results.append([sigma, thresh, dice])\n",
    "        pbar.update(1)"
   ],
   "metadata": {
    "collapsed": false,
    "ExecuteTime": {
     "end_time": "2024-01-22T15:11:04.596796200Z",
     "start_time": "2024-01-22T15:08:35.183657700Z"
    }
   },
   "id": "50cbe368ac97140c"
  },
  {
   "cell_type": "code",
   "execution_count": 91,
   "outputs": [],
   "source": [
    "# record the results in a dataframe\n",
    "df = pd.DataFrame(results, columns=['sigma', 'thresh', 'dice'])"
   ],
   "metadata": {
    "collapsed": false,
    "ExecuteTime": {
     "end_time": "2024-01-22T14:49:23.693173300Z",
     "start_time": "2024-01-22T14:49:23.660655600Z"
    }
   },
   "id": "9aa39f581a7a08a0"
  },
  {
   "cell_type": "code",
   "execution_count": 105,
   "outputs": [
    {
     "data": {
      "text/plain": "<Figure size 1000x600 with 2 Axes>",
      "image/png": "[encoded data removed]"
     },
     "metadata": {},
     "output_type": "display_data"
    }
   ],
   "source": [
    "# Plot the results in a heatmap\n",
    "plt.figure(figsize=(10, 6))\n",
    "arr = df.pivot(index='sigma', columns='thresh', values='dice')\n",
    "sns.heatmap(arr, cmap='coolwarm')\n",
    "plt.title('Dice score vs blur sigma and threshold')\n",
    "plt.xlabel('Threshold')\n",
    "plt.ylabel('Blur sigma')\n",
    "plt.gca().xaxis.set_major_formatter(plt.FuncFormatter('{:.2f}'.format))\n",
    "plt.gca().yaxis.set_major_formatter(plt.FuncFormatter('{:.2f}'.format))\n",
    "plt.show()"
   ],
   "metadata": {
    "collapsed": false,
    "ExecuteTime": {
     "end_time": "2024-01-22T15:11:04.996039100Z",
     "start_time": "2024-01-22T15:11:04.601797200Z"
    }
   },
   "id": "610683fd83fcfe36"
  },
  {
   "cell_type": "code",
   "execution_count": 106,
   "outputs": [
    {
     "name": "stdout",
     "output_type": "stream",
     "text": [
      "Default score:\n",
      "No blur, thresh 0.50: 0.4684\n",
      "\n",
      "Optimising thresh:\n",
      "No blur, thresh 0.08: 0.4923\n",
      "\n",
      "Optimising both:\n",
      "Best sigma: 0.50\n",
      "Best threshold: 0.12\n",
      "Best dice score: 0.5085\n"
     ]
    }
   ],
   "source": [
    "# print the default score from the dataframe (no blur)\n",
    "print(\"Default score:\")\n",
    "default = df[(df['sigma'] == 0) & (df['thresh'] == 0.5)]\n",
    "print(f'No blur, thresh 0.50: {default[\"dice\"].values[0]:.4f}')\n",
    "\n",
    "print(\"\\nOptimising thresh:\")\n",
    "no_blur = df[df['sigma'] == 0]\n",
    "best_thresh_no_blur = no_blur.sort_values('dice', ascending=False).iloc[0, 1]\n",
    "print(f'No blur, thresh {best_thresh_no_blur}: {no_blur[\"dice\"].max():.4f}')\n",
    "\n",
    "\n",
    "# Get the best sigma and threshold\n",
    "best_sigma, best_thresh = df.sort_values('dice', ascending=False).iloc[0, :2]\n",
    "print(\"\\nOptimising both:\")\n",
    "print(f'Best sigma: {best_sigma:.2f}')\n",
    "print(f'Best threshold: {best_thresh:.2f}')\n",
    "print(f'Best dice score: {df[\"dice\"].max():.4f}')"
   ],
   "metadata": {
    "collapsed": false,
    "ExecuteTime": {
     "end_time": "2024-01-22T15:11:05.013437500Z",
     "start_time": "2024-01-22T15:11:04.998090700Z"
    }
   },
   "id": "534b5083d95182cd"
  },
  {
   "cell_type": "code",
   "outputs": [],
   "source": [
    "# Save the model to a file \n",
    "import pickle\n",
    "with open('xgboost_model.pkl', 'wb') as f:\n",
    "    pickle.dump(model, f)\n",
    "\n",
    "# Load the model from a file\n",
    "with open('xgboost_model.pkl', 'rb') as f:\n",
    "    model = pickle.load(f)"
   ],
   "metadata": {
    "collapsed": false,
    "ExecuteTime": {
     "end_time": "2024-01-22T14:24:23.842532200Z",
     "start_time": "2024-01-22T14:24:23.829525700Z"
    }
   },
   "id": "2232bc5bc19ee6b9",
   "execution_count": 61
  }
 ],
 "metadata": {
  "kernelspec": {
   "display_name": "Python 3",
   "language": "python",
   "name": "python3"
  },
  "language_info": {
   "codemirror_mode": {
    "name": "ipython",
    "version": 2
   },
   "file_extension": ".py",
   "mimetype": "text/x-python",
   "name": "python",
   "nbconvert_exporter": "python",
   "pygments_lexer": "ipython2",
   "version": "2.7.6"
  }
 },
 "nbformat": 4,
 "nbformat_minor": 5
}
