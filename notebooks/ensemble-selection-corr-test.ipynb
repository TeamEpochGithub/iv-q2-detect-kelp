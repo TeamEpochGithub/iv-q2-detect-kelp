{
 "cells": [
  {
   "cell_type": "code",
   "execution_count": 16,
   "outputs": [],
   "source": [
    "import numpy as np\n",
    "import pandas as pd\n",
    "import glob\n",
    "import os\n",
    "from omegaconf import OmegaConf\n",
    "import skimage\n",
    "from tqdm.notebook import tqdm, trange"
   ],
   "metadata": {
    "collapsed": false,
    "ExecuteTime": {
     "end_time": "2024-02-21T11:00:04.453565Z",
     "start_time": "2024-02-21T11:00:04.347564200Z"
    }
   },
   "id": "14cbbea0e7ec61a6"
  },
  {
   "cell_type": "code",
   "execution_count": 17,
   "outputs": [],
   "source": [
    "# Define parameters here\n",
    "start_date = \"2024-02-19\"\n",
    "max_images = 424242\n",
    "output_path = \"../outputs\"\n",
    "target_path = \"../data/raw/train_kelp/\""
   ],
   "metadata": {
    "collapsed": false,
    "ExecuteTime": {
     "end_time": "2024-02-21T11:00:04.473561800Z",
     "start_time": "2024-02-21T11:00:04.403562500Z"
    }
   },
   "id": "a9fc316582519e43"
  },
  {
   "cell_type": "code",
   "execution_count": 18,
   "outputs": [
    {
     "name": "stdout",
     "output_type": "stream",
     "text": [
      "../outputs\\2024-02-19\\14-58-07\\\n",
      "../outputs\\2024-02-19\\15-16-43\\\n",
      "../outputs\\2024-02-19\\15-55-52\\\n",
      "../outputs\\2024-02-19\\16-01-33\\\n",
      "../outputs\\2024-02-19\\16-37-53\\\n",
      "../outputs\\2024-02-19\\16-49-42\\\n",
      "../outputs\\2024-02-19\\17-22-32\\\n",
      "../outputs\\2024-02-19\\17-38-08\\\n",
      "../outputs\\2024-02-19\\17-50-54\\\n",
      "../outputs\\2024-02-19\\17-55-40\\\n",
      "../outputs\\2024-02-19\\18-13-00\\\n",
      "../outputs\\2024-02-19\\18-40-20\\\n",
      "../outputs\\2024-02-19\\23-38-11\\\n",
      "../outputs\\2024-02-19\\23-51-19\\\n",
      "../outputs\\2024-02-19\\23-53-38\\\n",
      "../outputs\\2024-02-20\\01-16-30\\\n",
      "../outputs\\2024-02-20\\09-57-58\\\n",
      "../outputs\\2024-02-20\\09-58-57\\\n",
      "../outputs\\2024-02-20\\10-01-40\\\n",
      "../outputs\\2024-02-20\\10-09-29\\\n",
      "../outputs\\2024-02-20\\14-42-33\\\n",
      "../outputs\\2024-02-20\\15-25-02\\\n",
      "../outputs\\2024-02-20\\23-52-02\\\n",
      "../outputs\\2024-02-21\\00-04-41\\\n",
      "../outputs\\2024-02-21\\00-13-01\\\n",
      "Found 25 suitable folders\n"
     ]
    }
   ],
   "source": [
    "# Search for suitable output folders\n",
    "folders = []\n",
    "confs = dict()\n",
    "for day_folder in glob.glob(os.path.join(output_path, \"*/\")):\n",
    "    if day_folder.split(os.sep)[-2] < start_date:\n",
    "        continue       \n",
    "    for timestamp_folder in glob.glob(os.path.join(day_folder, \"*/\")):\n",
    "        if not os.path.exists(os.path.join(timestamp_folder, \"preds\")):\n",
    "            continue\n",
    "        \n",
    "        # read the .hydra/config.yaml file with omegaconf into a dictionary\n",
    "        with open(os.path.join(timestamp_folder, \".hydra\", \"config.yaml\"), \"r\") as f:\n",
    "            cfg = OmegaConf.load(f)\n",
    "            \n",
    "        if \"test_size\" not in cfg or cfg.test_size != 0.2:\n",
    "            continue\n",
    "        \n",
    "        confs[timestamp_folder] = cfg            \n",
    "        print(timestamp_folder)\n",
    "        folders.append(timestamp_folder)\n",
    "print(f\"Found {len(folders)} suitable folders\")"
   ],
   "metadata": {
    "collapsed": false,
    "ExecuteTime": {
     "end_time": "2024-02-21T11:00:05.044562600Z",
     "start_time": "2024-02-21T11:00:04.463564400Z"
    }
   },
   "id": "4814e0907416f14"
  },
  {
   "cell_type": "code",
   "outputs": [
    {
     "name": "stdout",
     "output_type": "stream",
     "text": [
      "../outputs\\2024-02-20\\18-40-52\\\n",
      "../outputs\\2024-02-20\\23-04-01\\\n",
      "../outputs\\2024-02-20\\23-26-20\\\n",
      "Found 3 suitable submit_folders\n"
     ]
    }
   ],
   "source": [
    "# Search for suitable output submit_folders containing test predictions\n",
    "submit_folders = []\n",
    "submit_confs = dict()\n",
    "for day_folder in glob.glob(os.path.join(output_path, \"*/\")):\n",
    "    if day_folder.split(os.sep)[-2] < start_date:\n",
    "        continue       \n",
    "    for timestamp_folder in glob.glob(os.path.join(day_folder, \"*/\")):\n",
    "        if not os.path.exists(os.path.join(timestamp_folder, \"test_predictions\")):\n",
    "            continue\n",
    "        \n",
    "        # read the .hydra/config.yaml file with omegaconf into a dictionary\n",
    "        with open(os.path.join(timestamp_folder, \".hydra\", \"config.yaml\"), \"r\") as f:\n",
    "            cfg = OmegaConf.load(f)\n",
    "            \n",
    "        submit_confs[timestamp_folder] = cfg            \n",
    "        print(timestamp_folder)\n",
    "        submit_folders.append(timestamp_folder)\n",
    "        \n",
    "#Rename submit folders to month-day-hour format\n",
    "submit_folders_processed = [x.split(\"\\\\\")[1]+\"-\"+x.split(\"\\\\\")[2]  for x in submit_folders]\n",
    "print(f\"Found {len(submit_folders)} suitable submit_folders\")"
   ],
   "metadata": {
    "collapsed": false,
    "ExecuteTime": {
     "end_time": "2024-02-21T11:21:37.767037500Z",
     "start_time": "2024-02-21T11:21:37.207008Z"
    }
   },
   "id": "c0a3b684400268d1",
   "execution_count": 56
  },
  {
   "cell_type": "code",
   "execution_count": 20,
   "outputs": [
    {
     "name": "stdout",
     "output_type": "stream",
     "text": [
      "Remaining folders: 23\n"
     ]
    }
   ],
   "source": [
    "# Filter out folders with identical configurations\n",
    "unique_confs = dict()\n",
    "for folder, conf in confs.items():\n",
    "    if conf not in unique_confs.values():\n",
    "        unique_confs[folder] = conf\n",
    "folders = list(unique_confs.keys())\n",
    "print(f\"Remaining folders: {len(folders)}\")"
   ],
   "metadata": {
    "collapsed": false,
    "ExecuteTime": {
     "end_time": "2024-02-21T11:00:06.087701600Z",
     "start_time": "2024-02-21T11:00:05.578563100Z"
    }
   },
   "id": "9b234de836eea921"
  },
  {
   "cell_type": "code",
   "execution_count": 21,
   "outputs": [],
   "source": [
    "# Read the filenames inside the first folder\n",
    "filenames = glob.glob(os.path.join(folders[0], \"preds\", \"*.tif\"))\n",
    "image_names = [os.path.basename(f)[:-9] for f in filenames]"
   ],
   "metadata": {
    "collapsed": false,
    "ExecuteTime": {
     "end_time": "2024-02-21T11:00:06.117701600Z",
     "start_time": "2024-02-21T11:00:06.084613800Z"
    }
   },
   "id": "4406758953145ea9"
  },
  {
   "cell_type": "code",
   "outputs": [],
   "source": [
    "# Read the filenames inside the first submit_folder\n",
    "submit_filenames = glob.glob(os.path.join(submit_folders[0], \"test_predictions\", \"*.tif\"))\n",
    "image_submit = [os.path.basename(f)[:-9] for f in submit_filenames]"
   ],
   "metadata": {
    "collapsed": false,
    "ExecuteTime": {
     "end_time": "2024-02-21T11:02:34.467440100Z",
     "start_time": "2024-02-21T11:02:34.431442300Z"
    }
   },
   "id": "84cfcfa00789bdcb",
   "execution_count": 29
  },
  {
   "cell_type": "code",
   "execution_count": 22,
   "outputs": [],
   "source": [
    "# have a dictionary of the feature combinations:\n",
    "feature_combinations = {\n",
    "    \"f13\": [0,1,2,3,4,7,8,9,10,11,12,13,14],\n",
    "    \"f18\": [0,1,2,3,4,7,8,9,10,11,12,13,14,15,16,17,18,19],\n",
    "    \"fm1\": [0,1,2,7,13,14,18,19],\n",
    "    \"fm2\": [0,1,2,3,4,12,19],\n",
    "    \"fm3\": [7,8,9,10,11,12,13,14,15,16,17,18,19],\n",
    "    \"fm4\": [0,1,2,3,4,19], \n",
    "}"
   ],
   "metadata": {
    "collapsed": false,
    "ExecuteTime": {
     "end_time": "2024-02-21T11:00:06.119700900Z",
     "start_time": "2024-02-21T11:00:06.099701200Z"
    }
   },
   "id": "95eb8bc2f93c7ce4"
  },
  {
   "cell_type": "code",
   "execution_count": 23,
   "outputs": [
    {
     "name": "stdout",
     "output_type": "stream",
     "text": [
      "../outputs\\2024-02-19\\14-58-07\\ vgg13-Unet-f18-bs16-e75-FocalDiceBoundaryLoss\n",
      "../outputs\\2024-02-19\\15-16-43\\ vgg13-Unet-f13-bs16-e75-DiceLoss\n",
      "../outputs\\2024-02-19\\15-55-52\\ vgg13-Unet-f18-bs16-e75-DiceLoss\n",
      "../outputs\\2024-02-19\\16-01-33\\ SwinUNETR-f13-bs16-e75-DiceLoss\n",
      "../outputs\\2024-02-19\\16-37-53\\ vgg13-Unet-fm4-bs16-e75-DiceLoss\n",
      "../outputs\\2024-02-19\\16-49-42\\ vgg13-Unet-fm2-bs16-e75-DiceLoss\n",
      "../outputs\\2024-02-19\\17-22-32\\ vgg13-Unet-f18-bs16-e75-FocalDice2BoundaryLoss\n",
      "../outputs\\2024-02-19\\17-38-08\\ SwinUNETR-f18-bs16-e75-FocalDiceBoundaryLoss\n",
      "../outputs\\2024-02-19\\17-50-54\\ vgg13-Unet-f13-bs16-e75-FocalDiceBoundaryLoss\n",
      "../outputs\\2024-02-19\\17-55-40\\ SwinUNETR-f13-bs16-e75-FocalDiceBoundaryLoss\n",
      "../outputs\\2024-02-19\\18-13-00\\ timm-resnest14d-Unet-f13-bs16-e75-DiceLoss\n",
      "../outputs\\2024-02-19\\18-40-20\\ timm-res2net50_26w_4s-Unet-f13-bs16-e75-DiceLoss\n",
      "../outputs\\2024-02-19\\23-38-11\\ timm-res2net50_26w_4s-Unet-f18-bs16-e75-DiceLoss\n",
      "../outputs\\2024-02-19\\23-51-19\\ SwinUNETR-f18-bs16-e75-DiceLoss\n",
      "../outputs\\2024-02-19\\23-53-38\\ CustomTimm-f18-bs16-e100-FocalDiceBoundaryLoss\n",
      "../outputs\\2024-02-20\\09-57-58\\ timm-res2net50_26w_4s-Unet-f18-bs16-e100-FocalDiceBoundaryLoss\n",
      "../outputs\\2024-02-20\\09-58-57\\ vgg13-Unet-f18-bs16-e100-FocalDiceBoundaryLoss\n",
      "../outputs\\2024-02-20\\10-01-40\\ timm-res2net50_26w_4s-Unet-f18-bs16-e100-DiceLoss\n",
      "../outputs\\2024-02-20\\10-09-29\\ timm-res2net50_26w_4s-Unet-f13-bs16-e100-FocalDiceBoundaryLoss\n",
      "../outputs\\2024-02-20\\14-42-33\\ vgg13-Unet-f18-bs16-e75-DiceLoss\n",
      "../outputs\\2024-02-20\\15-25-02\\ CustomTimm-f18-bs16-e75-FocalDiceBoundaryLoss\n",
      "../outputs\\2024-02-21\\00-04-41\\ vgg13-Unet-f18-bs16-e100-FocalDice5BoundaryLoss\n",
      "../outputs\\2024-02-21\\00-13-01\\ vgg13-Unet-f13-bs16-e100-FocalDice2BoundaryLoss\n"
     ]
    }
   ],
   "source": [
    "# Create a name based on the config\n",
    "names = dict()\n",
    "for folder in folders:\n",
    "    conf = confs[folder]\n",
    "    name = conf.model.model_loop_pipeline.model_blocks_pipeline.model_blocks[0].model.model._target_.split(\".\")[-1]\n",
    "    if name == \"Unet\":\n",
    "        name = f\"{conf.model.model_loop_pipeline.model_blocks_pipeline.model_blocks[0].model.model.encoder_name}-{name}\"\n",
    "        \n",
    "    # find the feature name based on the column selection\n",
    "    for feature_name, feature_columns in feature_combinations.items():\n",
    "        if feature_columns == conf.model.model_loop_pipeline.pretrain_pipeline.pretrain_steps[1].columns:\n",
    "            name += f\"-{feature_name}\"\n",
    "            break\n",
    "\n",
    "    name += f\"-bs{conf.model.model_loop_pipeline.model_blocks_pipeline.model_blocks[0].batch_size}\"\n",
    "    name += f\"-e{conf.model.model_loop_pipeline.model_blocks_pipeline.model_blocks[0].epochs}\"\n",
    "    name += f\"-{conf.model.model_loop_pipeline.model_blocks_pipeline.model_blocks[0].criterion._target_.split('.')[-1]}\"\n",
    "    names[folder] = name\n",
    "for folder, name in names.items():\n",
    "    print(folder, name)"
   ],
   "metadata": {
    "collapsed": false,
    "ExecuteTime": {
     "end_time": "2024-02-21T11:00:06.167702300Z",
     "start_time": "2024-02-21T11:00:06.148701500Z"
    }
   },
   "id": "b228be1589fd9531"
  },
  {
   "cell_type": "code",
   "execution_count": 24,
   "outputs": [],
   "source": [
    "# Take the first max_images images\n",
    "image_selection = image_names[:min(max_images, len(image_names))]"
   ],
   "metadata": {
    "collapsed": false,
    "ExecuteTime": {
     "end_time": "2024-02-21T11:00:06.195701500Z",
     "start_time": "2024-02-21T11:00:06.162701600Z"
    }
   },
   "id": "76ff6d2cb86d38e2"
  },
  {
   "cell_type": "code",
   "execution_count": 25,
   "outputs": [
    {
     "data": {
      "text/plain": "  0%|          | 0/1127 [00:00<?, ?it/s]",
      "application/vnd.jupyter.widget-view+json": {
       "version_major": 2,
       "version_minor": 0,
       "model_id": "14da6e6be64849a191f487946bd318df"
      }
     },
     "metadata": {},
     "output_type": "display_data"
    }
   ],
   "source": [
    "# Load the target tiffs into an array\n",
    "targets = []\n",
    "for image_name in tqdm(image_selection):\n",
    "    target = skimage.io.imread(os.path.join(target_path, f\"{image_name}_kelp.tif\"))\n",
    "    targets.append(target)\n",
    "targets = np.array(targets).flatten()"
   ],
   "metadata": {
    "collapsed": false,
    "ExecuteTime": {
     "end_time": "2024-02-21T11:00:06.915073500Z",
     "start_time": "2024-02-21T11:00:06.179703200Z"
    }
   },
   "id": "b47c8eca0f56d075"
  },
  {
   "cell_type": "code",
   "execution_count": 26,
   "outputs": [
    {
     "data": {
      "text/plain": "  0%|          | 0/23 [00:00<?, ?it/s]",
      "application/vnd.jupyter.widget-view+json": {
       "version_major": 2,
       "version_minor": 0,
       "model_id": "cc99657c0ce3449a999503890463270d"
      }
     },
     "metadata": {},
     "output_type": "display_data"
    }
   ],
   "source": [
    "# Load the predictions into an array\n",
    "predictions = dict()\n",
    "for folder in tqdm(folders):\n",
    "    preds = []\n",
    "    for image_name in image_selection:\n",
    "        pred = skimage.io.imread(os.path.join(folder, \"preds\", f\"{image_name}_pred.tif\"))\n",
    "        preds.append(pred)\n",
    "    predictions[folder] = np.array(preds).flatten()"
   ],
   "metadata": {
    "collapsed": false,
    "ExecuteTime": {
     "end_time": "2024-02-21T11:00:20.751157400Z",
     "start_time": "2024-02-21T11:00:06.902073600Z"
    }
   },
   "id": "923568e1d4df43af"
  },
  {
   "cell_type": "code",
   "outputs": [
    {
     "data": {
      "text/plain": "  0%|          | 0/3 [00:00<?, ?it/s]",
      "application/vnd.jupyter.widget-view+json": {
       "version_major": 2,
       "version_minor": 0,
       "model_id": "ba0608005ee74ea99e27099137f9351f"
      }
     },
     "metadata": {},
     "output_type": "display_data"
    }
   ],
   "source": [
    "#Load the submit_predictions into an array\n",
    "submit_predictions = dict()\n",
    "for folder in tqdm(submit_folders):\n",
    "    preds = []\n",
    "    for image_name in image_submit:\n",
    "        pred = skimage.io.imread(os.path.join(folder, \"test_predictions\", f\"{image_name}_kelp.tif\"))\n",
    "        preds.append(pred)\n",
    "    submit_predictions[folder] = np.array(preds).flatten()"
   ],
   "metadata": {
    "collapsed": false,
    "ExecuteTime": {
     "end_time": "2024-02-21T11:21:44.174621200Z",
     "start_time": "2024-02-21T11:21:42.489091900Z"
    }
   },
   "id": "199f87c9c6fc8c0f",
   "execution_count": 57
  },
  {
   "cell_type": "code",
   "outputs": [
    {
     "data": {
      "text/plain": "<Figure size 1000x1000 with 2 Axes>",
      "image/png": "[encoded data removed]"
     },
     "metadata": {},
     "output_type": "display_data"
    }
   ],
   "source": [
    "#Given our submit predictions. Calulate unsupervised differences. We dont have the targets so use some difference metrics.\n",
    "from matplotlib import pyplot as plt\n",
    "#Create a similarity matrix for the submit_predictions (They are booleans)\n",
    "similarity_matrix = np.zeros((len(submit_folders), len(submit_folders)))\n",
    "for i in range(len(submit_folders)):\n",
    "    for j in range(len(submit_folders)):\n",
    "        #Given this array of booleans. Get % of similarity\n",
    "        total_equalities = (submit_predictions[submit_folders[i]] == submit_predictions[submit_folders[j]]).sum()\n",
    "        similarity_matrix[i,j] = total_equalities / len(submit_predictions[submit_folders[i]])\n",
    "\n",
    "\n",
    "# Visualize the similarity matrix, do not round.\n",
    "import seaborn as sns\n",
    "fig, ax = plt.subplots(figsize=(10,10))\n",
    "sns.heatmap(similarity_matrix, xticklabels=submit_folders_processed, yticklabels=submit_folders_processed, annot=True, fmt=\".6f\")\n",
    "plt.show()"
   ],
   "metadata": {
    "collapsed": false,
    "ExecuteTime": {
     "end_time": "2024-02-21T11:21:57.143661500Z",
     "start_time": "2024-02-21T11:21:55.964491600Z"
    }
   },
   "id": "29b0d9e6e1a041a8",
   "execution_count": 58
  },
  {
   "cell_type": "code",
   "outputs": [],
   "source": [
    "#Create a dataframe from the submit predictions where each row is a model and each column are aggregated metrics\n",
    "\n",
    "submit_df = pd.DataFrame()\n",
    "# Set a model column \n",
    "submit_df[\"model\"] = submit_folders_processed\n",
    "#Calculate the number of 1s for each column\n",
    "submit_df[\"ones\"] = [submit_predictions[folder].sum() for folder in submit_folders]\n",
    "#Calculate the number of 0s for each column\n",
    "submit_df[\"zeros\"] = [len(submit_predictions[folder]) - submit_predictions[folder].sum() for folder in submit_folders]\n",
    "\n",
    "#Percentage kelp predictions\n",
    "submit_df[\"predict_kelp (%)\"] = (submit_df[\"ones\"] / len(submit_predictions[folder])) * 100\n",
    "\n",
    "true_kelp = 0.6769\n",
    "submit_df[\"true_percentage_kelp (%)\"] = true_kelp\n",
    "submit_df[\"kelp_diff (%)\"] = submit_df[\"predict_kelp (%)\"] - true_kelp\n",
    "submit_df[\"public_score\"] = [0.7214, 0.7207, 0.7232]"
   ],
   "metadata": {
    "collapsed": false,
    "ExecuteTime": {
     "end_time": "2024-02-21T13:14:11.013964800Z",
     "start_time": "2024-02-21T13:14:10.443877800Z"
    }
   },
   "id": "bea54f28322ac2e",
   "execution_count": 80
  },
  {
   "cell_type": "code",
   "outputs": [
    {
     "data": {
      "text/plain": "                 model     ones      zeros  predict_kelp (%)  \\\n0  2024-02-20-18-40-52  1168738  173516262          0.669055   \n1  2024-02-20-23-04-01  1153107  173531893          0.660106   \n2  2024-02-20-23-26-20  1135664  173549336          0.650121   \n\n   true_percentage_kelp (%)  kelp_diff (%)  public_score  \n0                    0.6769      -0.007845        0.7214  \n1                    0.6769      -0.016794        0.7207  \n2                    0.6769      -0.026779        0.7232  ",
      "text/html": "<div>\n<style scoped>\n    .dataframe tbody tr th:only-of-type {\n        vertical-align: middle;\n    }\n\n    .dataframe tbody tr th {\n        vertical-align: top;\n    }\n\n    .dataframe thead th {\n        text-align: right;\n    }\n</style>\n<table border=\"1\" class=\"dataframe\">\n  <thead>\n    <tr style=\"text-align: right;\">\n      <th></th>\n      <th>model</th>\n      <th>ones</th>\n      <th>zeros</th>\n      <th>predict_kelp (%)</th>\n      <th>true_percentage_kelp (%)</th>\n      <th>kelp_diff (%)</th>\n      <th>public_score</th>\n    </tr>\n  </thead>\n  <tbody>\n    <tr>\n      <th>0</th>\n      <td>2024-02-20-18-40-52</td>\n      <td>1168738</td>\n      <td>173516262</td>\n      <td>0.669055</td>\n      <td>0.6769</td>\n      <td>-0.007845</td>\n      <td>0.7214</td>\n    </tr>\n    <tr>\n      <th>1</th>\n      <td>2024-02-20-23-04-01</td>\n      <td>1153107</td>\n      <td>173531893</td>\n      <td>0.660106</td>\n      <td>0.6769</td>\n      <td>-0.016794</td>\n      <td>0.7207</td>\n    </tr>\n    <tr>\n      <th>2</th>\n      <td>2024-02-20-23-26-20</td>\n      <td>1135664</td>\n      <td>173549336</td>\n      <td>0.650121</td>\n      <td>0.6769</td>\n      <td>-0.026779</td>\n      <td>0.7232</td>\n    </tr>\n  </tbody>\n</table>\n</div>"
     },
     "execution_count": 81,
     "metadata": {},
     "output_type": "execute_result"
    }
   ],
   "source": [
    "submit_df.head()"
   ],
   "metadata": {
    "collapsed": false,
    "ExecuteTime": {
     "end_time": "2024-02-21T13:14:11.024965400Z",
     "start_time": "2024-02-21T13:14:11.008966800Z"
    }
   },
   "id": "1c2dada136881be7",
   "execution_count": 81
  },
  {
   "cell_type": "code",
   "execution_count": null,
   "outputs": [],
   "source": [
    "# Calculate the dice scores and square error\n",
    "dice_scores = dict()\n",
    "square_errors = dict()\n",
    "for folder, preds in tqdm(predictions.items()):\n",
    "    preds = preds > 0.5\n",
    "    dice_scores[folder] = 2 * np.sum(targets * preds) / (np.sum(targets) + np.sum(preds))   \n",
    "    square_errors[folder] = np.mean((targets - preds) ** 2)"
   ],
   "metadata": {
    "collapsed": false,
    "ExecuteTime": {
     "start_time": "2024-02-21T11:00:20.817162100Z"
    }
   },
   "id": "e3de2df21717d041"
  },
  {
   "cell_type": "code",
   "execution_count": null,
   "outputs": [],
   "source": [
    "# Remove all models with dice score below 0.6\n",
    "folders = [folder for folder in folders if dice_scores[folder] > 0.6]\n",
    "print(f\"Remaining models: {len(folders)}\")"
   ],
   "metadata": {
    "collapsed": false,
    "ExecuteTime": {
     "start_time": "2024-02-21T11:00:20.818156400Z"
    }
   },
   "id": "ab56073961f03988"
  },
  {
   "cell_type": "code",
   "execution_count": null,
   "outputs": [],
   "source": [
    "# Sort the folders by dice score\n",
    "folders = sorted(folders, key=lambda folder: dice_scores[folder], reverse=True)"
   ],
   "metadata": {
    "collapsed": false,
    "ExecuteTime": {
     "start_time": "2024-02-21T11:00:20.819157400Z"
    }
   },
   "id": "af46844318af9563"
  },
  {
   "cell_type": "code",
   "execution_count": null,
   "outputs": [],
   "source": [
    "# Create a dataframe with the results\n",
    "df = pd.DataFrame({\n",
    "    \"name\": [names[folder] for folder in folders],\n",
    "    \"dice_score\": [dice_scores[folder] for folder in folders],\n",
    "    \"square_error\": [square_errors[folder] for folder in folders]\n",
    "})"
   ],
   "metadata": {
    "collapsed": false,
    "ExecuteTime": {
     "start_time": "2024-02-21T11:00:20.820156500Z"
    }
   },
   "id": "bd45008b09522c5a"
  },
  {
   "cell_type": "code",
   "execution_count": null,
   "outputs": [],
   "source": [
    "# Create a scatterplot with plotly express\n",
    "import plotly.express as px\n",
    "fig = px.scatter(df, x=\"dice_score\", y=\"square_error\", text=\"name\")\n",
    "fig.show()"
   ],
   "metadata": {
    "collapsed": false,
    "ExecuteTime": {
     "start_time": "2024-02-21T11:00:20.821156500Z"
    }
   },
   "id": "5696c4aa13c792ad"
  },
  {
   "cell_type": "markdown",
   "source": [
    "# Error minimization"
   ],
   "metadata": {
    "collapsed": false
   },
   "id": "c3f9d54e56a9d19"
  },
  {
   "cell_type": "code",
   "execution_count": null,
   "outputs": [],
   "source": [
    "# Step 1 of the algorithm, compute error, error mean per base model, and a covariance matrix\n",
    "errors = np.array([predictions[folder] - targets for folder in folders])\n",
    "error_means = np.mean(errors, axis=1)\n",
    "covariance_matrix = np.cov(errors, bias=True)\n",
    "corr = np.corrcoef(errors)"
   ],
   "metadata": {
    "collapsed": false,
    "ExecuteTime": {
     "start_time": "2024-02-21T11:00:20.822158200Z"
    }
   },
   "id": "3fd99bb6012ddfdd"
  },
  {
   "cell_type": "code",
   "execution_count": null,
   "outputs": [],
   "source": [
    "# Step 2. Define a function to estimate the squared error of the ensemble\n",
    "def ensemble_error(selection, error_means, covariance_matrix):\n",
    "    selection = np.array(selection) > 0.5\n",
    "    return np.mean(error_means[selection])**2 + np.mean(covariance_matrix[selection][:, selection])"
   ],
   "metadata": {
    "collapsed": false,
    "ExecuteTime": {
     "start_time": "2024-02-21T11:00:20.824156100Z"
    }
   },
   "id": "1a9ca50d95b9eb1b"
  },
  {
   "cell_type": "code",
   "execution_count": null,
   "outputs": [],
   "source": [
    "# Compute the actual error for comparison\n",
    "def true_error(selection, errors):\n",
    "    selection = np.array(selection) > 0.5\n",
    "    return np.mean(np.mean(errors[selection],axis=0)**2)"
   ],
   "metadata": {
    "collapsed": false,
    "ExecuteTime": {
     "start_time": "2024-02-21T11:00:20.825156700Z"
    }
   },
   "id": "43c95774b80cddaf"
  },
  {
   "cell_type": "code",
   "execution_count": null,
   "outputs": [],
   "source": [
    "# Use timeit to compare the two methods\n",
    "import timeit\n",
    "print(f\"{timeit.timeit(lambda: ensemble_error(np.ones(len(folders)), error_means, covariance_matrix), number=2):.5}s\")\n",
    "print(f\"{timeit.timeit(lambda: true_error(np.ones(len(folders)), errors), number=2):.5}s\")"
   ],
   "metadata": {
    "collapsed": false,
    "ExecuteTime": {
     "start_time": "2024-02-21T11:00:20.826156300Z"
    }
   },
   "id": "7e1a8f89594de2f7"
  },
  {
   "cell_type": "code",
   "execution_count": null,
   "outputs": [],
   "source": [
    "# Step 3. Go through all possible combinations of models and find the best one\n",
    "limit = np.inf \n",
    "best_error = np.inf\n",
    "best_selection = None\n",
    "for i in trange(1,min(2**len(folders),limit)):\n",
    "    selection = [int(x) for x in bin(i)[2:].zfill(len(folders))]\n",
    "    err = ensemble_error(selection, error_means, covariance_matrix)\n",
    "    if err < best_error:\n",
    "        best_error = err\n",
    "        best_selection = selection\n",
    "print(\"Best square error:\", best_error)\n",
    "print(\"Confirmation:\", true_error(best_selection, errors))\n",
    "print(\"Recommended ensemble:\", best_selection)\n",
    "# list the names of the models in the ensemble\n",
    "for i in range(len(folders)):\n",
    "    if best_selection[i] > 0.5:\n",
    "        print(names[folders[i]])"
   ],
   "metadata": {
    "collapsed": false,
    "ExecuteTime": {
     "start_time": "2024-02-21T11:00:20.827157800Z"
    }
   },
   "id": "6f83c19eac9f85a2"
  },
  {
   "cell_type": "code",
   "execution_count": null,
   "outputs": [],
   "source": [
    "simple_selection = np.array([1,1,1] + [0]*(len(folders)-3))\n",
    "print(f\"Error (lower is better): Optimised: {best_error:.5f}, simple ensemble: {true_error(simple_selection, errors):.5f}, best model: {true_error([1]+[0]*(len(folders)-1), errors):.5f}\")\n",
    "\n",
    "# compute the dice score for the best and the simple selection ensembles\n",
    "best_preds = np.mean([predictions[folders[i]] for i in range(len(folders)) if best_selection[i] > 0.5], axis=0) > 0.5\n",
    "simple_preds = np.mean([predictions[folders[i]] for i in range(len(folders)) if simple_selection[i] > 0.5], axis=0) > 0.5\n",
    "best_dice = 2 * np.sum(targets * best_preds) / (np.sum(targets) + np.sum(best_preds))\n",
    "simple_dice = 2 * np.sum(targets * simple_preds) / (np.sum(targets) + np.sum(simple_preds))\n",
    "print(f\"Dice (higher is better): Optimised: {best_dice:.5f}, simple ensemble: {simple_dice:.5f}, best model: {dice_scores[folders[0]]:.5f}\")"
   ],
   "metadata": {
    "collapsed": false,
    "ExecuteTime": {
     "start_time": "2024-02-21T11:00:20.828156100Z"
    }
   },
   "id": "ea091cf6ef4baa21"
  },
  {
   "cell_type": "code",
   "execution_count": null,
   "outputs": [],
   "source": [
    "# Optimize the weights with linear regression, using svd decomposition, and predictions\n",
    "from sklearn.linear_model import LinearRegression\n",
    "X = np.array([predictions[folder] for folder in folders]).T\n",
    "y = targets\n",
    "reg = LinearRegression().fit(X, y)\n",
    "weights = reg.coef_\n",
    "print(weights)"
   ],
   "metadata": {
    "collapsed": false,
    "ExecuteTime": {
     "start_time": "2024-02-21T11:00:20.829159900Z"
    }
   },
   "id": "8d9da0ff17d91437"
  },
  {
   "cell_type": "code",
   "execution_count": null,
   "outputs": [],
   "source": [
    "# Use the weights to calculate the ensemble error\n",
    "linreg_preds = np.dot(X, weights) > 0.5\n",
    "linreg_error = np.mean((linreg_preds - y) ** 2)\n",
    "print(linreg_error)"
   ],
   "metadata": {
    "collapsed": false,
    "ExecuteTime": {
     "start_time": "2024-02-21T11:00:20.830160Z"
    }
   },
   "id": "f191fbc948588d6c"
  },
  {
   "cell_type": "markdown",
   "source": [
    "# Genetic algorithm"
   ],
   "metadata": {
    "collapsed": false
   },
   "id": "bab4010f7ea212b1"
  },
  {
   "cell_type": "code",
   "execution_count": null,
   "outputs": [],
   "source": [
    "# Define the fitness function\n",
    "pred_array = np.array([predictions[folder] for folder in folders])\n",
    "def dice_fitness(selection, pred, target):\n",
    "    # selection = np.array(selection) > 0.5\n",
    "    weights = np.array(selection) / sum(selection)\n",
    "    \n",
    "    selectio_bin = np.array(selection) > 0\n",
    "    pred = pred[selectio_bin]\n",
    "    weights = weights[selectio_bin]\n",
    "    \n",
    "    preds = np.dot(pred.T, weights) > 0.5   \n",
    "    return 2 * np.sum(target * preds) / (np.sum(target) + np.sum(preds))"
   ],
   "metadata": {
    "collapsed": false,
    "ExecuteTime": {
     "start_time": "2024-02-21T11:00:20.831159300Z"
    }
   },
   "id": "e67549d3e413fa82"
  },
  {
   "cell_type": "code",
   "execution_count": null,
   "outputs": [],
   "source": [
    "fitness_memory = dict()\n",
    "def dice_fitness_memory(selection, pred, target):\n",
    "    if sum(selection) == 0:\n",
    "        return 0\n",
    "    if tuple(selection) in fitness_memory:\n",
    "        return fitness_memory[tuple(selection)]\n",
    "    fitness = dice_fitness(selection, pred, target)\n",
    "    fitness_memory[tuple(selection)] = fitness\n",
    "    return fitness"
   ],
   "metadata": {
    "collapsed": false,
    "ExecuteTime": {
     "start_time": "2024-02-21T11:00:20.832160800Z"
    }
   },
   "id": "5f9fc46907175d76"
  },
  {
   "cell_type": "code",
   "execution_count": null,
   "outputs": [],
   "source": [
    "# Define the genetic algorithm\n",
    "import random\n",
    "values = [0,0.5,1,1.5,2,2.5,3]\n",
    "def genetic_algorithm(fitness_function, population_size=100, generations=100, mutation_rate=0.1, subsample=1000, subsample_halftime=5, subsample_decay_factor=2):\n",
    "    population = [[random.choice(values) for _ in range(len(folders))] for _ in range(population_size)]\n",
    "    for generation in range(generations):\n",
    "        if generation % subsample_halftime == 0 and subsample_halftime != -1 and subsample > 1:\n",
    "            pred = pred_array[:,::subsample]\n",
    "            target = targets[::subsample]\n",
    "            subsample //= subsample_decay_factor\n",
    "            subsample = max(subsample, 1)\n",
    "            fitness_memory.clear()\n",
    "            print(f\"Subsampled to {len(target)}, factor {subsample}\")       \n",
    "\n",
    "        fitness = [dice_fitness_memory(individual, pred, target) for individual in tqdm(population, desc=f\"Generation {generation}\", leave=True)]\n",
    "        best_individual = population[np.argmax(fitness)]\n",
    "        print(f\"Generation {generation}, best fitness: {dice_fitness(best_individual, pred_array, targets):.4f}, best individual: {best_individual}\")\n",
    "        new_population = [best_individual]\n",
    "        \n",
    "        # scale fitness between 0 and 1\n",
    "        fitness = np.array(fitness)\n",
    "        fitness = (fitness - fitness.min()) / (fitness.max() - fitness.min() + 1e-6)\n",
    "        \n",
    "        for _ in range(population_size - 1):\n",
    "            parent1, parent2 = random.choices(population, weights=fitness, k=2)\n",
    "            child = []\n",
    "            for gene1, gene2 in zip(parent1, parent2):\n",
    "                initial = random.choice([gene1, gene2])\n",
    "                if random.random() < mutation_rate:\n",
    "                    mutated = initial + random.choice([-0.5, 0, 0.5])\n",
    "                    child.append(np.clip(mutated, min(values), max(values)))\n",
    "                else:\n",
    "                    child.append(initial)\n",
    "            new_population.append(child)\n",
    "        population = new_population\n",
    "    return best_individual"
   ],
   "metadata": {
    "collapsed": false,
    "ExecuteTime": {
     "start_time": "2024-02-21T11:00:20.833159900Z"
    }
   },
   "id": "e8a9da7ced9df5a"
  },
  {
   "cell_type": "code",
   "execution_count": null,
   "outputs": [],
   "source": [
    "# Run the genetic algorithm\n",
    "best_individual = genetic_algorithm(dice_fitness, population_size=150, generations=15, mutation_rate=0.1, subsample=500, subsample_halftime=2, subsample_decay_factor=5)"
   ],
   "metadata": {
    "collapsed": false,
    "ExecuteTime": {
     "start_time": "2024-02-21T11:00:20.834159900Z"
    }
   },
   "id": "6a8165dd0955989f"
  },
  {
   "cell_type": "code",
   "execution_count": null,
   "outputs": [],
   "source": [
    "# Optimize the weights with optuna, using the same value options\n",
    "import optuna\n",
    "def objective(trial):\n",
    "    weights = [trial.suggest_categorical(f\"weight_{i}\", values) for i in range(len(folders))]\n",
    "    return dice_fitness(weights, pred_array, targets)\n",
    "\n",
    "study = optuna.create_study(direction=\"maximize\", storage=\"sqlite:///ensemble_weights.db\")\n",
    "study.optimize(objective, n_trials=300)\n",
    "best_weights = [study.best_params[f\"weight_{i}\"] for i in range(len(folders))]\n",
    "print(best_weights)"
   ],
   "metadata": {
    "collapsed": false,
    "ExecuteTime": {
     "start_time": "2024-02-21T11:00:20.835160400Z"
    }
   },
   "id": "70d715aac365b218"
  },
  {
   "cell_type": "code",
   "execution_count": null,
   "outputs": [],
   "source": [
    "# Print the list\n",
    "for i in range(len(folders)):\n",
    "    if best_individual[i] > 0:\n",
    "        print(best_individual[i], names[folders[i]])"
   ],
   "metadata": {
    "collapsed": false,
    "ExecuteTime": {
     "start_time": "2024-02-21T11:00:20.836161800Z"
    }
   },
   "id": "d6e3a5df18144ef5"
  },
  {
   "cell_type": "code",
   "execution_count": null,
   "outputs": [],
   "source": [
    "# Print all models\n",
    "for i in range(len(folders)):\n",
    "    print(names[folders[i]])"
   ],
   "metadata": {
    "collapsed": false,
    "ExecuteTime": {
     "start_time": "2024-02-21T11:00:20.837163600Z"
    }
   },
   "id": "4991a7e1e7a05499"
  },
  {
   "cell_type": "code",
   "execution_count": null,
   "outputs": [],
   "source": [
    "# Compare against the score of our current best submission\n",
    "current_submission = [1,0,1,1,1,1,1,1,0,0,1,0,0,0]\n",
    "# print models in current submission\n",
    "for i in range(len(folders)):\n",
    "    if current_submission[i] > 0:\n",
    "        print(names[folders[i]])\n",
    "print(f\"Current submission dice score: {dice_fitness(current_submission, pred_array, targets):.4f}\")"
   ],
   "metadata": {
    "collapsed": false,
    "ExecuteTime": {
     "start_time": "2024-02-21T11:00:20.838161Z"
    }
   },
   "id": "7872a34e9f9a55b3"
  },
  {
   "cell_type": "code",
   "execution_count": null,
   "outputs": [],
   "source": [
    "# Try some other combinations\n",
    "\n",
    "other_submission = [\n",
    "    1, # SwinUNETR-f18-bs16-e75-FocalDiceBoundaryLoss\n",
    "    1, # vgg13-Unet-f18-bs16-e75-FocalDice2BoundaryLoss\n",
    "    1, # vgg13-Unet-f13-bs16-e75-FocalDiceBoundaryLoss\n",
    "    1, # vgg13-Unet-f18-bs16-e75-DiceLoss\n",
    "    0, # vgg13-Unet-f18-bs16-e75-FocalDiceBoundaryLoss\n",
    "    1, # SwinUNETR-f18-bs16-e75-DiceLoss\n",
    "    1, # SwinUNETR-f13-bs16-e75-DiceLoss\n",
    "    1, # vgg13-Unet-f13-bs16-e75-DiceLoss\n",
    "    0, # timm-res2net50_26w_4s-Unet-f13-bs16-e75-DiceLoss\n",
    "    0, # vgg13-Unet-f6-bs16-e75-DiceLoss\n",
    "    1, # SwinUNETR-f13-bs16-e75-FocalDiceBoundaryLoss\n",
    "    0, # vgg13-Unet-f7-bs16-e75-DiceLoss\n",
    "    0, # timm-resnest14d-Unet-f13-bs16-e75-DiceLoss\n",
    "    0, # timm-res2net50_26w_4s-Unet-f18-bs16-e75-DiceLoss\n",
    "]\n",
    "# print models in current submission\n",
    "for i in range(len(folders)):\n",
    "    if other_submission[i] > 0:\n",
    "        print(names[folders[i]])\n",
    "print(f\"Other submission dice score: {dice_fitness(other_submission, pred_array, targets):.4f}\")"
   ],
   "metadata": {
    "collapsed": false,
    "ExecuteTime": {
     "start_time": "2024-02-21T11:00:20.839161100Z"
    }
   },
   "id": "21334b61c10e7bbd"
  },
  {
   "cell_type": "markdown",
   "source": [
    "# Visualisation"
   ],
   "metadata": {
    "collapsed": false
   },
   "id": "79f955892447f259"
  },
  {
   "cell_type": "code",
   "execution_count": null,
   "outputs": [],
   "source": [
    "# Treat the correlation as a distance and use hierarchical clustering to group the models\n",
    "import scipy.cluster.hierarchy as sch\n",
    "import matplotlib.pyplot as plt\n",
    "\n",
    "labels = [f\"({dice_scores[folder]:.4f}) {best_individual[i]}x {names[folder]}\" for i, folder in enumerate(folders)]\n",
    "dendrogram = sch.dendrogram(sch.linkage(1 - corr, method='ward'), labels=labels, orientation=\"left\")\n",
    "# add the names of the models to the x-axis\n",
    "plt.show()"
   ],
   "metadata": {
    "collapsed": false,
    "ExecuteTime": {
     "start_time": "2024-02-21T11:00:20.840159600Z"
    }
   },
   "id": "36872b8aea78974a"
  },
  {
   "cell_type": "code",
   "execution_count": null,
   "outputs": [],
   "source": [
    "# Use PCA to visualise the models in 2D with the correlation as distance\n",
    "from sklearn.decomposition import PCA\n",
    "pca = PCA(n_components=2)\n",
    "embedding = pca.fit_transform(1 - corr)\n",
    "\n",
    "\n",
    "# plot with plotly express interactive\n",
    "fig = px.scatter(x=embedding[:, 0], y=embedding[:, 1], text=[f\"({dice_scores[folder]:.4f}) {names[folder][:14]}\" for folder in folders])\n",
    "\n",
    "# show the location of the best linear combination\n",
    "best_normed = best_individual / sum(best_individual)\n",
    "dice = dice_fitness(best_individual, pred_array, targets)\n",
    "fig.add_scatter(x=[np.dot(embedding[:, 0], best_normed)], y=[np.dot(embedding[:, 1], best_normed)], mode=\"markers\", marker=dict(size=10, color=\"red\"), name=\"Genetic Algorithm weights\", text=f\"({dice:.4f})\")\n",
    "\n",
    "# show the location of the linear regression weights\n",
    "dice = dice_fitness(weights, pred_array, targets)\n",
    "fig.add_scatter(x=[np.dot(embedding[:, 0], weights)], y=[np.dot(embedding[:, 1], weights)], mode=\"markers\", marker=dict(size=10, color=\"green\"), name=\"Linear regression weights\", text=f\"({dice:.4f})\")\n",
    "\n",
    "# show the location of the simple ensemble\n",
    "simple_weights = simple_selection / sum(simple_selection)\n",
    "dice = dice_fitness(simple_selection, pred_array, targets)\n",
    "fig.add_scatter(x=[np.dot(embedding[:, 0], simple_weights)], y=[np.dot(embedding[:, 1], simple_weights)], mode=\"markers\", marker=dict(size=10, color=\"blue\"), name=\"Top 3 model ensemble\", text=f\"({dice:.4f})\")\n",
    "\n",
    "# show the location of the optimal ensemble according to best_selection\n",
    "best_selection_weights = np.array(best_selection) / sum(best_selection)\n",
    "dice = dice_fitness(best_selection, pred_array, targets)\n",
    "fig.add_scatter(x=[np.dot(embedding[:, 0], best_selection_weights)], y=[np.dot(embedding[:, 1], best_selection_weights)], mode=\"markers\", marker=dict(size=10, color=\"purple\"), name=\"Optimal MSE binary ensemble\", text=f\"({dice:.4f})\")\n",
    "\n",
    "# show the location of the current submission\n",
    "current_submission_weights = np.array(current_submission) / sum(current_submission)\n",
    "dice = dice_fitness(current_submission, pred_array, targets)\n",
    "fig.add_scatter(x=[np.dot(embedding[:, 0], current_submission_weights)], y=[np.dot(embedding[:, 1], current_submission_weights)], mode=\"markers\", marker=dict(size=10, color=\"orange\"), name=\"Current submission\", text=f\"({dice:.4f})\")\n",
    "\n",
    "fig.show()"
   ],
   "metadata": {
    "collapsed": false,
    "ExecuteTime": {
     "start_time": "2024-02-21T11:00:20.841157Z"
    }
   },
   "id": "c5377090c7e82e95"
  },
  {
   "cell_type": "code",
   "execution_count": null,
   "outputs": [],
   "source": [
    "# DO the same thing in 3D\n",
    "pca = PCA(n_components=3)\n",
    "embedding = pca.fit_transform(1 - corr)\n",
    "\n",
    "# plot with plotly express interactive\n",
    "fig = px.scatter_3d(x=embedding[:, 0], y=embedding[:, 1], z=embedding[:, 2], text=[f\"({dice_scores[folder]:.4f}) {names[folder][:14]}\" for folder in folders])\n",
    "\n",
    "# show the location of the best linear combination\n",
    "best_normed = best_individual / sum(best_individual)\n",
    "dice = dice_fitness(best_individual, pred_array, targets)\n",
    "fig.add_scatter3d(x=[np.dot(embedding[:, 0], best_normed)], y=[np.dot(embedding[:, 1], best_normed)], z=[np.dot(embedding[:, 2], best_normed)], mode=\"markers\", marker=dict(size=10, color=\"red\"), name=\"Genetic Algorithm weights\", text=f\"({dice:.4f})\")\n",
    "\n",
    "# show the location of the linear regression weights\n",
    "dice = dice_fitness(weights, pred_array, targets)\n",
    "fig.add_scatter3d(x=[np.dot(embedding[:, 0], weights)], y=[np.dot(embedding[:, 1], weights)], z=[np.dot(embedding[:, 2], weights)], mode=\"markers\", marker=dict(size=10, color=\"green\"), name=\"Linear regression weights\", text=f\"({dice:.4f})\")\n",
    "\n",
    "# show the location of the simple ensemble\n",
    "simple_weights = simple_selection / sum(simple_selection)\n",
    "dice = dice_fitness(simple_selection, pred_array, targets)\n",
    "fig.add_scatter3d(x=[np.dot(embedding[:, 0], simple_weights)], y=[np.dot(embedding[:, 1], simple_weights)], z=[np.dot(embedding[:, 2], simple_weights)], mode=\"markers\", marker=dict(size=10, color=\"blue\"), name=\"Top 3 model ensemble\", text=f\"({dice:.4f})\")\n",
    "\n",
    "# show the location of the optimal ensemble according to best_selection\n",
    "best_selection_weights = np.array(best_selection) / sum(best_selection)\n",
    "dice = dice_fitness(best_selection, pred_array, targets)\n",
    "fig.add_scatter3d(x=[np.dot(embedding[:, 0], best_selection_weights)], y=[np.dot(embedding[:, 1], best_selection_weights)], z=[np.dot(embedding[:, 2], best_selection_weights)], mode=\"markers\", marker=dict(size=10, color=\"purple\"), name=\"Optimal MSE binary ensemble\", text=f\"({dice:.4f})\")\n",
    "\n",
    "fig.show()"
   ],
   "metadata": {
    "collapsed": false,
    "ExecuteTime": {
     "start_time": "2024-02-21T11:00:20.842157Z"
    }
   },
   "id": "3dfd6faa44ba1774"
  },
  {
   "cell_type": "code",
   "execution_count": null,
   "outputs": [],
   "source": [
    "# show the correlation matrix heatmap\n",
    "import seaborn as sns\n",
    "sns.heatmap(corr, xticklabels=[f\"({dice_scores[folder]:.4f}) {names[folder]}\" for folder in folders], yticklabels=[f\"({dice_scores[folder]:.4f}) {names[folder]}\" for folder in folders], annot=True)\n",
    "plt.show()"
   ],
   "metadata": {
    "collapsed": false,
    "ExecuteTime": {
     "start_time": "2024-02-21T11:00:20.843156100Z"
    }
   },
   "id": "a944f18c85ea6304"
  }
 ],
 "metadata": {
  "kernelspec": {
   "display_name": "Python 3",
   "language": "python",
   "name": "python3"
  },
  "language_info": {
   "codemirror_mode": {
    "name": "ipython",
    "version": 2
   },
   "file_extension": ".py",
   "mimetype": "text/x-python",
   "name": "python",
   "nbconvert_exporter": "python",
   "pygments_lexer": "ipython2",
   "version": "2.7.6"
  }
 },
 "nbformat": 4,
 "nbformat_minor": 5
}
