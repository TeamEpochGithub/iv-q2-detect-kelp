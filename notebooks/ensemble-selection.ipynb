{
 "cells": [
  {
   "cell_type": "code",
   "execution_count": 304,
   "outputs": [],
   "source": [
    "import numpy as np\n",
    "import pandas as pd\n",
    "import glob\n",
    "import os\n",
    "from omegaconf import OmegaConf\n",
    "import skimage\n",
    "from tqdm.notebook import tqdm, trange"
   ],
   "metadata": {
    "collapsed": false,
    "ExecuteTime": {
     "end_time": "2024-02-20T13:09:02.342830400Z",
     "start_time": "2024-02-20T13:09:02.331826500Z"
    }
   },
   "id": "14cbbea0e7ec61a6"
  },
  {
   "cell_type": "code",
   "execution_count": 305,
   "outputs": [],
   "source": [
    "# Define parameters here\n",
    "start_date = \"2024-02-19\"\n",
    "max_images = 424242\n",
    "output_path = \"../outputs\"\n",
    "target_path = \"../data/raw/train_kelp/\""
   ],
   "metadata": {
    "collapsed": false,
    "ExecuteTime": {
     "end_time": "2024-02-20T13:09:03.294821300Z",
     "start_time": "2024-02-20T13:09:03.273270400Z"
    }
   },
   "id": "a9fc316582519e43"
  },
  {
   "cell_type": "code",
   "execution_count": 306,
   "outputs": [
    {
     "name": "stdout",
     "output_type": "stream",
     "text": [
      "../outputs\\2024-02-19\\14-58-07\\\n",
      "../outputs\\2024-02-19\\15-16-43\\\n",
      "../outputs\\2024-02-19\\15-55-52\\\n",
      "../outputs\\2024-02-19\\16-01-33\\\n",
      "../outputs\\2024-02-19\\16-37-53\\\n",
      "../outputs\\2024-02-19\\16-49-42\\\n",
      "../outputs\\2024-02-19\\17-22-32\\\n",
      "../outputs\\2024-02-19\\17-38-08\\\n",
      "../outputs\\2024-02-19\\17-50-54\\\n",
      "../outputs\\2024-02-19\\17-55-40\\\n",
      "../outputs\\2024-02-19\\18-13-00\\\n",
      "../outputs\\2024-02-19\\18-40-20\\\n",
      "../outputs\\2024-02-19\\23-38-11\\\n",
      "../outputs\\2024-02-19\\23-51-19\\\n",
      "../outputs\\2024-02-20\\01-16-30\\\n",
      "Found 15 suitable folders\n"
     ]
    }
   ],
   "source": [
    "# Search for suitable output folders\n",
    "folders = []\n",
    "confs = dict()\n",
    "for day_folder in glob.glob(os.path.join(output_path, \"*/\")):\n",
    "    if day_folder.split(os.sep)[-2] < start_date:\n",
    "        continue       \n",
    "    for timestamp_folder in glob.glob(os.path.join(day_folder, \"*/\")):\n",
    "        if not os.path.exists(os.path.join(timestamp_folder, \"preds\")):\n",
    "            continue\n",
    "        \n",
    "        # read the .hydra/config.yaml file with omegaconf into a dictionary\n",
    "        with open(os.path.join(timestamp_folder, \".hydra\", \"config.yaml\"), \"r\") as f:\n",
    "            cfg = OmegaConf.load(f)\n",
    "            \n",
    "        if \"test_size\" not in cfg or cfg.test_size != 0.2:\n",
    "            continue\n",
    "        \n",
    "        confs[timestamp_folder] = cfg            \n",
    "        print(timestamp_folder)\n",
    "        folders.append(timestamp_folder)\n",
    "print(f\"Found {len(folders)} suitable folders\")"
   ],
   "metadata": {
    "collapsed": false,
    "ExecuteTime": {
     "end_time": "2024-02-20T13:09:10.330020100Z",
     "start_time": "2024-02-20T13:09:09.851345300Z"
    }
   },
   "id": "4814e0907416f14"
  },
  {
   "cell_type": "code",
   "execution_count": 307,
   "outputs": [
    {
     "name": "stdout",
     "output_type": "stream",
     "text": [
      "Remaining folders: 14\n"
     ]
    }
   ],
   "source": [
    "# Filter out folders with identical configurations\n",
    "unique_confs = dict()\n",
    "for folder, conf in confs.items():\n",
    "    if conf not in unique_confs.values():\n",
    "        unique_confs[folder] = conf\n",
    "folders = list(unique_confs.keys())\n",
    "print(f\"Remaining folders: {len(folders)}\")"
   ],
   "metadata": {
    "collapsed": false,
    "ExecuteTime": {
     "end_time": "2024-02-20T13:09:13.233005700Z",
     "start_time": "2024-02-20T13:09:13.186995800Z"
    }
   },
   "id": "9b234de836eea921"
  },
  {
   "cell_type": "code",
   "execution_count": 308,
   "outputs": [],
   "source": [
    "# Read the filenames inside the first folder\n",
    "filenames = glob.glob(os.path.join(folders[0], \"preds\", \"*.tif\"))\n",
    "image_names = [os.path.basename(f)[:-9] for f in filenames]"
   ],
   "metadata": {
    "collapsed": false,
    "ExecuteTime": {
     "end_time": "2024-02-20T13:09:17.558696100Z",
     "start_time": "2024-02-20T13:09:17.524687500Z"
    }
   },
   "id": "4406758953145ea9"
  },
  {
   "cell_type": "code",
   "execution_count": 309,
   "outputs": [],
   "source": [
    "# have a dictionary of the feature combinations:\n",
    "feature_combinations = {\n",
    "    \"f13\": [0,1,2,3,4,7,8,9,10,11,12,13,14],\n",
    "    \"f18\": [0,1,2,3,4,7,8,9,10,11,12,13,14,15,16,17,18,19],\n",
    "    \"fm1\": [0,1,2,7,13,14,18,19],\n",
    "    \"fm2\": [0,1,2,3,4,12,19],\n",
    "    \"fm3\": [7,8,9,10,11,12,13,14,15,16,17,18,19],\n",
    "    \"fm4\": [0,1,2,3,4,19], \n",
    "}"
   ],
   "metadata": {
    "collapsed": false,
    "ExecuteTime": {
     "end_time": "2024-02-20T13:09:17.972318Z",
     "start_time": "2024-02-20T13:09:17.949808900Z"
    }
   },
   "id": "95eb8bc2f93c7ce4"
  },
  {
   "cell_type": "code",
   "execution_count": 310,
   "outputs": [
    {
     "name": "stdout",
     "output_type": "stream",
     "text": [
      "../outputs\\2024-02-19\\14-58-07\\ vgg13-Unet-f18-bs16-e75-FocalDiceBoundaryLoss\n",
      "../outputs\\2024-02-19\\15-16-43\\ vgg13-Unet-f13-bs16-e75-DiceLoss\n",
      "../outputs\\2024-02-19\\15-55-52\\ vgg13-Unet-f18-bs16-e75-DiceLoss\n",
      "../outputs\\2024-02-19\\16-01-33\\ SwinUNETR-f13-bs16-e75-DiceLoss\n",
      "../outputs\\2024-02-19\\16-37-53\\ vgg13-Unet-fm4-bs16-e75-DiceLoss\n",
      "../outputs\\2024-02-19\\16-49-42\\ vgg13-Unet-fm2-bs16-e75-DiceLoss\n",
      "../outputs\\2024-02-19\\17-22-32\\ vgg13-Unet-f18-bs16-e75-FocalDice2BoundaryLoss\n",
      "../outputs\\2024-02-19\\17-38-08\\ SwinUNETR-f18-bs16-e75-FocalDiceBoundaryLoss\n",
      "../outputs\\2024-02-19\\17-50-54\\ vgg13-Unet-f13-bs16-e75-FocalDiceBoundaryLoss\n",
      "../outputs\\2024-02-19\\17-55-40\\ SwinUNETR-f13-bs16-e75-FocalDiceBoundaryLoss\n",
      "../outputs\\2024-02-19\\18-13-00\\ timm-resnest14d-Unet-f13-bs16-e75-DiceLoss\n",
      "../outputs\\2024-02-19\\18-40-20\\ timm-res2net50_26w_4s-Unet-f13-bs16-e75-DiceLoss\n",
      "../outputs\\2024-02-19\\23-38-11\\ timm-res2net50_26w_4s-Unet-f18-bs16-e75-DiceLoss\n",
      "../outputs\\2024-02-19\\23-51-19\\ SwinUNETR-f18-bs16-e75-DiceLoss\n"
     ]
    }
   ],
   "source": [
    "# Create a name based on the config\n",
    "names = dict()\n",
    "for folder in folders:\n",
    "    conf = confs[folder]\n",
    "    name = conf.model.model_loop_pipeline.model_blocks_pipeline.model_blocks[0].model.model._target_.split(\".\")[-1]\n",
    "    if name == \"Unet\":\n",
    "        name = f\"{conf.model.model_loop_pipeline.model_blocks_pipeline.model_blocks[0].model.model.encoder_name}-{name}\"\n",
    "        \n",
    "    # find the feature name based on the column selection\n",
    "    for feature_name, feature_columns in feature_combinations.items():\n",
    "        if feature_columns == conf.model.model_loop_pipeline.pretrain_pipeline.pretrain_steps[1].columns:\n",
    "            name += f\"-{feature_name}\"\n",
    "            break\n",
    "\n",
    "    name += f\"-bs{conf.model.model_loop_pipeline.model_blocks_pipeline.model_blocks[0].batch_size}\"\n",
    "    name += f\"-e{conf.model.model_loop_pipeline.model_blocks_pipeline.model_blocks[0].epochs}\"\n",
    "    name += f\"-{conf.model.model_loop_pipeline.model_blocks_pipeline.model_blocks[0].criterion._target_.split('.')[-1]}\"\n",
    "    names[folder] = name\n",
    "for folder, name in names.items():\n",
    "    print(folder, name)"
   ],
   "metadata": {
    "collapsed": false,
    "ExecuteTime": {
     "end_time": "2024-02-20T13:09:18.592036800Z",
     "start_time": "2024-02-20T13:09:18.550979300Z"
    }
   },
   "id": "b228be1589fd9531"
  },
  {
   "cell_type": "code",
   "execution_count": 311,
   "outputs": [],
   "source": [
    "# Take the first max_images images\n",
    "image_selection = image_names[:min(max_images, len(image_names))]"
   ],
   "metadata": {
    "collapsed": false,
    "ExecuteTime": {
     "end_time": "2024-02-20T13:09:19.931918200Z",
     "start_time": "2024-02-20T13:09:19.910913500Z"
    }
   },
   "id": "76ff6d2cb86d38e2"
  },
  {
   "cell_type": "code",
   "execution_count": 312,
   "outputs": [
    {
     "data": {
      "text/plain": "  0%|          | 0/1127 [00:00<?, ?it/s]",
      "application/vnd.jupyter.widget-view+json": {
       "version_major": 2,
       "version_minor": 0,
       "model_id": "e618e62e461549548db516657c8fc540"
      }
     },
     "metadata": {},
     "output_type": "display_data"
    }
   ],
   "source": [
    "# Load the target tiffs into an array\n",
    "targets = []\n",
    "for image_name in tqdm(image_selection):\n",
    "    target = skimage.io.imread(os.path.join(target_path, f\"{image_name}_kelp.tif\"))\n",
    "    targets.append(target)\n",
    "targets = np.array(targets).flatten()"
   ],
   "metadata": {
    "collapsed": false,
    "ExecuteTime": {
     "end_time": "2024-02-20T13:09:23.384758100Z",
     "start_time": "2024-02-20T13:09:21.918644Z"
    }
   },
   "id": "b47c8eca0f56d075"
  },
  {
   "cell_type": "code",
   "execution_count": 313,
   "outputs": [
    {
     "data": {
      "text/plain": "  0%|          | 0/14 [00:00<?, ?it/s]",
      "application/vnd.jupyter.widget-view+json": {
       "version_major": 2,
       "version_minor": 0,
       "model_id": "996461e34ede4c5190bb0491261898c3"
      }
     },
     "metadata": {},
     "output_type": "display_data"
    }
   ],
   "source": [
    "# Load the predictions into an array\n",
    "predictions = dict()\n",
    "for folder in tqdm(folders):\n",
    "    preds = []\n",
    "    for image_name in image_selection:\n",
    "        pred = skimage.io.imread(os.path.join(folder, \"preds\", f\"{image_name}_pred.tif\"))\n",
    "        preds.append(pred)\n",
    "    predictions[folder] = np.array(preds).flatten()"
   ],
   "metadata": {
    "collapsed": false,
    "ExecuteTime": {
     "end_time": "2024-02-20T13:09:42.988023600Z",
     "start_time": "2024-02-20T13:09:23.945412800Z"
    }
   },
   "id": "923568e1d4df43af"
  },
  {
   "cell_type": "code",
   "execution_count": 314,
   "outputs": [
    {
     "data": {
      "text/plain": "  0%|          | 0/14 [00:00<?, ?it/s]",
      "application/vnd.jupyter.widget-view+json": {
       "version_major": 2,
       "version_minor": 0,
       "model_id": "5fb07933595d4f889253d37588bf3918"
      }
     },
     "metadata": {},
     "output_type": "display_data"
    }
   ],
   "source": [
    "# Calculate the dice scores and square error\n",
    "dice_scores = dict()\n",
    "square_errors = dict()\n",
    "for folder, preds in tqdm(predictions.items()):\n",
    "    preds = preds > 0.5\n",
    "    dice_scores[folder] = 2 * np.sum(targets * preds) / (np.sum(targets) + np.sum(preds))   \n",
    "    square_errors[folder] = np.mean((targets - preds) ** 2)"
   ],
   "metadata": {
    "collapsed": false,
    "ExecuteTime": {
     "end_time": "2024-02-20T13:10:00.539769600Z",
     "start_time": "2024-02-20T13:09:51.030734700Z"
    }
   },
   "id": "e3de2df21717d041"
  },
  {
   "cell_type": "code",
   "execution_count": 315,
   "outputs": [
    {
     "name": "stdout",
     "output_type": "stream",
     "text": [
      "Remaining models: 14\n"
     ]
    }
   ],
   "source": [
    "# Remove all models with dice score below 0.6\n",
    "folders = [folder for folder in folders if dice_scores[folder] > 0.6]\n",
    "print(f\"Remaining models: {len(folders)}\")"
   ],
   "metadata": {
    "collapsed": false,
    "ExecuteTime": {
     "end_time": "2024-02-20T13:10:00.559774600Z",
     "start_time": "2024-02-20T13:10:00.541770100Z"
    }
   },
   "id": "ab56073961f03988"
  },
  {
   "cell_type": "code",
   "execution_count": 316,
   "outputs": [],
   "source": [
    "# Sort the folders by dice score\n",
    "folders = sorted(folders, key=lambda folder: dice_scores[folder], reverse=True)"
   ],
   "metadata": {
    "collapsed": false,
    "ExecuteTime": {
     "end_time": "2024-02-20T13:10:00.601289100Z",
     "start_time": "2024-02-20T13:10:00.556773400Z"
    }
   },
   "id": "af46844318af9563"
  },
  {
   "cell_type": "code",
   "execution_count": 260,
   "outputs": [],
   "source": [
    "# Create a dataframe with the results\n",
    "df = pd.DataFrame({\n",
    "    \"name\": [names[folder] for folder in folders],\n",
    "    \"dice_score\": [dice_scores[folder] for folder in folders],\n",
    "    \"square_error\": [square_errors[folder] for folder in folders]\n",
    "})"
   ],
   "metadata": {
    "collapsed": false,
    "ExecuteTime": {
     "end_time": "2024-02-20T09:20:51.397997600Z",
     "start_time": "2024-02-20T09:20:51.355986600Z"
    }
   },
   "id": "bd45008b09522c5a"
  },
  {
   "cell_type": "code",
   "execution_count": 261,
   "outputs": [
    {
     "data": {
      "application/vnd.plotly.v1+json": {
       "data": [
        {
         "hovertemplate": "dice_score=%{x}<br>square_error=%{y}<br>name=%{text}<extra></extra>",
         "legendgroup": "",
         "marker": {
          "color": "#636efa",
          "symbol": "circle"
         },
         "mode": "markers+text",
         "name": "",
         "orientation": "v",
         "showlegend": false,
         "text": [
          "SwinUNETR-f18-bs16-e75-FocalDiceBoundaryLoss",
          "vgg13-Unet-f18-bs16-e75-FocalDice2BoundaryLoss",
          "vgg13-Unet-f13-bs16-e75-FocalDiceBoundaryLoss",
          "vgg13-Unet-f18-bs16-e75-DiceLoss",
          "vgg13-Unet-f18-bs16-e75-FocalDiceBoundaryLoss",
          "SwinUNETR-f18-bs16-e75-DiceLoss",
          "SwinUNETR-f13-bs16-e75-DiceLoss",
          "vgg13-Unet-f13-bs16-e75-DiceLoss",
          "timm-res2net50_26w_4s-Unet-f13-bs16-e75-DiceLoss",
          "vgg13-Unet-f6-bs16-e75-DiceLoss",
          "SwinUNETR-f13-bs16-e75-FocalDiceBoundaryLoss",
          "vgg13-Unet-f7-bs16-e75-DiceLoss",
          "timm-resnest14d-Unet-f13-bs16-e75-DiceLoss",
          "timm-res2net50_26w_4s-Unet-f18-bs16-e75-DiceLoss"
         ],
         "x": [
          0.7108714599297189,
          0.7096790379891593,
          0.7093946026303101,
          0.7090091820146841,
          0.7085422191430709,
          0.7082098777711783,
          0.7081584095836048,
          0.7075618136981727,
          0.7074130000634083,
          0.7061121728482657,
          0.7052038246421212,
          0.7040664120766269,
          0.703989264639001,
          0.703211657605398
         ],
         "xaxis": "x",
         "y": [
          0.003693207540336454,
          0.003604179417996125,
          0.003675801749271137,
          0.0037756731796534052,
          0.003626177498506057,
          0.003718573782663021,
          0.003719088061133948,
          0.003755435235318617,
          0.0037768248736939317,
          0.0037203049454031835,
          0.003721210365246365,
          0.003842717708201293,
          0.003818727704036362,
          0.003932738170689749
         ],
         "yaxis": "y",
         "type": "scatter"
        }
       ],
       "layout": {
        "template": {
         "data": {
          "histogram2dcontour": [
           {
            "type": "histogram2dcontour",
            "colorbar": {
             "outlinewidth": 0,
             "ticks": ""
            },
            "colorscale": [
             [
              0.0,
              "#0d0887"
             ],
             [
              0.1111111111111111,
              "#46039f"
             ],
             [
              0.2222222222222222,
              "#7201a8"
             ],
             [
              0.3333333333333333,
              "#9c179e"
             ],
             [
              0.4444444444444444,
              "#bd3786"
             ],
             [
              0.5555555555555556,
              "#d8576b"
             ],
             [
              0.6666666666666666,
              "#ed7953"
             ],
             [
              0.7777777777777778,
              "#fb9f3a"
             ],
             [
              0.8888888888888888,
              "#fdca26"
             ],
             [
              1.0,
              "#f0f921"
             ]
            ]
           }
          ],
          "choropleth": [
           {
            "type": "choropleth",
            "colorbar": {
             "outlinewidth": 0,
             "ticks": ""
            }
           }
          ],
          "histogram2d": [
           {
            "type": "histogram2d",
            "colorbar": {
             "outlinewidth": 0,
             "ticks": ""
            },
            "colorscale": [
             [
              0.0,
              "#0d0887"
             ],
             [
              0.1111111111111111,
              "#46039f"
             ],
             [
              0.2222222222222222,
              "#7201a8"
             ],
             [
              0.3333333333333333,
              "#9c179e"
             ],
             [
              0.4444444444444444,
              "#bd3786"
             ],
             [
              0.5555555555555556,
              "#d8576b"
             ],
             [
              0.6666666666666666,
              "#ed7953"
             ],
             [
              0.7777777777777778,
              "#fb9f3a"
             ],
             [
              0.8888888888888888,
              "#fdca26"
             ],
             [
              1.0,
              "#f0f921"
             ]
            ]
           }
          ],
          "heatmap": [
           {
            "type": "heatmap",
            "colorbar": {
             "outlinewidth": 0,
             "ticks": ""
            },
            "colorscale": [
             [
              0.0,
              "#0d0887"
             ],
             [
              0.1111111111111111,
              "#46039f"
             ],
             [
              0.2222222222222222,
              "#7201a8"
             ],
             [
              0.3333333333333333,
              "#9c179e"
             ],
             [
              0.4444444444444444,
              "#bd3786"
             ],
             [
              0.5555555555555556,
              "#d8576b"
             ],
             [
              0.6666666666666666,
              "#ed7953"
             ],
             [
              0.7777777777777778,
              "#fb9f3a"
             ],
             [
              0.8888888888888888,
              "#fdca26"
             ],
             [
              1.0,
              "#f0f921"
             ]
            ]
           }
          ],
          "heatmapgl": [
           {
            "type": "heatmapgl",
            "colorbar": {
             "outlinewidth": 0,
             "ticks": ""
            },
            "colorscale": [
             [
              0.0,
              "#0d0887"
             ],
             [
              0.1111111111111111,
              "#46039f"
             ],
             [
              0.2222222222222222,
              "#7201a8"
             ],
             [
              0.3333333333333333,
              "#9c179e"
             ],
             [
              0.4444444444444444,
              "#bd3786"
             ],
             [
              0.5555555555555556,
              "#d8576b"
             ],
             [
              0.6666666666666666,
              "#ed7953"
             ],
             [
              0.7777777777777778,
              "#fb9f3a"
             ],
             [
              0.8888888888888888,
              "#fdca26"
             ],
             [
              1.0,
              "#f0f921"
             ]
            ]
           }
          ],
          "contourcarpet": [
           {
            "type": "contourcarpet",
            "colorbar": {
             "outlinewidth": 0,
             "ticks": ""
            }
           }
          ],
          "contour": [
           {
            "type": "contour",
            "colorbar": {
             "outlinewidth": 0,
             "ticks": ""
            },
            "colorscale": [
             [
              0.0,
              "#0d0887"
             ],
             [
              0.1111111111111111,
              "#46039f"
             ],
             [
              0.2222222222222222,
              "#7201a8"
             ],
             [
              0.3333333333333333,
              "#9c179e"
             ],
             [
              0.4444444444444444,
              "#bd3786"
             ],
             [
              0.5555555555555556,
              "#d8576b"
             ],
             [
              0.6666666666666666,
              "#ed7953"
             ],
             [
              0.7777777777777778,
              "#fb9f3a"
             ],
             [
              0.8888888888888888,
              "#fdca26"
             ],
             [
              1.0,
              "#f0f921"
             ]
            ]
           }
          ],
          "surface": [
           {
            "type": "surface",
            "colorbar": {
             "outlinewidth": 0,
             "ticks": ""
            },
            "colorscale": [
             [
              0.0,
              "#0d0887"
             ],
             [
              0.1111111111111111,
              "#46039f"
             ],
             [
              0.2222222222222222,
              "#7201a8"
             ],
             [
              0.3333333333333333,
              "#9c179e"
             ],
             [
              0.4444444444444444,
              "#bd3786"
             ],
             [
              0.5555555555555556,
              "#d8576b"
             ],
             [
              0.6666666666666666,
              "#ed7953"
             ],
             [
              0.7777777777777778,
              "#fb9f3a"
             ],
             [
              0.8888888888888888,
              "#fdca26"
             ],
             [
              1.0,
              "#f0f921"
             ]
            ]
           }
          ],
          "mesh3d": [
           {
            "type": "mesh3d",
            "colorbar": {
             "outlinewidth": 0,
             "ticks": ""
            }
           }
          ],
          "scatter": [
           {
            "fillpattern": {
             "fillmode": "overlay",
             "size": 10,
             "solidity": 0.2
            },
            "type": "scatter"
           }
          ],
          "parcoords": [
           {
            "type": "parcoords",
            "line": {
             "colorbar": {
              "outlinewidth": 0,
              "ticks": ""
             }
            }
           }
          ],
          "scatterpolargl": [
           {
            "type": "scatterpolargl",
            "marker": {
             "colorbar": {
              "outlinewidth": 0,
              "ticks": ""
             }
            }
           }
          ],
          "bar": [
           {
            "error_x": {
             "color": "#2a3f5f"
            },
            "error_y": {
             "color": "#2a3f5f"
            },
            "marker": {
             "line": {
              "color": "#E5ECF6",
              "width": 0.5
             },
             "pattern": {
              "fillmode": "overlay",
              "size": 10,
              "solidity": 0.2
             }
            },
            "type": "bar"
           }
          ],
          "scattergeo": [
           {
            "type": "scattergeo",
            "marker": {
             "colorbar": {
              "outlinewidth": 0,
              "ticks": ""
             }
            }
           }
          ],
          "scatterpolar": [
           {
            "type": "scatterpolar",
            "marker": {
             "colorbar": {
              "outlinewidth": 0,
              "ticks": ""
             }
            }
           }
          ],
          "histogram": [
           {
            "marker": {
             "pattern": {
              "fillmode": "overlay",
              "size": 10,
              "solidity": 0.2
             }
            },
            "type": "histogram"
           }
          ],
          "scattergl": [
           {
            "type": "scattergl",
            "marker": {
             "colorbar": {
              "outlinewidth": 0,
              "ticks": ""
             }
            }
           }
          ],
          "scatter3d": [
           {
            "type": "scatter3d",
            "line": {
             "colorbar": {
              "outlinewidth": 0,
              "ticks": ""
             }
            },
            "marker": {
             "colorbar": {
              "outlinewidth": 0,
              "ticks": ""
             }
            }
           }
          ],
          "scattermapbox": [
           {
            "type": "scattermapbox",
            "marker": {
             "colorbar": {
              "outlinewidth": 0,
              "ticks": ""
             }
            }
           }
          ],
          "scatterternary": [
           {
            "type": "scatterternary",
            "marker": {
             "colorbar": {
              "outlinewidth": 0,
              "ticks": ""
             }
            }
           }
          ],
          "scattercarpet": [
           {
            "type": "scattercarpet",
            "marker": {
             "colorbar": {
              "outlinewidth": 0,
              "ticks": ""
             }
            }
           }
          ],
          "carpet": [
           {
            "aaxis": {
             "endlinecolor": "#2a3f5f",
             "gridcolor": "white",
             "linecolor": "white",
             "minorgridcolor": "white",
             "startlinecolor": "#2a3f5f"
            },
            "baxis": {
             "endlinecolor": "#2a3f5f",
             "gridcolor": "white",
             "linecolor": "white",
             "minorgridcolor": "white",
             "startlinecolor": "#2a3f5f"
            },
            "type": "carpet"
           }
          ],
          "table": [
           {
            "cells": {
             "fill": {
              "color": "#EBF0F8"
             },
             "line": {
              "color": "white"
             }
            },
            "header": {
             "fill": {
              "color": "#C8D4E3"
             },
             "line": {
              "color": "white"
             }
            },
            "type": "table"
           }
          ],
          "barpolar": [
           {
            "marker": {
             "line": {
              "color": "#E5ECF6",
              "width": 0.5
             },
             "pattern": {
              "fillmode": "overlay",
              "size": 10,
              "solidity": 0.2
             }
            },
            "type": "barpolar"
           }
          ],
          "pie": [
           {
            "automargin": true,
            "type": "pie"
           }
          ]
         },
         "layout": {
          "autotypenumbers": "strict",
          "colorway": [
           "#636efa",
           "#EF553B",
           "#00cc96",
           "#ab63fa",
           "#FFA15A",
           "#19d3f3",
           "#FF6692",
           "#B6E880",
           "#FF97FF",
           "#FECB52"
          ],
          "font": {
           "color": "#2a3f5f"
          },
          "hovermode": "closest",
          "hoverlabel": {
           "align": "left"
          },
          "paper_bgcolor": "white",
          "plot_bgcolor": "#E5ECF6",
          "polar": {
           "bgcolor": "#E5ECF6",
           "angularaxis": {
            "gridcolor": "white",
            "linecolor": "white",
            "ticks": ""
           },
           "radialaxis": {
            "gridcolor": "white",
            "linecolor": "white",
            "ticks": ""
           }
          },
          "ternary": {
           "bgcolor": "#E5ECF6",
           "aaxis": {
            "gridcolor": "white",
            "linecolor": "white",
            "ticks": ""
           },
           "baxis": {
            "gridcolor": "white",
            "linecolor": "white",
            "ticks": ""
           },
           "caxis": {
            "gridcolor": "white",
            "linecolor": "white",
            "ticks": ""
           }
          },
          "coloraxis": {
           "colorbar": {
            "outlinewidth": 0,
            "ticks": ""
           }
          },
          "colorscale": {
           "sequential": [
            [
             0.0,
             "#0d0887"
            ],
            [
             0.1111111111111111,
             "#46039f"
            ],
            [
             0.2222222222222222,
             "#7201a8"
            ],
            [
             0.3333333333333333,
             "#9c179e"
            ],
            [
             0.4444444444444444,
             "#bd3786"
            ],
            [
             0.5555555555555556,
             "#d8576b"
            ],
            [
             0.6666666666666666,
             "#ed7953"
            ],
            [
             0.7777777777777778,
             "#fb9f3a"
            ],
            [
             0.8888888888888888,
             "#fdca26"
            ],
            [
             1.0,
             "#f0f921"
            ]
           ],
           "sequentialminus": [
            [
             0.0,
             "#0d0887"
            ],
            [
             0.1111111111111111,
             "#46039f"
            ],
            [
             0.2222222222222222,
             "#7201a8"
            ],
            [
             0.3333333333333333,
             "#9c179e"
            ],
            [
             0.4444444444444444,
             "#bd3786"
            ],
            [
             0.5555555555555556,
             "#d8576b"
            ],
            [
             0.6666666666666666,
             "#ed7953"
            ],
            [
             0.7777777777777778,
             "#fb9f3a"
            ],
            [
             0.8888888888888888,
             "#fdca26"
            ],
            [
             1.0,
             "#f0f921"
            ]
           ],
           "diverging": [
            [
             0,
             "#8e0152"
            ],
            [
             0.1,
             "#c51b7d"
            ],
            [
             0.2,
             "#de77ae"
            ],
            [
             0.3,
             "#f1b6da"
            ],
            [
             0.4,
             "#fde0ef"
            ],
            [
             0.5,
             "#f7f7f7"
            ],
            [
             0.6,
             "#e6f5d0"
            ],
            [
             0.7,
             "#b8e186"
            ],
            [
             0.8,
             "#7fbc41"
            ],
            [
             0.9,
             "#4d9221"
            ],
            [
             1,
             "#276419"
            ]
           ]
          },
          "xaxis": {
           "gridcolor": "white",
           "linecolor": "white",
           "ticks": "",
           "title": {
            "standoff": 15
           },
           "zerolinecolor": "white",
           "automargin": true,
           "zerolinewidth": 2
          },
          "yaxis": {
           "gridcolor": "white",
           "linecolor": "white",
           "ticks": "",
           "title": {
            "standoff": 15
           },
           "zerolinecolor": "white",
           "automargin": true,
           "zerolinewidth": 2
          },
          "scene": {
           "xaxis": {
            "backgroundcolor": "#E5ECF6",
            "gridcolor": "white",
            "linecolor": "white",
            "showbackground": true,
            "ticks": "",
            "zerolinecolor": "white",
            "gridwidth": 2
           },
           "yaxis": {
            "backgroundcolor": "#E5ECF6",
            "gridcolor": "white",
            "linecolor": "white",
            "showbackground": true,
            "ticks": "",
            "zerolinecolor": "white",
            "gridwidth": 2
           },
           "zaxis": {
            "backgroundcolor": "#E5ECF6",
            "gridcolor": "white",
            "linecolor": "white",
            "showbackground": true,
            "ticks": "",
            "zerolinecolor": "white",
            "gridwidth": 2
           }
          },
          "shapedefaults": {
           "line": {
            "color": "#2a3f5f"
           }
          },
          "annotationdefaults": {
           "arrowcolor": "#2a3f5f",
           "arrowhead": 0,
           "arrowwidth": 1
          },
          "geo": {
           "bgcolor": "white",
           "landcolor": "#E5ECF6",
           "subunitcolor": "white",
           "showland": true,
           "showlakes": true,
           "lakecolor": "white"
          },
          "title": {
           "x": 0.05
          },
          "mapbox": {
           "style": "light"
          }
         }
        },
        "xaxis": {
         "anchor": "y",
         "domain": [
          0.0,
          1.0
         ],
         "title": {
          "text": "dice_score"
         }
        },
        "yaxis": {
         "anchor": "x",
         "domain": [
          0.0,
          1.0
         ],
         "title": {
          "text": "square_error"
         }
        },
        "legend": {
         "tracegroupgap": 0
        },
        "margin": {
         "t": 60
        }
       },
       "config": {
        "plotlyServerURL": "https://plot.ly"
       }
      },
      "text/html": "<div>                            <div id=\"e18cf566-0bae-4035-87a4-a0a0171102ae\" class=\"plotly-graph-div\" style=\"height:525px; width:100%;\"></div>            <script type=\"text/javascript\">                require([\"plotly\"], function(Plotly) {                    window.PLOTLYENV=window.PLOTLYENV || {};                                    if (document.getElementById(\"e18cf566-0bae-4035-87a4-a0a0171102ae\")) {                    Plotly.newPlot(                        \"e18cf566-0bae-4035-87a4-a0a0171102ae\",                        [{\"hovertemplate\":\"dice_score=%{x}\\u003cbr\\u003esquare_error=%{y}\\u003cbr\\u003ename=%{text}\\u003cextra\\u003e\\u003c\\u002fextra\\u003e\",\"legendgroup\":\"\",\"marker\":{\"color\":\"#636efa\",\"symbol\":\"circle\"},\"mode\":\"markers+text\",\"name\":\"\",\"orientation\":\"v\",\"showlegend\":false,\"text\":[\"SwinUNETR-f18-bs16-e75-FocalDiceBoundaryLoss\",\"vgg13-Unet-f18-bs16-e75-FocalDice2BoundaryLoss\",\"vgg13-Unet-f13-bs16-e75-FocalDiceBoundaryLoss\",\"vgg13-Unet-f18-bs16-e75-DiceLoss\",\"vgg13-Unet-f18-bs16-e75-FocalDiceBoundaryLoss\",\"SwinUNETR-f18-bs16-e75-DiceLoss\",\"SwinUNETR-f13-bs16-e75-DiceLoss\",\"vgg13-Unet-f13-bs16-e75-DiceLoss\",\"timm-res2net50_26w_4s-Unet-f13-bs16-e75-DiceLoss\",\"vgg13-Unet-f6-bs16-e75-DiceLoss\",\"SwinUNETR-f13-bs16-e75-FocalDiceBoundaryLoss\",\"vgg13-Unet-f7-bs16-e75-DiceLoss\",\"timm-resnest14d-Unet-f13-bs16-e75-DiceLoss\",\"timm-res2net50_26w_4s-Unet-f18-bs16-e75-DiceLoss\"],\"x\":[0.7108714599297189,0.7096790379891593,0.7093946026303101,0.7090091820146841,0.7085422191430709,0.7082098777711783,0.7081584095836048,0.7075618136981727,0.7074130000634083,0.7061121728482657,0.7052038246421212,0.7040664120766269,0.703989264639001,0.703211657605398],\"xaxis\":\"x\",\"y\":[0.003693207540336454,0.003604179417996125,0.003675801749271137,0.0037756731796534052,0.003626177498506057,0.003718573782663021,0.003719088061133948,0.003755435235318617,0.0037768248736939317,0.0037203049454031835,0.003721210365246365,0.003842717708201293,0.003818727704036362,0.003932738170689749],\"yaxis\":\"y\",\"type\":\"scatter\"}],                        {\"template\":{\"data\":{\"histogram2dcontour\":[{\"type\":\"histogram2dcontour\",\"colorbar\":{\"outlinewidth\":0,\"ticks\":\"\"},\"colorscale\":[[0.0,\"#0d0887\"],[0.1111111111111111,\"#46039f\"],[0.2222222222222222,\"#7201a8\"],[0.3333333333333333,\"#9c179e\"],[0.4444444444444444,\"#bd3786\"],[0.5555555555555556,\"#d8576b\"],[0.6666666666666666,\"#ed7953\"],[0.7777777777777778,\"#fb9f3a\"],[0.8888888888888888,\"#fdca26\"],[1.0,\"#f0f921\"]]}],\"choropleth\":[{\"type\":\"choropleth\",\"colorbar\":{\"outlinewidth\":0,\"ticks\":\"\"}}],\"histogram2d\":[{\"type\":\"histogram2d\",\"colorbar\":{\"outlinewidth\":0,\"ticks\":\"\"},\"colorscale\":[[0.0,\"#0d0887\"],[0.1111111111111111,\"#46039f\"],[0.2222222222222222,\"#7201a8\"],[0.3333333333333333,\"#9c179e\"],[0.4444444444444444,\"#bd3786\"],[0.5555555555555556,\"#d8576b\"],[0.6666666666666666,\"#ed7953\"],[0.7777777777777778,\"#fb9f3a\"],[0.8888888888888888,\"#fdca26\"],[1.0,\"#f0f921\"]]}],\"heatmap\":[{\"type\":\"heatmap\",\"colorbar\":{\"outlinewidth\":0,\"ticks\":\"\"},\"colorscale\":[[0.0,\"#0d0887\"],[0.1111111111111111,\"#46039f\"],[0.2222222222222222,\"#7201a8\"],[0.3333333333333333,\"#9c179e\"],[0.4444444444444444,\"#bd3786\"],[0.5555555555555556,\"#d8576b\"],[0.6666666666666666,\"#ed7953\"],[0.7777777777777778,\"#fb9f3a\"],[0.8888888888888888,\"#fdca26\"],[1.0,\"#f0f921\"]]}],\"heatmapgl\":[{\"type\":\"heatmapgl\",\"colorbar\":{\"outlinewidth\":0,\"ticks\":\"\"},\"colorscale\":[[0.0,\"#0d0887\"],[0.1111111111111111,\"#46039f\"],[0.2222222222222222,\"#7201a8\"],[0.3333333333333333,\"#9c179e\"],[0.4444444444444444,\"#bd3786\"],[0.5555555555555556,\"#d8576b\"],[0.6666666666666666,\"#ed7953\"],[0.7777777777777778,\"#fb9f3a\"],[0.8888888888888888,\"#fdca26\"],[1.0,\"#f0f921\"]]}],\"contourcarpet\":[{\"type\":\"contourcarpet\",\"colorbar\":{\"outlinewidth\":0,\"ticks\":\"\"}}],\"contour\":[{\"type\":\"contour\",\"colorbar\":{\"outlinewidth\":0,\"ticks\":\"\"},\"colorscale\":[[0.0,\"#0d0887\"],[0.1111111111111111,\"#46039f\"],[0.2222222222222222,\"#7201a8\"],[0.3333333333333333,\"#9c179e\"],[0.4444444444444444,\"#bd3786\"],[0.5555555555555556,\"#d8576b\"],[0.6666666666666666,\"#ed7953\"],[0.7777777777777778,\"#fb9f3a\"],[0.8888888888888888,\"#fdca26\"],[1.0,\"#f0f921\"]]}],\"surface\":[{\"type\":\"surface\",\"colorbar\":{\"outlinewidth\":0,\"ticks\":\"\"},\"colorscale\":[[0.0,\"#0d0887\"],[0.1111111111111111,\"#46039f\"],[0.2222222222222222,\"#7201a8\"],[0.3333333333333333,\"#9c179e\"],[0.4444444444444444,\"#bd3786\"],[0.5555555555555556,\"#d8576b\"],[0.6666666666666666,\"#ed7953\"],[0.7777777777777778,\"#fb9f3a\"],[0.8888888888888888,\"#fdca26\"],[1.0,\"#f0f921\"]]}],\"mesh3d\":[{\"type\":\"mesh3d\",\"colorbar\":{\"outlinewidth\":0,\"ticks\":\"\"}}],\"scatter\":[{\"fillpattern\":{\"fillmode\":\"overlay\",\"size\":10,\"solidity\":0.2},\"type\":\"scatter\"}],\"parcoords\":[{\"type\":\"parcoords\",\"line\":{\"colorbar\":{\"outlinewidth\":0,\"ticks\":\"\"}}}],\"scatterpolargl\":[{\"type\":\"scatterpolargl\",\"marker\":{\"colorbar\":{\"outlinewidth\":0,\"ticks\":\"\"}}}],\"bar\":[{\"error_x\":{\"color\":\"#2a3f5f\"},\"error_y\":{\"color\":\"#2a3f5f\"},\"marker\":{\"line\":{\"color\":\"#E5ECF6\",\"width\":0.5},\"pattern\":{\"fillmode\":\"overlay\",\"size\":10,\"solidity\":0.2}},\"type\":\"bar\"}],\"scattergeo\":[{\"type\":\"scattergeo\",\"marker\":{\"colorbar\":{\"outlinewidth\":0,\"ticks\":\"\"}}}],\"scatterpolar\":[{\"type\":\"scatterpolar\",\"marker\":{\"colorbar\":{\"outlinewidth\":0,\"ticks\":\"\"}}}],\"histogram\":[{\"marker\":{\"pattern\":{\"fillmode\":\"overlay\",\"size\":10,\"solidity\":0.2}},\"type\":\"histogram\"}],\"scattergl\":[{\"type\":\"scattergl\",\"marker\":{\"colorbar\":{\"outlinewidth\":0,\"ticks\":\"\"}}}],\"scatter3d\":[{\"type\":\"scatter3d\",\"line\":{\"colorbar\":{\"outlinewidth\":0,\"ticks\":\"\"}},\"marker\":{\"colorbar\":{\"outlinewidth\":0,\"ticks\":\"\"}}}],\"scattermapbox\":[{\"type\":\"scattermapbox\",\"marker\":{\"colorbar\":{\"outlinewidth\":0,\"ticks\":\"\"}}}],\"scatterternary\":[{\"type\":\"scatterternary\",\"marker\":{\"colorbar\":{\"outlinewidth\":0,\"ticks\":\"\"}}}],\"scattercarpet\":[{\"type\":\"scattercarpet\",\"marker\":{\"colorbar\":{\"outlinewidth\":0,\"ticks\":\"\"}}}],\"carpet\":[{\"aaxis\":{\"endlinecolor\":\"#2a3f5f\",\"gridcolor\":\"white\",\"linecolor\":\"white\",\"minorgridcolor\":\"white\",\"startlinecolor\":\"#2a3f5f\"},\"baxis\":{\"endlinecolor\":\"#2a3f5f\",\"gridcolor\":\"white\",\"linecolor\":\"white\",\"minorgridcolor\":\"white\",\"startlinecolor\":\"#2a3f5f\"},\"type\":\"carpet\"}],\"table\":[{\"cells\":{\"fill\":{\"color\":\"#EBF0F8\"},\"line\":{\"color\":\"white\"}},\"header\":{\"fill\":{\"color\":\"#C8D4E3\"},\"line\":{\"color\":\"white\"}},\"type\":\"table\"}],\"barpolar\":[{\"marker\":{\"line\":{\"color\":\"#E5ECF6\",\"width\":0.5},\"pattern\":{\"fillmode\":\"overlay\",\"size\":10,\"solidity\":0.2}},\"type\":\"barpolar\"}],\"pie\":[{\"automargin\":true,\"type\":\"pie\"}]},\"layout\":{\"autotypenumbers\":\"strict\",\"colorway\":[\"#636efa\",\"#EF553B\",\"#00cc96\",\"#ab63fa\",\"#FFA15A\",\"#19d3f3\",\"#FF6692\",\"#B6E880\",\"#FF97FF\",\"#FECB52\"],\"font\":{\"color\":\"#2a3f5f\"},\"hovermode\":\"closest\",\"hoverlabel\":{\"align\":\"left\"},\"paper_bgcolor\":\"white\",\"plot_bgcolor\":\"#E5ECF6\",\"polar\":{\"bgcolor\":\"#E5ECF6\",\"angularaxis\":{\"gridcolor\":\"white\",\"linecolor\":\"white\",\"ticks\":\"\"},\"radialaxis\":{\"gridcolor\":\"white\",\"linecolor\":\"white\",\"ticks\":\"\"}},\"ternary\":{\"bgcolor\":\"#E5ECF6\",\"aaxis\":{\"gridcolor\":\"white\",\"linecolor\":\"white\",\"ticks\":\"\"},\"baxis\":{\"gridcolor\":\"white\",\"linecolor\":\"white\",\"ticks\":\"\"},\"caxis\":{\"gridcolor\":\"white\",\"linecolor\":\"white\",\"ticks\":\"\"}},\"coloraxis\":{\"colorbar\":{\"outlinewidth\":0,\"ticks\":\"\"}},\"colorscale\":{\"sequential\":[[0.0,\"#0d0887\"],[0.1111111111111111,\"#46039f\"],[0.2222222222222222,\"#7201a8\"],[0.3333333333333333,\"#9c179e\"],[0.4444444444444444,\"#bd3786\"],[0.5555555555555556,\"#d8576b\"],[0.6666666666666666,\"#ed7953\"],[0.7777777777777778,\"#fb9f3a\"],[0.8888888888888888,\"#fdca26\"],[1.0,\"#f0f921\"]],\"sequentialminus\":[[0.0,\"#0d0887\"],[0.1111111111111111,\"#46039f\"],[0.2222222222222222,\"#7201a8\"],[0.3333333333333333,\"#9c179e\"],[0.4444444444444444,\"#bd3786\"],[0.5555555555555556,\"#d8576b\"],[0.6666666666666666,\"#ed7953\"],[0.7777777777777778,\"#fb9f3a\"],[0.8888888888888888,\"#fdca26\"],[1.0,\"#f0f921\"]],\"diverging\":[[0,\"#8e0152\"],[0.1,\"#c51b7d\"],[0.2,\"#de77ae\"],[0.3,\"#f1b6da\"],[0.4,\"#fde0ef\"],[0.5,\"#f7f7f7\"],[0.6,\"#e6f5d0\"],[0.7,\"#b8e186\"],[0.8,\"#7fbc41\"],[0.9,\"#4d9221\"],[1,\"#276419\"]]},\"xaxis\":{\"gridcolor\":\"white\",\"linecolor\":\"white\",\"ticks\":\"\",\"title\":{\"standoff\":15},\"zerolinecolor\":\"white\",\"automargin\":true,\"zerolinewidth\":2},\"yaxis\":{\"gridcolor\":\"white\",\"linecolor\":\"white\",\"ticks\":\"\",\"title\":{\"standoff\":15},\"zerolinecolor\":\"white\",\"automargin\":true,\"zerolinewidth\":2},\"scene\":{\"xaxis\":{\"backgroundcolor\":\"#E5ECF6\",\"gridcolor\":\"white\",\"linecolor\":\"white\",\"showbackground\":true,\"ticks\":\"\",\"zerolinecolor\":\"white\",\"gridwidth\":2},\"yaxis\":{\"backgroundcolor\":\"#E5ECF6\",\"gridcolor\":\"white\",\"linecolor\":\"white\",\"showbackground\":true,\"ticks\":\"\",\"zerolinecolor\":\"white\",\"gridwidth\":2},\"zaxis\":{\"backgroundcolor\":\"#E5ECF6\",\"gridcolor\":\"white\",\"linecolor\":\"white\",\"showbackground\":true,\"ticks\":\"\",\"zerolinecolor\":\"white\",\"gridwidth\":2}},\"shapedefaults\":{\"line\":{\"color\":\"#2a3f5f\"}},\"annotationdefaults\":{\"arrowcolor\":\"#2a3f5f\",\"arrowhead\":0,\"arrowwidth\":1},\"geo\":{\"bgcolor\":\"white\",\"landcolor\":\"#E5ECF6\",\"subunitcolor\":\"white\",\"showland\":true,\"showlakes\":true,\"lakecolor\":\"white\"},\"title\":{\"x\":0.05},\"mapbox\":{\"style\":\"light\"}}},\"xaxis\":{\"anchor\":\"y\",\"domain\":[0.0,1.0],\"title\":{\"text\":\"dice_score\"}},\"yaxis\":{\"anchor\":\"x\",\"domain\":[0.0,1.0],\"title\":{\"text\":\"square_error\"}},\"legend\":{\"tracegroupgap\":0},\"margin\":{\"t\":60}},                        {\"responsive\": true}                    ).then(function(){\n                            \nvar gd = document.getElementById('e18cf566-0bae-4035-87a4-a0a0171102ae');\nvar x = new MutationObserver(function (mutations, observer) {{\n        var display = window.getComputedStyle(gd).display;\n        if (!display || display === 'none') {{\n            console.log([gd, 'removed!']);\n            Plotly.purge(gd);\n            observer.disconnect();\n        }}\n}});\n\n// Listen for the removal of the full notebook cells\nvar notebookContainer = gd.closest('#notebook-container');\nif (notebookContainer) {{\n    x.observe(notebookContainer, {childList: true});\n}}\n\n// Listen for the clearing of the current output cell\nvar outputEl = gd.closest('.output');\nif (outputEl) {{\n    x.observe(outputEl, {childList: true});\n}}\n\n                        })                };                });            </script>        </div>"
     },
     "metadata": {},
     "output_type": "display_data"
    }
   ],
   "source": [
    "# Create a scatterplot with plotly express\n",
    "import plotly.express as px\n",
    "fig = px.scatter(df, x=\"dice_score\", y=\"square_error\", text=\"name\")\n",
    "fig.show()"
   ],
   "metadata": {
    "collapsed": false,
    "ExecuteTime": {
     "end_time": "2024-02-20T09:20:51.414505200Z",
     "start_time": "2024-02-20T09:20:51.371989800Z"
    }
   },
   "id": "5696c4aa13c792ad"
  },
  {
   "cell_type": "markdown",
   "source": [
    "# Error minimization"
   ],
   "metadata": {
    "collapsed": false
   },
   "id": "c3f9d54e56a9d19"
  },
  {
   "cell_type": "code",
   "execution_count": 262,
   "outputs": [],
   "source": [
    "# Step 1 of the algorithm, compute error, error mean per base model, and a covariance matrix\n",
    "errors = np.array([predictions[folder] - targets for folder in folders])\n",
    "error_means = np.mean(errors, axis=1)\n",
    "covariance_matrix = np.cov(errors, bias=True)\n",
    "corr = np.corrcoef(errors)"
   ],
   "metadata": {
    "collapsed": false,
    "ExecuteTime": {
     "end_time": "2024-02-20T09:21:21.691724100Z",
     "start_time": "2024-02-20T09:20:51.401998300Z"
    }
   },
   "id": "3fd99bb6012ddfdd"
  },
  {
   "cell_type": "code",
   "execution_count": 263,
   "outputs": [],
   "source": [
    "# Step 2. Define a function to estimate the squared error of the ensemble\n",
    "def ensemble_error(selection, error_means, covariance_matrix):\n",
    "    selection = np.array(selection) > 0.5\n",
    "    return np.mean(error_means[selection])**2 + np.mean(covariance_matrix[selection][:, selection])"
   ],
   "metadata": {
    "collapsed": false,
    "ExecuteTime": {
     "end_time": "2024-02-20T09:21:21.728235300Z",
     "start_time": "2024-02-20T09:21:21.692724700Z"
    }
   },
   "id": "1a9ca50d95b9eb1b"
  },
  {
   "cell_type": "code",
   "execution_count": 264,
   "outputs": [],
   "source": [
    "# Compute the actual error for comparison\n",
    "def true_error(selection, errors):\n",
    "    selection = np.array(selection) > 0.5\n",
    "    return np.mean(np.mean(errors[selection],axis=0)**2)"
   ],
   "metadata": {
    "collapsed": false,
    "ExecuteTime": {
     "end_time": "2024-02-20T09:21:21.748240Z",
     "start_time": "2024-02-20T09:21:21.706726900Z"
    }
   },
   "id": "43c95774b80cddaf"
  },
  {
   "cell_type": "code",
   "execution_count": 265,
   "outputs": [
    {
     "name": "stdout",
     "output_type": "stream",
     "text": [
      "0.0007492s\n",
      "4.4359s\n"
     ]
    }
   ],
   "source": [
    "# Use timeit to compare the two methods\n",
    "import timeit\n",
    "print(f\"{timeit.timeit(lambda: ensemble_error(np.ones(len(folders)), error_means, covariance_matrix), number=2):.5}s\")\n",
    "print(f\"{timeit.timeit(lambda: true_error(np.ones(len(folders)), errors), number=2):.5}s\")"
   ],
   "metadata": {
    "collapsed": false,
    "ExecuteTime": {
     "end_time": "2024-02-20T09:21:26.180000500Z",
     "start_time": "2024-02-20T09:21:21.725233600Z"
    }
   },
   "id": "7e1a8f89594de2f7"
  },
  {
   "cell_type": "code",
   "execution_count": 266,
   "outputs": [
    {
     "data": {
      "text/plain": "  0%|          | 0/16383 [00:00<?, ?it/s]",
      "application/vnd.jupyter.widget-view+json": {
       "version_major": 2,
       "version_minor": 0,
       "model_id": "f32e128fbff442a79894875a3dad2d02"
      }
     },
     "metadata": {},
     "output_type": "display_data"
    },
    {
     "name": "stdout",
     "output_type": "stream",
     "text": [
      "Best square error: 0.003087292530809232\n",
      "Confirmation: 0.0030872964\n",
      "Recommended ensemble: [1, 1, 0, 0, 1, 0, 0, 0, 1, 1, 1, 0, 0, 0]\n",
      "SwinUNETR-f18-bs16-e75-FocalDiceBoundaryLoss\n",
      "vgg13-Unet-f18-bs16-e75-FocalDice2BoundaryLoss\n",
      "vgg13-Unet-f18-bs16-e75-FocalDiceBoundaryLoss\n",
      "timm-res2net50_26w_4s-Unet-f13-bs16-e75-DiceLoss\n",
      "vgg13-Unet-f6-bs16-e75-DiceLoss\n",
      "SwinUNETR-f13-bs16-e75-FocalDiceBoundaryLoss\n"
     ]
    }
   ],
   "source": [
    "# Step 3. Go through all possible combinations of models and find the best one\n",
    "limit = np.inf \n",
    "best_error = np.inf\n",
    "best_selection = None\n",
    "for i in trange(1,min(2**len(folders),limit)):\n",
    "    selection = [int(x) for x in bin(i)[2:].zfill(len(folders))]\n",
    "    err = ensemble_error(selection, error_means, covariance_matrix)\n",
    "    if err < best_error:\n",
    "        best_error = err\n",
    "        best_selection = selection\n",
    "print(\"Best square error:\", best_error)\n",
    "print(\"Confirmation:\", true_error(best_selection, errors))\n",
    "print(\"Recommended ensemble:\", best_selection)\n",
    "# list the names of the models in the ensemble\n",
    "for i in range(len(folders)):\n",
    "    if best_selection[i] > 0.5:\n",
    "        print(names[folders[i]])"
   ],
   "metadata": {
    "collapsed": false,
    "ExecuteTime": {
     "end_time": "2024-02-20T09:21:27.613411600Z",
     "start_time": "2024-02-20T09:21:26.183002300Z"
    }
   },
   "id": "6f83c19eac9f85a2"
  },
  {
   "cell_type": "code",
   "execution_count": 267,
   "outputs": [
    {
     "name": "stdout",
     "output_type": "stream",
     "text": [
      "Error (lower is better): Optimised: 0.00309, simple ensemble: 0.00312, best model: 0.00338\n",
      "Dice (higher is better): Optimised: 0.71391, simple ensemble: 0.71594, best model: 0.71087\n"
     ]
    }
   ],
   "source": [
    "simple_selection = np.array([1,1,1] + [0]*(len(folders)-3))\n",
    "print(f\"Error (lower is better): Optimised: {best_error:.5f}, simple ensemble: {true_error(simple_selection, errors):.5f}, best model: {true_error([1]+[0]*(len(folders)-1), errors):.5f}\")\n",
    "\n",
    "# compute the dice score for the best and the simple selection ensembles\n",
    "best_preds = np.mean([predictions[folders[i]] for i in range(len(folders)) if best_selection[i] > 0.5], axis=0) > 0.5\n",
    "simple_preds = np.mean([predictions[folders[i]] for i in range(len(folders)) if simple_selection[i] > 0.5], axis=0) > 0.5\n",
    "best_dice = 2 * np.sum(targets * best_preds) / (np.sum(targets) + np.sum(best_preds))\n",
    "simple_dice = 2 * np.sum(targets * simple_preds) / (np.sum(targets) + np.sum(simple_preds))\n",
    "print(f\"Dice (higher is better): Optimised: {best_dice:.5f}, simple ensemble: {simple_dice:.5f}, best model: {dice_scores[folders[0]]:.5f}\")"
   ],
   "metadata": {
    "collapsed": false,
    "ExecuteTime": {
     "end_time": "2024-02-20T09:21:31.176078800Z",
     "start_time": "2024-02-20T09:21:27.606408700Z"
    }
   },
   "id": "ea091cf6ef4baa21"
  },
  {
   "cell_type": "code",
   "execution_count": 268,
   "outputs": [
    {
     "name": "stdout",
     "output_type": "stream",
     "text": [
      "[ 0.1525017   0.15741485  0.07221256  0.03779379 -0.02223544  0.01900838\n",
      "  0.03517388 -0.00452527  0.08072541  0.09649543  0.05721146 -0.03205524\n",
      "  0.03894701  0.08435806]\n"
     ]
    }
   ],
   "source": [
    "# Optimize the weights with linear regression, using svd decomposition, and predictions\n",
    "from sklearn.linear_model import LinearRegression\n",
    "X = np.array([predictions[folder] for folder in folders]).T\n",
    "y = targets\n",
    "reg = LinearRegression().fit(X, y)\n",
    "weights = reg.coef_\n",
    "print(weights)"
   ],
   "metadata": {
    "collapsed": false,
    "ExecuteTime": {
     "end_time": "2024-02-20T09:21:56.313378200Z",
     "start_time": "2024-02-20T09:21:31.165076100Z"
    }
   },
   "id": "8d9da0ff17d91437"
  },
  {
   "cell_type": "code",
   "execution_count": 269,
   "outputs": [
    {
     "name": "stdout",
     "output_type": "stream",
     "text": [
      "0.0035056624956992556\n"
     ]
    }
   ],
   "source": [
    "# Use the weights to calculate the ensemble error\n",
    "linreg_preds = np.dot(X, weights) > 0.5\n",
    "linreg_error = np.mean((linreg_preds - y) ** 2)\n",
    "print(linreg_error)"
   ],
   "metadata": {
    "collapsed": false,
    "ExecuteTime": {
     "end_time": "2024-02-20T09:21:56.972867700Z",
     "start_time": "2024-02-20T09:21:56.299374800Z"
    }
   },
   "id": "f191fbc948588d6c"
  },
  {
   "cell_type": "markdown",
   "source": [
    "# Genetic algorithm"
   ],
   "metadata": {
    "collapsed": false
   },
   "id": "bab4010f7ea212b1"
  },
  {
   "cell_type": "code",
   "execution_count": 270,
   "outputs": [],
   "source": [
    "# Define the fitness function\n",
    "pred_array = np.array([predictions[folder] for folder in folders])\n",
    "def dice_fitness(selection, pred, target):\n",
    "    # selection = np.array(selection) > 0.5\n",
    "    weights = np.array(selection) / sum(selection)\n",
    "    \n",
    "    selectio_bin = np.array(selection) > 0\n",
    "    pred = pred[selectio_bin]\n",
    "    weights = weights[selectio_bin]\n",
    "    \n",
    "    preds = np.dot(pred.T, weights) > 0.5   \n",
    "    return 2 * np.sum(target * preds) / (np.sum(target) + np.sum(preds))"
   ],
   "metadata": {
    "collapsed": false,
    "ExecuteTime": {
     "end_time": "2024-02-20T09:21:58.424410100Z",
     "start_time": "2024-02-20T09:21:56.966866300Z"
    }
   },
   "id": "e67549d3e413fa82"
  },
  {
   "cell_type": "code",
   "execution_count": 271,
   "outputs": [],
   "source": [
    "fitness_memory = dict()\n",
    "def dice_fitness_memory(selection, pred, target):\n",
    "    if sum(selection) == 0:\n",
    "        return 0\n",
    "    if tuple(selection) in fitness_memory:\n",
    "        return fitness_memory[tuple(selection)]\n",
    "    fitness = dice_fitness(selection, pred, target)\n",
    "    fitness_memory[tuple(selection)] = fitness\n",
    "    return fitness"
   ],
   "metadata": {
    "collapsed": false,
    "ExecuteTime": {
     "end_time": "2024-02-20T09:21:58.439415900Z",
     "start_time": "2024-02-20T09:21:58.426410700Z"
    }
   },
   "id": "5f9fc46907175d76"
  },
  {
   "cell_type": "code",
   "execution_count": 272,
   "outputs": [],
   "source": [
    "# Define the genetic algorithm\n",
    "import random\n",
    "values = [0,0.5,1,1.5,2,2.5,3]\n",
    "def genetic_algorithm(fitness_function, population_size=100, generations=100, mutation_rate=0.1, subsample=1000, subsample_halftime=5, subsample_decay_factor=2):\n",
    "    population = [[random.choice(values) for _ in range(len(folders))] for _ in range(population_size)]\n",
    "    for generation in range(generations):\n",
    "        if generation % subsample_halftime == 0 and subsample_halftime != -1 and subsample > 1:\n",
    "            pred = pred_array[:,::subsample]\n",
    "            target = targets[::subsample]\n",
    "            subsample //= subsample_decay_factor\n",
    "            subsample = max(subsample, 1)\n",
    "            fitness_memory.clear()\n",
    "            print(f\"Subsampled to {len(target)}, factor {subsample}\")       \n",
    "\n",
    "        fitness = [dice_fitness_memory(individual, pred, target) for individual in tqdm(population, desc=f\"Generation {generation}\", leave=True)]\n",
    "        best_individual = population[np.argmax(fitness)]\n",
    "        print(f\"Generation {generation}, best fitness: {dice_fitness(best_individual, pred_array, targets):.4f}, best individual: {best_individual}\")\n",
    "        new_population = [best_individual]\n",
    "        \n",
    "        # scale fitness between 0 and 1\n",
    "        fitness = np.array(fitness)\n",
    "        fitness = (fitness - fitness.min()) / (fitness.max() - fitness.min() + 1e-6)\n",
    "        \n",
    "        for _ in range(population_size - 1):\n",
    "            parent1, parent2 = random.choices(population, weights=fitness, k=2)\n",
    "            child = []\n",
    "            for gene1, gene2 in zip(parent1, parent2):\n",
    "                initial = random.choice([gene1, gene2])\n",
    "                if random.random() < mutation_rate:\n",
    "                    mutated = initial + random.choice([-0.5, 0, 0.5])\n",
    "                    child.append(np.clip(mutated, min(values), max(values)))\n",
    "                else:\n",
    "                    child.append(initial)\n",
    "            new_population.append(child)\n",
    "        population = new_population\n",
    "    return best_individual"
   ],
   "metadata": {
    "collapsed": false,
    "ExecuteTime": {
     "end_time": "2024-02-20T09:21:58.474927600Z",
     "start_time": "2024-02-20T09:21:58.446417300Z"
    }
   },
   "id": "e8a9da7ced9df5a"
  },
  {
   "cell_type": "code",
   "execution_count": 296,
   "outputs": [
    {
     "name": "stdout",
     "output_type": "stream",
     "text": [
      "Subsampled to 276115, factor 100\n"
     ]
    },
    {
     "data": {
      "text/plain": "Generation 0:   0%|          | 0/150 [00:00<?, ?it/s]",
      "application/vnd.jupyter.widget-view+json": {
       "version_major": 2,
       "version_minor": 0,
       "model_id": "ce47190c242946e199dd32ae553964dd"
      }
     },
     "metadata": {},
     "output_type": "display_data"
    },
    {
     "name": "stdout",
     "output_type": "stream",
     "text": [
      "Generation 0, best fitness: 0.7144, best individual: [2.5, 2.5, 0, 1, 2.5, 1, 0.5, 1.5, 1, 2, 1.5, 0.5, 1, 1.5]\n"
     ]
    },
    {
     "data": {
      "text/plain": "Generation 1:   0%|          | 0/150 [00:00<?, ?it/s]",
      "application/vnd.jupyter.widget-view+json": {
       "version_major": 2,
       "version_minor": 0,
       "model_id": "5048bd073d33498bb6f1fa6e0e1eaa6a"
      }
     },
     "metadata": {},
     "output_type": "display_data"
    },
    {
     "name": "stdout",
     "output_type": "stream",
     "text": [
      "Generation 1, best fitness: 0.7149, best individual: [2.5, 3, 0.0, 1, 1, 1, 0, 3, 1, 3, 2.5, 2.5, 0.5, 1.5]\n",
      "Subsampled to 1380575, factor 20\n"
     ]
    },
    {
     "data": {
      "text/plain": "Generation 2:   0%|          | 0/150 [00:00<?, ?it/s]",
      "application/vnd.jupyter.widget-view+json": {
       "version_major": 2,
       "version_minor": 0,
       "model_id": "cfb146ec13714d4fa96b16688ab5571f"
      }
     },
     "metadata": {},
     "output_type": "display_data"
    },
    {
     "name": "stdout",
     "output_type": "stream",
     "text": [
      "Generation 2, best fitness: 0.7149, best individual: [2, 2.5, 2, 3.0, 0.5, 0.5, 2, 0.5, 0.5, 0, 0, 0.5, 1, 0.0]\n"
     ]
    },
    {
     "data": {
      "text/plain": "Generation 3:   0%|          | 0/150 [00:00<?, ?it/s]",
      "application/vnd.jupyter.widget-view+json": {
       "version_major": 2,
       "version_minor": 0,
       "model_id": "3a3cabee631b4203a1e9ea38908a5bf7"
      }
     },
     "metadata": {},
     "output_type": "display_data"
    },
    {
     "name": "stdout",
     "output_type": "stream",
     "text": [
      "Generation 3, best fitness: 0.7156, best individual: [3, 1.5, 0.5, 3.0, 0, 0, 0, 0.5, 1.5, 1, 1.5, 0, 1.5, 0]\n",
      "Subsampled to 6902875, factor 4\n"
     ]
    },
    {
     "data": {
      "text/plain": "Generation 4:   0%|          | 0/150 [00:00<?, ?it/s]",
      "application/vnd.jupyter.widget-view+json": {
       "version_major": 2,
       "version_minor": 0,
       "model_id": "4432118fd1014ceb9a44c4adde0dcb13"
      }
     },
     "metadata": {},
     "output_type": "display_data"
    },
    {
     "name": "stdout",
     "output_type": "stream",
     "text": [
      "Generation 4, best fitness: 0.7156, best individual: [3, 1.5, 0.5, 3.0, 0, 0, 0, 0.5, 1.5, 1, 1.5, 0, 1.5, 0]\n"
     ]
    },
    {
     "data": {
      "text/plain": "Generation 5:   0%|          | 0/150 [00:00<?, ?it/s]",
      "application/vnd.jupyter.widget-view+json": {
       "version_major": 2,
       "version_minor": 0,
       "model_id": "ca52c34b96204fb7b40861ad81870eca"
      }
     },
     "metadata": {},
     "output_type": "display_data"
    },
    {
     "name": "stdout",
     "output_type": "stream",
     "text": [
      "Generation 5, best fitness: 0.7158, best individual: [2.5, 2.5, 2.0, 1.5, 0, 0.0, 2, 0.5, 0.5, 2.5, 0, 0.5, 0.0, 0.5]\n",
      "Subsampled to 34514375, factor 1\n"
     ]
    },
    {
     "data": {
      "text/plain": "Generation 6:   0%|          | 0/150 [00:00<?, ?it/s]",
      "application/vnd.jupyter.widget-view+json": {
       "version_major": 2,
       "version_minor": 0,
       "model_id": "355547a1f38b4969823bc012ce124a2d"
      }
     },
     "metadata": {},
     "output_type": "display_data"
    },
    {
     "name": "stdout",
     "output_type": "stream",
     "text": [
      "Generation 6, best fitness: 0.7160, best individual: [3, 2.5, 2, 2, 0.0, 0, 2, 1.0, 0.5, 2.5, 0, 0.5, 0, 0.5]\n"
     ]
    },
    {
     "data": {
      "text/plain": "Generation 7:   0%|          | 0/150 [00:00<?, ?it/s]",
      "application/vnd.jupyter.widget-view+json": {
       "version_major": 2,
       "version_minor": 0,
       "model_id": "b12e5dedf7294388b21531da21dd256a"
      }
     },
     "metadata": {},
     "output_type": "display_data"
    },
    {
     "name": "stdout",
     "output_type": "stream",
     "text": [
      "Generation 7, best fitness: 0.7163, best individual: [3, 2.5, 1, 1.5, 0, 0.0, 2, 0.5, 0.5, 1.0, 0, 0.5, 0.0, 0.5]\n"
     ]
    },
    {
     "data": {
      "text/plain": "Generation 8:   0%|          | 0/150 [00:00<?, ?it/s]",
      "application/vnd.jupyter.widget-view+json": {
       "version_major": 2,
       "version_minor": 0,
       "model_id": "c2913cf073684ff9ad406c6a51ff8b2d"
      }
     },
     "metadata": {},
     "output_type": "display_data"
    },
    {
     "name": "stdout",
     "output_type": "stream",
     "text": [
      "Generation 8, best fitness: 0.7163, best individual: [3, 2.5, 1, 1.5, 0, 0.0, 2, 0.5, 0.5, 1.0, 0, 0.5, 0.0, 0.5]\n"
     ]
    },
    {
     "data": {
      "text/plain": "Generation 9:   0%|          | 0/150 [00:00<?, ?it/s]",
      "application/vnd.jupyter.widget-view+json": {
       "version_major": 2,
       "version_minor": 0,
       "model_id": "7816d8e5502c44be88a3168b641ccc19"
      }
     },
     "metadata": {},
     "output_type": "display_data"
    },
    {
     "name": "stdout",
     "output_type": "stream",
     "text": [
      "Generation 9, best fitness: 0.7163, best individual: [3, 2.5, 1, 1.5, 0, 0.0, 2, 0.5, 0.5, 1.0, 0, 0.5, 0.0, 0.5]\n"
     ]
    },
    {
     "data": {
      "text/plain": "Generation 10:   0%|          | 0/150 [00:00<?, ?it/s]",
      "application/vnd.jupyter.widget-view+json": {
       "version_major": 2,
       "version_minor": 0,
       "model_id": "faf8035ddea8415da6f7a8c673179c92"
      }
     },
     "metadata": {},
     "output_type": "display_data"
    },
    {
     "name": "stdout",
     "output_type": "stream",
     "text": [
      "Generation 10, best fitness: 0.7163, best individual: [3, 2.5, 1, 1.5, 0, 0.0, 2, 0.5, 0.5, 1.0, 0, 0.5, 0.0, 0.5]\n"
     ]
    },
    {
     "data": {
      "text/plain": "Generation 11:   0%|          | 0/150 [00:00<?, ?it/s]",
      "application/vnd.jupyter.widget-view+json": {
       "version_major": 2,
       "version_minor": 0,
       "model_id": "eeaa5355e6eb455e9d1ad7bca7dc772f"
      }
     },
     "metadata": {},
     "output_type": "display_data"
    },
    {
     "name": "stdout",
     "output_type": "stream",
     "text": [
      "Generation 11, best fitness: 0.7165, best individual: [3, 2.5, 0.5, 1.5, 0, 0.0, 1.5, 0.5, 1.0, 1, 0, 0.5, 0.0, 0.0]\n"
     ]
    },
    {
     "data": {
      "text/plain": "Generation 12:   0%|          | 0/150 [00:00<?, ?it/s]",
      "application/vnd.jupyter.widget-view+json": {
       "version_major": 2,
       "version_minor": 0,
       "model_id": "3822213737c047348088c9a06d37bd7b"
      }
     },
     "metadata": {},
     "output_type": "display_data"
    },
    {
     "name": "stdout",
     "output_type": "stream",
     "text": [
      "Generation 12, best fitness: 0.7165, best individual: [3, 2.5, 0.5, 1.5, 0, 0.0, 1.5, 0.5, 1.0, 1, 0, 0.5, 0.0, 0.0]\n"
     ]
    },
    {
     "data": {
      "text/plain": "Generation 13:   0%|          | 0/150 [00:00<?, ?it/s]",
      "application/vnd.jupyter.widget-view+json": {
       "version_major": 2,
       "version_minor": 0,
       "model_id": "c2ef208607bc44828eb80132213426ed"
      }
     },
     "metadata": {},
     "output_type": "display_data"
    },
    {
     "name": "stdout",
     "output_type": "stream",
     "text": [
      "Generation 13, best fitness: 0.7165, best individual: [3, 2.5, 0.5, 1.5, 0, 0.5, 1.5, 1.0, 1.0, 1, 0, 0.5, 0.0, 0.0]\n"
     ]
    },
    {
     "data": {
      "text/plain": "Generation 14:   0%|          | 0/150 [00:00<?, ?it/s]",
      "application/vnd.jupyter.widget-view+json": {
       "version_major": 2,
       "version_minor": 0,
       "model_id": "735630faf8f5422784dbe6b3a813c4a2"
      }
     },
     "metadata": {},
     "output_type": "display_data"
    },
    {
     "name": "stdout",
     "output_type": "stream",
     "text": [
      "Generation 14, best fitness: 0.7165, best individual: [3, 2.5, 0.5, 1.5, 0, 0.5, 1.5, 1.0, 1.0, 1, 0, 0.5, 0.0, 0.0]\n"
     ]
    }
   ],
   "source": [
    "# Run the genetic algorithm\n",
    "best_individual = genetic_algorithm(dice_fitness, population_size=150, generations=15, mutation_rate=0.1, subsample=500, subsample_halftime=2, subsample_decay_factor=5)"
   ],
   "metadata": {
    "collapsed": false,
    "ExecuteTime": {
     "end_time": "2024-02-20T10:59:07.476726500Z",
     "start_time": "2024-02-20T10:27:44.061641700Z"
    }
   },
   "id": "6a8165dd0955989f"
  },
  {
   "cell_type": "code",
   "execution_count": 300,
   "outputs": [
    {
     "name": "stderr",
     "output_type": "stream",
     "text": [
      "[I 2024-02-20 12:14:40,823] A new study created in RDB with name: no-name-c36520c6-9b84-4e58-80c2-f63578598d83\n",
      "[I 2024-02-20 12:14:45,227] Trial 0 finished with value: 0.7130515434785581 and parameters: {'weight_0': 0.5, 'weight_1': 2, 'weight_2': 3, 'weight_3': 1.5, 'weight_4': 1, 'weight_5': 0.5, 'weight_6': 1.5, 'weight_7': 3, 'weight_8': 3, 'weight_9': 0.5, 'weight_10': 1.5, 'weight_11': 2, 'weight_12': 0, 'weight_13': 2.5}. Best is trial 0 with value: 0.7130515434785581.\n",
      "[I 2024-02-20 12:14:49,102] Trial 1 finished with value: 0.7136314314624647 and parameters: {'weight_0': 2, 'weight_1': 3, 'weight_2': 0, 'weight_3': 1, 'weight_4': 2, 'weight_5': 0, 'weight_6': 0.5, 'weight_7': 2.5, 'weight_8': 1.5, 'weight_9': 2.5, 'weight_10': 0, 'weight_11': 1.5, 'weight_12': 2.5, 'weight_13': 0.5}. Best is trial 1 with value: 0.7136314314624647.\n",
      "[I 2024-02-20 12:14:53,559] Trial 2 finished with value: 0.7139218267643765 and parameters: {'weight_0': 2, 'weight_1': 1, 'weight_2': 1.5, 'weight_3': 2, 'weight_4': 2.5, 'weight_5': 2.5, 'weight_6': 3, 'weight_7': 3, 'weight_8': 3, 'weight_9': 2, 'weight_10': 1, 'weight_11': 0.5, 'weight_12': 2, 'weight_13': 0}. Best is trial 2 with value: 0.7139218267643765.\n",
      "[I 2024-02-20 12:14:57,517] Trial 3 finished with value: 0.7134770704212444 and parameters: {'weight_0': 2.5, 'weight_1': 0, 'weight_2': 2, 'weight_3': 1, 'weight_4': 3, 'weight_5': 3, 'weight_6': 2.5, 'weight_7': 1, 'weight_8': 0.5, 'weight_9': 1.5, 'weight_10': 0, 'weight_11': 0.5, 'weight_12': 0, 'weight_13': 0.5}. Best is trial 2 with value: 0.7139218267643765.\n",
      "[I 2024-02-20 12:15:01,301] Trial 4 finished with value: 0.7117543538876445 and parameters: {'weight_0': 0.5, 'weight_1': 2, 'weight_2': 1, 'weight_3': 0, 'weight_4': 2, 'weight_5': 0, 'weight_6': 2, 'weight_7': 1.5, 'weight_8': 1.5, 'weight_9': 2.5, 'weight_10': 0, 'weight_11': 2.5, 'weight_12': 3, 'weight_13': 1}. Best is trial 2 with value: 0.7139218267643765.\n",
      "[I 2024-02-20 12:15:04,164] Trial 5 finished with value: 0.7128751922798806 and parameters: {'weight_0': 0, 'weight_1': 1, 'weight_2': 2.5, 'weight_3': 2.5, 'weight_4': 0, 'weight_5': 0, 'weight_6': 0.5, 'weight_7': 0, 'weight_8': 0, 'weight_9': 0, 'weight_10': 3, 'weight_11': 0.5, 'weight_12': 1.5, 'weight_13': 0.5}. Best is trial 2 with value: 0.7139218267643765.\n",
      "[I 2024-02-20 12:15:08,565] Trial 6 finished with value: 0.713399983216697 and parameters: {'weight_0': 1.5, 'weight_1': 0.5, 'weight_2': 1.5, 'weight_3': 2, 'weight_4': 2.5, 'weight_5': 1, 'weight_6': 3, 'weight_7': 0, 'weight_8': 1.5, 'weight_9': 1.5, 'weight_10': 1, 'weight_11': 2, 'weight_12': 0.5, 'weight_13': 1.5}. Best is trial 2 with value: 0.7139218267643765.\n",
      "[I 2024-02-20 12:15:12,981] Trial 7 finished with value: 0.7134657574723882 and parameters: {'weight_0': 0.5, 'weight_1': 2.5, 'weight_2': 1.5, 'weight_3': 0, 'weight_4': 0.5, 'weight_5': 1, 'weight_6': 1, 'weight_7': 2.5, 'weight_8': 0.5, 'weight_9': 3, 'weight_10': 1, 'weight_11': 2, 'weight_12': 0.5, 'weight_13': 2.5}. Best is trial 2 with value: 0.7139218267643765.\n",
      "[I 2024-02-20 12:15:17,331] Trial 8 finished with value: 0.7133960571436379 and parameters: {'weight_0': 1.5, 'weight_1': 2, 'weight_2': 2, 'weight_3': 2.5, 'weight_4': 1, 'weight_5': 1.5, 'weight_6': 1.5, 'weight_7': 1, 'weight_8': 2.5, 'weight_9': 1.5, 'weight_10': 0, 'weight_11': 0.5, 'weight_12': 2, 'weight_13': 3}. Best is trial 2 with value: 0.7139218267643765.\n",
      "[I 2024-02-20 12:15:21,232] Trial 9 finished with value: 0.7136944064458738 and parameters: {'weight_0': 0, 'weight_1': 3, 'weight_2': 2, 'weight_3': 1, 'weight_4': 0, 'weight_5': 2.5, 'weight_6': 1, 'weight_7': 0, 'weight_8': 3, 'weight_9': 3, 'weight_10': 1.5, 'weight_11': 2.5, 'weight_12': 1.5, 'weight_13': 3}. Best is trial 2 with value: 0.7139218267643765.\n",
      "[I 2024-02-20 12:15:25,265] Trial 10 finished with value: 0.7137203860911929 and parameters: {'weight_0': 2, 'weight_1': 1, 'weight_2': 0.5, 'weight_3': 2, 'weight_4': 2.5, 'weight_5': 2.5, 'weight_6': 3, 'weight_7': 3, 'weight_8': 1, 'weight_9': 2, 'weight_10': 0.5, 'weight_11': 0, 'weight_12': 2, 'weight_13': 0}. Best is trial 2 with value: 0.7139218267643765.\n",
      "[I 2024-02-20 12:15:29,428] Trial 11 finished with value: 0.7137203860911929 and parameters: {'weight_0': 2, 'weight_1': 1, 'weight_2': 0.5, 'weight_3': 2, 'weight_4': 2.5, 'weight_5': 2.5, 'weight_6': 3, 'weight_7': 3, 'weight_8': 1, 'weight_9': 2, 'weight_10': 0.5, 'weight_11': 0, 'weight_12': 2, 'weight_13': 0}. Best is trial 2 with value: 0.7139218267643765.\n",
      "[I 2024-02-20 12:15:33,939] Trial 12 finished with value: 0.7133710269210289 and parameters: {'weight_0': 3, 'weight_1': 1.5, 'weight_2': 0.5, 'weight_3': 3, 'weight_4': 1.5, 'weight_5': 2, 'weight_6': 3, 'weight_7': 3, 'weight_8': 2, 'weight_9': 2, 'weight_10': 2, 'weight_11': 3, 'weight_12': 1, 'weight_13': 0}. Best is trial 2 with value: 0.7139218267643765.\n",
      "[I 2024-02-20 12:15:38,378] Trial 13 finished with value: 0.712741870257698 and parameters: {'weight_0': 1, 'weight_1': 1, 'weight_2': 0.5, 'weight_3': 0.5, 'weight_4': 2.5, 'weight_5': 2.5, 'weight_6': 0, 'weight_7': 0.5, 'weight_8': 1, 'weight_9': 1, 'weight_10': 0.5, 'weight_11': 1, 'weight_12': 2, 'weight_13': 2}. Best is trial 2 with value: 0.7139218267643765.\n",
      "[I 2024-02-20 12:15:42,610] Trial 14 finished with value: 0.7136180462670451 and parameters: {'weight_0': 2, 'weight_1': 1, 'weight_2': 1.5, 'weight_3': 2, 'weight_4': 2.5, 'weight_5': 2.5, 'weight_6': 3, 'weight_7': 3, 'weight_8': 1, 'weight_9': 2, 'weight_10': 2.5, 'weight_11': 0, 'weight_12': 2, 'weight_13': 0}. Best is trial 2 with value: 0.7139218267643765.\n",
      "[I 2024-02-20 12:15:46,726] Trial 15 finished with value: 0.7139444519780994 and parameters: {'weight_0': 2, 'weight_1': 1, 'weight_2': 1, 'weight_3': 2, 'weight_4': 2.5, 'weight_5': 2.5, 'weight_6': 3, 'weight_7': 2, 'weight_8': 3, 'weight_9': 2, 'weight_10': 0.5, 'weight_11': 0, 'weight_12': 2, 'weight_13': 0}. Best is trial 15 with value: 0.7139444519780994.\n",
      "[I 2024-02-20 12:15:51,083] Trial 16 finished with value: 0.7134236228123498 and parameters: {'weight_0': 2, 'weight_1': 1.5, 'weight_2': 1, 'weight_3': 2, 'weight_4': 3, 'weight_5': 0.5, 'weight_6': 2, 'weight_7': 2, 'weight_8': 3, 'weight_9': 2, 'weight_10': 1, 'weight_11': 1, 'weight_12': 1, 'weight_13': 0}. Best is trial 15 with value: 0.7139444519780994.\n",
      "[I 2024-02-20 12:15:55,482] Trial 17 finished with value: 0.7135245237072461 and parameters: {'weight_0': 2.5, 'weight_1': 0, 'weight_2': 1, 'weight_3': 3, 'weight_4': 1.5, 'weight_5': 3, 'weight_6': 2.5, 'weight_7': 2, 'weight_8': 3, 'weight_9': 0.5, 'weight_10': 2.5, 'weight_11': 1.5, 'weight_12': 2.5, 'weight_13': 2}. Best is trial 15 with value: 0.7139444519780994.\n",
      "[I 2024-02-20 12:15:59,688] Trial 18 finished with value: 0.7126297480400172 and parameters: {'weight_0': 1, 'weight_1': 2.5, 'weight_2': 0, 'weight_3': 1.5, 'weight_4': 0.5, 'weight_5': 2, 'weight_6': 0, 'weight_7': 2, 'weight_8': 3, 'weight_9': 1, 'weight_10': 2, 'weight_11': 3, 'weight_12': 3, 'weight_13': 1.5}. Best is trial 15 with value: 0.7139444519780994.\n",
      "[I 2024-02-20 12:16:03,986] Trial 19 finished with value: 0.7136713442406774 and parameters: {'weight_0': 3, 'weight_1': 0.5, 'weight_2': 2.5, 'weight_3': 0.5, 'weight_4': 2.5, 'weight_5': 1.5, 'weight_6': 3, 'weight_7': 1.5, 'weight_8': 2, 'weight_9': 0, 'weight_10': 3, 'weight_11': 0, 'weight_12': 2, 'weight_13': 1}. Best is trial 15 with value: 0.7139444519780994.\n",
      "[I 2024-02-20 12:16:08,204] Trial 20 finished with value: 0.7136346666987807 and parameters: {'weight_0': 2, 'weight_1': 1, 'weight_2': 3, 'weight_3': 2, 'weight_4': 2.5, 'weight_5': 2.5, 'weight_6': 3, 'weight_7': 0.5, 'weight_8': 0, 'weight_9': 2, 'weight_10': 0.5, 'weight_11': 0.5, 'weight_12': 2, 'weight_13': 0}. Best is trial 15 with value: 0.7139444519780994.\n",
      "[I 2024-02-20 12:16:12,360] Trial 21 finished with value: 0.7139705613122918 and parameters: {'weight_0': 2, 'weight_1': 1, 'weight_2': 1.5, 'weight_3': 2, 'weight_4': 2.5, 'weight_5': 2.5, 'weight_6': 3, 'weight_7': 3, 'weight_8': 2.5, 'weight_9': 2, 'weight_10': 0.5, 'weight_11': 0, 'weight_12': 2, 'weight_13': 0}. Best is trial 21 with value: 0.7139705613122918.\n",
      "[I 2024-02-20 12:16:16,469] Trial 22 finished with value: 0.7139047274504899 and parameters: {'weight_0': 2, 'weight_1': 1, 'weight_2': 1.5, 'weight_3': 2, 'weight_4': 2.5, 'weight_5': 2.5, 'weight_6': 3, 'weight_7': 2, 'weight_8': 2.5, 'weight_9': 2, 'weight_10': 0.5, 'weight_11': 0, 'weight_12': 2, 'weight_13': 0}. Best is trial 21 with value: 0.7139705613122918.\n",
      "[I 2024-02-20 12:16:20,608] Trial 23 finished with value: 0.7139635554207664 and parameters: {'weight_0': 2, 'weight_1': 1, 'weight_2': 1.5, 'weight_3': 2, 'weight_4': 2.5, 'weight_5': 2.5, 'weight_6': 3, 'weight_7': 3, 'weight_8': 2.5, 'weight_9': 2, 'weight_10': 1, 'weight_11': 0, 'weight_12': 2, 'weight_13': 0}. Best is trial 21 with value: 0.7139705613122918.\n",
      "[I 2024-02-20 12:16:24,760] Trial 24 finished with value: 0.7138875700041759 and parameters: {'weight_0': 2, 'weight_1': 1, 'weight_2': 1, 'weight_3': 2, 'weight_4': 2.5, 'weight_5': 2.5, 'weight_6': 3, 'weight_7': 3, 'weight_8': 2.5, 'weight_9': 2, 'weight_10': 0.5, 'weight_11': 0, 'weight_12': 2, 'weight_13': 0}. Best is trial 21 with value: 0.7139705613122918.\n",
      "[I 2024-02-20 12:16:28,868] Trial 25 finished with value: 0.7139047274504899 and parameters: {'weight_0': 2, 'weight_1': 1, 'weight_2': 1.5, 'weight_3': 2, 'weight_4': 2.5, 'weight_5': 2.5, 'weight_6': 3, 'weight_7': 2, 'weight_8': 2.5, 'weight_9': 2, 'weight_10': 0.5, 'weight_11': 0, 'weight_12': 2, 'weight_13': 0}. Best is trial 21 with value: 0.7139705613122918.\n",
      "[I 2024-02-20 12:16:32,919] Trial 26 finished with value: 0.713922116131453 and parameters: {'weight_0': 2, 'weight_1': 1, 'weight_2': 1.5, 'weight_3': 2, 'weight_4': 1.5, 'weight_5': 2.5, 'weight_6': 1.5, 'weight_7': 3, 'weight_8': 2.5, 'weight_9': 2, 'weight_10': 1, 'weight_11': 0, 'weight_12': 1.5, 'weight_13': 0}. Best is trial 21 with value: 0.7139705613122918.\n",
      "[I 2024-02-20 12:16:36,737] Trial 27 finished with value: 0.7136807381473959 and parameters: {'weight_0': 1, 'weight_1': 1.5, 'weight_2': 1, 'weight_3': 1.5, 'weight_4': 1, 'weight_5': 0.5, 'weight_6': 1, 'weight_7': 1, 'weight_8': 2.5, 'weight_9': 0, 'weight_10': 0.5, 'weight_11': 0, 'weight_12': 0, 'weight_13': 2}. Best is trial 21 with value: 0.7139705613122918.\n",
      "[I 2024-02-20 12:16:41,407] Trial 28 finished with value: 0.7134998840912699 and parameters: {'weight_0': 2.5, 'weight_1': 0.5, 'weight_2': 1.5, 'weight_3': 2.5, 'weight_4': 0.5, 'weight_5': 1, 'weight_6': 0.5, 'weight_7': 0.5, 'weight_8': 2.5, 'weight_9': 3, 'weight_10': 3, 'weight_11': 0, 'weight_12': 3, 'weight_13': 1}. Best is trial 21 with value: 0.7139705613122918.\n",
      "[I 2024-02-20 12:16:45,572] Trial 29 finished with value: 0.7141933309339777 and parameters: {'weight_0': 3, 'weight_1': 0, 'weight_2': 3, 'weight_3': 0.5, 'weight_4': 3, 'weight_5': 2, 'weight_6': 2.5, 'weight_7': 3, 'weight_8': 2.5, 'weight_9': 0.5, 'weight_10': 1.5, 'weight_11': 0, 'weight_12': 0.5, 'weight_13': 2.5}. Best is trial 29 with value: 0.7141933309339777.\n",
      "[I 2024-02-20 12:16:50,171] Trial 30 finished with value: 0.7139141705414322 and parameters: {'weight_0': 3, 'weight_1': 0, 'weight_2': 3, 'weight_3': 0.5, 'weight_4': 3, 'weight_5': 2, 'weight_6': 2.5, 'weight_7': 3, 'weight_8': 2.5, 'weight_9': 0.5, 'weight_10': 1.5, 'weight_11': 1.5, 'weight_12': 0.5, 'weight_13': 2.5}. Best is trial 29 with value: 0.7141933309339777.\n",
      "[I 2024-02-20 12:16:54,391] Trial 31 finished with value: 0.7141933309339777 and parameters: {'weight_0': 3, 'weight_1': 0, 'weight_2': 3, 'weight_3': 0.5, 'weight_4': 3, 'weight_5': 2, 'weight_6': 2.5, 'weight_7': 3, 'weight_8': 2.5, 'weight_9': 0.5, 'weight_10': 1.5, 'weight_11': 0, 'weight_12': 0.5, 'weight_13': 2.5}. Best is trial 29 with value: 0.7141933309339777.\n",
      "[I 2024-02-20 12:16:58,708] Trial 32 finished with value: 0.7141933309339777 and parameters: {'weight_0': 3, 'weight_1': 0, 'weight_2': 3, 'weight_3': 0.5, 'weight_4': 3, 'weight_5': 2, 'weight_6': 2.5, 'weight_7': 3, 'weight_8': 2.5, 'weight_9': 0.5, 'weight_10': 1.5, 'weight_11': 0, 'weight_12': 0.5, 'weight_13': 2.5}. Best is trial 29 with value: 0.7141933309339777.\n",
      "[I 2024-02-20 12:17:02,920] Trial 33 finished with value: 0.7141933309339777 and parameters: {'weight_0': 3, 'weight_1': 0, 'weight_2': 3, 'weight_3': 0.5, 'weight_4': 3, 'weight_5': 2, 'weight_6': 2.5, 'weight_7': 3, 'weight_8': 2.5, 'weight_9': 0.5, 'weight_10': 1.5, 'weight_11': 0, 'weight_12': 0.5, 'weight_13': 2.5}. Best is trial 29 with value: 0.7141933309339777.\n",
      "[I 2024-02-20 12:17:07,383] Trial 34 finished with value: 0.7137216290897807 and parameters: {'weight_0': 3, 'weight_1': 0, 'weight_2': 3, 'weight_3': 0.5, 'weight_4': 3, 'weight_5': 2, 'weight_6': 2.5, 'weight_7': 2.5, 'weight_8': 2.5, 'weight_9': 0.5, 'weight_10': 1.5, 'weight_11': 2.5, 'weight_12': 0.5, 'weight_13': 2.5}. Best is trial 29 with value: 0.7141933309339777.\n",
      "[I 2024-02-20 12:17:12,128] Trial 35 finished with value: 0.713843408360496 and parameters: {'weight_0': 3, 'weight_1': 0, 'weight_2': 3, 'weight_3': 0.5, 'weight_4': 3, 'weight_5': 2, 'weight_6': 2.5, 'weight_7': 3, 'weight_8': 0.5, 'weight_9': 0.5, 'weight_10': 1.5, 'weight_11': 1, 'weight_12': 0.5, 'weight_13': 2.5}. Best is trial 29 with value: 0.7141933309339777.\n",
      "[I 2024-02-20 12:17:16,898] Trial 36 finished with value: 0.7135916489960082 and parameters: {'weight_0': 3, 'weight_1': 0, 'weight_2': 3, 'weight_3': 0.5, 'weight_4': 3, 'weight_5': 2, 'weight_6': 2.5, 'weight_7': 3, 'weight_8': 2.5, 'weight_9': 0.5, 'weight_10': 1.5, 'weight_11': 3, 'weight_12': 0.5, 'weight_13': 2.5}. Best is trial 29 with value: 0.7141933309339777.\n",
      "[I 2024-02-20 12:17:21,667] Trial 37 finished with value: 0.7137022837139523 and parameters: {'weight_0': 3, 'weight_1': 0, 'weight_2': 3, 'weight_3': 0.5, 'weight_4': 3, 'weight_5': 2, 'weight_6': 2.5, 'weight_7': 1.5, 'weight_8': 1.5, 'weight_9': 0.5, 'weight_10': 1.5, 'weight_11': 2, 'weight_12': 0.5, 'weight_13': 2.5}. Best is trial 29 with value: 0.7141933309339777.\n",
      "[I 2024-02-20 12:17:25,943] Trial 38 finished with value: 0.713893958730725 and parameters: {'weight_0': 3, 'weight_1': 0, 'weight_2': 3, 'weight_3': 0.5, 'weight_4': 3, 'weight_5': 2, 'weight_6': 2.5, 'weight_7': 3, 'weight_8': 0, 'weight_9': 0.5, 'weight_10': 1.5, 'weight_11': 0, 'weight_12': 0.5, 'weight_13': 2.5}. Best is trial 29 with value: 0.7141933309339777.\n",
      "[I 2024-02-20 12:17:30,704] Trial 39 finished with value: 0.7137098776247223 and parameters: {'weight_0': 3, 'weight_1': 0, 'weight_2': 3, 'weight_3': 0.5, 'weight_4': 2, 'weight_5': 2, 'weight_6': 2.5, 'weight_7': 2.5, 'weight_8': 2.5, 'weight_9': 2.5, 'weight_10': 1.5, 'weight_11': 1.5, 'weight_12': 0.5, 'weight_13': 2.5}. Best is trial 29 with value: 0.7141933309339777.\n",
      "[I 2024-02-20 12:17:34,989] Trial 40 finished with value: 0.712824374712449 and parameters: {'weight_0': 0.5, 'weight_1': 3, 'weight_2': 3, 'weight_3': 0, 'weight_4': 3, 'weight_5': 0, 'weight_6': 2.5, 'weight_7': 3, 'weight_8': 2, 'weight_9': 0.5, 'weight_10': 1.5, 'weight_11': 2.5, 'weight_12': 0.5, 'weight_13': 2.5}. Best is trial 29 with value: 0.7141933309339777.\n",
      "[I 2024-02-20 12:17:38,998] Trial 41 finished with value: 0.7139655700461229 and parameters: {'weight_0': 3, 'weight_1': 0, 'weight_2': 0, 'weight_3': 0.5, 'weight_4': 3, 'weight_5': 2, 'weight_6': 2.5, 'weight_7': 3, 'weight_8': 2.5, 'weight_9': 0.5, 'weight_10': 1.5, 'weight_11': 0, 'weight_12': 2.5, 'weight_13': 0.5}. Best is trial 29 with value: 0.7141933309339777.\n",
      "[I 2024-02-20 12:17:43,473] Trial 42 finished with value: 0.7140543281552443 and parameters: {'weight_0': 1.5, 'weight_1': 2, 'weight_2': 3, 'weight_3': 1, 'weight_4': 3, 'weight_5': 3, 'weight_6': 2, 'weight_7': 3, 'weight_8': 2.5, 'weight_9': 0.5, 'weight_10': 1.5, 'weight_11': 0, 'weight_12': 0.5, 'weight_13': 2.5}. Best is trial 29 with value: 0.7141933309339777.\n",
      "[I 2024-02-20 12:17:47,809] Trial 43 finished with value: 0.7139694254085398 and parameters: {'weight_0': 1.5, 'weight_1': 2, 'weight_2': 3, 'weight_3': 1, 'weight_4': 3, 'weight_5': 3, 'weight_6': 2, 'weight_7': 0, 'weight_8': 2.5, 'weight_9': 0.5, 'weight_10': 1.5, 'weight_11': 0, 'weight_12': 0.5, 'weight_13': 2.5}. Best is trial 29 with value: 0.7141933309339777.\n",
      "[I 2024-02-20 12:17:52,492] Trial 44 finished with value: 0.7138691997913763 and parameters: {'weight_0': 1.5, 'weight_1': 2, 'weight_2': 3, 'weight_3': 1, 'weight_4': 0, 'weight_5': 3, 'weight_6': 2, 'weight_7': 3, 'weight_8': 0.5, 'weight_9': 0.5, 'weight_10': 1.5, 'weight_11': 2, 'weight_12': 0.5, 'weight_13': 2.5}. Best is trial 29 with value: 0.7141933309339777.\n",
      "[I 2024-02-20 12:17:56,595] Trial 45 finished with value: 0.713782003551177 and parameters: {'weight_0': 0, 'weight_1': 2, 'weight_2': 3, 'weight_3': 1, 'weight_4': 3, 'weight_5': 3, 'weight_6': 2, 'weight_7': 1, 'weight_8': 2.5, 'weight_9': 1.5, 'weight_10': 0, 'weight_11': 0, 'weight_12': 0.5, 'weight_13': 2.5}. Best is trial 29 with value: 0.7141933309339777.\n",
      "[I 2024-02-20 12:18:00,731] Trial 46 finished with value: 0.7139276595525778 and parameters: {'weight_0': 1.5, 'weight_1': 0, 'weight_2': 2.5, 'weight_3': 0.5, 'weight_4': 3, 'weight_5': 2, 'weight_6': 0.5, 'weight_7': 3, 'weight_8': 1.5, 'weight_9': 0.5, 'weight_10': 1.5, 'weight_11': 0, 'weight_12': 0, 'weight_13': 2.5}. Best is trial 29 with value: 0.7141933309339777.\n",
      "[I 2024-02-20 12:18:05,681] Trial 47 finished with value: 0.7140102849811145 and parameters: {'weight_0': 3, 'weight_1': 2.5, 'weight_2': 2, 'weight_3': 1, 'weight_4': 2, 'weight_5': 1.5, 'weight_6': 2.5, 'weight_7': 3, 'weight_8': 2.5, 'weight_9': 2.5, 'weight_10': 1.5, 'weight_11': 0.5, 'weight_12': 0.5, 'weight_13': 3}. Best is trial 29 with value: 0.7141933309339777.\n",
      "[I 2024-02-20 12:18:10,003] Trial 48 finished with value: 0.7137189093781332 and parameters: {'weight_0': 1.5, 'weight_1': 0, 'weight_2': 3, 'weight_3': 0.5, 'weight_4': 3, 'weight_5': 0, 'weight_6': 1.5, 'weight_7': 3, 'weight_8': 2.5, 'weight_9': 0.5, 'weight_10': 2, 'weight_11': 0, 'weight_12': 0.5, 'weight_13': 1.5}. Best is trial 29 with value: 0.7141933309339777.\n",
      "[I 2024-02-20 12:18:13,617] Trial 49 finished with value: 0.7151242498718632 and parameters: {'weight_0': 3, 'weight_1': 2, 'weight_2': 3, 'weight_3': 3, 'weight_4': 1, 'weight_5': 2, 'weight_6': 0, 'weight_7': 0, 'weight_8': 0, 'weight_9': 0.5, 'weight_10': 2.5, 'weight_11': 0, 'weight_12': 1, 'weight_13': 2.5}. Best is trial 49 with value: 0.7151242498718632.\n",
      "[I 2024-02-20 12:18:17,616] Trial 50 finished with value: 0.7152218232908439 and parameters: {'weight_0': 3, 'weight_1': 3, 'weight_2': 3, 'weight_3': 3, 'weight_4': 1, 'weight_5': 2, 'weight_6': 0, 'weight_7': 0, 'weight_8': 0, 'weight_9': 1, 'weight_10': 2.5, 'weight_11': 1, 'weight_12': 1, 'weight_13': 0.5}. Best is trial 50 with value: 0.7152218232908439.\n",
      "[I 2024-02-20 12:18:21,725] Trial 51 finished with value: 0.7152218232908439 and parameters: {'weight_0': 3, 'weight_1': 3, 'weight_2': 3, 'weight_3': 3, 'weight_4': 1, 'weight_5': 2, 'weight_6': 0, 'weight_7': 0, 'weight_8': 0, 'weight_9': 1, 'weight_10': 2.5, 'weight_11': 1, 'weight_12': 1, 'weight_13': 0.5}. Best is trial 50 with value: 0.7152218232908439.\n",
      "[I 2024-02-20 12:18:25,799] Trial 52 finished with value: 0.7152218232908439 and parameters: {'weight_0': 3, 'weight_1': 3, 'weight_2': 3, 'weight_3': 3, 'weight_4': 1, 'weight_5': 2, 'weight_6': 0, 'weight_7': 0, 'weight_8': 0, 'weight_9': 1, 'weight_10': 2.5, 'weight_11': 1, 'weight_12': 1, 'weight_13': 0.5}. Best is trial 50 with value: 0.7152218232908439.\n",
      "[I 2024-02-20 12:18:29,839] Trial 53 finished with value: 0.7152218232908439 and parameters: {'weight_0': 3, 'weight_1': 3, 'weight_2': 3, 'weight_3': 3, 'weight_4': 1, 'weight_5': 2, 'weight_6': 0, 'weight_7': 0, 'weight_8': 0, 'weight_9': 1, 'weight_10': 2.5, 'weight_11': 1, 'weight_12': 1, 'weight_13': 0.5}. Best is trial 50 with value: 0.7152218232908439.\n",
      "[I 2024-02-20 12:18:33,635] Trial 54 finished with value: 0.7149107509408631 and parameters: {'weight_0': 3, 'weight_1': 3, 'weight_2': 0, 'weight_3': 3, 'weight_4': 1, 'weight_5': 2, 'weight_6': 0, 'weight_7': 0, 'weight_8': 0, 'weight_9': 1, 'weight_10': 2.5, 'weight_11': 1, 'weight_12': 1, 'weight_13': 0.5}. Best is trial 50 with value: 0.7152218232908439.\n",
      "[I 2024-02-20 12:18:37,210] Trial 55 finished with value: 0.7142952008142712 and parameters: {'weight_0': 0.5, 'weight_1': 3, 'weight_2': 0, 'weight_3': 3, 'weight_4': 1, 'weight_5': 2, 'weight_6': 0, 'weight_7': 0, 'weight_8': 0, 'weight_9': 1, 'weight_10': 2.5, 'weight_11': 1, 'weight_12': 1, 'weight_13': 0.5}. Best is trial 50 with value: 0.7152218232908439.\n",
      "[I 2024-02-20 12:18:40,605] Trial 56 finished with value: 0.7149153339308931 and parameters: {'weight_0': 3, 'weight_1': 3, 'weight_2': 0, 'weight_3': 3, 'weight_4': 1, 'weight_5': 1, 'weight_6': 0, 'weight_7': 0, 'weight_8': 0, 'weight_9': 1, 'weight_10': 2.5, 'weight_11': 1, 'weight_12': 1, 'weight_13': 0.5}. Best is trial 50 with value: 0.7152218232908439.\n",
      "[I 2024-02-20 12:18:44,063] Trial 57 finished with value: 0.7139132107708974 and parameters: {'weight_0': 0, 'weight_1': 3, 'weight_2': 0, 'weight_3': 3, 'weight_4': 1, 'weight_5': 1, 'weight_6': 0, 'weight_7': 0, 'weight_8': 0, 'weight_9': 1, 'weight_10': 2.5, 'weight_11': 1, 'weight_12': 1, 'weight_13': 0.5}. Best is trial 50 with value: 0.7152218232908439.\n",
      "[I 2024-02-20 12:18:47,824] Trial 58 finished with value: 0.7150653922389918 and parameters: {'weight_0': 3, 'weight_1': 3, 'weight_2': 0.5, 'weight_3': 3, 'weight_4': 1, 'weight_5': 1, 'weight_6': 0, 'weight_7': 0, 'weight_8': 0, 'weight_9': 1, 'weight_10': 2.5, 'weight_11': 1, 'weight_12': 1, 'weight_13': 0.5}. Best is trial 50 with value: 0.7152218232908439.\n",
      "[I 2024-02-20 12:18:51,576] Trial 59 finished with value: 0.7149631878245103 and parameters: {'weight_0': 2.5, 'weight_1': 3, 'weight_2': 0.5, 'weight_3': 3, 'weight_4': 1, 'weight_5': 1, 'weight_6': 0, 'weight_7': 0, 'weight_8': 0, 'weight_9': 1, 'weight_10': 2.5, 'weight_11': 1, 'weight_12': 1, 'weight_13': 0.5}. Best is trial 50 with value: 0.7152218232908439.\n",
      "[I 2024-02-20 12:18:55,373] Trial 60 finished with value: 0.7150323535505346 and parameters: {'weight_0': 3, 'weight_1': 3, 'weight_2': 0.5, 'weight_3': 3, 'weight_4': 1, 'weight_5': 0.5, 'weight_6': 0, 'weight_7': 0, 'weight_8': 0, 'weight_9': 1, 'weight_10': 2.5, 'weight_11': 1, 'weight_12': 1, 'weight_13': 0.5}. Best is trial 50 with value: 0.7152218232908439.\n",
      "[I 2024-02-20 12:18:59,278] Trial 61 finished with value: 0.7150323535505346 and parameters: {'weight_0': 3, 'weight_1': 3, 'weight_2': 0.5, 'weight_3': 3, 'weight_4': 1, 'weight_5': 0.5, 'weight_6': 0, 'weight_7': 0, 'weight_8': 0, 'weight_9': 1, 'weight_10': 2.5, 'weight_11': 1, 'weight_12': 1, 'weight_13': 0.5}. Best is trial 50 with value: 0.7152218232908439.\n",
      "[I 2024-02-20 12:19:03,068] Trial 62 finished with value: 0.7150323535505346 and parameters: {'weight_0': 3, 'weight_1': 3, 'weight_2': 0.5, 'weight_3': 3, 'weight_4': 1, 'weight_5': 0.5, 'weight_6': 0, 'weight_7': 0, 'weight_8': 0, 'weight_9': 1, 'weight_10': 2.5, 'weight_11': 1, 'weight_12': 1, 'weight_13': 0.5}. Best is trial 50 with value: 0.7152218232908439.\n",
      "[I 2024-02-20 12:19:07,085] Trial 63 finished with value: 0.7150323535505346 and parameters: {'weight_0': 3, 'weight_1': 3, 'weight_2': 0.5, 'weight_3': 3, 'weight_4': 1, 'weight_5': 0.5, 'weight_6': 0, 'weight_7': 0, 'weight_8': 0, 'weight_9': 1, 'weight_10': 2.5, 'weight_11': 1, 'weight_12': 1, 'weight_13': 0.5}. Best is trial 50 with value: 0.7152218232908439.\n",
      "[I 2024-02-20 12:19:10,987] Trial 64 finished with value: 0.7150642830008193 and parameters: {'weight_0': 3, 'weight_1': 3, 'weight_2': 0.5, 'weight_3': 3, 'weight_4': 1, 'weight_5': 1.5, 'weight_6': 0, 'weight_7': 0, 'weight_8': 0, 'weight_9': 1, 'weight_10': 2.5, 'weight_11': 1, 'weight_12': 1, 'weight_13': 0.5}. Best is trial 50 with value: 0.7152218232908439.\n",
      "[I 2024-02-20 12:19:15,037] Trial 65 finished with value: 0.7153169962882847 and parameters: {'weight_0': 3, 'weight_1': 3, 'weight_2': 2, 'weight_3': 3, 'weight_4': 1, 'weight_5': 1.5, 'weight_6': 0, 'weight_7': 0, 'weight_8': 0, 'weight_9': 1, 'weight_10': 2.5, 'weight_11': 1, 'weight_12': 1, 'weight_13': 0.5}. Best is trial 65 with value: 0.7153169962882847.\n",
      "[I 2024-02-20 12:19:19,024] Trial 66 finished with value: 0.7143715920584754 and parameters: {'weight_0': 1, 'weight_1': 3, 'weight_2': 2, 'weight_3': 3, 'weight_4': 1, 'weight_5': 1.5, 'weight_6': 0, 'weight_7': 0, 'weight_8': 0, 'weight_9': 1, 'weight_10': 2.5, 'weight_11': 1, 'weight_12': 1, 'weight_13': 0.5}. Best is trial 65 with value: 0.7153169962882847.\n",
      "[I 2024-02-20 12:19:22,959] Trial 67 finished with value: 0.7153169962882847 and parameters: {'weight_0': 3, 'weight_1': 3, 'weight_2': 2, 'weight_3': 3, 'weight_4': 1, 'weight_5': 1.5, 'weight_6': 0, 'weight_7': 0, 'weight_8': 0, 'weight_9': 1, 'weight_10': 2.5, 'weight_11': 1, 'weight_12': 1, 'weight_13': 0.5}. Best is trial 65 with value: 0.7153169962882847.\n",
      "[I 2024-02-20 12:19:26,961] Trial 68 finished with value: 0.7153169962882847 and parameters: {'weight_0': 3, 'weight_1': 3, 'weight_2': 2, 'weight_3': 3, 'weight_4': 1, 'weight_5': 1.5, 'weight_6': 0, 'weight_7': 0, 'weight_8': 0, 'weight_9': 1, 'weight_10': 2.5, 'weight_11': 1, 'weight_12': 1, 'weight_13': 0.5}. Best is trial 65 with value: 0.7153169962882847.\n",
      "[I 2024-02-20 12:19:30,715] Trial 69 finished with value: 0.7152088500524934 and parameters: {'weight_0': 2.5, 'weight_1': 3, 'weight_2': 2, 'weight_3': 2.5, 'weight_4': 1, 'weight_5': 1.5, 'weight_6': 0, 'weight_7': 0, 'weight_8': 0, 'weight_9': 1, 'weight_10': 2.5, 'weight_11': 1, 'weight_12': 1.5, 'weight_13': 0.5}. Best is trial 65 with value: 0.7153169962882847.\n",
      "[I 2024-02-20 12:19:35,186] Trial 70 finished with value: 0.713554976947084 and parameters: {'weight_0': 0.5, 'weight_1': 3, 'weight_2': 2, 'weight_3': 3, 'weight_4': 1, 'weight_5': 1.5, 'weight_6': 1, 'weight_7': 0, 'weight_8': 0, 'weight_9': 1, 'weight_10': 2.5, 'weight_11': 1, 'weight_12': 1, 'weight_13': 0.5}. Best is trial 65 with value: 0.7153169962882847.\n",
      "[I 2024-02-20 12:19:39,183] Trial 71 finished with value: 0.7152088500524934 and parameters: {'weight_0': 2.5, 'weight_1': 3, 'weight_2': 2, 'weight_3': 2.5, 'weight_4': 1, 'weight_5': 1.5, 'weight_6': 0, 'weight_7': 0, 'weight_8': 0, 'weight_9': 1, 'weight_10': 2.5, 'weight_11': 1, 'weight_12': 1.5, 'weight_13': 0.5}. Best is trial 65 with value: 0.7153169962882847.\n",
      "[I 2024-02-20 12:19:43,528] Trial 72 finished with value: 0.7150613102202035 and parameters: {'weight_0': 2.5, 'weight_1': 3, 'weight_2': 2, 'weight_3': 2.5, 'weight_4': 1, 'weight_5': 1.5, 'weight_6': 0, 'weight_7': 0, 'weight_8': 1, 'weight_9': 1, 'weight_10': 2.5, 'weight_11': 1, 'weight_12': 1.5, 'weight_13': 0.5}. Best is trial 65 with value: 0.7153169962882847.\n",
      "[I 2024-02-20 12:19:47,337] Trial 73 finished with value: 0.7147605695901679 and parameters: {'weight_0': 2.5, 'weight_1': 3, 'weight_2': 2, 'weight_3': 1.5, 'weight_4': 1, 'weight_5': 1.5, 'weight_6': 0, 'weight_7': 0, 'weight_8': 0, 'weight_9': 1, 'weight_10': 3, 'weight_11': 1, 'weight_12': 1.5, 'weight_13': 0.5}. Best is trial 65 with value: 0.7153169962882847.\n",
      "[I 2024-02-20 12:19:51,402] Trial 74 finished with value: 0.714218010019905 and parameters: {'weight_0': 3, 'weight_1': 1.5, 'weight_2': 2, 'weight_3': 2.5, 'weight_4': 0.5, 'weight_5': 1.5, 'weight_6': 0, 'weight_7': 1.5, 'weight_8': 0, 'weight_9': 3, 'weight_10': 2.5, 'weight_11': 1, 'weight_12': 3, 'weight_13': 1}. Best is trial 65 with value: 0.7153169962882847.\n",
      "[I 2024-02-20 12:19:54,912] Trial 75 finished with value: 0.7136425803184676 and parameters: {'weight_0': 3, 'weight_1': 0.5, 'weight_2': 2, 'weight_3': 0, 'weight_4': 1.5, 'weight_5': 1.5, 'weight_6': 0, 'weight_7': 0.5, 'weight_8': 0, 'weight_9': 0, 'weight_10': 2.5, 'weight_11': 1, 'weight_12': 1, 'weight_13': 2}. Best is trial 65 with value: 0.7153169962882847.\n",
      "[I 2024-02-20 12:19:57,992] Trial 76 finished with value: 0.7132082080886727 and parameters: {'weight_0': 0, 'weight_1': 3, 'weight_2': 2, 'weight_3': 3, 'weight_4': 0, 'weight_5': 1.5, 'weight_6': 0, 'weight_7': 0, 'weight_8': 0, 'weight_9': 1, 'weight_10': 0, 'weight_11': 3, 'weight_12': 2.5, 'weight_13': 0.5}. Best is trial 65 with value: 0.7153169962882847.\n",
      "[I 2024-02-20 12:20:02,076] Trial 77 finished with value: 0.7153182536107515 and parameters: {'weight_0': 2.5, 'weight_1': 3, 'weight_2': 2, 'weight_3': 3, 'weight_4': 1, 'weight_5': 1.5, 'weight_6': 0, 'weight_7': 0, 'weight_8': 2, 'weight_9': 1.5, 'weight_10': 2.5, 'weight_11': 1, 'weight_12': 1, 'weight_13': 3}. Best is trial 77 with value: 0.7153182536107515.\n",
      "[I 2024-02-20 12:20:06,505] Trial 78 finished with value: 0.7139801973872234 and parameters: {'weight_0': 1, 'weight_1': 3, 'weight_2': 2.5, 'weight_3': 3, 'weight_4': 1, 'weight_5': 1.5, 'weight_6': 1.5, 'weight_7': 0, 'weight_8': 3, 'weight_9': 1.5, 'weight_10': 2, 'weight_11': 1, 'weight_12': 1, 'weight_13': 3}. Best is trial 77 with value: 0.7153182536107515.\n",
      "[I 2024-02-20 12:20:10,952] Trial 79 finished with value: 0.7151074911695028 and parameters: {'weight_0': 3, 'weight_1': 3, 'weight_2': 2, 'weight_3': 3, 'weight_4': 1, 'weight_5': 0, 'weight_6': 0.5, 'weight_7': 2.5, 'weight_8': 2, 'weight_9': 1.5, 'weight_10': 2.5, 'weight_11': 0.5, 'weight_12': 1, 'weight_13': 3}. Best is trial 77 with value: 0.7153182536107515.\n",
      "[I 2024-02-20 12:20:15,359] Trial 80 finished with value: 0.7149437410295401 and parameters: {'weight_0': 3, 'weight_1': 3, 'weight_2': 2, 'weight_3': 3, 'weight_4': 1, 'weight_5': 1.5, 'weight_6': 0, 'weight_7': 1, 'weight_8': 2, 'weight_9': 1.5, 'weight_10': 1, 'weight_11': 2.5, 'weight_12': 1, 'weight_13': 3}. Best is trial 77 with value: 0.7153182536107515.\n",
      "[I 2024-02-20 12:20:19,532] Trial 81 finished with value: 0.7148734059507358 and parameters: {'weight_0': 2.5, 'weight_1': 2.5, 'weight_2': 2, 'weight_3': 3, 'weight_4': 1, 'weight_5': 1.5, 'weight_6': 0, 'weight_7': 0, 'weight_8': 2, 'weight_9': 1, 'weight_10': 2.5, 'weight_11': 1, 'weight_12': 1, 'weight_13': 0.5}. Best is trial 77 with value: 0.7153182536107515.\n",
      "[I 2024-02-20 12:20:23,065] Trial 82 finished with value: 0.7153004375871568 and parameters: {'weight_0': 2.5, 'weight_1': 3, 'weight_2': 2, 'weight_3': 2.5, 'weight_4': 1, 'weight_5': 1.5, 'weight_6': 0, 'weight_7': 0, 'weight_8': 0, 'weight_9': 1, 'weight_10': 2.5, 'weight_11': 1, 'weight_12': 0, 'weight_13': 1.5}. Best is trial 77 with value: 0.7153182536107515.\n",
      "[I 2024-02-20 12:20:26,621] Trial 83 finished with value: 0.7151747362495988 and parameters: {'weight_0': 2.5, 'weight_1': 3, 'weight_2': 2, 'weight_3': 3, 'weight_4': 1, 'weight_5': 1.5, 'weight_6': 0, 'weight_7': 0, 'weight_8': 0, 'weight_9': 1, 'weight_10': 2.5, 'weight_11': 1, 'weight_12': 0, 'weight_13': 1.5}. Best is trial 77 with value: 0.7153182536107515.\n",
      "[I 2024-02-20 12:20:30,759] Trial 84 finished with value: 0.7150561913510822 and parameters: {'weight_0': 2.5, 'weight_1': 3, 'weight_2': 2, 'weight_3': 3, 'weight_4': 2, 'weight_5': 1.5, 'weight_6': 1, 'weight_7': 0, 'weight_8': 0.5, 'weight_9': 1, 'weight_10': 2.5, 'weight_11': 1.5, 'weight_12': 0, 'weight_13': 1.5}. Best is trial 77 with value: 0.7153182536107515.\n",
      "[I 2024-02-20 12:20:34,688] Trial 85 finished with value: 0.7154035714101977 and parameters: {'weight_0': 3, 'weight_1': 3, 'weight_2': 1, 'weight_3': 3, 'weight_4': 1, 'weight_5': 2, 'weight_6': 0, 'weight_7': 0, 'weight_8': 1.5, 'weight_9': 2.5, 'weight_10': 2.5, 'weight_11': 1, 'weight_12': 0, 'weight_13': 1.5}. Best is trial 85 with value: 0.7154035714101977.\n",
      "[I 2024-02-20 12:20:38,559] Trial 86 finished with value: 0.7145647474139346 and parameters: {'weight_0': 3, 'weight_1': 0.5, 'weight_2': 1, 'weight_3': 1.5, 'weight_4': 1, 'weight_5': 2, 'weight_6': 0, 'weight_7': 0, 'weight_8': 1.5, 'weight_9': 2.5, 'weight_10': 3, 'weight_11': 2, 'weight_12': 0, 'weight_13': 1.5}. Best is trial 85 with value: 0.7154035714101977.\n",
      "[I 2024-02-20 12:20:42,594] Trial 87 finished with value: 0.7154576822196815 and parameters: {'weight_0': 3, 'weight_1': 1.5, 'weight_2': 1, 'weight_3': 3, 'weight_4': 0.5, 'weight_5': 1.5, 'weight_6': 0, 'weight_7': 1.5, 'weight_8': 1.5, 'weight_9': 2.5, 'weight_10': 2.5, 'weight_11': 1, 'weight_12': 0, 'weight_13': 1.5}. Best is trial 87 with value: 0.7154576822196815.\n",
      "[I 2024-02-20 12:20:46,254] Trial 88 finished with value: 0.7144831545547232 and parameters: {'weight_0': 2.5, 'weight_1': 1.5, 'weight_2': 1, 'weight_3': 0, 'weight_4': 0.5, 'weight_5': 1.5, 'weight_6': 0, 'weight_7': 1.5, 'weight_8': 1.5, 'weight_9': 2.5, 'weight_10': 2.5, 'weight_11': 1, 'weight_12': 0, 'weight_13': 1.5}. Best is trial 87 with value: 0.7154576822196815.\n",
      "[I 2024-02-20 12:20:49,825] Trial 89 finished with value: 0.7155771525380502 and parameters: {'weight_0': 3, 'weight_1': 1.5, 'weight_2': 1, 'weight_3': 2.5, 'weight_4': 0.5, 'weight_5': 1.5, 'weight_6': 0, 'weight_7': 1.5, 'weight_8': 1.5, 'weight_9': 2.5, 'weight_10': 0, 'weight_11': 1, 'weight_12': 0, 'weight_13': 1.5}. Best is trial 89 with value: 0.7155771525380502.\n",
      "[I 2024-02-20 12:20:53,591] Trial 90 finished with value: 0.7146095650637798 and parameters: {'weight_0': 3, 'weight_1': 1.5, 'weight_2': 1, 'weight_3': 2.5, 'weight_4': 0.5, 'weight_5': 1.5, 'weight_6': 0, 'weight_7': 1.5, 'weight_8': 1.5, 'weight_9': 2.5, 'weight_10': 0, 'weight_11': 3, 'weight_12': 0, 'weight_13': 1.5}. Best is trial 89 with value: 0.7155771525380502.\n",
      "[I 2024-02-20 12:20:57,653] Trial 91 finished with value: 0.7155771525380502 and parameters: {'weight_0': 3, 'weight_1': 1.5, 'weight_2': 1, 'weight_3': 2.5, 'weight_4': 0.5, 'weight_5': 1.5, 'weight_6': 0, 'weight_7': 1.5, 'weight_8': 1.5, 'weight_9': 2.5, 'weight_10': 0, 'weight_11': 1, 'weight_12': 0, 'weight_13': 1.5}. Best is trial 89 with value: 0.7155771525380502.\n",
      "[I 2024-02-20 12:21:01,478] Trial 92 finished with value: 0.7155771525380502 and parameters: {'weight_0': 3, 'weight_1': 1.5, 'weight_2': 1, 'weight_3': 2.5, 'weight_4': 0.5, 'weight_5': 1.5, 'weight_6': 0, 'weight_7': 1.5, 'weight_8': 1.5, 'weight_9': 2.5, 'weight_10': 0, 'weight_11': 1, 'weight_12': 0, 'weight_13': 1.5}. Best is trial 89 with value: 0.7155771525380502.\n",
      "[I 2024-02-20 12:21:05,224] Trial 93 finished with value: 0.7155771525380502 and parameters: {'weight_0': 3, 'weight_1': 1.5, 'weight_2': 1, 'weight_3': 2.5, 'weight_4': 0.5, 'weight_5': 1.5, 'weight_6': 0, 'weight_7': 1.5, 'weight_8': 1.5, 'weight_9': 2.5, 'weight_10': 0, 'weight_11': 1, 'weight_12': 0, 'weight_13': 1.5}. Best is trial 89 with value: 0.7155771525380502.\n",
      "[I 2024-02-20 12:21:09,339] Trial 94 finished with value: 0.7156653093572366 and parameters: {'weight_0': 3, 'weight_1': 1.5, 'weight_2': 1, 'weight_3': 2.5, 'weight_4': 0.5, 'weight_5': 1.5, 'weight_6': 0.5, 'weight_7': 1.5, 'weight_8': 1.5, 'weight_9': 2.5, 'weight_10': 0, 'weight_11': 1, 'weight_12': 0, 'weight_13': 1.5}. Best is trial 94 with value: 0.7156653093572366.\n",
      "[I 2024-02-20 12:21:13,479] Trial 95 finished with value: 0.7156653093572366 and parameters: {'weight_0': 3, 'weight_1': 1.5, 'weight_2': 1, 'weight_3': 2.5, 'weight_4': 0.5, 'weight_5': 1.5, 'weight_6': 0.5, 'weight_7': 1.5, 'weight_8': 1.5, 'weight_9': 2.5, 'weight_10': 0, 'weight_11': 1, 'weight_12': 0, 'weight_13': 1.5}. Best is trial 94 with value: 0.7156653093572366.\n",
      "[I 2024-02-20 12:21:17,577] Trial 96 finished with value: 0.7156653093572366 and parameters: {'weight_0': 3, 'weight_1': 1.5, 'weight_2': 1, 'weight_3': 2.5, 'weight_4': 0.5, 'weight_5': 1.5, 'weight_6': 0.5, 'weight_7': 1.5, 'weight_8': 1.5, 'weight_9': 2.5, 'weight_10': 0, 'weight_11': 1, 'weight_12': 0, 'weight_13': 1.5}. Best is trial 94 with value: 0.7156653093572366.\n",
      "[I 2024-02-20 12:21:21,783] Trial 97 finished with value: 0.7157693981575367 and parameters: {'weight_0': 3, 'weight_1': 1.5, 'weight_2': 1, 'weight_3': 2.5, 'weight_4': 0.5, 'weight_5': 1.5, 'weight_6': 0.5, 'weight_7': 1.5, 'weight_8': 1.5, 'weight_9': 2.5, 'weight_10': 0, 'weight_11': 0.5, 'weight_12': 0, 'weight_13': 1.5}. Best is trial 97 with value: 0.7157693981575367.\n",
      "[I 2024-02-20 12:21:25,924] Trial 98 finished with value: 0.7157693981575367 and parameters: {'weight_0': 3, 'weight_1': 1.5, 'weight_2': 1, 'weight_3': 2.5, 'weight_4': 0.5, 'weight_5': 1.5, 'weight_6': 0.5, 'weight_7': 1.5, 'weight_8': 1.5, 'weight_9': 2.5, 'weight_10': 0, 'weight_11': 0.5, 'weight_12': 0, 'weight_13': 1.5}. Best is trial 97 with value: 0.7157693981575367.\n",
      "[I 2024-02-20 12:21:29,991] Trial 99 finished with value: 0.7157693981575367 and parameters: {'weight_0': 3, 'weight_1': 1.5, 'weight_2': 1, 'weight_3': 2.5, 'weight_4': 0.5, 'weight_5': 1.5, 'weight_6': 0.5, 'weight_7': 1.5, 'weight_8': 1.5, 'weight_9': 2.5, 'weight_10': 0, 'weight_11': 0.5, 'weight_12': 0, 'weight_13': 1.5}. Best is trial 97 with value: 0.7157693981575367.\n",
      "[I 2024-02-20 12:21:34,113] Trial 100 finished with value: 0.7157693981575367 and parameters: {'weight_0': 3, 'weight_1': 1.5, 'weight_2': 1, 'weight_3': 2.5, 'weight_4': 0.5, 'weight_5': 1.5, 'weight_6': 0.5, 'weight_7': 1.5, 'weight_8': 1.5, 'weight_9': 2.5, 'weight_10': 0, 'weight_11': 0.5, 'weight_12': 0, 'weight_13': 1.5}. Best is trial 97 with value: 0.7157693981575367.\n",
      "[I 2024-02-20 12:21:38,206] Trial 101 finished with value: 0.7157693981575367 and parameters: {'weight_0': 3, 'weight_1': 1.5, 'weight_2': 1, 'weight_3': 2.5, 'weight_4': 0.5, 'weight_5': 1.5, 'weight_6': 0.5, 'weight_7': 1.5, 'weight_8': 1.5, 'weight_9': 2.5, 'weight_10': 0, 'weight_11': 0.5, 'weight_12': 0, 'weight_13': 1.5}. Best is trial 97 with value: 0.7157693981575367.\n",
      "[I 2024-02-20 12:21:42,355] Trial 102 finished with value: 0.7157693981575367 and parameters: {'weight_0': 3, 'weight_1': 1.5, 'weight_2': 1, 'weight_3': 2.5, 'weight_4': 0.5, 'weight_5': 1.5, 'weight_6': 0.5, 'weight_7': 1.5, 'weight_8': 1.5, 'weight_9': 2.5, 'weight_10': 0, 'weight_11': 0.5, 'weight_12': 0, 'weight_13': 1.5}. Best is trial 97 with value: 0.7157693981575367.\n",
      "[I 2024-02-20 12:21:46,515] Trial 103 finished with value: 0.7157693981575367 and parameters: {'weight_0': 3, 'weight_1': 1.5, 'weight_2': 1, 'weight_3': 2.5, 'weight_4': 0.5, 'weight_5': 1.5, 'weight_6': 0.5, 'weight_7': 1.5, 'weight_8': 1.5, 'weight_9': 2.5, 'weight_10': 0, 'weight_11': 0.5, 'weight_12': 0, 'weight_13': 1.5}. Best is trial 97 with value: 0.7157693981575367.\n",
      "[I 2024-02-20 12:21:50,647] Trial 104 finished with value: 0.7157693981575367 and parameters: {'weight_0': 3, 'weight_1': 1.5, 'weight_2': 1, 'weight_3': 2.5, 'weight_4': 0.5, 'weight_5': 1.5, 'weight_6': 0.5, 'weight_7': 1.5, 'weight_8': 1.5, 'weight_9': 2.5, 'weight_10': 0, 'weight_11': 0.5, 'weight_12': 0, 'weight_13': 1.5}. Best is trial 97 with value: 0.7157693981575367.\n",
      "[I 2024-02-20 12:21:54,861] Trial 105 finished with value: 0.7157693981575367 and parameters: {'weight_0': 3, 'weight_1': 1.5, 'weight_2': 1, 'weight_3': 2.5, 'weight_4': 0.5, 'weight_5': 1.5, 'weight_6': 0.5, 'weight_7': 1.5, 'weight_8': 1.5, 'weight_9': 2.5, 'weight_10': 0, 'weight_11': 0.5, 'weight_12': 0, 'weight_13': 1.5}. Best is trial 97 with value: 0.7157693981575367.\n",
      "[I 2024-02-20 12:21:58,934] Trial 106 finished with value: 0.7157693981575367 and parameters: {'weight_0': 3, 'weight_1': 1.5, 'weight_2': 1, 'weight_3': 2.5, 'weight_4': 0.5, 'weight_5': 1.5, 'weight_6': 0.5, 'weight_7': 1.5, 'weight_8': 1.5, 'weight_9': 2.5, 'weight_10': 0, 'weight_11': 0.5, 'weight_12': 0, 'weight_13': 1.5}. Best is trial 97 with value: 0.7157693981575367.\n",
      "[I 2024-02-20 12:22:03,115] Trial 107 finished with value: 0.7157693981575367 and parameters: {'weight_0': 3, 'weight_1': 1.5, 'weight_2': 1, 'weight_3': 2.5, 'weight_4': 0.5, 'weight_5': 1.5, 'weight_6': 0.5, 'weight_7': 1.5, 'weight_8': 1.5, 'weight_9': 2.5, 'weight_10': 0, 'weight_11': 0.5, 'weight_12': 0, 'weight_13': 1.5}. Best is trial 97 with value: 0.7157693981575367.\n",
      "[I 2024-02-20 12:22:07,319] Trial 108 finished with value: 0.714239984324876 and parameters: {'weight_0': 0.5, 'weight_1': 1.5, 'weight_2': 1, 'weight_3': 2.5, 'weight_4': 0.5, 'weight_5': 1.5, 'weight_6': 0.5, 'weight_7': 1.5, 'weight_8': 1.5, 'weight_9': 2.5, 'weight_10': 0, 'weight_11': 0.5, 'weight_12': 0, 'weight_13': 1.5}. Best is trial 97 with value: 0.7157693981575367.\n",
      "[I 2024-02-20 12:22:11,511] Trial 109 finished with value: 0.7157693981575367 and parameters: {'weight_0': 3, 'weight_1': 1.5, 'weight_2': 1, 'weight_3': 2.5, 'weight_4': 0.5, 'weight_5': 1.5, 'weight_6': 0.5, 'weight_7': 1.5, 'weight_8': 1.5, 'weight_9': 2.5, 'weight_10': 0, 'weight_11': 0.5, 'weight_12': 0, 'weight_13': 1.5}. Best is trial 97 with value: 0.7157693981575367.\n",
      "[I 2024-02-20 12:22:15,304] Trial 110 finished with value: 0.713802565974805 and parameters: {'weight_0': 0, 'weight_1': 1.5, 'weight_2': 1, 'weight_3': 2.5, 'weight_4': 0.5, 'weight_5': 1.5, 'weight_6': 0.5, 'weight_7': 1.5, 'weight_8': 1.5, 'weight_9': 2.5, 'weight_10': 0, 'weight_11': 0.5, 'weight_12': 0, 'weight_13': 1.5}. Best is trial 97 with value: 0.7157693981575367.\n",
      "[I 2024-02-20 12:22:19,373] Trial 111 finished with value: 0.7157693981575367 and parameters: {'weight_0': 3, 'weight_1': 1.5, 'weight_2': 1, 'weight_3': 2.5, 'weight_4': 0.5, 'weight_5': 1.5, 'weight_6': 0.5, 'weight_7': 1.5, 'weight_8': 1.5, 'weight_9': 2.5, 'weight_10': 0, 'weight_11': 0.5, 'weight_12': 0, 'weight_13': 1.5}. Best is trial 97 with value: 0.7157693981575367.\n",
      "[I 2024-02-20 12:22:23,509] Trial 112 finished with value: 0.7157693981575367 and parameters: {'weight_0': 3, 'weight_1': 1.5, 'weight_2': 1, 'weight_3': 2.5, 'weight_4': 0.5, 'weight_5': 1.5, 'weight_6': 0.5, 'weight_7': 1.5, 'weight_8': 1.5, 'weight_9': 2.5, 'weight_10': 0, 'weight_11': 0.5, 'weight_12': 0, 'weight_13': 1.5}. Best is trial 97 with value: 0.7157693981575367.\n",
      "[I 2024-02-20 12:22:27,704] Trial 113 finished with value: 0.7157693981575367 and parameters: {'weight_0': 3, 'weight_1': 1.5, 'weight_2': 1, 'weight_3': 2.5, 'weight_4': 0.5, 'weight_5': 1.5, 'weight_6': 0.5, 'weight_7': 1.5, 'weight_8': 1.5, 'weight_9': 2.5, 'weight_10': 0, 'weight_11': 0.5, 'weight_12': 0, 'weight_13': 1.5}. Best is trial 97 with value: 0.7157693981575367.\n",
      "[I 2024-02-20 12:22:31,573] Trial 114 finished with value: 0.7155469506292352 and parameters: {'weight_0': 3, 'weight_1': 1.5, 'weight_2': 1, 'weight_3': 2.5, 'weight_4': 0.5, 'weight_5': 0, 'weight_6': 0.5, 'weight_7': 1.5, 'weight_8': 1.5, 'weight_9': 2.5, 'weight_10': 0, 'weight_11': 0.5, 'weight_12': 0, 'weight_13': 1.5}. Best is trial 97 with value: 0.7157693981575367.\n",
      "[I 2024-02-20 12:22:35,815] Trial 115 finished with value: 0.7157693981575367 and parameters: {'weight_0': 3, 'weight_1': 1.5, 'weight_2': 1, 'weight_3': 2.5, 'weight_4': 0.5, 'weight_5': 1.5, 'weight_6': 0.5, 'weight_7': 1.5, 'weight_8': 1.5, 'weight_9': 2.5, 'weight_10': 0, 'weight_11': 0.5, 'weight_12': 0, 'weight_13': 1.5}. Best is trial 97 with value: 0.7157693981575367.\n",
      "[I 2024-02-20 12:22:39,944] Trial 116 finished with value: 0.7157693981575367 and parameters: {'weight_0': 3, 'weight_1': 1.5, 'weight_2': 1, 'weight_3': 2.5, 'weight_4': 0.5, 'weight_5': 1.5, 'weight_6': 0.5, 'weight_7': 1.5, 'weight_8': 1.5, 'weight_9': 2.5, 'weight_10': 0, 'weight_11': 0.5, 'weight_12': 0, 'weight_13': 1.5}. Best is trial 97 with value: 0.7157693981575367.\n",
      "[I 2024-02-20 12:22:44,035] Trial 117 finished with value: 0.7147141707268305 and parameters: {'weight_0': 1, 'weight_1': 1.5, 'weight_2': 1, 'weight_3': 2.5, 'weight_4': 0.5, 'weight_5': 1.5, 'weight_6': 0.5, 'weight_7': 1.5, 'weight_8': 1.5, 'weight_9': 2.5, 'weight_10': 0, 'weight_11': 0.5, 'weight_12': 0, 'weight_13': 1.5}. Best is trial 97 with value: 0.7157693981575367.\n",
      "[I 2024-02-20 12:22:48,156] Trial 118 finished with value: 0.7154746703998277 and parameters: {'weight_0': 3, 'weight_1': 1.5, 'weight_2': 1, 'weight_3': 2.5, 'weight_4': 0.5, 'weight_5': 3, 'weight_6': 0.5, 'weight_7': 1.5, 'weight_8': 1.5, 'weight_9': 2.5, 'weight_10': 0, 'weight_11': 0.5, 'weight_12': 0, 'weight_13': 1.5}. Best is trial 97 with value: 0.7157693981575367.\n",
      "[I 2024-02-20 12:22:52,535] Trial 119 finished with value: 0.7143404381995035 and parameters: {'weight_0': 3, 'weight_1': 1.5, 'weight_2': 1, 'weight_3': 2.5, 'weight_4': 0.5, 'weight_5': 1.5, 'weight_6': 0.5, 'weight_7': 1.5, 'weight_8': 1.5, 'weight_9': 2.5, 'weight_10': 0, 'weight_11': 0.5, 'weight_12': 3, 'weight_13': 1.5}. Best is trial 97 with value: 0.7157693981575367.\n",
      "[I 2024-02-20 12:22:56,785] Trial 120 finished with value: 0.7157691158594297 and parameters: {'weight_0': 3, 'weight_1': 1.5, 'weight_2': 1, 'weight_3': 2.5, 'weight_4': 0.5, 'weight_5': 1.5, 'weight_6': 0.5, 'weight_7': 1.5, 'weight_8': 1.5, 'weight_9': 2.5, 'weight_10': 0, 'weight_11': 0.5, 'weight_12': 0, 'weight_13': 1}. Best is trial 97 with value: 0.7157693981575367.\n",
      "[I 2024-02-20 12:23:00,898] Trial 121 finished with value: 0.7157693981575367 and parameters: {'weight_0': 3, 'weight_1': 1.5, 'weight_2': 1, 'weight_3': 2.5, 'weight_4': 0.5, 'weight_5': 1.5, 'weight_6': 0.5, 'weight_7': 1.5, 'weight_8': 1.5, 'weight_9': 2.5, 'weight_10': 0, 'weight_11': 0.5, 'weight_12': 0, 'weight_13': 1.5}. Best is trial 97 with value: 0.7157693981575367.\n",
      "[I 2024-02-20 12:23:05,081] Trial 122 finished with value: 0.7157693981575367 and parameters: {'weight_0': 3, 'weight_1': 1.5, 'weight_2': 1, 'weight_3': 2.5, 'weight_4': 0.5, 'weight_5': 1.5, 'weight_6': 0.5, 'weight_7': 1.5, 'weight_8': 1.5, 'weight_9': 2.5, 'weight_10': 0, 'weight_11': 0.5, 'weight_12': 0, 'weight_13': 1.5}. Best is trial 97 with value: 0.7157693981575367.\n",
      "[I 2024-02-20 12:23:09,291] Trial 123 finished with value: 0.7157693981575367 and parameters: {'weight_0': 3, 'weight_1': 1.5, 'weight_2': 1, 'weight_3': 2.5, 'weight_4': 0.5, 'weight_5': 1.5, 'weight_6': 0.5, 'weight_7': 1.5, 'weight_8': 1.5, 'weight_9': 2.5, 'weight_10': 0, 'weight_11': 0.5, 'weight_12': 0, 'weight_13': 1.5}. Best is trial 97 with value: 0.7157693981575367.\n",
      "[I 2024-02-20 12:23:13,750] Trial 124 finished with value: 0.7147973330752193 and parameters: {'weight_0': 3, 'weight_1': 1.5, 'weight_2': 1, 'weight_3': 2.5, 'weight_4': 0.5, 'weight_5': 1.5, 'weight_6': 0.5, 'weight_7': 1.5, 'weight_8': 1, 'weight_9': 3, 'weight_10': 0, 'weight_11': 0.5, 'weight_12': 2.5, 'weight_13': 1.5}. Best is trial 97 with value: 0.7157693981575367.\n",
      "[I 2024-02-20 12:23:17,630] Trial 125 finished with value: 0.7144746015610839 and parameters: {'weight_0': 1.5, 'weight_1': 1.5, 'weight_2': 1, 'weight_3': 2.5, 'weight_4': 0.5, 'weight_5': 1.5, 'weight_6': 0.5, 'weight_7': 2, 'weight_8': 1.5, 'weight_9': 0, 'weight_10': 0, 'weight_11': 0.5, 'weight_12': 0, 'weight_13': 1.5}. Best is trial 97 with value: 0.7157693981575367.\n",
      "[I 2024-02-20 12:23:21,820] Trial 126 finished with value: 0.7149284804434075 and parameters: {'weight_0': 2, 'weight_1': 1.5, 'weight_2': 1, 'weight_3': 2.5, 'weight_4': 1.5, 'weight_5': 1.5, 'weight_6': 0.5, 'weight_7': 1.5, 'weight_8': 1.5, 'weight_9': 2.5, 'weight_10': 0, 'weight_11': 0.5, 'weight_12': 0, 'weight_13': 1.5}. Best is trial 97 with value: 0.7157693981575367.\n",
      "[I 2024-02-20 12:23:25,879] Trial 127 finished with value: 0.7155026719697285 and parameters: {'weight_0': 3, 'weight_1': 1.5, 'weight_2': 2.5, 'weight_3': 2.5, 'weight_4': 0.5, 'weight_5': 1.5, 'weight_6': 0.5, 'weight_7': 1.5, 'weight_8': 1.5, 'weight_9': 2.5, 'weight_10': 0, 'weight_11': 0.5, 'weight_12': 0, 'weight_13': 1.5}. Best is trial 97 with value: 0.7157693981575367.\n",
      "[I 2024-02-20 12:23:29,725] Trial 128 finished with value: 0.7157325239996041 and parameters: {'weight_0': 3, 'weight_1': 1.5, 'weight_2': 1, 'weight_3': 2.5, 'weight_4': 0, 'weight_5': 2.5, 'weight_6': 0.5, 'weight_7': 1.5, 'weight_8': 1.5, 'weight_9': 2.5, 'weight_10': 0, 'weight_11': 0.5, 'weight_12': 0, 'weight_13': 2}. Best is trial 97 with value: 0.7157693981575367.\n",
      "[I 2024-02-20 12:23:33,933] Trial 129 finished with value: 0.7158312665275552 and parameters: {'weight_0': 3, 'weight_1': 2.5, 'weight_2': 1, 'weight_3': 2.5, 'weight_4': 0.5, 'weight_5': 1.5, 'weight_6': 0.5, 'weight_7': 1.5, 'weight_8': 3, 'weight_9': 2.5, 'weight_10': 0, 'weight_11': 0.5, 'weight_12': 0, 'weight_13': 1.5}. Best is trial 129 with value: 0.7158312665275552.\n",
      "[I 2024-02-20 12:23:38,188] Trial 130 finished with value: 0.7158312665275552 and parameters: {'weight_0': 3, 'weight_1': 2.5, 'weight_2': 1, 'weight_3': 2.5, 'weight_4': 0.5, 'weight_5': 1.5, 'weight_6': 0.5, 'weight_7': 1.5, 'weight_8': 3, 'weight_9': 2.5, 'weight_10': 0, 'weight_11': 0.5, 'weight_12': 0, 'weight_13': 1.5}. Best is trial 129 with value: 0.7158312665275552.\n",
      "[I 2024-02-20 12:23:42,348] Trial 131 finished with value: 0.715875905747504 and parameters: {'weight_0': 3, 'weight_1': 2.5, 'weight_2': 1, 'weight_3': 2.5, 'weight_4': 0.5, 'weight_5': 1.5, 'weight_6': 0.5, 'weight_7': 0.5, 'weight_8': 3, 'weight_9': 2.5, 'weight_10': 0, 'weight_11': 0.5, 'weight_12': 0, 'weight_13': 1.5}. Best is trial 131 with value: 0.715875905747504.\n",
      "[I 2024-02-20 12:23:46,536] Trial 132 finished with value: 0.715875905747504 and parameters: {'weight_0': 3, 'weight_1': 2.5, 'weight_2': 1, 'weight_3': 2.5, 'weight_4': 0.5, 'weight_5': 1.5, 'weight_6': 0.5, 'weight_7': 0.5, 'weight_8': 3, 'weight_9': 2.5, 'weight_10': 0, 'weight_11': 0.5, 'weight_12': 0, 'weight_13': 1.5}. Best is trial 131 with value: 0.715875905747504.\n",
      "[I 2024-02-20 12:23:50,738] Trial 133 finished with value: 0.715875905747504 and parameters: {'weight_0': 3, 'weight_1': 2.5, 'weight_2': 1, 'weight_3': 2.5, 'weight_4': 0.5, 'weight_5': 1.5, 'weight_6': 0.5, 'weight_7': 0.5, 'weight_8': 3, 'weight_9': 2.5, 'weight_10': 0, 'weight_11': 0.5, 'weight_12': 0, 'weight_13': 1.5}. Best is trial 131 with value: 0.715875905747504.\n",
      "[I 2024-02-20 12:23:54,908] Trial 134 finished with value: 0.715861022966737 and parameters: {'weight_0': 3, 'weight_1': 2.5, 'weight_2': 1.5, 'weight_3': 2.5, 'weight_4': 0.5, 'weight_5': 1.5, 'weight_6': 0.5, 'weight_7': 0.5, 'weight_8': 3, 'weight_9': 2.5, 'weight_10': 0, 'weight_11': 0.5, 'weight_12': 0, 'weight_13': 1.5}. Best is trial 131 with value: 0.715875905747504.\n",
      "[I 2024-02-20 12:23:59,221] Trial 135 finished with value: 0.7143495743019455 and parameters: {'weight_0': 0.5, 'weight_1': 2.5, 'weight_2': 1.5, 'weight_3': 2.5, 'weight_4': 0.5, 'weight_5': 1.5, 'weight_6': 0.5, 'weight_7': 0.5, 'weight_8': 3, 'weight_9': 2.5, 'weight_10': 2, 'weight_11': 0.5, 'weight_12': 0, 'weight_13': 1.5}. Best is trial 131 with value: 0.715875905747504.\n",
      "[I 2024-02-20 12:24:03,453] Trial 136 finished with value: 0.7157944725938534 and parameters: {'weight_0': 3, 'weight_1': 2.5, 'weight_2': 1.5, 'weight_3': 2.5, 'weight_4': 0.5, 'weight_5': 0, 'weight_6': 0.5, 'weight_7': 0.5, 'weight_8': 3, 'weight_9': 2.5, 'weight_10': 1, 'weight_11': 0.5, 'weight_12': 0, 'weight_13': 1.5}. Best is trial 131 with value: 0.715875905747504.\n",
      "[I 2024-02-20 12:24:07,608] Trial 137 finished with value: 0.7153107228941851 and parameters: {'weight_0': 3, 'weight_1': 2.5, 'weight_2': 1.5, 'weight_3': 2.5, 'weight_4': 2, 'weight_5': 0, 'weight_6': 0.5, 'weight_7': 0.5, 'weight_8': 3, 'weight_9': 2.5, 'weight_10': 1, 'weight_11': 0.5, 'weight_12': 0, 'weight_13': 1.5}. Best is trial 131 with value: 0.715875905747504.\n",
      "[I 2024-02-20 12:24:11,124] Trial 138 finished with value: 0.7132551848512173 and parameters: {'weight_0': 0, 'weight_1': 2.5, 'weight_2': 1.5, 'weight_3': 0, 'weight_4': 0.5, 'weight_5': 0, 'weight_6': 0.5, 'weight_7': 0.5, 'weight_8': 3, 'weight_9': 2.5, 'weight_10': 1, 'weight_11': 0.5, 'weight_12': 0, 'weight_13': 1.5}. Best is trial 131 with value: 0.715875905747504.\n",
      "[I 2024-02-20 12:24:15,700] Trial 139 finished with value: 0.7158163938697397 and parameters: {'weight_0': 3, 'weight_1': 2.5, 'weight_2': 1.5, 'weight_3': 2.5, 'weight_4': 0.5, 'weight_5': 0.5, 'weight_6': 1.5, 'weight_7': 0.5, 'weight_8': 3, 'weight_9': 2.5, 'weight_10': 1, 'weight_11': 0.5, 'weight_12': 0, 'weight_13': 1}. Best is trial 131 with value: 0.715875905747504.\n",
      "[I 2024-02-20 12:24:20,030] Trial 140 finished with value: 0.7144568516788594 and parameters: {'weight_0': 3, 'weight_1': 2.5, 'weight_2': 1.5, 'weight_3': 2.5, 'weight_4': 0.5, 'weight_5': 0, 'weight_6': 1.5, 'weight_7': 0.5, 'weight_8': 3, 'weight_9': 3, 'weight_10': 1, 'weight_11': 0.5, 'weight_12': 3, 'weight_13': 1}. Best is trial 131 with value: 0.715875905747504.\n",
      "[I 2024-02-20 12:24:24,855] Trial 141 finished with value: 0.7158163938697397 and parameters: {'weight_0': 3, 'weight_1': 2.5, 'weight_2': 1.5, 'weight_3': 2.5, 'weight_4': 0.5, 'weight_5': 0.5, 'weight_6': 1.5, 'weight_7': 0.5, 'weight_8': 3, 'weight_9': 2.5, 'weight_10': 1, 'weight_11': 0.5, 'weight_12': 0, 'weight_13': 1}. Best is trial 131 with value: 0.715875905747504.\n",
      "[I 2024-02-20 12:24:30,028] Trial 142 finished with value: 0.7158163938697397 and parameters: {'weight_0': 3, 'weight_1': 2.5, 'weight_2': 1.5, 'weight_3': 2.5, 'weight_4': 0.5, 'weight_5': 0.5, 'weight_6': 1.5, 'weight_7': 0.5, 'weight_8': 3, 'weight_9': 2.5, 'weight_10': 1, 'weight_11': 0.5, 'weight_12': 0, 'weight_13': 1}. Best is trial 131 with value: 0.715875905747504.\n",
      "[I 2024-02-20 12:24:34,722] Trial 143 finished with value: 0.7157429282384234 and parameters: {'weight_0': 3, 'weight_1': 2.5, 'weight_2': 1.5, 'weight_3': 1.5, 'weight_4': 0.5, 'weight_5': 0.5, 'weight_6': 1.5, 'weight_7': 0.5, 'weight_8': 3, 'weight_9': 2.5, 'weight_10': 1, 'weight_11': 0.5, 'weight_12': 0, 'weight_13': 1}. Best is trial 131 with value: 0.715875905747504.\n",
      "[I 2024-02-20 12:24:40,261] Trial 144 finished with value: 0.7150914453470456 and parameters: {'weight_0': 3, 'weight_1': 2.5, 'weight_2': 1.5, 'weight_3': 2.5, 'weight_4': 0.5, 'weight_5': 0.5, 'weight_6': 1.5, 'weight_7': 0.5, 'weight_8': 3, 'weight_9': 2.5, 'weight_10': 1, 'weight_11': 2.5, 'weight_12': 2, 'weight_13': 1}. Best is trial 131 with value: 0.715875905747504.\n",
      "[I 2024-02-20 12:24:45,111] Trial 145 finished with value: 0.714479839518785 and parameters: {'weight_0': 1, 'weight_1': 2.5, 'weight_2': 1.5, 'weight_3': 2.5, 'weight_4': 0.5, 'weight_5': 0.5, 'weight_6': 1.5, 'weight_7': 0.5, 'weight_8': 3, 'weight_9': 2.5, 'weight_10': 1, 'weight_11': 0.5, 'weight_12': 0, 'weight_13': 1}. Best is trial 131 with value: 0.715875905747504.\n",
      "[I 2024-02-20 12:24:49,868] Trial 146 finished with value: 0.7155879489203473 and parameters: {'weight_0': 3, 'weight_1': 2.5, 'weight_2': 1.5, 'weight_3': 1, 'weight_4': 0.5, 'weight_5': 0.5, 'weight_6': 1.5, 'weight_7': 0.5, 'weight_8': 3, 'weight_9': 2.5, 'weight_10': 1, 'weight_11': 0.5, 'weight_12': 0, 'weight_13': 1}. Best is trial 131 with value: 0.715875905747504.\n",
      "[I 2024-02-20 12:24:54,285] Trial 147 finished with value: 0.7137680704855864 and parameters: {'weight_0': 3, 'weight_1': 2.5, 'weight_2': 1.5, 'weight_3': 2, 'weight_4': 0.5, 'weight_5': 0.5, 'weight_6': 1.5, 'weight_7': 0.5, 'weight_8': 3, 'weight_9': 0, 'weight_10': 1, 'weight_11': 1.5, 'weight_12': 2.5, 'weight_13': 1}. Best is trial 131 with value: 0.715875905747504.\n",
      "[I 2024-02-20 12:24:58,981] Trial 148 finished with value: 0.7148675542135603 and parameters: {'weight_0': 3, 'weight_1': 2.5, 'weight_2': 1.5, 'weight_3': 2.5, 'weight_4': 2.5, 'weight_5': 0.5, 'weight_6': 1.5, 'weight_7': 0.5, 'weight_8': 3, 'weight_9': 2.5, 'weight_10': 1, 'weight_11': 2, 'weight_12': 0, 'weight_13': 1}. Best is trial 131 with value: 0.715875905747504.\n",
      "[I 2024-02-20 12:25:03,721] Trial 149 finished with value: 0.7153235643455594 and parameters: {'weight_0': 3, 'weight_1': 2.5, 'weight_2': 1.5, 'weight_3': 2.5, 'weight_4': 1.5, 'weight_5': 0.5, 'weight_6': 1.5, 'weight_7': 0.5, 'weight_8': 3, 'weight_9': 2, 'weight_10': 1, 'weight_11': 0.5, 'weight_12': 0, 'weight_13': 1}. Best is trial 131 with value: 0.715875905747504.\n",
      "[I 2024-02-20 12:25:08,138] Trial 150 finished with value: 0.7148145819160917 and parameters: {'weight_0': 3, 'weight_1': 2.5, 'weight_2': 1.5, 'weight_3': 2.5, 'weight_4': 0, 'weight_5': 0.5, 'weight_6': 2, 'weight_7': 0.5, 'weight_8': 3, 'weight_9': 2.5, 'weight_10': 3, 'weight_11': 0.5, 'weight_12': 0, 'weight_13': 1}. Best is trial 131 with value: 0.715875905747504.\n",
      "[I 2024-02-20 12:25:12,665] Trial 151 finished with value: 0.7158687591633285 and parameters: {'weight_0': 3, 'weight_1': 2.5, 'weight_2': 1.5, 'weight_3': 2.5, 'weight_4': 0.5, 'weight_5': 0.5, 'weight_6': 1, 'weight_7': 0.5, 'weight_8': 3, 'weight_9': 2.5, 'weight_10': 0.5, 'weight_11': 0.5, 'weight_12': 0, 'weight_13': 1.5}. Best is trial 131 with value: 0.715875905747504.\n",
      "[I 2024-02-20 12:25:17,087] Trial 152 finished with value: 0.7158570714984638 and parameters: {'weight_0': 3, 'weight_1': 2.5, 'weight_2': 1.5, 'weight_3': 2.5, 'weight_4': 0.5, 'weight_5': 0.5, 'weight_6': 1, 'weight_7': 0.5, 'weight_8': 3, 'weight_9': 2.5, 'weight_10': 0.5, 'weight_11': 0.5, 'weight_12': 0, 'weight_13': 2}. Best is trial 131 with value: 0.715875905747504.\n",
      "[I 2024-02-20 12:25:21,471] Trial 153 finished with value: 0.7158570714984638 and parameters: {'weight_0': 3, 'weight_1': 2.5, 'weight_2': 1.5, 'weight_3': 2.5, 'weight_4': 0.5, 'weight_5': 0.5, 'weight_6': 1, 'weight_7': 0.5, 'weight_8': 3, 'weight_9': 2.5, 'weight_10': 0.5, 'weight_11': 0.5, 'weight_12': 0, 'weight_13': 2}. Best is trial 131 with value: 0.715875905747504.\n",
      "[I 2024-02-20 12:25:25,890] Trial 154 finished with value: 0.7158570714984638 and parameters: {'weight_0': 3, 'weight_1': 2.5, 'weight_2': 1.5, 'weight_3': 2.5, 'weight_4': 0.5, 'weight_5': 0.5, 'weight_6': 1, 'weight_7': 0.5, 'weight_8': 3, 'weight_9': 2.5, 'weight_10': 0.5, 'weight_11': 0.5, 'weight_12': 0, 'weight_13': 2}. Best is trial 131 with value: 0.715875905747504.\n",
      "[I 2024-02-20 12:25:30,205] Trial 155 finished with value: 0.7154427319431853 and parameters: {'weight_0': 2, 'weight_1': 2.5, 'weight_2': 1.5, 'weight_3': 2.5, 'weight_4': 0.5, 'weight_5': 0.5, 'weight_6': 1, 'weight_7': 0.5, 'weight_8': 3, 'weight_9': 2.5, 'weight_10': 0.5, 'weight_11': 0.5, 'weight_12': 0, 'weight_13': 2}. Best is trial 131 with value: 0.715875905747504.\n",
      "[I 2024-02-20 12:25:34,610] Trial 156 finished with value: 0.7158570714984638 and parameters: {'weight_0': 3, 'weight_1': 2.5, 'weight_2': 1.5, 'weight_3': 2.5, 'weight_4': 0.5, 'weight_5': 0.5, 'weight_6': 1, 'weight_7': 0.5, 'weight_8': 3, 'weight_9': 2.5, 'weight_10': 0.5, 'weight_11': 0.5, 'weight_12': 0, 'weight_13': 2}. Best is trial 131 with value: 0.715875905747504.\n",
      "[I 2024-02-20 12:25:39,219] Trial 157 finished with value: 0.7151653868282416 and parameters: {'weight_0': 1.5, 'weight_1': 2.5, 'weight_2': 1.5, 'weight_3': 2.5, 'weight_4': 0.5, 'weight_5': 0.5, 'weight_6': 1, 'weight_7': 0.5, 'weight_8': 3, 'weight_9': 2.5, 'weight_10': 0.5, 'weight_11': 0.5, 'weight_12': 0, 'weight_13': 2}. Best is trial 131 with value: 0.715875905747504.\n",
      "[I 2024-02-20 12:25:43,809] Trial 158 finished with value: 0.7158570714984638 and parameters: {'weight_0': 3, 'weight_1': 2.5, 'weight_2': 1.5, 'weight_3': 2.5, 'weight_4': 0.5, 'weight_5': 0.5, 'weight_6': 1, 'weight_7': 0.5, 'weight_8': 3, 'weight_9': 2.5, 'weight_10': 0.5, 'weight_11': 0.5, 'weight_12': 0, 'weight_13': 2}. Best is trial 131 with value: 0.715875905747504.\n",
      "[I 2024-02-20 12:25:48,217] Trial 159 finished with value: 0.7151301265171851 and parameters: {'weight_0': 3, 'weight_1': 2.5, 'weight_2': 1.5, 'weight_3': 2.5, 'weight_4': 0.5, 'weight_5': 0.5, 'weight_6': 1, 'weight_7': 0.5, 'weight_8': 3, 'weight_9': 2.5, 'weight_10': 0.5, 'weight_11': 3, 'weight_12': 0, 'weight_13': 2}. Best is trial 131 with value: 0.715875905747504.\n",
      "[I 2024-02-20 12:25:53,213] Trial 160 finished with value: 0.7147778376994937 and parameters: {'weight_0': 3, 'weight_1': 2.5, 'weight_2': 1.5, 'weight_3': 2.5, 'weight_4': 2, 'weight_5': 0.5, 'weight_6': 1, 'weight_7': 0.5, 'weight_8': 3, 'weight_9': 2.5, 'weight_10': 0.5, 'weight_11': 0.5, 'weight_12': 1.5, 'weight_13': 2}. Best is trial 131 with value: 0.715875905747504.\n",
      "[I 2024-02-20 12:25:57,646] Trial 161 finished with value: 0.7158570714984638 and parameters: {'weight_0': 3, 'weight_1': 2.5, 'weight_2': 1.5, 'weight_3': 2.5, 'weight_4': 0.5, 'weight_5': 0.5, 'weight_6': 1, 'weight_7': 0.5, 'weight_8': 3, 'weight_9': 2.5, 'weight_10': 0.5, 'weight_11': 0.5, 'weight_12': 0, 'weight_13': 2}. Best is trial 131 with value: 0.715875905747504.\n",
      "[I 2024-02-20 12:26:02,097] Trial 162 finished with value: 0.7158570714984638 and parameters: {'weight_0': 3, 'weight_1': 2.5, 'weight_2': 1.5, 'weight_3': 2.5, 'weight_4': 0.5, 'weight_5': 0.5, 'weight_6': 1, 'weight_7': 0.5, 'weight_8': 3, 'weight_9': 2.5, 'weight_10': 0.5, 'weight_11': 0.5, 'weight_12': 0, 'weight_13': 2}. Best is trial 131 with value: 0.715875905747504.\n",
      "[I 2024-02-20 12:26:06,586] Trial 163 finished with value: 0.7158570714984638 and parameters: {'weight_0': 3, 'weight_1': 2.5, 'weight_2': 1.5, 'weight_3': 2.5, 'weight_4': 0.5, 'weight_5': 0.5, 'weight_6': 1, 'weight_7': 0.5, 'weight_8': 3, 'weight_9': 2.5, 'weight_10': 0.5, 'weight_11': 0.5, 'weight_12': 0, 'weight_13': 2}. Best is trial 131 with value: 0.715875905747504.\n",
      "[I 2024-02-20 12:26:11,118] Trial 164 finished with value: 0.7158570714984638 and parameters: {'weight_0': 3, 'weight_1': 2.5, 'weight_2': 1.5, 'weight_3': 2.5, 'weight_4': 0.5, 'weight_5': 0.5, 'weight_6': 1, 'weight_7': 0.5, 'weight_8': 3, 'weight_9': 2.5, 'weight_10': 0.5, 'weight_11': 0.5, 'weight_12': 0, 'weight_13': 2}. Best is trial 131 with value: 0.715875905747504.\n",
      "[I 2024-02-20 12:26:15,563] Trial 165 finished with value: 0.7160159387109645 and parameters: {'weight_0': 3, 'weight_1': 2.5, 'weight_2': 1.5, 'weight_3': 1.5, 'weight_4': 0.5, 'weight_5': 0.5, 'weight_6': 1, 'weight_7': 0.5, 'weight_8': 3, 'weight_9': 2.5, 'weight_10': 0.5, 'weight_11': 0.5, 'weight_12': 0, 'weight_13': 2}. Best is trial 165 with value: 0.7160159387109645.\n",
      "[I 2024-02-20 12:26:20,022] Trial 166 finished with value: 0.7160159387109645 and parameters: {'weight_0': 3, 'weight_1': 2.5, 'weight_2': 1.5, 'weight_3': 1.5, 'weight_4': 0.5, 'weight_5': 0.5, 'weight_6': 1, 'weight_7': 0.5, 'weight_8': 3, 'weight_9': 2.5, 'weight_10': 0.5, 'weight_11': 0.5, 'weight_12': 0, 'weight_13': 2}. Best is trial 165 with value: 0.7160159387109645.\n",
      "[I 2024-02-20 12:26:24,573] Trial 167 finished with value: 0.7160159387109645 and parameters: {'weight_0': 3, 'weight_1': 2.5, 'weight_2': 1.5, 'weight_3': 1.5, 'weight_4': 0.5, 'weight_5': 0.5, 'weight_6': 1, 'weight_7': 0.5, 'weight_8': 3, 'weight_9': 2.5, 'weight_10': 0.5, 'weight_11': 0.5, 'weight_12': 0, 'weight_13': 2}. Best is trial 165 with value: 0.7160159387109645.\n",
      "[I 2024-02-20 12:26:28,987] Trial 168 finished with value: 0.7160159387109645 and parameters: {'weight_0': 3, 'weight_1': 2.5, 'weight_2': 1.5, 'weight_3': 1.5, 'weight_4': 0.5, 'weight_5': 0.5, 'weight_6': 1, 'weight_7': 0.5, 'weight_8': 3, 'weight_9': 2.5, 'weight_10': 0.5, 'weight_11': 0.5, 'weight_12': 0, 'weight_13': 2}. Best is trial 165 with value: 0.7160159387109645.\n",
      "[I 2024-02-20 12:26:33,958] Trial 169 finished with value: 0.7133641402597136 and parameters: {'weight_0': 0.5, 'weight_1': 2.5, 'weight_2': 1.5, 'weight_3': 1.5, 'weight_4': 0.5, 'weight_5': 0.5, 'weight_6': 1, 'weight_7': 0.5, 'weight_8': 3, 'weight_9': 2.5, 'weight_10': 0.5, 'weight_11': 2.5, 'weight_12': 2, 'weight_13': 2}. Best is trial 165 with value: 0.7160159387109645.\n",
      "[I 2024-02-20 12:26:38,312] Trial 170 finished with value: 0.7160159387109645 and parameters: {'weight_0': 3, 'weight_1': 2.5, 'weight_2': 1.5, 'weight_3': 1.5, 'weight_4': 0.5, 'weight_5': 0.5, 'weight_6': 1, 'weight_7': 0.5, 'weight_8': 3, 'weight_9': 2.5, 'weight_10': 0.5, 'weight_11': 0.5, 'weight_12': 0, 'weight_13': 2}. Best is trial 165 with value: 0.7160159387109645.\n",
      "[I 2024-02-20 12:26:42,838] Trial 171 finished with value: 0.7160159387109645 and parameters: {'weight_0': 3, 'weight_1': 2.5, 'weight_2': 1.5, 'weight_3': 1.5, 'weight_4': 0.5, 'weight_5': 0.5, 'weight_6': 1, 'weight_7': 0.5, 'weight_8': 3, 'weight_9': 2.5, 'weight_10': 0.5, 'weight_11': 0.5, 'weight_12': 0, 'weight_13': 2}. Best is trial 165 with value: 0.7160159387109645.\n",
      "[I 2024-02-20 12:26:47,212] Trial 172 finished with value: 0.7160159387109645 and parameters: {'weight_0': 3, 'weight_1': 2.5, 'weight_2': 1.5, 'weight_3': 1.5, 'weight_4': 0.5, 'weight_5': 0.5, 'weight_6': 1, 'weight_7': 0.5, 'weight_8': 3, 'weight_9': 2.5, 'weight_10': 0.5, 'weight_11': 0.5, 'weight_12': 0, 'weight_13': 2}. Best is trial 165 with value: 0.7160159387109645.\n",
      "[I 2024-02-20 12:26:51,725] Trial 173 finished with value: 0.7160159387109645 and parameters: {'weight_0': 3, 'weight_1': 2.5, 'weight_2': 1.5, 'weight_3': 1.5, 'weight_4': 0.5, 'weight_5': 0.5, 'weight_6': 1, 'weight_7': 0.5, 'weight_8': 3, 'weight_9': 2.5, 'weight_10': 0.5, 'weight_11': 0.5, 'weight_12': 0, 'weight_13': 2}. Best is trial 165 with value: 0.7160159387109645.\n",
      "[I 2024-02-20 12:26:56,183] Trial 174 finished with value: 0.7157697759360137 and parameters: {'weight_0': 3, 'weight_1': 2.5, 'weight_2': 1.5, 'weight_3': 1.5, 'weight_4': 0.5, 'weight_5': 0.5, 'weight_6': 1, 'weight_7': 0.5, 'weight_8': 3, 'weight_9': 2.5, 'weight_10': 0.5, 'weight_11': 1.5, 'weight_12': 0, 'weight_13': 2}. Best is trial 165 with value: 0.7160159387109645.\n",
      "[I 2024-02-20 12:27:00,806] Trial 175 finished with value: 0.7160159387109645 and parameters: {'weight_0': 3, 'weight_1': 2.5, 'weight_2': 1.5, 'weight_3': 1.5, 'weight_4': 0.5, 'weight_5': 0.5, 'weight_6': 1, 'weight_7': 0.5, 'weight_8': 3, 'weight_9': 2.5, 'weight_10': 0.5, 'weight_11': 0.5, 'weight_12': 0, 'weight_13': 2}. Best is trial 165 with value: 0.7160159387109645.\n",
      "[I 2024-02-20 12:27:05,605] Trial 176 finished with value: 0.7140309084597244 and parameters: {'weight_0': 3, 'weight_1': 2.5, 'weight_2': 1.5, 'weight_3': 1.5, 'weight_4': 0.5, 'weight_5': 0.5, 'weight_6': 1, 'weight_7': 0.5, 'weight_8': 3, 'weight_9': 1.5, 'weight_10': 0.5, 'weight_11': 0.5, 'weight_12': 3, 'weight_13': 2}. Best is trial 165 with value: 0.7160159387109645.\n",
      "[I 2024-02-20 12:27:09,940] Trial 177 finished with value: 0.7138802611733427 and parameters: {'weight_0': 0, 'weight_1': 2.5, 'weight_2': 1.5, 'weight_3': 1.5, 'weight_4': 0.5, 'weight_5': 0.5, 'weight_6': 1, 'weight_7': 0.5, 'weight_8': 3, 'weight_9': 3, 'weight_10': 0.5, 'weight_11': 2, 'weight_12': 0, 'weight_13': 2}. Best is trial 165 with value: 0.7160159387109645.\n",
      "[I 2024-02-20 12:27:14,497] Trial 178 finished with value: 0.7160159387109645 and parameters: {'weight_0': 3, 'weight_1': 2.5, 'weight_2': 1.5, 'weight_3': 1.5, 'weight_4': 0.5, 'weight_5': 0.5, 'weight_6': 1, 'weight_7': 0.5, 'weight_8': 3, 'weight_9': 2.5, 'weight_10': 0.5, 'weight_11': 0.5, 'weight_12': 0, 'weight_13': 2}. Best is trial 165 with value: 0.7160159387109645.\n",
      "[I 2024-02-20 12:27:19,378] Trial 179 finished with value: 0.7137023089870734 and parameters: {'weight_0': 3, 'weight_1': 2.5, 'weight_2': 1.5, 'weight_3': 1.5, 'weight_4': 2.5, 'weight_5': 0.5, 'weight_6': 1, 'weight_7': 0.5, 'weight_8': 3, 'weight_9': 2, 'weight_10': 0.5, 'weight_11': 0.5, 'weight_12': 2.5, 'weight_13': 2}. Best is trial 165 with value: 0.7160159387109645.\n",
      "[I 2024-02-20 12:27:23,624] Trial 180 finished with value: 0.7134028560455928 and parameters: {'weight_0': 1, 'weight_1': 2.5, 'weight_2': 1.5, 'weight_3': 1.5, 'weight_4': 0.5, 'weight_5': 0.5, 'weight_6': 1, 'weight_7': 2.5, 'weight_8': 3, 'weight_9': 0, 'weight_10': 0.5, 'weight_11': 0.5, 'weight_12': 0, 'weight_13': 2}. Best is trial 165 with value: 0.7160159387109645.\n",
      "[I 2024-02-20 12:27:28,150] Trial 181 finished with value: 0.7160159387109645 and parameters: {'weight_0': 3, 'weight_1': 2.5, 'weight_2': 1.5, 'weight_3': 1.5, 'weight_4': 0.5, 'weight_5': 0.5, 'weight_6': 1, 'weight_7': 0.5, 'weight_8': 3, 'weight_9': 2.5, 'weight_10': 0.5, 'weight_11': 0.5, 'weight_12': 0, 'weight_13': 2}. Best is trial 165 with value: 0.7160159387109645.\n",
      "[I 2024-02-20 12:27:32,765] Trial 182 finished with value: 0.7160159387109645 and parameters: {'weight_0': 3, 'weight_1': 2.5, 'weight_2': 1.5, 'weight_3': 1.5, 'weight_4': 0.5, 'weight_5': 0.5, 'weight_6': 1, 'weight_7': 0.5, 'weight_8': 3, 'weight_9': 2.5, 'weight_10': 0.5, 'weight_11': 0.5, 'weight_12': 0, 'weight_13': 2}. Best is trial 165 with value: 0.7160159387109645.\n",
      "[I 2024-02-20 12:27:37,347] Trial 183 finished with value: 0.7160159387109645 and parameters: {'weight_0': 3, 'weight_1': 2.5, 'weight_2': 1.5, 'weight_3': 1.5, 'weight_4': 0.5, 'weight_5': 0.5, 'weight_6': 1, 'weight_7': 0.5, 'weight_8': 3, 'weight_9': 2.5, 'weight_10': 0.5, 'weight_11': 0.5, 'weight_12': 0, 'weight_13': 2}. Best is trial 165 with value: 0.7160159387109645.\n",
      "[I 2024-02-20 12:27:41,744] Trial 184 finished with value: 0.7157854445529904 and parameters: {'weight_0': 3, 'weight_1': 2.5, 'weight_2': 1.5, 'weight_3': 1.5, 'weight_4': 0.5, 'weight_5': 0.5, 'weight_6': 1, 'weight_7': 1, 'weight_8': 0.5, 'weight_9': 2.5, 'weight_10': 0.5, 'weight_11': 0.5, 'weight_12': 0, 'weight_13': 2}. Best is trial 165 with value: 0.7160159387109645.\n",
      "[I 2024-02-20 12:27:45,985] Trial 185 finished with value: 0.7160159387109645 and parameters: {'weight_0': 3, 'weight_1': 2.5, 'weight_2': 1.5, 'weight_3': 1.5, 'weight_4': 0.5, 'weight_5': 0.5, 'weight_6': 1, 'weight_7': 0.5, 'weight_8': 3, 'weight_9': 2.5, 'weight_10': 0.5, 'weight_11': 0.5, 'weight_12': 0, 'weight_13': 2}. Best is trial 165 with value: 0.7160159387109645.\n",
      "[I 2024-02-20 12:27:50,116] Trial 186 finished with value: 0.7160159387109645 and parameters: {'weight_0': 3, 'weight_1': 2.5, 'weight_2': 1.5, 'weight_3': 1.5, 'weight_4': 0.5, 'weight_5': 0.5, 'weight_6': 1, 'weight_7': 0.5, 'weight_8': 3, 'weight_9': 2.5, 'weight_10': 0.5, 'weight_11': 0.5, 'weight_12': 0, 'weight_13': 2}. Best is trial 165 with value: 0.7160159387109645.\n",
      "[I 2024-02-20 12:27:54,363] Trial 187 finished with value: 0.7156307580782462 and parameters: {'weight_0': 3, 'weight_1': 2.5, 'weight_2': 1.5, 'weight_3': 1.5, 'weight_4': 1.5, 'weight_5': 0.5, 'weight_6': 1, 'weight_7': 0.5, 'weight_8': 3, 'weight_9': 2.5, 'weight_10': 0.5, 'weight_11': 0.5, 'weight_12': 0, 'weight_13': 2}. Best is trial 165 with value: 0.7160159387109645.\n",
      "[I 2024-02-20 12:27:58,482] Trial 188 finished with value: 0.7149352980102033 and parameters: {'weight_0': 3, 'weight_1': 0.5, 'weight_2': 1.5, 'weight_3': 1.5, 'weight_4': 0, 'weight_5': 0.5, 'weight_6': 1, 'weight_7': 0.5, 'weight_8': 3, 'weight_9': 2.5, 'weight_10': 0.5, 'weight_11': 3, 'weight_12': 0, 'weight_13': 2}. Best is trial 165 with value: 0.7160159387109645.\n",
      "[I 2024-02-20 12:28:02,979] Trial 189 finished with value: 0.7160159387109645 and parameters: {'weight_0': 3, 'weight_1': 2.5, 'weight_2': 1.5, 'weight_3': 1.5, 'weight_4': 0.5, 'weight_5': 0.5, 'weight_6': 1, 'weight_7': 0.5, 'weight_8': 3, 'weight_9': 2.5, 'weight_10': 0.5, 'weight_11': 0.5, 'weight_12': 0, 'weight_13': 2}. Best is trial 165 with value: 0.7160159387109645.\n",
      "[I 2024-02-20 12:28:07,285] Trial 190 finished with value: 0.7157058017463902 and parameters: {'weight_0': 3, 'weight_1': 2.5, 'weight_2': 2.5, 'weight_3': 1.5, 'weight_4': 0.5, 'weight_5': 0.5, 'weight_6': 1, 'weight_7': 0.5, 'weight_8': 3, 'weight_9': 2.5, 'weight_10': 0.5, 'weight_11': 0.5, 'weight_12': 0, 'weight_13': 2}. Best is trial 165 with value: 0.7160159387109645.\n",
      "[I 2024-02-20 12:28:11,698] Trial 191 finished with value: 0.7160159387109645 and parameters: {'weight_0': 3, 'weight_1': 2.5, 'weight_2': 1.5, 'weight_3': 1.5, 'weight_4': 0.5, 'weight_5': 0.5, 'weight_6': 1, 'weight_7': 0.5, 'weight_8': 3, 'weight_9': 2.5, 'weight_10': 0.5, 'weight_11': 0.5, 'weight_12': 0, 'weight_13': 2}. Best is trial 165 with value: 0.7160159387109645.\n",
      "[I 2024-02-20 12:28:16,226] Trial 192 finished with value: 0.7160159387109645 and parameters: {'weight_0': 3, 'weight_1': 2.5, 'weight_2': 1.5, 'weight_3': 1.5, 'weight_4': 0.5, 'weight_5': 0.5, 'weight_6': 1, 'weight_7': 0.5, 'weight_8': 3, 'weight_9': 2.5, 'weight_10': 0.5, 'weight_11': 0.5, 'weight_12': 0, 'weight_13': 2}. Best is trial 165 with value: 0.7160159387109645.\n",
      "[I 2024-02-20 12:28:20,632] Trial 193 finished with value: 0.7160159387109645 and parameters: {'weight_0': 3, 'weight_1': 2.5, 'weight_2': 1.5, 'weight_3': 1.5, 'weight_4': 0.5, 'weight_5': 0.5, 'weight_6': 1, 'weight_7': 0.5, 'weight_8': 3, 'weight_9': 2.5, 'weight_10': 0.5, 'weight_11': 0.5, 'weight_12': 0, 'weight_13': 2}. Best is trial 165 with value: 0.7160159387109645.\n",
      "[I 2024-02-20 12:28:25,035] Trial 194 finished with value: 0.7158100959521319 and parameters: {'weight_0': 3, 'weight_1': 2, 'weight_2': 1.5, 'weight_3': 1.5, 'weight_4': 0.5, 'weight_5': 0.5, 'weight_6': 1, 'weight_7': 0.5, 'weight_8': 1, 'weight_9': 2.5, 'weight_10': 0.5, 'weight_11': 0.5, 'weight_12': 0, 'weight_13': 2}. Best is trial 165 with value: 0.7160159387109645.\n",
      "[I 2024-02-20 12:28:29,483] Trial 195 finished with value: 0.7160159387109645 and parameters: {'weight_0': 3, 'weight_1': 2.5, 'weight_2': 1.5, 'weight_3': 1.5, 'weight_4': 0.5, 'weight_5': 0.5, 'weight_6': 1, 'weight_7': 0.5, 'weight_8': 3, 'weight_9': 2.5, 'weight_10': 0.5, 'weight_11': 0.5, 'weight_12': 0, 'weight_13': 2}. Best is trial 165 with value: 0.7160159387109645.\n",
      "[I 2024-02-20 12:28:34,025] Trial 196 finished with value: 0.7155436632867287 and parameters: {'weight_0': 3, 'weight_1': 2.5, 'weight_2': 1.5, 'weight_3': 1.5, 'weight_4': 0.5, 'weight_5': 0.5, 'weight_6': 1, 'weight_7': 2, 'weight_8': 3, 'weight_9': 2.5, 'weight_10': 0.5, 'weight_11': 0.5, 'weight_12': 0, 'weight_13': 2}. Best is trial 165 with value: 0.7160159387109645.\n",
      "[I 2024-02-20 12:28:38,472] Trial 197 finished with value: 0.7151427334998111 and parameters: {'weight_0': 1.5, 'weight_1': 2.5, 'weight_2': 1.5, 'weight_3': 1.5, 'weight_4': 0.5, 'weight_5': 0.5, 'weight_6': 1, 'weight_7': 0.5, 'weight_8': 3, 'weight_9': 2.5, 'weight_10': 0.5, 'weight_11': 0.5, 'weight_12': 0, 'weight_13': 2}. Best is trial 165 with value: 0.7160159387109645.\n",
      "[I 2024-02-20 12:28:42,948] Trial 198 finished with value: 0.7147134865604887 and parameters: {'weight_0': 2, 'weight_1': 1, 'weight_2': 1.5, 'weight_3': 1.5, 'weight_4': 0.5, 'weight_5': 0.5, 'weight_6': 1, 'weight_7': 0.5, 'weight_8': 3, 'weight_9': 2.5, 'weight_10': 0.5, 'weight_11': 0.5, 'weight_12': 0, 'weight_13': 2}. Best is trial 165 with value: 0.7160159387109645.\n",
      "[I 2024-02-20 12:28:47,701] Trial 199 finished with value: 0.7152814309759506 and parameters: {'weight_0': 3, 'weight_1': 2.5, 'weight_2': 1.5, 'weight_3': 1.5, 'weight_4': 0.5, 'weight_5': 0.5, 'weight_6': 1, 'weight_7': 0.5, 'weight_8': 3, 'weight_9': 2.5, 'weight_10': 0.5, 'weight_11': 0.5, 'weight_12': 1.5, 'weight_13': 2}. Best is trial 165 with value: 0.7160159387109645.\n",
      "[I 2024-02-20 12:28:52,156] Trial 200 finished with value: 0.7160159387109645 and parameters: {'weight_0': 3, 'weight_1': 2.5, 'weight_2': 1.5, 'weight_3': 1.5, 'weight_4': 0.5, 'weight_5': 0.5, 'weight_6': 1, 'weight_7': 0.5, 'weight_8': 3, 'weight_9': 2.5, 'weight_10': 0.5, 'weight_11': 0.5, 'weight_12': 0, 'weight_13': 2}. Best is trial 165 with value: 0.7160159387109645.\n",
      "[I 2024-02-20 12:28:56,784] Trial 201 finished with value: 0.7160159387109645 and parameters: {'weight_0': 3, 'weight_1': 2.5, 'weight_2': 1.5, 'weight_3': 1.5, 'weight_4': 0.5, 'weight_5': 0.5, 'weight_6': 1, 'weight_7': 0.5, 'weight_8': 3, 'weight_9': 2.5, 'weight_10': 0.5, 'weight_11': 0.5, 'weight_12': 0, 'weight_13': 2}. Best is trial 165 with value: 0.7160159387109645.\n",
      "[I 2024-02-20 12:29:01,293] Trial 202 finished with value: 0.7160159387109645 and parameters: {'weight_0': 3, 'weight_1': 2.5, 'weight_2': 1.5, 'weight_3': 1.5, 'weight_4': 0.5, 'weight_5': 0.5, 'weight_6': 1, 'weight_7': 0.5, 'weight_8': 3, 'weight_9': 2.5, 'weight_10': 0.5, 'weight_11': 0.5, 'weight_12': 0, 'weight_13': 2}. Best is trial 165 with value: 0.7160159387109645.\n",
      "[I 2024-02-20 12:29:05,752] Trial 203 finished with value: 0.7160159387109645 and parameters: {'weight_0': 3, 'weight_1': 2.5, 'weight_2': 1.5, 'weight_3': 1.5, 'weight_4': 0.5, 'weight_5': 0.5, 'weight_6': 1, 'weight_7': 0.5, 'weight_8': 3, 'weight_9': 2.5, 'weight_10': 0.5, 'weight_11': 0.5, 'weight_12': 0, 'weight_13': 2}. Best is trial 165 with value: 0.7160159387109645.\n",
      "[I 2024-02-20 12:29:10,237] Trial 204 finished with value: 0.7160159387109645 and parameters: {'weight_0': 3, 'weight_1': 2.5, 'weight_2': 1.5, 'weight_3': 1.5, 'weight_4': 0.5, 'weight_5': 0.5, 'weight_6': 1, 'weight_7': 0.5, 'weight_8': 3, 'weight_9': 2.5, 'weight_10': 0.5, 'weight_11': 0.5, 'weight_12': 0, 'weight_13': 2}. Best is trial 165 with value: 0.7160159387109645.\n",
      "[I 2024-02-20 12:29:14,698] Trial 205 finished with value: 0.7160159387109645 and parameters: {'weight_0': 3, 'weight_1': 2.5, 'weight_2': 1.5, 'weight_3': 1.5, 'weight_4': 0.5, 'weight_5': 0.5, 'weight_6': 1, 'weight_7': 0.5, 'weight_8': 3, 'weight_9': 2.5, 'weight_10': 0.5, 'weight_11': 0.5, 'weight_12': 0, 'weight_13': 2}. Best is trial 165 with value: 0.7160159387109645.\n",
      "[I 2024-02-20 12:29:19,151] Trial 206 finished with value: 0.7153576588045142 and parameters: {'weight_0': 3, 'weight_1': 2.5, 'weight_2': 1.5, 'weight_3': 1.5, 'weight_4': 2, 'weight_5': 0.5, 'weight_6': 1, 'weight_7': 0.5, 'weight_8': 3, 'weight_9': 2.5, 'weight_10': 0.5, 'weight_11': 0.5, 'weight_12': 0, 'weight_13': 2}. Best is trial 165 with value: 0.7160159387109645.\n",
      "[I 2024-02-20 12:29:23,277] Trial 207 finished with value: 0.7159182528432579 and parameters: {'weight_0': 3, 'weight_1': 2.5, 'weight_2': 0, 'weight_3': 1.5, 'weight_4': 0.5, 'weight_5': 1, 'weight_6': 1, 'weight_7': 0.5, 'weight_8': 3, 'weight_9': 2.5, 'weight_10': 0.5, 'weight_11': 0.5, 'weight_12': 0, 'weight_13': 2}. Best is trial 165 with value: 0.7160159387109645.\n",
      "[I 2024-02-20 12:29:27,775] Trial 208 finished with value: 0.7149925909039098 and parameters: {'weight_0': 3, 'weight_1': 2.5, 'weight_2': 1.5, 'weight_3': 1.5, 'weight_4': 0.5, 'weight_5': 0.5, 'weight_6': 1, 'weight_7': 0.5, 'weight_8': 0.5, 'weight_9': 2.5, 'weight_10': 0.5, 'weight_11': 2.5, 'weight_12': 0, 'weight_13': 2}. Best is trial 165 with value: 0.7160159387109645.\n",
      "[I 2024-02-20 12:29:32,189] Trial 209 finished with value: 0.7160159387109645 and parameters: {'weight_0': 3, 'weight_1': 2.5, 'weight_2': 1.5, 'weight_3': 1.5, 'weight_4': 0.5, 'weight_5': 0.5, 'weight_6': 1, 'weight_7': 0.5, 'weight_8': 3, 'weight_9': 2.5, 'weight_10': 0.5, 'weight_11': 0.5, 'weight_12': 0, 'weight_13': 2}. Best is trial 165 with value: 0.7160159387109645.\n",
      "[I 2024-02-20 12:29:37,072] Trial 210 finished with value: 0.7141698919352238 and parameters: {'weight_0': 3, 'weight_1': 2.5, 'weight_2': 1.5, 'weight_3': 1.5, 'weight_4': 0.5, 'weight_5': 0.5, 'weight_6': 1, 'weight_7': 2.5, 'weight_8': 3, 'weight_9': 2.5, 'weight_10': 0.5, 'weight_11': 1.5, 'weight_12': 2, 'weight_13': 2}. Best is trial 165 with value: 0.7160159387109645.\n",
      "[I 2024-02-20 12:29:41,560] Trial 211 finished with value: 0.7160159387109645 and parameters: {'weight_0': 3, 'weight_1': 2.5, 'weight_2': 1.5, 'weight_3': 1.5, 'weight_4': 0.5, 'weight_5': 0.5, 'weight_6': 1, 'weight_7': 0.5, 'weight_8': 3, 'weight_9': 2.5, 'weight_10': 0.5, 'weight_11': 0.5, 'weight_12': 0, 'weight_13': 2}. Best is trial 165 with value: 0.7160159387109645.\n",
      "[I 2024-02-20 12:29:46,099] Trial 212 finished with value: 0.7160159387109645 and parameters: {'weight_0': 3, 'weight_1': 2.5, 'weight_2': 1.5, 'weight_3': 1.5, 'weight_4': 0.5, 'weight_5': 0.5, 'weight_6': 1, 'weight_7': 0.5, 'weight_8': 3, 'weight_9': 2.5, 'weight_10': 0.5, 'weight_11': 0.5, 'weight_12': 0, 'weight_13': 2}. Best is trial 165 with value: 0.7160159387109645.\n",
      "[I 2024-02-20 12:29:50,672] Trial 213 finished with value: 0.7160159387109645 and parameters: {'weight_0': 3, 'weight_1': 2.5, 'weight_2': 1.5, 'weight_3': 1.5, 'weight_4': 0.5, 'weight_5': 0.5, 'weight_6': 1, 'weight_7': 0.5, 'weight_8': 3, 'weight_9': 2.5, 'weight_10': 0.5, 'weight_11': 0.5, 'weight_12': 0, 'weight_13': 2}. Best is trial 165 with value: 0.7160159387109645.\n",
      "[I 2024-02-20 12:29:55,196] Trial 214 finished with value: 0.7160159387109645 and parameters: {'weight_0': 3, 'weight_1': 2.5, 'weight_2': 1.5, 'weight_3': 1.5, 'weight_4': 0.5, 'weight_5': 0.5, 'weight_6': 1, 'weight_7': 0.5, 'weight_8': 3, 'weight_9': 2.5, 'weight_10': 0.5, 'weight_11': 0.5, 'weight_12': 0, 'weight_13': 2}. Best is trial 165 with value: 0.7160159387109645.\n",
      "[I 2024-02-20 12:29:59,697] Trial 215 finished with value: 0.7159583328579415 and parameters: {'weight_0': 3, 'weight_1': 2.5, 'weight_2': 1.5, 'weight_3': 1.5, 'weight_4': 0.5, 'weight_5': 0.5, 'weight_6': 1, 'weight_7': 0.5, 'weight_8': 3, 'weight_9': 1.5, 'weight_10': 0.5, 'weight_11': 0.5, 'weight_12': 0, 'weight_13': 2}. Best is trial 165 with value: 0.7160159387109645.\n",
      "[I 2024-02-20 12:30:04,218] Trial 216 finished with value: 0.7136857670810683 and parameters: {'weight_0': 0.5, 'weight_1': 2.5, 'weight_2': 1.5, 'weight_3': 1.5, 'weight_4': 0.5, 'weight_5': 0.5, 'weight_6': 3, 'weight_7': 0.5, 'weight_8': 3, 'weight_9': 2.5, 'weight_10': 0.5, 'weight_11': 0.5, 'weight_12': 0, 'weight_13': 2}. Best is trial 165 with value: 0.7160159387109645.\n",
      "[I 2024-02-20 12:30:08,739] Trial 217 finished with value: 0.7153112884834664 and parameters: {'weight_0': 3, 'weight_1': 2.5, 'weight_2': 1.5, 'weight_3': 1.5, 'weight_4': 0.5, 'weight_5': 3, 'weight_6': 1, 'weight_7': 1, 'weight_8': 3, 'weight_9': 2.5, 'weight_10': 0.5, 'weight_11': 2, 'weight_12': 0, 'weight_13': 2}. Best is trial 165 with value: 0.7160159387109645.\n",
      "[I 2024-02-20 12:30:13,161] Trial 218 finished with value: 0.713350752455845 and parameters: {'weight_0': 3, 'weight_1': 0.5, 'weight_2': 1.5, 'weight_3': 1.5, 'weight_4': 0.5, 'weight_5': 0.5, 'weight_6': 1, 'weight_7': 0.5, 'weight_8': 3, 'weight_9': 3, 'weight_10': 0.5, 'weight_11': 0.5, 'weight_12': 3, 'weight_13': 0}. Best is trial 165 with value: 0.7160159387109645.\n",
      "[I 2024-02-20 12:30:17,935] Trial 219 finished with value: 0.7153712612268439 and parameters: {'weight_0': 3, 'weight_1': 2.5, 'weight_2': 1.5, 'weight_3': 1.5, 'weight_4': 2.5, 'weight_5': 0.5, 'weight_6': 1, 'weight_7': 0.5, 'weight_8': 2, 'weight_9': 2.5, 'weight_10': 0.5, 'weight_11': 0.5, 'weight_12': 0, 'weight_13': 2}. Best is trial 165 with value: 0.7160159387109645.\n",
      "[I 2024-02-20 12:30:22,621] Trial 220 finished with value: 0.7160171875624133 and parameters: {'weight_0': 3, 'weight_1': 2.5, 'weight_2': 1.5, 'weight_3': 1.5, 'weight_4': 0.5, 'weight_5': 0.5, 'weight_6': 1, 'weight_7': 0.5, 'weight_8': 3, 'weight_9': 2, 'weight_10': 0.5, 'weight_11': 0.5, 'weight_12': 0, 'weight_13': 2}. Best is trial 220 with value: 0.7160171875624133.\n",
      "[I 2024-02-20 12:30:27,213] Trial 221 finished with value: 0.7160171875624133 and parameters: {'weight_0': 3, 'weight_1': 2.5, 'weight_2': 1.5, 'weight_3': 1.5, 'weight_4': 0.5, 'weight_5': 0.5, 'weight_6': 1, 'weight_7': 0.5, 'weight_8': 3, 'weight_9': 2, 'weight_10': 0.5, 'weight_11': 0.5, 'weight_12': 0, 'weight_13': 2}. Best is trial 220 with value: 0.7160171875624133.\n",
      "[I 2024-02-20 12:30:31,753] Trial 222 finished with value: 0.7160171875624133 and parameters: {'weight_0': 3, 'weight_1': 2.5, 'weight_2': 1.5, 'weight_3': 1.5, 'weight_4': 0.5, 'weight_5': 0.5, 'weight_6': 1, 'weight_7': 0.5, 'weight_8': 3, 'weight_9': 2, 'weight_10': 0.5, 'weight_11': 0.5, 'weight_12': 0, 'weight_13': 2}. Best is trial 220 with value: 0.7160171875624133.\n",
      "[I 2024-02-20 12:30:36,234] Trial 223 finished with value: 0.7160171875624133 and parameters: {'weight_0': 3, 'weight_1': 2.5, 'weight_2': 1.5, 'weight_3': 1.5, 'weight_4': 0.5, 'weight_5': 0.5, 'weight_6': 1, 'weight_7': 0.5, 'weight_8': 3, 'weight_9': 2, 'weight_10': 0.5, 'weight_11': 0.5, 'weight_12': 0, 'weight_13': 2}. Best is trial 220 with value: 0.7160171875624133.\n",
      "[I 2024-02-20 12:30:40,599] Trial 224 finished with value: 0.7137871054337603 and parameters: {'weight_0': 0, 'weight_1': 2.5, 'weight_2': 1.5, 'weight_3': 1.5, 'weight_4': 0.5, 'weight_5': 0.5, 'weight_6': 1, 'weight_7': 0.5, 'weight_8': 3, 'weight_9': 2, 'weight_10': 0.5, 'weight_11': 0.5, 'weight_12': 0, 'weight_13': 2}. Best is trial 220 with value: 0.7160171875624133.\n",
      "[I 2024-02-20 12:30:45,641] Trial 225 finished with value: 0.7144795998202567 and parameters: {'weight_0': 3, 'weight_1': 2.5, 'weight_2': 1.5, 'weight_3': 1.5, 'weight_4': 0.5, 'weight_5': 0.5, 'weight_6': 1, 'weight_7': 0.5, 'weight_8': 3, 'weight_9': 2, 'weight_10': 0.5, 'weight_11': 0.5, 'weight_12': 2.5, 'weight_13': 2}. Best is trial 220 with value: 0.7160171875624133.\n",
      "[I 2024-02-20 12:30:50,215] Trial 226 finished with value: 0.7160171875624133 and parameters: {'weight_0': 3, 'weight_1': 2.5, 'weight_2': 1.5, 'weight_3': 1.5, 'weight_4': 0.5, 'weight_5': 0.5, 'weight_6': 1, 'weight_7': 0.5, 'weight_8': 3, 'weight_9': 2, 'weight_10': 0.5, 'weight_11': 0.5, 'weight_12': 0, 'weight_13': 2}. Best is trial 220 with value: 0.7160171875624133.\n",
      "[I 2024-02-20 12:30:54,773] Trial 227 finished with value: 0.7157610612437615 and parameters: {'weight_0': 3, 'weight_1': 2, 'weight_2': 1.5, 'weight_3': 1.5, 'weight_4': 1.5, 'weight_5': 0.5, 'weight_6': 1, 'weight_7': 0.5, 'weight_8': 1, 'weight_9': 2, 'weight_10': 0.5, 'weight_11': 0.5, 'weight_12': 0, 'weight_13': 2}. Best is trial 220 with value: 0.7160171875624133.\n",
      "[I 2024-02-20 12:30:59,137] Trial 228 finished with value: 0.715593122937461 and parameters: {'weight_0': 3, 'weight_1': 2.5, 'weight_2': 1.5, 'weight_3': 1.5, 'weight_4': 0.5, 'weight_5': 0.5, 'weight_6': 1, 'weight_7': 0.5, 'weight_8': 3, 'weight_9': 2, 'weight_10': 2, 'weight_11': 0.5, 'weight_12': 0, 'weight_13': 2}. Best is trial 220 with value: 0.7160171875624133.\n",
      "[I 2024-02-20 12:31:03,544] Trial 229 finished with value: 0.7142247331505419 and parameters: {'weight_0': 3, 'weight_1': 1, 'weight_2': 1.5, 'weight_3': 1.5, 'weight_4': 0.5, 'weight_5': 2.5, 'weight_6': 1, 'weight_7': 2, 'weight_8': 3, 'weight_9': 2, 'weight_10': 0.5, 'weight_11': 0.5, 'weight_12': 0, 'weight_13': 2}. Best is trial 220 with value: 0.7160171875624133.\n",
      "[I 2024-02-20 12:31:07,755] Trial 230 finished with value: 0.7144952349671753 and parameters: {'weight_0': 1, 'weight_1': 2.5, 'weight_2': 1.5, 'weight_3': 1.5, 'weight_4': 0, 'weight_5': 0.5, 'weight_6': 1, 'weight_7': 0.5, 'weight_8': 3, 'weight_9': 2, 'weight_10': 0.5, 'weight_11': 3, 'weight_12': 0, 'weight_13': 2}. Best is trial 220 with value: 0.7160171875624133.\n",
      "[I 2024-02-20 12:31:12,188] Trial 231 finished with value: 0.7160171875624133 and parameters: {'weight_0': 3, 'weight_1': 2.5, 'weight_2': 1.5, 'weight_3': 1.5, 'weight_4': 0.5, 'weight_5': 0.5, 'weight_6': 1, 'weight_7': 0.5, 'weight_8': 3, 'weight_9': 2, 'weight_10': 0.5, 'weight_11': 0.5, 'weight_12': 0, 'weight_13': 2}. Best is trial 220 with value: 0.7160171875624133.\n",
      "[I 2024-02-20 12:31:17,186] Trial 232 finished with value: 0.7160171875624133 and parameters: {'weight_0': 3, 'weight_1': 2.5, 'weight_2': 1.5, 'weight_3': 1.5, 'weight_4': 0.5, 'weight_5': 0.5, 'weight_6': 1, 'weight_7': 0.5, 'weight_8': 3, 'weight_9': 2, 'weight_10': 0.5, 'weight_11': 0.5, 'weight_12': 0, 'weight_13': 2}. Best is trial 220 with value: 0.7160171875624133.\n",
      "[I 2024-02-20 12:31:21,913] Trial 233 finished with value: 0.7160171875624133 and parameters: {'weight_0': 3, 'weight_1': 2.5, 'weight_2': 1.5, 'weight_3': 1.5, 'weight_4': 0.5, 'weight_5': 0.5, 'weight_6': 1, 'weight_7': 0.5, 'weight_8': 3, 'weight_9': 2, 'weight_10': 0.5, 'weight_11': 0.5, 'weight_12': 0, 'weight_13': 2}. Best is trial 220 with value: 0.7160171875624133.\n",
      "[I 2024-02-20 12:31:26,734] Trial 234 finished with value: 0.7160171875624133 and parameters: {'weight_0': 3, 'weight_1': 2.5, 'weight_2': 1.5, 'weight_3': 1.5, 'weight_4': 0.5, 'weight_5': 0.5, 'weight_6': 1, 'weight_7': 0.5, 'weight_8': 3, 'weight_9': 2, 'weight_10': 0.5, 'weight_11': 0.5, 'weight_12': 0, 'weight_13': 2}. Best is trial 220 with value: 0.7160171875624133.\n",
      "[I 2024-02-20 12:31:31,216] Trial 235 finished with value: 0.7157317216624239 and parameters: {'weight_0': 3, 'weight_1': 2.5, 'weight_2': 2.5, 'weight_3': 1.5, 'weight_4': 0.5, 'weight_5': 0.5, 'weight_6': 1, 'weight_7': 0.5, 'weight_8': 3, 'weight_9': 2, 'weight_10': 0.5, 'weight_11': 0.5, 'weight_12': 0, 'weight_13': 2}. Best is trial 220 with value: 0.7160171875624133.\n",
      "[I 2024-02-20 12:31:36,144] Trial 236 finished with value: 0.7157315209164973 and parameters: {'weight_0': 3, 'weight_1': 2.5, 'weight_2': 1.5, 'weight_3': 1.5, 'weight_4': 0.5, 'weight_5': 0.5, 'weight_6': 2, 'weight_7': 0.5, 'weight_8': 3, 'weight_9': 2, 'weight_10': 0.5, 'weight_11': 0.5, 'weight_12': 0, 'weight_13': 2}. Best is trial 220 with value: 0.7160171875624133.\n",
      "[I 2024-02-20 12:31:40,841] Trial 237 finished with value: 0.7160171875624133 and parameters: {'weight_0': 3, 'weight_1': 2.5, 'weight_2': 1.5, 'weight_3': 1.5, 'weight_4': 0.5, 'weight_5': 0.5, 'weight_6': 1, 'weight_7': 0.5, 'weight_8': 3, 'weight_9': 2, 'weight_10': 0.5, 'weight_11': 0.5, 'weight_12': 0, 'weight_13': 2}. Best is trial 220 with value: 0.7160171875624133.\n",
      "[I 2024-02-20 12:31:45,452] Trial 238 finished with value: 0.7151256574968647 and parameters: {'weight_0': 3, 'weight_1': 2.5, 'weight_2': 1.5, 'weight_3': 1.5, 'weight_4': 0.5, 'weight_5': 0.5, 'weight_6': 1, 'weight_7': 0.5, 'weight_8': 3, 'weight_9': 2, 'weight_10': 3, 'weight_11': 0.5, 'weight_12': 0, 'weight_13': 2}. Best is trial 220 with value: 0.7160171875624133.\n",
      "[I 2024-02-20 12:31:50,006] Trial 239 finished with value: 0.7160089763035391 and parameters: {'weight_0': 3, 'weight_1': 2.5, 'weight_2': 0, 'weight_3': 1.5, 'weight_4': 0.5, 'weight_5': 0.5, 'weight_6': 1, 'weight_7': 0.5, 'weight_8': 3, 'weight_9': 2, 'weight_10': 0.5, 'weight_11': 0.5, 'weight_12': 0, 'weight_13': 2}. Best is trial 220 with value: 0.7160171875624133.\n",
      "[I 2024-02-20 12:31:54,500] Trial 240 finished with value: 0.715729551787568 and parameters: {'weight_0': 3, 'weight_1': 2.5, 'weight_2': 0.5, 'weight_3': 1.5, 'weight_4': 0.5, 'weight_5': 0.5, 'weight_6': 1, 'weight_7': 0.5, 'weight_8': 3, 'weight_9': 2, 'weight_10': 0.5, 'weight_11': 0.5, 'weight_12': 0, 'weight_13': 3}. Best is trial 220 with value: 0.7160171875624133.\n",
      "[I 2024-02-20 12:31:59,053] Trial 241 finished with value: 0.7160171875624133 and parameters: {'weight_0': 3, 'weight_1': 2.5, 'weight_2': 1.5, 'weight_3': 1.5, 'weight_4': 0.5, 'weight_5': 0.5, 'weight_6': 1, 'weight_7': 0.5, 'weight_8': 3, 'weight_9': 2, 'weight_10': 0.5, 'weight_11': 0.5, 'weight_12': 0, 'weight_13': 2}. Best is trial 220 with value: 0.7160171875624133.\n",
      "[I 2024-02-20 12:32:03,747] Trial 242 finished with value: 0.7160171875624133 and parameters: {'weight_0': 3, 'weight_1': 2.5, 'weight_2': 1.5, 'weight_3': 1.5, 'weight_4': 0.5, 'weight_5': 0.5, 'weight_6': 1, 'weight_7': 0.5, 'weight_8': 3, 'weight_9': 2, 'weight_10': 0.5, 'weight_11': 0.5, 'weight_12': 0, 'weight_13': 2}. Best is trial 220 with value: 0.7160171875624133.\n",
      "[I 2024-02-20 12:32:08,458] Trial 243 finished with value: 0.7160171875624133 and parameters: {'weight_0': 3, 'weight_1': 2.5, 'weight_2': 1.5, 'weight_3': 1.5, 'weight_4': 0.5, 'weight_5': 0.5, 'weight_6': 1, 'weight_7': 0.5, 'weight_8': 3, 'weight_9': 2, 'weight_10': 0.5, 'weight_11': 0.5, 'weight_12': 0, 'weight_13': 2}. Best is trial 220 with value: 0.7160171875624133.\n",
      "[I 2024-02-20 12:32:13,148] Trial 244 finished with value: 0.7160171875624133 and parameters: {'weight_0': 3, 'weight_1': 2.5, 'weight_2': 1.5, 'weight_3': 1.5, 'weight_4': 0.5, 'weight_5': 0.5, 'weight_6': 1, 'weight_7': 0.5, 'weight_8': 3, 'weight_9': 2, 'weight_10': 0.5, 'weight_11': 0.5, 'weight_12': 0, 'weight_13': 2}. Best is trial 220 with value: 0.7160171875624133.\n",
      "[I 2024-02-20 12:32:17,550] Trial 245 finished with value: 0.715976108486555 and parameters: {'weight_0': 3, 'weight_1': 2.5, 'weight_2': 1.5, 'weight_3': 1.5, 'weight_4': 0.5, 'weight_5': 1, 'weight_6': 1, 'weight_7': 0.5, 'weight_8': 3, 'weight_9': 2, 'weight_10': 0.5, 'weight_11': 0.5, 'weight_12': 0, 'weight_13': 2}. Best is trial 220 with value: 0.7160171875624133.\n",
      "[I 2024-02-20 12:32:22,461] Trial 246 finished with value: 0.7145376002318231 and parameters: {'weight_0': 2, 'weight_1': 2.5, 'weight_2': 1.5, 'weight_3': 1.5, 'weight_4': 0.5, 'weight_5': 0.5, 'weight_6': 1, 'weight_7': 0.5, 'weight_8': 3, 'weight_9': 2, 'weight_10': 0.5, 'weight_11': 0.5, 'weight_12': 1.5, 'weight_13': 2}. Best is trial 220 with value: 0.7160171875624133.\n",
      "[I 2024-02-20 12:32:26,941] Trial 247 finished with value: 0.7160171875624133 and parameters: {'weight_0': 3, 'weight_1': 2.5, 'weight_2': 1.5, 'weight_3': 1.5, 'weight_4': 0.5, 'weight_5': 0.5, 'weight_6': 1, 'weight_7': 0.5, 'weight_8': 3, 'weight_9': 2, 'weight_10': 0.5, 'weight_11': 0.5, 'weight_12': 0, 'weight_13': 2}. Best is trial 220 with value: 0.7160171875624133.\n",
      "[I 2024-02-20 12:32:31,295] Trial 248 finished with value: 0.7135409529848645 and parameters: {'weight_0': 1.5, 'weight_1': 2.5, 'weight_2': 1.5, 'weight_3': 1.5, 'weight_4': 3, 'weight_5': 0.5, 'weight_6': 1, 'weight_7': 0.5, 'weight_8': 3, 'weight_9': 2, 'weight_10': 0.5, 'weight_11': 0.5, 'weight_12': 0, 'weight_13': 2}. Best is trial 220 with value: 0.7160171875624133.\n",
      "[I 2024-02-20 12:32:35,178] Trial 249 finished with value: 0.713686576698965 and parameters: {'weight_0': 3, 'weight_1': 0, 'weight_2': 1.5, 'weight_3': 0, 'weight_4': 0.5, 'weight_5': 0.5, 'weight_6': 1, 'weight_7': 0.5, 'weight_8': 3, 'weight_9': 2, 'weight_10': 0.5, 'weight_11': 0.5, 'weight_12': 0, 'weight_13': 2}. Best is trial 220 with value: 0.7160171875624133.\n",
      "[I 2024-02-20 12:32:39,579] Trial 250 finished with value: 0.7158564930513706 and parameters: {'weight_0': 3, 'weight_1': 2.5, 'weight_2': 1.5, 'weight_3': 1.5, 'weight_4': 0.5, 'weight_5': 0.5, 'weight_6': 1, 'weight_7': 0.5, 'weight_8': 0.5, 'weight_9': 2, 'weight_10': 0.5, 'weight_11': 0.5, 'weight_12': 0, 'weight_13': 2}. Best is trial 220 with value: 0.7160171875624133.\n",
      "[I 2024-02-20 12:32:44,424] Trial 251 finished with value: 0.7149151280157909 and parameters: {'weight_0': 3, 'weight_1': 2.5, 'weight_2': 1.5, 'weight_3': 1.5, 'weight_4': 2, 'weight_5': 0.5, 'weight_6': 1, 'weight_7': 1, 'weight_8': 3, 'weight_9': 2, 'weight_10': 0.5, 'weight_11': 0.5, 'weight_12': 0.5, 'weight_13': 2}. Best is trial 220 with value: 0.7160171875624133.\n",
      "[I 2024-02-20 12:32:48,919] Trial 252 finished with value: 0.7151069985818778 and parameters: {'weight_0': 3, 'weight_1': 2.5, 'weight_2': 1.5, 'weight_3': 1.5, 'weight_4': 0.5, 'weight_5': 3, 'weight_6': 1, 'weight_7': 0.5, 'weight_8': 3, 'weight_9': 2, 'weight_10': 0.5, 'weight_11': 0.5, 'weight_12': 0, 'weight_13': 2}. Best is trial 220 with value: 0.7160171875624133.\n",
      "[I 2024-02-20 12:32:53,410] Trial 253 finished with value: 0.7146133798680376 and parameters: {'weight_0': 3, 'weight_1': 2.5, 'weight_2': 1.5, 'weight_3': 1.5, 'weight_4': 0.5, 'weight_5': 0.5, 'weight_6': 3, 'weight_7': 2.5, 'weight_8': 3, 'weight_9': 2, 'weight_10': 0.5, 'weight_11': 1.5, 'weight_12': 0, 'weight_13': 2}. Best is trial 220 with value: 0.7160171875624133.\n",
      "[I 2024-02-20 12:32:57,905] Trial 254 finished with value: 0.7159394672266394 and parameters: {'weight_0': 3, 'weight_1': 2.5, 'weight_2': 1.5, 'weight_3': 1, 'weight_4': 0.5, 'weight_5': 0.5, 'weight_6': 1, 'weight_7': 0.5, 'weight_8': 3, 'weight_9': 2, 'weight_10': 0.5, 'weight_11': 0.5, 'weight_12': 0, 'weight_13': 2}. Best is trial 220 with value: 0.7160171875624133.\n",
      "[I 2024-02-20 12:33:01,986] Trial 255 finished with value: 0.7155999559118397 and parameters: {'weight_0': 3, 'weight_1': 2.5, 'weight_2': 1.5, 'weight_3': 1.5, 'weight_4': 0.5, 'weight_5': 0.5, 'weight_6': 1, 'weight_7': 0.5, 'weight_8': 3, 'weight_9': 2, 'weight_10': 0.5, 'weight_11': 2.5, 'weight_12': 0, 'weight_13': 0}. Best is trial 220 with value: 0.7160171875624133.\n",
      "[I 2024-02-20 12:33:06,457] Trial 256 finished with value: 0.7159135102167384 and parameters: {'weight_0': 3, 'weight_1': 2.5, 'weight_2': 1.5, 'weight_3': 2, 'weight_4': 0.5, 'weight_5': 0.5, 'weight_6': 1, 'weight_7': 0.5, 'weight_8': 2, 'weight_9': 2, 'weight_10': 2, 'weight_11': 0.5, 'weight_12': 0, 'weight_13': 2}. Best is trial 220 with value: 0.7160171875624133.\n",
      "[I 2024-02-20 12:33:11,149] Trial 257 finished with value: 0.7148671338881588 and parameters: {'weight_0': 3, 'weight_1': 2.5, 'weight_2': 1.5, 'weight_3': 1.5, 'weight_4': 0.5, 'weight_5': 0.5, 'weight_6': 1, 'weight_7': 0.5, 'weight_8': 3, 'weight_9': 2, 'weight_10': 0.5, 'weight_11': 0.5, 'weight_12': 2, 'weight_13': 2}. Best is trial 220 with value: 0.7160171875624133.\n",
      "[I 2024-02-20 12:33:15,965] Trial 258 finished with value: 0.7128245870601739 and parameters: {'weight_0': 0.5, 'weight_1': 2.5, 'weight_2': 1.5, 'weight_3': 1.5, 'weight_4': 0.5, 'weight_5': 0.5, 'weight_6': 1, 'weight_7': 0.5, 'weight_8': 3, 'weight_9': 2, 'weight_10': 0.5, 'weight_11': 0.5, 'weight_12': 3, 'weight_13': 2}. Best is trial 220 with value: 0.7160171875624133.\n",
      "[I 2024-02-20 12:33:20,255] Trial 259 finished with value: 0.7149180298023795 and parameters: {'weight_0': 3, 'weight_1': 0.5, 'weight_2': 1.5, 'weight_3': 1.5, 'weight_4': 0.5, 'weight_5': 0.5, 'weight_6': 1, 'weight_7': 0.5, 'weight_8': 3, 'weight_9': 2, 'weight_10': 0.5, 'weight_11': 0.5, 'weight_12': 0, 'weight_13': 2}. Best is trial 220 with value: 0.7160171875624133.\n",
      "[I 2024-02-20 12:33:24,710] Trial 260 finished with value: 0.7146951816942293 and parameters: {'weight_0': 3, 'weight_1': 2.5, 'weight_2': 1.5, 'weight_3': 1.5, 'weight_4': 0.5, 'weight_5': 2.5, 'weight_6': 2.5, 'weight_7': 0.5, 'weight_8': 3, 'weight_9': 2, 'weight_10': 0.5, 'weight_11': 0.5, 'weight_12': 0, 'weight_13': 2}. Best is trial 220 with value: 0.7160171875624133.\n",
      "[I 2024-02-20 12:33:29,218] Trial 261 finished with value: 0.7150144211997934 and parameters: {'weight_0': 3, 'weight_1': 2.5, 'weight_2': 1.5, 'weight_3': 1.5, 'weight_4': 2.5, 'weight_5': 0.5, 'weight_6': 1, 'weight_7': 0.5, 'weight_8': 3, 'weight_9': 2, 'weight_10': 0.5, 'weight_11': 0.5, 'weight_12': 0, 'weight_13': 2}. Best is trial 220 with value: 0.7160171875624133.\n",
      "[I 2024-02-20 12:33:33,431] Trial 262 finished with value: 0.7135795262859363 and parameters: {'weight_0': 0, 'weight_1': 2, 'weight_2': 1.5, 'weight_3': 1.5, 'weight_4': 0.5, 'weight_5': 0.5, 'weight_6': 1, 'weight_7': 0.5, 'weight_8': 3, 'weight_9': 2, 'weight_10': 0.5, 'weight_11': 2, 'weight_12': 0, 'weight_13': 2}. Best is trial 220 with value: 0.7160171875624133.\n",
      "[I 2024-02-20 12:33:38,029] Trial 263 finished with value: 0.7155229216937286 and parameters: {'weight_0': 3, 'weight_1': 1, 'weight_2': 1.5, 'weight_3': 1.5, 'weight_4': 0.5, 'weight_5': 0.5, 'weight_6': 1, 'weight_7': 2, 'weight_8': 1, 'weight_9': 2, 'weight_10': 0.5, 'weight_11': 0.5, 'weight_12': 0, 'weight_13': 2}. Best is trial 220 with value: 0.7160171875624133.\n",
      "[I 2024-02-20 12:33:42,681] Trial 264 finished with value: 0.7141541786710595 and parameters: {'weight_0': 3, 'weight_1': 2.5, 'weight_2': 1.5, 'weight_3': 1.5, 'weight_4': 1.5, 'weight_5': 0.5, 'weight_6': 1, 'weight_7': 0.5, 'weight_8': 3, 'weight_9': 2, 'weight_10': 0.5, 'weight_11': 0.5, 'weight_12': 2.5, 'weight_13': 2}. Best is trial 220 with value: 0.7160171875624133.\n",
      "[I 2024-02-20 12:33:47,132] Trial 265 finished with value: 0.7160171875624133 and parameters: {'weight_0': 3, 'weight_1': 2.5, 'weight_2': 1.5, 'weight_3': 1.5, 'weight_4': 0.5, 'weight_5': 0.5, 'weight_6': 1, 'weight_7': 0.5, 'weight_8': 3, 'weight_9': 2, 'weight_10': 0.5, 'weight_11': 0.5, 'weight_12': 0, 'weight_13': 2}. Best is trial 220 with value: 0.7160171875624133.\n",
      "[I 2024-02-20 12:33:51,318] Trial 266 finished with value: 0.714612817535541 and parameters: {'weight_0': 1, 'weight_1': 2.5, 'weight_2': 1.5, 'weight_3': 1.5, 'weight_4': 0.5, 'weight_5': 0.5, 'weight_6': 1, 'weight_7': 0.5, 'weight_8': 3, 'weight_9': 2, 'weight_10': 0.5, 'weight_11': 0, 'weight_12': 0, 'weight_13': 2}. Best is trial 220 with value: 0.7160171875624133.\n",
      "[I 2024-02-20 12:33:55,818] Trial 267 finished with value: 0.7142284954419469 and parameters: {'weight_0': 3, 'weight_1': 2.5, 'weight_2': 2.5, 'weight_3': 1.5, 'weight_4': 0.5, 'weight_5': 0.5, 'weight_6': 2, 'weight_7': 0.5, 'weight_8': 3, 'weight_9': 2, 'weight_10': 3, 'weight_11': 0.5, 'weight_12': 0, 'weight_13': 2}. Best is trial 220 with value: 0.7160171875624133.\n",
      "[I 2024-02-20 12:34:00,282] Trial 268 finished with value: 0.7152618397383623 and parameters: {'weight_0': 3, 'weight_1': 2.5, 'weight_2': 1.5, 'weight_3': 1.5, 'weight_4': 0.5, 'weight_5': 0.5, 'weight_6': 1, 'weight_7': 0.5, 'weight_8': 3, 'weight_9': 2, 'weight_10': 0.5, 'weight_11': 3, 'weight_12': 0, 'weight_13': 2}. Best is trial 220 with value: 0.7160171875624133.\n",
      "[I 2024-02-20 12:34:04,511] Trial 269 finished with value: 0.7157865285469106 and parameters: {'weight_0': 3, 'weight_1': 2.5, 'weight_2': 0.5, 'weight_3': 1.5, 'weight_4': 0, 'weight_5': 0.5, 'weight_6': 1, 'weight_7': 0.5, 'weight_8': 3, 'weight_9': 2, 'weight_10': 0.5, 'weight_11': 0.5, 'weight_12': 0, 'weight_13': 3}. Best is trial 220 with value: 0.7160171875624133.\n",
      "[I 2024-02-20 12:34:09,008] Trial 270 finished with value: 0.7160171875624133 and parameters: {'weight_0': 3, 'weight_1': 2.5, 'weight_2': 1.5, 'weight_3': 1.5, 'weight_4': 0.5, 'weight_5': 0.5, 'weight_6': 1, 'weight_7': 0.5, 'weight_8': 3, 'weight_9': 2, 'weight_10': 0.5, 'weight_11': 0.5, 'weight_12': 0, 'weight_13': 2}. Best is trial 220 with value: 0.7160171875624133.\n",
      "[I 2024-02-20 12:34:13,148] Trial 271 finished with value: 0.7159148299688883 and parameters: {'weight_0': 2.5, 'weight_1': 2.5, 'weight_2': 0, 'weight_3': 1.5, 'weight_4': 0.5, 'weight_5': 0.5, 'weight_6': 1, 'weight_7': 0.5, 'weight_8': 3, 'weight_9': 2, 'weight_10': 0.5, 'weight_11': 0.5, 'weight_12': 0, 'weight_13': 2}. Best is trial 220 with value: 0.7160171875624133.\n",
      "[I 2024-02-20 12:34:17,665] Trial 272 finished with value: 0.715976108486555 and parameters: {'weight_0': 3, 'weight_1': 2.5, 'weight_2': 1.5, 'weight_3': 1.5, 'weight_4': 0.5, 'weight_5': 1, 'weight_6': 1, 'weight_7': 0.5, 'weight_8': 3, 'weight_9': 2, 'weight_10': 0.5, 'weight_11': 0.5, 'weight_12': 0, 'weight_13': 2}. Best is trial 220 with value: 0.7160171875624133.\n",
      "[I 2024-02-20 12:34:22,189] Trial 273 finished with value: 0.7160171875624133 and parameters: {'weight_0': 3, 'weight_1': 2.5, 'weight_2': 1.5, 'weight_3': 1.5, 'weight_4': 0.5, 'weight_5': 0.5, 'weight_6': 1, 'weight_7': 0.5, 'weight_8': 3, 'weight_9': 2, 'weight_10': 0.5, 'weight_11': 0.5, 'weight_12': 0, 'weight_13': 2}. Best is trial 220 with value: 0.7160171875624133.\n",
      "[I 2024-02-20 12:34:26,641] Trial 274 finished with value: 0.7151148396489151 and parameters: {'weight_0': 3, 'weight_1': 2.5, 'weight_2': 1.5, 'weight_3': 1.5, 'weight_4': 0.5, 'weight_5': 0.5, 'weight_6': 1, 'weight_7': 3, 'weight_8': 2.5, 'weight_9': 2, 'weight_10': 0.5, 'weight_11': 0.5, 'weight_12': 0, 'weight_13': 2}. Best is trial 220 with value: 0.7160171875624133.\n",
      "[I 2024-02-20 12:34:30,828] Trial 275 finished with value: 0.7157361827670301 and parameters: {'weight_0': 3, 'weight_1': 2.5, 'weight_2': 1.5, 'weight_3': 0, 'weight_4': 0.5, 'weight_5': 0.5, 'weight_6': 1, 'weight_7': 0.5, 'weight_8': 3, 'weight_9': 2, 'weight_10': 0.5, 'weight_11': 0.5, 'weight_12': 0, 'weight_13': 2}. Best is trial 220 with value: 0.7160171875624133.\n",
      "[I 2024-02-20 12:34:35,240] Trial 276 finished with value: 0.7138293116046017 and parameters: {'weight_0': 1.5, 'weight_1': 2.5, 'weight_2': 1.5, 'weight_3': 0.5, 'weight_4': 0.5, 'weight_5': 0.5, 'weight_6': 3, 'weight_7': 0.5, 'weight_8': 3, 'weight_9': 2, 'weight_10': 0.5, 'weight_11': 0.5, 'weight_12': 0, 'weight_13': 2}. Best is trial 220 with value: 0.7160171875624133.\n",
      "[I 2024-02-20 12:34:39,365] Trial 277 finished with value: 0.7146142835541417 and parameters: {'weight_0': 3, 'weight_1': 0, 'weight_2': 1.5, 'weight_3': 1.5, 'weight_4': 0.5, 'weight_5': 0.5, 'weight_6': 1, 'weight_7': 0.5, 'weight_8': 3, 'weight_9': 2, 'weight_10': 0.5, 'weight_11': 0.5, 'weight_12': 0, 'weight_13': 2}. Best is trial 220 with value: 0.7160171875624133.\n",
      "[I 2024-02-20 12:34:43,339] Trial 278 finished with value: 0.7136314037534326 and parameters: {'weight_0': 3, 'weight_1': 2.5, 'weight_2': 1.5, 'weight_3': 1.5, 'weight_4': 3, 'weight_5': 0.5, 'weight_6': 1, 'weight_7': 2.5, 'weight_8': 3, 'weight_9': 2, 'weight_10': 1.5, 'weight_11': 0.5, 'weight_12': 0, 'weight_13': 0}. Best is trial 220 with value: 0.7160171875624133.\n",
      "[I 2024-02-20 12:34:47,991] Trial 279 finished with value: 0.7155319485123212 and parameters: {'weight_0': 3, 'weight_1': 2.5, 'weight_2': 1.5, 'weight_3': 1.5, 'weight_4': 2, 'weight_5': 0.5, 'weight_6': 1, 'weight_7': 0.5, 'weight_8': 0.5, 'weight_9': 2, 'weight_10': 0.5, 'weight_11': 0.5, 'weight_12': 0.5, 'weight_13': 2}. Best is trial 220 with value: 0.7160171875624133.\n",
      "[I 2024-02-20 12:34:52,440] Trial 280 finished with value: 0.7146748861499468 and parameters: {'weight_0': 3, 'weight_1': 2.5, 'weight_2': 1.5, 'weight_3': 1, 'weight_4': 0.5, 'weight_5': 3, 'weight_6': 1, 'weight_7': 0.5, 'weight_8': 3, 'weight_9': 2, 'weight_10': 0.5, 'weight_11': 2.5, 'weight_12': 1.5, 'weight_13': 2.5}. Best is trial 220 with value: 0.7160171875624133.\n",
      "[I 2024-02-20 12:34:57,065] Trial 281 finished with value: 0.7153439781427999 and parameters: {'weight_0': 2, 'weight_1': 2.5, 'weight_2': 1.5, 'weight_3': 1.5, 'weight_4': 0.5, 'weight_5': 0.5, 'weight_6': 1, 'weight_7': 1, 'weight_8': 3, 'weight_9': 2, 'weight_10': 0.5, 'weight_11': 0.5, 'weight_12': 0, 'weight_13': 2}. Best is trial 220 with value: 0.7160171875624133.\n",
      "[I 2024-02-20 12:35:01,551] Trial 282 finished with value: 0.7160171875624133 and parameters: {'weight_0': 3, 'weight_1': 2.5, 'weight_2': 1.5, 'weight_3': 1.5, 'weight_4': 0.5, 'weight_5': 0.5, 'weight_6': 1, 'weight_7': 0.5, 'weight_8': 3, 'weight_9': 2, 'weight_10': 0.5, 'weight_11': 0.5, 'weight_12': 0, 'weight_13': 2}. Best is trial 220 with value: 0.7160171875624133.\n",
      "[I 2024-02-20 12:35:06,035] Trial 283 finished with value: 0.7160041497964741 and parameters: {'weight_0': 3, 'weight_1': 2.5, 'weight_2': 1.5, 'weight_3': 2, 'weight_4': 0.5, 'weight_5': 0.5, 'weight_6': 1, 'weight_7': 0.5, 'weight_8': 3, 'weight_9': 2, 'weight_10': 0.5, 'weight_11': 0.5, 'weight_12': 0, 'weight_13': 2}. Best is trial 220 with value: 0.7160171875624133.\n",
      "[I 2024-02-20 12:35:10,514] Trial 284 finished with value: 0.715593122937461 and parameters: {'weight_0': 3, 'weight_1': 2.5, 'weight_2': 1.5, 'weight_3': 1.5, 'weight_4': 0.5, 'weight_5': 0.5, 'weight_6': 1, 'weight_7': 0.5, 'weight_8': 3, 'weight_9': 2, 'weight_10': 2, 'weight_11': 0.5, 'weight_12': 0, 'weight_13': 2}. Best is trial 220 with value: 0.7160171875624133.\n",
      "[I 2024-02-20 12:35:15,316] Trial 285 finished with value: 0.7150455463886166 and parameters: {'weight_0': 3, 'weight_1': 2.5, 'weight_2': 1.5, 'weight_3': 1.5, 'weight_4': 0.5, 'weight_5': 0.5, 'weight_6': 1, 'weight_7': 0.5, 'weight_8': 3, 'weight_9': 2, 'weight_10': 0.5, 'weight_11': 1.5, 'weight_12': 2, 'weight_13': 2}. Best is trial 220 with value: 0.7160171875624133.\n",
      "[I 2024-02-20 12:35:19,832] Trial 286 finished with value: 0.7161335958770961 and parameters: {'weight_0': 3, 'weight_1': 2.5, 'weight_2': 1.5, 'weight_3': 1.5, 'weight_4': 0.5, 'weight_5': 0.5, 'weight_6': 1, 'weight_7': 0.5, 'weight_8': 2, 'weight_9': 2, 'weight_10': 0.5, 'weight_11': 0.5, 'weight_12': 0, 'weight_13': 2}. Best is trial 286 with value: 0.7161335958770961.\n",
      "[I 2024-02-20 12:35:24,215] Trial 287 finished with value: 0.7155363307796351 and parameters: {'weight_0': 3, 'weight_1': 2.5, 'weight_2': 1.5, 'weight_3': 1.5, 'weight_4': 0.5, 'weight_5': 2.5, 'weight_6': 1, 'weight_7': 0.5, 'weight_8': 2, 'weight_9': 2, 'weight_10': 0.5, 'weight_11': 2, 'weight_12': 0, 'weight_13': 2}. Best is trial 286 with value: 0.7161335958770961.\n",
      "[I 2024-02-20 12:35:29,052] Trial 288 finished with value: 0.7122753749338084 and parameters: {'weight_0': 0.5, 'weight_1': 0.5, 'weight_2': 1.5, 'weight_3': 1.5, 'weight_4': 0.5, 'weight_5': 0.5, 'weight_6': 1, 'weight_7': 0.5, 'weight_8': 3, 'weight_9': 2, 'weight_10': 0.5, 'weight_11': 0.5, 'weight_12': 3, 'weight_13': 2}. Best is trial 286 with value: 0.7161335958770961.\n",
      "[I 2024-02-20 12:35:33,508] Trial 289 finished with value: 0.7151486613518293 and parameters: {'weight_0': 3, 'weight_1': 2.5, 'weight_2': 1.5, 'weight_3': 1.5, 'weight_4': 2.5, 'weight_5': 0.5, 'weight_6': 2.5, 'weight_7': 0.5, 'weight_8': 1, 'weight_9': 2, 'weight_10': 0.5, 'weight_11': 0.5, 'weight_12': 0, 'weight_13': 2}. Best is trial 286 with value: 0.7161335958770961.\n",
      "[I 2024-02-20 12:35:37,796] Trial 290 finished with value: 0.7161061457871878 and parameters: {'weight_0': 3, 'weight_1': 2.5, 'weight_2': 1.5, 'weight_3': 1.5, 'weight_4': 0.5, 'weight_5': 0, 'weight_6': 1, 'weight_7': 0.5, 'weight_8': 2, 'weight_9': 2, 'weight_10': 0.5, 'weight_11': 0.5, 'weight_12': 0, 'weight_13': 2}. Best is trial 286 with value: 0.7161335958770961.\n",
      "[I 2024-02-20 12:35:42,148] Trial 291 finished with value: 0.716040368871044 and parameters: {'weight_0': 3, 'weight_1': 2, 'weight_2': 1.5, 'weight_3': 1.5, 'weight_4': 0.5, 'weight_5': 0, 'weight_6': 1, 'weight_7': 0.5, 'weight_8': 2, 'weight_9': 2, 'weight_10': 0.5, 'weight_11': 0.5, 'weight_12': 0, 'weight_13': 2}. Best is trial 286 with value: 0.7161335958770961.\n",
      "[I 2024-02-20 12:35:46,006] Trial 292 finished with value: 0.7124167471764575 and parameters: {'weight_0': 0, 'weight_1': 2, 'weight_2': 1.5, 'weight_3': 1.5, 'weight_4': 0.5, 'weight_5': 0, 'weight_6': 1, 'weight_7': 0.5, 'weight_8': 2, 'weight_9': 2, 'weight_10': 0.5, 'weight_11': 0, 'weight_12': 2.5, 'weight_13': 2}. Best is trial 286 with value: 0.7161335958770961.\n",
      "[I 2024-02-20 12:35:50,283] Trial 293 finished with value: 0.7154366042406439 and parameters: {'weight_0': 3, 'weight_1': 2, 'weight_2': 3, 'weight_3': 1.5, 'weight_4': 0.5, 'weight_5': 0, 'weight_6': 2, 'weight_7': 0.5, 'weight_8': 2, 'weight_9': 2, 'weight_10': 0.5, 'weight_11': 0.5, 'weight_12': 0, 'weight_13': 2}. Best is trial 286 with value: 0.7161335958770961.\n",
      "[I 2024-02-20 12:35:54,450] Trial 294 finished with value: 0.716040368871044 and parameters: {'weight_0': 3, 'weight_1': 2, 'weight_2': 1.5, 'weight_3': 1.5, 'weight_4': 0.5, 'weight_5': 0, 'weight_6': 1, 'weight_7': 0.5, 'weight_8': 2, 'weight_9': 2, 'weight_10': 0.5, 'weight_11': 0.5, 'weight_12': 0, 'weight_13': 2}. Best is trial 286 with value: 0.7161335958770961.\n",
      "[I 2024-02-20 12:35:58,689] Trial 295 finished with value: 0.7158527374953546 and parameters: {'weight_0': 3, 'weight_1': 2, 'weight_2': 2.5, 'weight_3': 1.5, 'weight_4': 0.5, 'weight_5': 0, 'weight_6': 1, 'weight_7': 0.5, 'weight_8': 2, 'weight_9': 2, 'weight_10': 0.5, 'weight_11': 0.5, 'weight_12': 0, 'weight_13': 2}. Best is trial 286 with value: 0.7161335958770961.\n",
      "[I 2024-02-20 12:36:03,016] Trial 296 finished with value: 0.7151915147873156 and parameters: {'weight_0': 3, 'weight_1': 2, 'weight_2': 1.5, 'weight_3': 1.5, 'weight_4': 1.5, 'weight_5': 0, 'weight_6': 1, 'weight_7': 0.5, 'weight_8': 2, 'weight_9': 2, 'weight_10': 3, 'weight_11': 0.5, 'weight_12': 0, 'weight_13': 3}. Best is trial 286 with value: 0.7161335958770961.\n",
      "[I 2024-02-20 12:36:07,222] Trial 297 finished with value: 0.7157080415493544 and parameters: {'weight_0': 3, 'weight_1': 2, 'weight_2': 1.5, 'weight_3': 1.5, 'weight_4': 0.5, 'weight_5': 0, 'weight_6': 1, 'weight_7': 2, 'weight_8': 2, 'weight_9': 2, 'weight_10': 0.5, 'weight_11': 0.5, 'weight_12': 0, 'weight_13': 2}. Best is trial 286 with value: 0.7161335958770961.\n",
      "[I 2024-02-20 12:36:11,492] Trial 298 finished with value: 0.7139638194777583 and parameters: {'weight_0': 1, 'weight_1': 2, 'weight_2': 0.5, 'weight_3': 1.5, 'weight_4': 0.5, 'weight_5': 0, 'weight_6': 1, 'weight_7': 0.5, 'weight_8': 2, 'weight_9': 2, 'weight_10': 0.5, 'weight_11': 3, 'weight_12': 0, 'weight_13': 2}. Best is trial 286 with value: 0.7161335958770961.\n",
      "[I 2024-02-20 12:36:15,721] Trial 299 finished with value: 0.716040368871044 and parameters: {'weight_0': 3, 'weight_1': 2, 'weight_2': 1.5, 'weight_3': 1.5, 'weight_4': 0.5, 'weight_5': 0, 'weight_6': 1, 'weight_7': 0.5, 'weight_8': 2, 'weight_9': 2, 'weight_10': 0.5, 'weight_11': 0.5, 'weight_12': 0, 'weight_13': 2}. Best is trial 286 with value: 0.7161335958770961.\n"
     ]
    },
    {
     "name": "stdout",
     "output_type": "stream",
     "text": [
      "[3, 2.5, 1.5, 1.5, 0.5, 0.5, 1, 0.5, 2, 2, 0.5, 0.5, 0, 2]\n"
     ]
    }
   ],
   "source": [
    "# Optimize the weights with optuna, using the same value options\n",
    "import optuna\n",
    "def objective(trial):\n",
    "    weights = [trial.suggest_categorical(f\"weight_{i}\", values) for i in range(len(folders))]\n",
    "    return dice_fitness(weights, pred_array, targets)\n",
    "\n",
    "study = optuna.create_study(direction=\"maximize\", storage=\"sqlite:///ensemble_weights.db\")\n",
    "study.optimize(objective, n_trials=300)\n",
    "best_weights = [study.best_params[f\"weight_{i}\"] for i in range(len(folders))]\n",
    "print(best_weights)"
   ],
   "metadata": {
    "collapsed": false,
    "ExecuteTime": {
     "end_time": "2024-02-20T11:36:15.779837900Z",
     "start_time": "2024-02-20T11:14:40.801307800Z"
    }
   },
   "id": "70d715aac365b218"
  },
  {
   "cell_type": "code",
   "execution_count": 317,
   "outputs": [
    {
     "name": "stdout",
     "output_type": "stream",
     "text": [
      "3 SwinUNETR-f18-bs16-e75-FocalDiceBoundaryLoss\n",
      "2.5 vgg13-Unet-f18-bs16-e75-FocalDice2BoundaryLoss\n",
      "0.5 vgg13-Unet-f13-bs16-e75-FocalDiceBoundaryLoss\n",
      "1.5 vgg13-Unet-f18-bs16-e75-DiceLoss\n",
      "0.5 SwinUNETR-f18-bs16-e75-DiceLoss\n",
      "1.5 SwinUNETR-f13-bs16-e75-DiceLoss\n",
      "1.0 vgg13-Unet-f13-bs16-e75-DiceLoss\n",
      "1.0 timm-res2net50_26w_4s-Unet-f13-bs16-e75-DiceLoss\n",
      "1 vgg13-Unet-fm4-bs16-e75-DiceLoss\n",
      "0.5 vgg13-Unet-fm2-bs16-e75-DiceLoss\n"
     ]
    }
   ],
   "source": [
    "# Print the list\n",
    "for i in range(len(folders)):\n",
    "    if best_individual[i] > 0:\n",
    "        print(best_individual[i], names[folders[i]])"
   ],
   "metadata": {
    "collapsed": false,
    "ExecuteTime": {
     "end_time": "2024-02-20T13:17:34.658476400Z",
     "start_time": "2024-02-20T13:17:34.650474700Z"
    }
   },
   "id": "d6e3a5df18144ef5"
  },
  {
   "cell_type": "code",
   "execution_count": 279,
   "outputs": [
    {
     "name": "stdout",
     "output_type": "stream",
     "text": [
      "SwinUNETR-f18-bs16-e75-FocalDiceBoundaryLoss\n",
      "vgg13-Unet-f18-bs16-e75-FocalDice2BoundaryLoss\n",
      "vgg13-Unet-f13-bs16-e75-FocalDiceBoundaryLoss\n",
      "vgg13-Unet-f18-bs16-e75-DiceLoss\n",
      "vgg13-Unet-f18-bs16-e75-FocalDiceBoundaryLoss\n",
      "SwinUNETR-f18-bs16-e75-DiceLoss\n",
      "SwinUNETR-f13-bs16-e75-DiceLoss\n",
      "vgg13-Unet-f13-bs16-e75-DiceLoss\n",
      "timm-res2net50_26w_4s-Unet-f13-bs16-e75-DiceLoss\n",
      "vgg13-Unet-f6-bs16-e75-DiceLoss\n",
      "SwinUNETR-f13-bs16-e75-FocalDiceBoundaryLoss\n",
      "vgg13-Unet-f7-bs16-e75-DiceLoss\n",
      "timm-resnest14d-Unet-f13-bs16-e75-DiceLoss\n",
      "timm-res2net50_26w_4s-Unet-f18-bs16-e75-DiceLoss\n"
     ]
    }
   ],
   "source": [
    "# Print all models\n",
    "for i in range(len(folders)):\n",
    "    print(names[folders[i]])"
   ],
   "metadata": {
    "collapsed": false,
    "ExecuteTime": {
     "end_time": "2024-02-20T09:47:43.480158100Z",
     "start_time": "2024-02-20T09:47:43.443148700Z"
    }
   },
   "id": "4991a7e1e7a05499"
  },
  {
   "cell_type": "code",
   "execution_count": 281,
   "outputs": [
    {
     "name": "stdout",
     "output_type": "stream",
     "text": [
      "SwinUNETR-f18-bs16-e75-FocalDiceBoundaryLoss\n",
      "vgg13-Unet-f13-bs16-e75-FocalDiceBoundaryLoss\n",
      "vgg13-Unet-f18-bs16-e75-DiceLoss\n",
      "vgg13-Unet-f18-bs16-e75-FocalDiceBoundaryLoss\n",
      "SwinUNETR-f18-bs16-e75-DiceLoss\n",
      "SwinUNETR-f13-bs16-e75-DiceLoss\n",
      "vgg13-Unet-f13-bs16-e75-DiceLoss\n",
      "SwinUNETR-f13-bs16-e75-FocalDiceBoundaryLoss\n",
      "Current submission dice score: 0.7138\n"
     ]
    }
   ],
   "source": [
    "# Compare against the score of our current best submission\n",
    "current_submission = [1,0,1,1,1,1,1,1,0,0,1,0,0,0]\n",
    "# print models in current submission\n",
    "for i in range(len(folders)):\n",
    "    if current_submission[i] > 0:\n",
    "        print(names[folders[i]])\n",
    "print(f\"Current submission dice score: {dice_fitness(current_submission, pred_array, targets):.4f}\")"
   ],
   "metadata": {
    "collapsed": false,
    "ExecuteTime": {
     "end_time": "2024-02-20T09:51:58.205613600Z",
     "start_time": "2024-02-20T09:51:52.929011100Z"
    }
   },
   "id": "7872a34e9f9a55b3"
  },
  {
   "cell_type": "code",
   "execution_count": 301,
   "outputs": [
    {
     "name": "stdout",
     "output_type": "stream",
     "text": [
      "SwinUNETR-f18-bs16-e75-FocalDiceBoundaryLoss\n",
      "vgg13-Unet-f18-bs16-e75-FocalDice2BoundaryLoss\n",
      "vgg13-Unet-f13-bs16-e75-FocalDiceBoundaryLoss\n",
      "vgg13-Unet-f18-bs16-e75-DiceLoss\n",
      "SwinUNETR-f18-bs16-e75-DiceLoss\n",
      "SwinUNETR-f13-bs16-e75-DiceLoss\n",
      "vgg13-Unet-f13-bs16-e75-DiceLoss\n",
      "SwinUNETR-f13-bs16-e75-FocalDiceBoundaryLoss\n",
      "Other submission dice score: 0.7139\n"
     ]
    }
   ],
   "source": [
    "# Try some other combinations\n",
    "\n",
    "other_submission = [\n",
    "    1, # SwinUNETR-f18-bs16-e75-FocalDiceBoundaryLoss\n",
    "    1, # vgg13-Unet-f18-bs16-e75-FocalDice2BoundaryLoss\n",
    "    1, # vgg13-Unet-f13-bs16-e75-FocalDiceBoundaryLoss\n",
    "    1, # vgg13-Unet-f18-bs16-e75-DiceLoss\n",
    "    0, # vgg13-Unet-f18-bs16-e75-FocalDiceBoundaryLoss\n",
    "    1, # SwinUNETR-f18-bs16-e75-DiceLoss\n",
    "    1, # SwinUNETR-f13-bs16-e75-DiceLoss\n",
    "    1, # vgg13-Unet-f13-bs16-e75-DiceLoss\n",
    "    0, # timm-res2net50_26w_4s-Unet-f13-bs16-e75-DiceLoss\n",
    "    0, # vgg13-Unet-f6-bs16-e75-DiceLoss\n",
    "    1, # SwinUNETR-f13-bs16-e75-FocalDiceBoundaryLoss\n",
    "    0, # vgg13-Unet-f7-bs16-e75-DiceLoss\n",
    "    0, # timm-resnest14d-Unet-f13-bs16-e75-DiceLoss\n",
    "    0, # timm-res2net50_26w_4s-Unet-f18-bs16-e75-DiceLoss\n",
    "]\n",
    "# print models in current submission\n",
    "for i in range(len(folders)):\n",
    "    if other_submission[i] > 0:\n",
    "        print(names[folders[i]])\n",
    "print(f\"Other submission dice score: {dice_fitness(other_submission, pred_array, targets):.4f}\")"
   ],
   "metadata": {
    "collapsed": false,
    "ExecuteTime": {
     "end_time": "2024-02-20T12:59:38.022925100Z",
     "start_time": "2024-02-20T12:59:34.078719700Z"
    }
   },
   "id": "21334b61c10e7bbd"
  },
  {
   "cell_type": "markdown",
   "source": [
    "# Visualisation"
   ],
   "metadata": {
    "collapsed": false
   },
   "id": "79f955892447f259"
  },
  {
   "cell_type": "code",
   "execution_count": 275,
   "outputs": [
    {
     "name": "stderr",
     "output_type": "stream",
     "text": [
      "C:\\Users\\EmielW\\AppData\\Local\\Temp\\ipykernel_17364\\3480941669.py:6: ClusterWarning:\n",
      "\n",
      "scipy.cluster: The symmetric non-negative hollow observation matrix looks suspiciously like an uncondensed distance matrix\n",
      "\n"
     ]
    },
    {
     "data": {
      "text/plain": "<Figure size 640x480 with 1 Axes>",
      "image/png": "[encoded data removed]"
     },
     "metadata": {},
     "output_type": "display_data"
    }
   ],
   "source": [
    "# Treat the correlation as a distance and use hierarchical clustering to group the models\n",
    "import scipy.cluster.hierarchy as sch\n",
    "import matplotlib.pyplot as plt\n",
    "\n",
    "labels = [f\"({dice_scores[folder]:.4f}) {best_individual[i]}x {names[folder]}\" for i, folder in enumerate(folders)]\n",
    "dendrogram = sch.dendrogram(sch.linkage(1 - corr, method='ward'), labels=labels, orientation=\"left\")\n",
    "# add the names of the models to the x-axis\n",
    "plt.show()"
   ],
   "metadata": {
    "collapsed": false,
    "ExecuteTime": {
     "end_time": "2024-02-20T09:33:01.821262600Z",
     "start_time": "2024-02-20T09:33:01.611429800Z"
    }
   },
   "id": "36872b8aea78974a"
  },
  {
   "cell_type": "code",
   "execution_count": 295,
   "outputs": [
    {
     "data": {
      "application/vnd.plotly.v1+json": {
       "data": [
        {
         "hovertemplate": "x=%{x}<br>y=%{y}<br>text=%{text}<extra></extra>",
         "legendgroup": "",
         "marker": {
          "color": "#636efa",
          "symbol": "circle"
         },
         "mode": "markers+text",
         "name": "",
         "orientation": "v",
         "showlegend": false,
         "text": [
          "(0.7109) SwinUNETR-f18-",
          "(0.7097) vgg13-Unet-f18",
          "(0.7094) vgg13-Unet-f13",
          "(0.7090) vgg13-Unet-f18",
          "(0.7085) vgg13-Unet-f18",
          "(0.7082) SwinUNETR-f18-",
          "(0.7082) SwinUNETR-f13-",
          "(0.7076) vgg13-Unet-f13",
          "(0.7074) timm-res2net50",
          "(0.7061) vgg13-Unet-f6-",
          "(0.7052) SwinUNETR-f13-",
          "(0.7041) vgg13-Unet-f7-",
          "(0.7040) timm-resnest14",
          "(0.7032) timm-res2net50"
         ],
         "x": [
          0.07035852964175074,
          -0.08198338719008005,
          -0.021607089201605506,
          -0.07810347350521453,
          -0.07619493384654424,
          0.08479928426681574,
          0.1228235000060879,
          -0.012965012505555778,
          0.034000300136436436,
          -0.0728925700305598,
          0.12681826640870697,
          -0.08264835190838397,
          0.03152285244871725,
          -0.04392791472057148
         ],
         "xaxis": "x",
         "y": [
          -0.11017975547371806,
          -0.06002263565039658,
          0.05901238761223273,
          -0.04436520235749639,
          -0.043743882057506935,
          -0.10420459827985502,
          0.009233584114254057,
          0.06992695386272109,
          0.10347079925377835,
          0.007338646621956034,
          -0.003934619373076342,
          0.007772735288284721,
          0.1178799188629281,
          -0.008184332424105874
         ],
         "yaxis": "y",
         "type": "scatter"
        },
        {
         "marker": {
          "color": "red",
          "size": 10
         },
         "mode": "markers",
         "name": "Genetic Algorithm weights",
         "text": "(0.7163)",
         "x": [
          0.001267799687275552
         ],
         "y": [
          -0.01614075095787015
         ],
         "type": "scatter"
        },
        {
         "marker": {
          "color": "green",
          "size": 10
         },
         "mode": "markers",
         "name": "Linear regression weights",
         "text": "(0.7161)",
         "x": [
          0.0041349434629645125
         ],
         "y": [
          -0.012178839221660642
         ],
         "type": "scatter"
        },
        {
         "marker": {
          "color": "blue",
          "size": 10
         },
         "mode": "markers",
         "name": "Top 3 model ensemble",
         "text": "(0.7159)",
         "x": [
          -0.011077315583311605
         ],
         "y": [
          -0.03706333450396063
         ],
         "type": "scatter"
        },
        {
         "marker": {
          "color": "purple",
          "size": 10
         },
         "mode": "markers",
         "name": "Optimal MSE binary ensemble",
         "text": "(0.7139)",
         "x": [
          1.770085328501106E-5
         ],
         "y": [
          -0.017845241113160586
         ],
         "type": "scatter"
        },
        {
         "marker": {
          "color": "orange",
          "size": 10
         },
         "mode": "markers",
         "name": "Current submission",
         "text": "(0.7138)",
         "x": [
          0.02699113390805516
         ],
         "y": [
          -0.02103189149405561
         ],
         "type": "scatter"
        }
       ],
       "layout": {
        "template": {
         "data": {
          "histogram2dcontour": [
           {
            "type": "histogram2dcontour",
            "colorbar": {
             "outlinewidth": 0,
             "ticks": ""
            },
            "colorscale": [
             [
              0.0,
              "#0d0887"
             ],
             [
              0.1111111111111111,
              "#46039f"
             ],
             [
              0.2222222222222222,
              "#7201a8"
             ],
             [
              0.3333333333333333,
              "#9c179e"
             ],
             [
              0.4444444444444444,
              "#bd3786"
             ],
             [
              0.5555555555555556,
              "#d8576b"
             ],
             [
              0.6666666666666666,
              "#ed7953"
             ],
             [
              0.7777777777777778,
              "#fb9f3a"
             ],
             [
              0.8888888888888888,
              "#fdca26"
             ],
             [
              1.0,
              "#f0f921"
             ]
            ]
           }
          ],
          "choropleth": [
           {
            "type": "choropleth",
            "colorbar": {
             "outlinewidth": 0,
             "ticks": ""
            }
           }
          ],
          "histogram2d": [
           {
            "type": "histogram2d",
            "colorbar": {
             "outlinewidth": 0,
             "ticks": ""
            },
            "colorscale": [
             [
              0.0,
              "#0d0887"
             ],
             [
              0.1111111111111111,
              "#46039f"
             ],
             [
              0.2222222222222222,
              "#7201a8"
             ],
             [
              0.3333333333333333,
              "#9c179e"
             ],
             [
              0.4444444444444444,
              "#bd3786"
             ],
             [
              0.5555555555555556,
              "#d8576b"
             ],
             [
              0.6666666666666666,
              "#ed7953"
             ],
             [
              0.7777777777777778,
              "#fb9f3a"
             ],
             [
              0.8888888888888888,
              "#fdca26"
             ],
             [
              1.0,
              "#f0f921"
             ]
            ]
           }
          ],
          "heatmap": [
           {
            "type": "heatmap",
            "colorbar": {
             "outlinewidth": 0,
             "ticks": ""
            },
            "colorscale": [
             [
              0.0,
              "#0d0887"
             ],
             [
              0.1111111111111111,
              "#46039f"
             ],
             [
              0.2222222222222222,
              "#7201a8"
             ],
             [
              0.3333333333333333,
              "#9c179e"
             ],
             [
              0.4444444444444444,
              "#bd3786"
             ],
             [
              0.5555555555555556,
              "#d8576b"
             ],
             [
              0.6666666666666666,
              "#ed7953"
             ],
             [
              0.7777777777777778,
              "#fb9f3a"
             ],
             [
              0.8888888888888888,
              "#fdca26"
             ],
             [
              1.0,
              "#f0f921"
             ]
            ]
           }
          ],
          "heatmapgl": [
           {
            "type": "heatmapgl",
            "colorbar": {
             "outlinewidth": 0,
             "ticks": ""
            },
            "colorscale": [
             [
              0.0,
              "#0d0887"
             ],
             [
              0.1111111111111111,
              "#46039f"
             ],
             [
              0.2222222222222222,
              "#7201a8"
             ],
             [
              0.3333333333333333,
              "#9c179e"
             ],
             [
              0.4444444444444444,
              "#bd3786"
             ],
             [
              0.5555555555555556,
              "#d8576b"
             ],
             [
              0.6666666666666666,
              "#ed7953"
             ],
             [
              0.7777777777777778,
              "#fb9f3a"
             ],
             [
              0.8888888888888888,
              "#fdca26"
             ],
             [
              1.0,
              "#f0f921"
             ]
            ]
           }
          ],
          "contourcarpet": [
           {
            "type": "contourcarpet",
            "colorbar": {
             "outlinewidth": 0,
             "ticks": ""
            }
           }
          ],
          "contour": [
           {
            "type": "contour",
            "colorbar": {
             "outlinewidth": 0,
             "ticks": ""
            },
            "colorscale": [
             [
              0.0,
              "#0d0887"
             ],
             [
              0.1111111111111111,
              "#46039f"
             ],
             [
              0.2222222222222222,
              "#7201a8"
             ],
             [
              0.3333333333333333,
              "#9c179e"
             ],
             [
              0.4444444444444444,
              "#bd3786"
             ],
             [
              0.5555555555555556,
              "#d8576b"
             ],
             [
              0.6666666666666666,
              "#ed7953"
             ],
             [
              0.7777777777777778,
              "#fb9f3a"
             ],
             [
              0.8888888888888888,
              "#fdca26"
             ],
             [
              1.0,
              "#f0f921"
             ]
            ]
           }
          ],
          "surface": [
           {
            "type": "surface",
            "colorbar": {
             "outlinewidth": 0,
             "ticks": ""
            },
            "colorscale": [
             [
              0.0,
              "#0d0887"
             ],
             [
              0.1111111111111111,
              "#46039f"
             ],
             [
              0.2222222222222222,
              "#7201a8"
             ],
             [
              0.3333333333333333,
              "#9c179e"
             ],
             [
              0.4444444444444444,
              "#bd3786"
             ],
             [
              0.5555555555555556,
              "#d8576b"
             ],
             [
              0.6666666666666666,
              "#ed7953"
             ],
             [
              0.7777777777777778,
              "#fb9f3a"
             ],
             [
              0.8888888888888888,
              "#fdca26"
             ],
             [
              1.0,
              "#f0f921"
             ]
            ]
           }
          ],
          "mesh3d": [
           {
            "type": "mesh3d",
            "colorbar": {
             "outlinewidth": 0,
             "ticks": ""
            }
           }
          ],
          "scatter": [
           {
            "fillpattern": {
             "fillmode": "overlay",
             "size": 10,
             "solidity": 0.2
            },
            "type": "scatter"
           }
          ],
          "parcoords": [
           {
            "type": "parcoords",
            "line": {
             "colorbar": {
              "outlinewidth": 0,
              "ticks": ""
             }
            }
           }
          ],
          "scatterpolargl": [
           {
            "type": "scatterpolargl",
            "marker": {
             "colorbar": {
              "outlinewidth": 0,
              "ticks": ""
             }
            }
           }
          ],
          "bar": [
           {
            "error_x": {
             "color": "#2a3f5f"
            },
            "error_y": {
             "color": "#2a3f5f"
            },
            "marker": {
             "line": {
              "color": "#E5ECF6",
              "width": 0.5
             },
             "pattern": {
              "fillmode": "overlay",
              "size": 10,
              "solidity": 0.2
             }
            },
            "type": "bar"
           }
          ],
          "scattergeo": [
           {
            "type": "scattergeo",
            "marker": {
             "colorbar": {
              "outlinewidth": 0,
              "ticks": ""
             }
            }
           }
          ],
          "scatterpolar": [
           {
            "type": "scatterpolar",
            "marker": {
             "colorbar": {
              "outlinewidth": 0,
              "ticks": ""
             }
            }
           }
          ],
          "histogram": [
           {
            "marker": {
             "pattern": {
              "fillmode": "overlay",
              "size": 10,
              "solidity": 0.2
             }
            },
            "type": "histogram"
           }
          ],
          "scattergl": [
           {
            "type": "scattergl",
            "marker": {
             "colorbar": {
              "outlinewidth": 0,
              "ticks": ""
             }
            }
           }
          ],
          "scatter3d": [
           {
            "type": "scatter3d",
            "line": {
             "colorbar": {
              "outlinewidth": 0,
              "ticks": ""
             }
            },
            "marker": {
             "colorbar": {
              "outlinewidth": 0,
              "ticks": ""
             }
            }
           }
          ],
          "scattermapbox": [
           {
            "type": "scattermapbox",
            "marker": {
             "colorbar": {
              "outlinewidth": 0,
              "ticks": ""
             }
            }
           }
          ],
          "scatterternary": [
           {
            "type": "scatterternary",
            "marker": {
             "colorbar": {
              "outlinewidth": 0,
              "ticks": ""
             }
            }
           }
          ],
          "scattercarpet": [
           {
            "type": "scattercarpet",
            "marker": {
             "colorbar": {
              "outlinewidth": 0,
              "ticks": ""
             }
            }
           }
          ],
          "carpet": [
           {
            "aaxis": {
             "endlinecolor": "#2a3f5f",
             "gridcolor": "white",
             "linecolor": "white",
             "minorgridcolor": "white",
             "startlinecolor": "#2a3f5f"
            },
            "baxis": {
             "endlinecolor": "#2a3f5f",
             "gridcolor": "white",
             "linecolor": "white",
             "minorgridcolor": "white",
             "startlinecolor": "#2a3f5f"
            },
            "type": "carpet"
           }
          ],
          "table": [
           {
            "cells": {
             "fill": {
              "color": "#EBF0F8"
             },
             "line": {
              "color": "white"
             }
            },
            "header": {
             "fill": {
              "color": "#C8D4E3"
             },
             "line": {
              "color": "white"
             }
            },
            "type": "table"
           }
          ],
          "barpolar": [
           {
            "marker": {
             "line": {
              "color": "#E5ECF6",
              "width": 0.5
             },
             "pattern": {
              "fillmode": "overlay",
              "size": 10,
              "solidity": 0.2
             }
            },
            "type": "barpolar"
           }
          ],
          "pie": [
           {
            "automargin": true,
            "type": "pie"
           }
          ]
         },
         "layout": {
          "autotypenumbers": "strict",
          "colorway": [
           "#636efa",
           "#EF553B",
           "#00cc96",
           "#ab63fa",
           "#FFA15A",
           "#19d3f3",
           "#FF6692",
           "#B6E880",
           "#FF97FF",
           "#FECB52"
          ],
          "font": {
           "color": "#2a3f5f"
          },
          "hovermode": "closest",
          "hoverlabel": {
           "align": "left"
          },
          "paper_bgcolor": "white",
          "plot_bgcolor": "#E5ECF6",
          "polar": {
           "bgcolor": "#E5ECF6",
           "angularaxis": {
            "gridcolor": "white",
            "linecolor": "white",
            "ticks": ""
           },
           "radialaxis": {
            "gridcolor": "white",
            "linecolor": "white",
            "ticks": ""
           }
          },
          "ternary": {
           "bgcolor": "#E5ECF6",
           "aaxis": {
            "gridcolor": "white",
            "linecolor": "white",
            "ticks": ""
           },
           "baxis": {
            "gridcolor": "white",
            "linecolor": "white",
            "ticks": ""
           },
           "caxis": {
            "gridcolor": "white",
            "linecolor": "white",
            "ticks": ""
           }
          },
          "coloraxis": {
           "colorbar": {
            "outlinewidth": 0,
            "ticks": ""
           }
          },
          "colorscale": {
           "sequential": [
            [
             0.0,
             "#0d0887"
            ],
            [
             0.1111111111111111,
             "#46039f"
            ],
            [
             0.2222222222222222,
             "#7201a8"
            ],
            [
             0.3333333333333333,
             "#9c179e"
            ],
            [
             0.4444444444444444,
             "#bd3786"
            ],
            [
             0.5555555555555556,
             "#d8576b"
            ],
            [
             0.6666666666666666,
             "#ed7953"
            ],
            [
             0.7777777777777778,
             "#fb9f3a"
            ],
            [
             0.8888888888888888,
             "#fdca26"
            ],
            [
             1.0,
             "#f0f921"
            ]
           ],
           "sequentialminus": [
            [
             0.0,
             "#0d0887"
            ],
            [
             0.1111111111111111,
             "#46039f"
            ],
            [
             0.2222222222222222,
             "#7201a8"
            ],
            [
             0.3333333333333333,
             "#9c179e"
            ],
            [
             0.4444444444444444,
             "#bd3786"
            ],
            [
             0.5555555555555556,
             "#d8576b"
            ],
            [
             0.6666666666666666,
             "#ed7953"
            ],
            [
             0.7777777777777778,
             "#fb9f3a"
            ],
            [
             0.8888888888888888,
             "#fdca26"
            ],
            [
             1.0,
             "#f0f921"
            ]
           ],
           "diverging": [
            [
             0,
             "#8e0152"
            ],
            [
             0.1,
             "#c51b7d"
            ],
            [
             0.2,
             "#de77ae"
            ],
            [
             0.3,
             "#f1b6da"
            ],
            [
             0.4,
             "#fde0ef"
            ],
            [
             0.5,
             "#f7f7f7"
            ],
            [
             0.6,
             "#e6f5d0"
            ],
            [
             0.7,
             "#b8e186"
            ],
            [
             0.8,
             "#7fbc41"
            ],
            [
             0.9,
             "#4d9221"
            ],
            [
             1,
             "#276419"
            ]
           ]
          },
          "xaxis": {
           "gridcolor": "white",
           "linecolor": "white",
           "ticks": "",
           "title": {
            "standoff": 15
           },
           "zerolinecolor": "white",
           "automargin": true,
           "zerolinewidth": 2
          },
          "yaxis": {
           "gridcolor": "white",
           "linecolor": "white",
           "ticks": "",
           "title": {
            "standoff": 15
           },
           "zerolinecolor": "white",
           "automargin": true,
           "zerolinewidth": 2
          },
          "scene": {
           "xaxis": {
            "backgroundcolor": "#E5ECF6",
            "gridcolor": "white",
            "linecolor": "white",
            "showbackground": true,
            "ticks": "",
            "zerolinecolor": "white",
            "gridwidth": 2
           },
           "yaxis": {
            "backgroundcolor": "#E5ECF6",
            "gridcolor": "white",
            "linecolor": "white",
            "showbackground": true,
            "ticks": "",
            "zerolinecolor": "white",
            "gridwidth": 2
           },
           "zaxis": {
            "backgroundcolor": "#E5ECF6",
            "gridcolor": "white",
            "linecolor": "white",
            "showbackground": true,
            "ticks": "",
            "zerolinecolor": "white",
            "gridwidth": 2
           }
          },
          "shapedefaults": {
           "line": {
            "color": "#2a3f5f"
           }
          },
          "annotationdefaults": {
           "arrowcolor": "#2a3f5f",
           "arrowhead": 0,
           "arrowwidth": 1
          },
          "geo": {
           "bgcolor": "white",
           "landcolor": "#E5ECF6",
           "subunitcolor": "white",
           "showland": true,
           "showlakes": true,
           "lakecolor": "white"
          },
          "title": {
           "x": 0.05
          },
          "mapbox": {
           "style": "light"
          }
         }
        },
        "xaxis": {
         "anchor": "y",
         "domain": [
          0.0,
          1.0
         ],
         "title": {
          "text": "x"
         }
        },
        "yaxis": {
         "anchor": "x",
         "domain": [
          0.0,
          1.0
         ],
         "title": {
          "text": "y"
         }
        },
        "legend": {
         "tracegroupgap": 0
        },
        "margin": {
         "t": 60
        }
       },
       "config": {
        "plotlyServerURL": "https://plot.ly"
       }
      },
      "text/html": "<div>                            <div id=\"21d1daef-8b54-426f-8a04-18c1c30b3bf8\" class=\"plotly-graph-div\" style=\"height:525px; width:100%;\"></div>            <script type=\"text/javascript\">                require([\"plotly\"], function(Plotly) {                    window.PLOTLYENV=window.PLOTLYENV || {};                                    if (document.getElementById(\"21d1daef-8b54-426f-8a04-18c1c30b3bf8\")) {                    Plotly.newPlot(                        \"21d1daef-8b54-426f-8a04-18c1c30b3bf8\",                        [{\"hovertemplate\":\"x=%{x}\\u003cbr\\u003ey=%{y}\\u003cbr\\u003etext=%{text}\\u003cextra\\u003e\\u003c\\u002fextra\\u003e\",\"legendgroup\":\"\",\"marker\":{\"color\":\"#636efa\",\"symbol\":\"circle\"},\"mode\":\"markers+text\",\"name\":\"\",\"orientation\":\"v\",\"showlegend\":false,\"text\":[\"(0.7109) SwinUNETR-f18-\",\"(0.7097) vgg13-Unet-f18\",\"(0.7094) vgg13-Unet-f13\",\"(0.7090) vgg13-Unet-f18\",\"(0.7085) vgg13-Unet-f18\",\"(0.7082) SwinUNETR-f18-\",\"(0.7082) SwinUNETR-f13-\",\"(0.7076) vgg13-Unet-f13\",\"(0.7074) timm-res2net50\",\"(0.7061) vgg13-Unet-f6-\",\"(0.7052) SwinUNETR-f13-\",\"(0.7041) vgg13-Unet-f7-\",\"(0.7040) timm-resnest14\",\"(0.7032) timm-res2net50\"],\"x\":[0.07035852964175074,-0.08198338719008005,-0.021607089201605506,-0.07810347350521453,-0.07619493384654424,0.08479928426681574,0.1228235000060879,-0.012965012505555778,0.034000300136436436,-0.0728925700305598,0.12681826640870697,-0.08264835190838397,0.03152285244871725,-0.04392791472057148],\"xaxis\":\"x\",\"y\":[-0.11017975547371806,-0.06002263565039658,0.05901238761223273,-0.04436520235749639,-0.043743882057506935,-0.10420459827985502,0.009233584114254057,0.06992695386272109,0.10347079925377835,0.007338646621956034,-0.003934619373076342,0.007772735288284721,0.1178799188629281,-0.008184332424105874],\"yaxis\":\"y\",\"type\":\"scatter\"},{\"marker\":{\"color\":\"red\",\"size\":10},\"mode\":\"markers\",\"name\":\"Genetic Algorithm weights\",\"text\":\"(0.7163)\",\"x\":[0.001267799687275552],\"y\":[-0.01614075095787015],\"type\":\"scatter\"},{\"marker\":{\"color\":\"green\",\"size\":10},\"mode\":\"markers\",\"name\":\"Linear regression weights\",\"text\":\"(0.7161)\",\"x\":[0.0041349434629645125],\"y\":[-0.012178839221660642],\"type\":\"scatter\"},{\"marker\":{\"color\":\"blue\",\"size\":10},\"mode\":\"markers\",\"name\":\"Top 3 model ensemble\",\"text\":\"(0.7159)\",\"x\":[-0.011077315583311605],\"y\":[-0.03706333450396063],\"type\":\"scatter\"},{\"marker\":{\"color\":\"purple\",\"size\":10},\"mode\":\"markers\",\"name\":\"Optimal MSE binary ensemble\",\"text\":\"(0.7139)\",\"x\":[1.770085328501106e-05],\"y\":[-0.017845241113160586],\"type\":\"scatter\"},{\"marker\":{\"color\":\"orange\",\"size\":10},\"mode\":\"markers\",\"name\":\"Current submission\",\"text\":\"(0.7138)\",\"x\":[0.02699113390805516],\"y\":[-0.02103189149405561],\"type\":\"scatter\"}],                        {\"template\":{\"data\":{\"histogram2dcontour\":[{\"type\":\"histogram2dcontour\",\"colorbar\":{\"outlinewidth\":0,\"ticks\":\"\"},\"colorscale\":[[0.0,\"#0d0887\"],[0.1111111111111111,\"#46039f\"],[0.2222222222222222,\"#7201a8\"],[0.3333333333333333,\"#9c179e\"],[0.4444444444444444,\"#bd3786\"],[0.5555555555555556,\"#d8576b\"],[0.6666666666666666,\"#ed7953\"],[0.7777777777777778,\"#fb9f3a\"],[0.8888888888888888,\"#fdca26\"],[1.0,\"#f0f921\"]]}],\"choropleth\":[{\"type\":\"choropleth\",\"colorbar\":{\"outlinewidth\":0,\"ticks\":\"\"}}],\"histogram2d\":[{\"type\":\"histogram2d\",\"colorbar\":{\"outlinewidth\":0,\"ticks\":\"\"},\"colorscale\":[[0.0,\"#0d0887\"],[0.1111111111111111,\"#46039f\"],[0.2222222222222222,\"#7201a8\"],[0.3333333333333333,\"#9c179e\"],[0.4444444444444444,\"#bd3786\"],[0.5555555555555556,\"#d8576b\"],[0.6666666666666666,\"#ed7953\"],[0.7777777777777778,\"#fb9f3a\"],[0.8888888888888888,\"#fdca26\"],[1.0,\"#f0f921\"]]}],\"heatmap\":[{\"type\":\"heatmap\",\"colorbar\":{\"outlinewidth\":0,\"ticks\":\"\"},\"colorscale\":[[0.0,\"#0d0887\"],[0.1111111111111111,\"#46039f\"],[0.2222222222222222,\"#7201a8\"],[0.3333333333333333,\"#9c179e\"],[0.4444444444444444,\"#bd3786\"],[0.5555555555555556,\"#d8576b\"],[0.6666666666666666,\"#ed7953\"],[0.7777777777777778,\"#fb9f3a\"],[0.8888888888888888,\"#fdca26\"],[1.0,\"#f0f921\"]]}],\"heatmapgl\":[{\"type\":\"heatmapgl\",\"colorbar\":{\"outlinewidth\":0,\"ticks\":\"\"},\"colorscale\":[[0.0,\"#0d0887\"],[0.1111111111111111,\"#46039f\"],[0.2222222222222222,\"#7201a8\"],[0.3333333333333333,\"#9c179e\"],[0.4444444444444444,\"#bd3786\"],[0.5555555555555556,\"#d8576b\"],[0.6666666666666666,\"#ed7953\"],[0.7777777777777778,\"#fb9f3a\"],[0.8888888888888888,\"#fdca26\"],[1.0,\"#f0f921\"]]}],\"contourcarpet\":[{\"type\":\"contourcarpet\",\"colorbar\":{\"outlinewidth\":0,\"ticks\":\"\"}}],\"contour\":[{\"type\":\"contour\",\"colorbar\":{\"outlinewidth\":0,\"ticks\":\"\"},\"colorscale\":[[0.0,\"#0d0887\"],[0.1111111111111111,\"#46039f\"],[0.2222222222222222,\"#7201a8\"],[0.3333333333333333,\"#9c179e\"],[0.4444444444444444,\"#bd3786\"],[0.5555555555555556,\"#d8576b\"],[0.6666666666666666,\"#ed7953\"],[0.7777777777777778,\"#fb9f3a\"],[0.8888888888888888,\"#fdca26\"],[1.0,\"#f0f921\"]]}],\"surface\":[{\"type\":\"surface\",\"colorbar\":{\"outlinewidth\":0,\"ticks\":\"\"},\"colorscale\":[[0.0,\"#0d0887\"],[0.1111111111111111,\"#46039f\"],[0.2222222222222222,\"#7201a8\"],[0.3333333333333333,\"#9c179e\"],[0.4444444444444444,\"#bd3786\"],[0.5555555555555556,\"#d8576b\"],[0.6666666666666666,\"#ed7953\"],[0.7777777777777778,\"#fb9f3a\"],[0.8888888888888888,\"#fdca26\"],[1.0,\"#f0f921\"]]}],\"mesh3d\":[{\"type\":\"mesh3d\",\"colorbar\":{\"outlinewidth\":0,\"ticks\":\"\"}}],\"scatter\":[{\"fillpattern\":{\"fillmode\":\"overlay\",\"size\":10,\"solidity\":0.2},\"type\":\"scatter\"}],\"parcoords\":[{\"type\":\"parcoords\",\"line\":{\"colorbar\":{\"outlinewidth\":0,\"ticks\":\"\"}}}],\"scatterpolargl\":[{\"type\":\"scatterpolargl\",\"marker\":{\"colorbar\":{\"outlinewidth\":0,\"ticks\":\"\"}}}],\"bar\":[{\"error_x\":{\"color\":\"#2a3f5f\"},\"error_y\":{\"color\":\"#2a3f5f\"},\"marker\":{\"line\":{\"color\":\"#E5ECF6\",\"width\":0.5},\"pattern\":{\"fillmode\":\"overlay\",\"size\":10,\"solidity\":0.2}},\"type\":\"bar\"}],\"scattergeo\":[{\"type\":\"scattergeo\",\"marker\":{\"colorbar\":{\"outlinewidth\":0,\"ticks\":\"\"}}}],\"scatterpolar\":[{\"type\":\"scatterpolar\",\"marker\":{\"colorbar\":{\"outlinewidth\":0,\"ticks\":\"\"}}}],\"histogram\":[{\"marker\":{\"pattern\":{\"fillmode\":\"overlay\",\"size\":10,\"solidity\":0.2}},\"type\":\"histogram\"}],\"scattergl\":[{\"type\":\"scattergl\",\"marker\":{\"colorbar\":{\"outlinewidth\":0,\"ticks\":\"\"}}}],\"scatter3d\":[{\"type\":\"scatter3d\",\"line\":{\"colorbar\":{\"outlinewidth\":0,\"ticks\":\"\"}},\"marker\":{\"colorbar\":{\"outlinewidth\":0,\"ticks\":\"\"}}}],\"scattermapbox\":[{\"type\":\"scattermapbox\",\"marker\":{\"colorbar\":{\"outlinewidth\":0,\"ticks\":\"\"}}}],\"scatterternary\":[{\"type\":\"scatterternary\",\"marker\":{\"colorbar\":{\"outlinewidth\":0,\"ticks\":\"\"}}}],\"scattercarpet\":[{\"type\":\"scattercarpet\",\"marker\":{\"colorbar\":{\"outlinewidth\":0,\"ticks\":\"\"}}}],\"carpet\":[{\"aaxis\":{\"endlinecolor\":\"#2a3f5f\",\"gridcolor\":\"white\",\"linecolor\":\"white\",\"minorgridcolor\":\"white\",\"startlinecolor\":\"#2a3f5f\"},\"baxis\":{\"endlinecolor\":\"#2a3f5f\",\"gridcolor\":\"white\",\"linecolor\":\"white\",\"minorgridcolor\":\"white\",\"startlinecolor\":\"#2a3f5f\"},\"type\":\"carpet\"}],\"table\":[{\"cells\":{\"fill\":{\"color\":\"#EBF0F8\"},\"line\":{\"color\":\"white\"}},\"header\":{\"fill\":{\"color\":\"#C8D4E3\"},\"line\":{\"color\":\"white\"}},\"type\":\"table\"}],\"barpolar\":[{\"marker\":{\"line\":{\"color\":\"#E5ECF6\",\"width\":0.5},\"pattern\":{\"fillmode\":\"overlay\",\"size\":10,\"solidity\":0.2}},\"type\":\"barpolar\"}],\"pie\":[{\"automargin\":true,\"type\":\"pie\"}]},\"layout\":{\"autotypenumbers\":\"strict\",\"colorway\":[\"#636efa\",\"#EF553B\",\"#00cc96\",\"#ab63fa\",\"#FFA15A\",\"#19d3f3\",\"#FF6692\",\"#B6E880\",\"#FF97FF\",\"#FECB52\"],\"font\":{\"color\":\"#2a3f5f\"},\"hovermode\":\"closest\",\"hoverlabel\":{\"align\":\"left\"},\"paper_bgcolor\":\"white\",\"plot_bgcolor\":\"#E5ECF6\",\"polar\":{\"bgcolor\":\"#E5ECF6\",\"angularaxis\":{\"gridcolor\":\"white\",\"linecolor\":\"white\",\"ticks\":\"\"},\"radialaxis\":{\"gridcolor\":\"white\",\"linecolor\":\"white\",\"ticks\":\"\"}},\"ternary\":{\"bgcolor\":\"#E5ECF6\",\"aaxis\":{\"gridcolor\":\"white\",\"linecolor\":\"white\",\"ticks\":\"\"},\"baxis\":{\"gridcolor\":\"white\",\"linecolor\":\"white\",\"ticks\":\"\"},\"caxis\":{\"gridcolor\":\"white\",\"linecolor\":\"white\",\"ticks\":\"\"}},\"coloraxis\":{\"colorbar\":{\"outlinewidth\":0,\"ticks\":\"\"}},\"colorscale\":{\"sequential\":[[0.0,\"#0d0887\"],[0.1111111111111111,\"#46039f\"],[0.2222222222222222,\"#7201a8\"],[0.3333333333333333,\"#9c179e\"],[0.4444444444444444,\"#bd3786\"],[0.5555555555555556,\"#d8576b\"],[0.6666666666666666,\"#ed7953\"],[0.7777777777777778,\"#fb9f3a\"],[0.8888888888888888,\"#fdca26\"],[1.0,\"#f0f921\"]],\"sequentialminus\":[[0.0,\"#0d0887\"],[0.1111111111111111,\"#46039f\"],[0.2222222222222222,\"#7201a8\"],[0.3333333333333333,\"#9c179e\"],[0.4444444444444444,\"#bd3786\"],[0.5555555555555556,\"#d8576b\"],[0.6666666666666666,\"#ed7953\"],[0.7777777777777778,\"#fb9f3a\"],[0.8888888888888888,\"#fdca26\"],[1.0,\"#f0f921\"]],\"diverging\":[[0,\"#8e0152\"],[0.1,\"#c51b7d\"],[0.2,\"#de77ae\"],[0.3,\"#f1b6da\"],[0.4,\"#fde0ef\"],[0.5,\"#f7f7f7\"],[0.6,\"#e6f5d0\"],[0.7,\"#b8e186\"],[0.8,\"#7fbc41\"],[0.9,\"#4d9221\"],[1,\"#276419\"]]},\"xaxis\":{\"gridcolor\":\"white\",\"linecolor\":\"white\",\"ticks\":\"\",\"title\":{\"standoff\":15},\"zerolinecolor\":\"white\",\"automargin\":true,\"zerolinewidth\":2},\"yaxis\":{\"gridcolor\":\"white\",\"linecolor\":\"white\",\"ticks\":\"\",\"title\":{\"standoff\":15},\"zerolinecolor\":\"white\",\"automargin\":true,\"zerolinewidth\":2},\"scene\":{\"xaxis\":{\"backgroundcolor\":\"#E5ECF6\",\"gridcolor\":\"white\",\"linecolor\":\"white\",\"showbackground\":true,\"ticks\":\"\",\"zerolinecolor\":\"white\",\"gridwidth\":2},\"yaxis\":{\"backgroundcolor\":\"#E5ECF6\",\"gridcolor\":\"white\",\"linecolor\":\"white\",\"showbackground\":true,\"ticks\":\"\",\"zerolinecolor\":\"white\",\"gridwidth\":2},\"zaxis\":{\"backgroundcolor\":\"#E5ECF6\",\"gridcolor\":\"white\",\"linecolor\":\"white\",\"showbackground\":true,\"ticks\":\"\",\"zerolinecolor\":\"white\",\"gridwidth\":2}},\"shapedefaults\":{\"line\":{\"color\":\"#2a3f5f\"}},\"annotationdefaults\":{\"arrowcolor\":\"#2a3f5f\",\"arrowhead\":0,\"arrowwidth\":1},\"geo\":{\"bgcolor\":\"white\",\"landcolor\":\"#E5ECF6\",\"subunitcolor\":\"white\",\"showland\":true,\"showlakes\":true,\"lakecolor\":\"white\"},\"title\":{\"x\":0.05},\"mapbox\":{\"style\":\"light\"}}},\"xaxis\":{\"anchor\":\"y\",\"domain\":[0.0,1.0],\"title\":{\"text\":\"x\"}},\"yaxis\":{\"anchor\":\"x\",\"domain\":[0.0,1.0],\"title\":{\"text\":\"y\"}},\"legend\":{\"tracegroupgap\":0},\"margin\":{\"t\":60}},                        {\"responsive\": true}                    ).then(function(){\n                            \nvar gd = document.getElementById('21d1daef-8b54-426f-8a04-18c1c30b3bf8');\nvar x = new MutationObserver(function (mutations, observer) {{\n        var display = window.getComputedStyle(gd).display;\n        if (!display || display === 'none') {{\n            console.log([gd, 'removed!']);\n            Plotly.purge(gd);\n            observer.disconnect();\n        }}\n}});\n\n// Listen for the removal of the full notebook cells\nvar notebookContainer = gd.closest('#notebook-container');\nif (notebookContainer) {{\n    x.observe(notebookContainer, {childList: true});\n}}\n\n// Listen for the clearing of the current output cell\nvar outputEl = gd.closest('.output');\nif (outputEl) {{\n    x.observe(outputEl, {childList: true});\n}}\n\n                        })                };                });            </script>        </div>"
     },
     "metadata": {},
     "output_type": "display_data"
    }
   ],
   "source": [
    "# Use PCA to visualise the models in 2D with the correlation as distance\n",
    "from sklearn.decomposition import PCA\n",
    "pca = PCA(n_components=2)\n",
    "embedding = pca.fit_transform(1 - corr)\n",
    "\n",
    "\n",
    "# plot with plotly express interactive\n",
    "fig = px.scatter(x=embedding[:, 0], y=embedding[:, 1], text=[f\"({dice_scores[folder]:.4f}) {names[folder][:14]}\" for folder in folders])\n",
    "\n",
    "# show the location of the best linear combination\n",
    "best_normed = best_individual / sum(best_individual)\n",
    "dice = dice_fitness(best_individual, pred_array, targets)\n",
    "fig.add_scatter(x=[np.dot(embedding[:, 0], best_normed)], y=[np.dot(embedding[:, 1], best_normed)], mode=\"markers\", marker=dict(size=10, color=\"red\"), name=\"Genetic Algorithm weights\", text=f\"({dice:.4f})\")\n",
    "\n",
    "# show the location of the linear regression weights\n",
    "dice = dice_fitness(weights, pred_array, targets)\n",
    "fig.add_scatter(x=[np.dot(embedding[:, 0], weights)], y=[np.dot(embedding[:, 1], weights)], mode=\"markers\", marker=dict(size=10, color=\"green\"), name=\"Linear regression weights\", text=f\"({dice:.4f})\")\n",
    "\n",
    "# show the location of the simple ensemble\n",
    "simple_weights = simple_selection / sum(simple_selection)\n",
    "dice = dice_fitness(simple_selection, pred_array, targets)\n",
    "fig.add_scatter(x=[np.dot(embedding[:, 0], simple_weights)], y=[np.dot(embedding[:, 1], simple_weights)], mode=\"markers\", marker=dict(size=10, color=\"blue\"), name=\"Top 3 model ensemble\", text=f\"({dice:.4f})\")\n",
    "\n",
    "# show the location of the optimal ensemble according to best_selection\n",
    "best_selection_weights = np.array(best_selection) / sum(best_selection)\n",
    "dice = dice_fitness(best_selection, pred_array, targets)\n",
    "fig.add_scatter(x=[np.dot(embedding[:, 0], best_selection_weights)], y=[np.dot(embedding[:, 1], best_selection_weights)], mode=\"markers\", marker=dict(size=10, color=\"purple\"), name=\"Optimal MSE binary ensemble\", text=f\"({dice:.4f})\")\n",
    "\n",
    "# show the location of the current submission\n",
    "current_submission_weights = np.array(current_submission) / sum(current_submission)\n",
    "dice = dice_fitness(current_submission, pred_array, targets)\n",
    "fig.add_scatter(x=[np.dot(embedding[:, 0], current_submission_weights)], y=[np.dot(embedding[:, 1], current_submission_weights)], mode=\"markers\", marker=dict(size=10, color=\"orange\"), name=\"Current submission\", text=f\"({dice:.4f})\")\n",
    "\n",
    "fig.show()"
   ],
   "metadata": {
    "collapsed": false,
    "ExecuteTime": {
     "end_time": "2024-02-20T10:26:05.534505800Z",
     "start_time": "2024-02-20T10:25:53.607556800Z"
    }
   },
   "id": "c5377090c7e82e95"
  },
  {
   "cell_type": "code",
   "execution_count": 277,
   "outputs": [
    {
     "data": {
      "application/vnd.plotly.v1+json": {
       "data": [
        {
         "hovertemplate": "x=%{x}<br>y=%{y}<br>z=%{z}<br>text=%{text}<extra></extra>",
         "legendgroup": "",
         "marker": {
          "color": "#636efa",
          "symbol": "circle"
         },
         "mode": "markers+text",
         "name": "",
         "scene": "scene",
         "showlegend": false,
         "text": [
          "(0.7109) SwinUNETR-f18-",
          "(0.7097) vgg13-Unet-f18",
          "(0.7094) vgg13-Unet-f13",
          "(0.7090) vgg13-Unet-f18",
          "(0.7085) vgg13-Unet-f18",
          "(0.7082) SwinUNETR-f18-",
          "(0.7082) SwinUNETR-f13-",
          "(0.7076) vgg13-Unet-f13",
          "(0.7074) timm-res2net50",
          "(0.7061) vgg13-Unet-f6-",
          "(0.7052) SwinUNETR-f13-",
          "(0.7041) vgg13-Unet-f7-",
          "(0.7040) timm-resnest14",
          "(0.7032) timm-res2net50"
         ],
         "x": [
          0.07035852964175074,
          -0.08198338719008005,
          -0.021607089201605506,
          -0.07810347350521453,
          -0.07619493384654424,
          0.08479928426681574,
          0.1228235000060879,
          -0.012965012505555778,
          0.034000300136436436,
          -0.0728925700305598,
          0.12681826640870697,
          -0.08264835190838397,
          0.03152285244871725,
          -0.04392791472057148
         ],
         "y": [
          -0.11017975547371806,
          -0.06002263565039658,
          0.05901238761223273,
          -0.04436520235749639,
          -0.043743882057506935,
          -0.10420459827985502,
          0.009233584114254057,
          0.06992695386272109,
          0.10347079925377835,
          0.007338646621956034,
          -0.003934619373076342,
          0.007772735288284721,
          0.1178799188629281,
          -0.008184332424105874
         ],
         "z": [
          0.01808789516617273,
          -0.04344618816288745,
          -0.08091916600449317,
          -0.005811545804656733,
          -0.05288727155897774,
          0.01982096892411743,
          -0.030411148893459437,
          -0.0645890733836463,
          0.04043047445385544,
          0.003949304801797282,
          -0.028252692648574468,
          0.022384221520580106,
          0.04445865916424275,
          0.15718556242592926
         ],
         "type": "scatter3d"
        },
        {
         "marker": {
          "color": "red",
          "size": 10
         },
         "mode": "markers",
         "name": "Genetic Algorithm weights",
         "text": "(0.7163)",
         "x": [
          0.001267799687275552
         ],
         "y": [
          -0.01614075095787015
         ],
         "z": [
          6.361700426496114E-4
         ],
         "type": "scatter3d"
        },
        {
         "marker": {
          "color": "green",
          "size": 10
         },
         "mode": "markers",
         "name": "Linear regression weights",
         "text": "(0.7161)",
         "x": [
          0.0041349434629645125
         ],
         "y": [
          -0.012178839221660642
         ],
         "z": [
          0.006934028269845924
         ],
         "type": "scatter3d"
        },
        {
         "marker": {
          "color": "blue",
          "size": 10
         },
         "mode": "markers",
         "name": "Top 3 model ensemble",
         "text": "(0.7159)",
         "x": [
          -0.011077315583311605
         ],
         "y": [
          -0.03706333450396063
         ],
         "z": [
          -0.03542581966706929
         ],
         "type": "scatter3d"
        },
        {
         "marker": {
          "color": "purple",
          "size": 10
         },
         "mode": "markers",
         "name": "Optimal MSE binary ensemble",
         "text": "(0.7139)",
         "x": [
          1.770085328501106E-5
         ],
         "y": [
          -0.017845241113160586
         ],
         "z": [
          -0.010353079658102365
         ],
         "type": "scatter3d"
        }
       ],
       "layout": {
        "template": {
         "data": {
          "histogram2dcontour": [
           {
            "type": "histogram2dcontour",
            "colorbar": {
             "outlinewidth": 0,
             "ticks": ""
            },
            "colorscale": [
             [
              0.0,
              "#0d0887"
             ],
             [
              0.1111111111111111,
              "#46039f"
             ],
             [
              0.2222222222222222,
              "#7201a8"
             ],
             [
              0.3333333333333333,
              "#9c179e"
             ],
             [
              0.4444444444444444,
              "#bd3786"
             ],
             [
              0.5555555555555556,
              "#d8576b"
             ],
             [
              0.6666666666666666,
              "#ed7953"
             ],
             [
              0.7777777777777778,
              "#fb9f3a"
             ],
             [
              0.8888888888888888,
              "#fdca26"
             ],
             [
              1.0,
              "#f0f921"
             ]
            ]
           }
          ],
          "choropleth": [
           {
            "type": "choropleth",
            "colorbar": {
             "outlinewidth": 0,
             "ticks": ""
            }
           }
          ],
          "histogram2d": [
           {
            "type": "histogram2d",
            "colorbar": {
             "outlinewidth": 0,
             "ticks": ""
            },
            "colorscale": [
             [
              0.0,
              "#0d0887"
             ],
             [
              0.1111111111111111,
              "#46039f"
             ],
             [
              0.2222222222222222,
              "#7201a8"
             ],
             [
              0.3333333333333333,
              "#9c179e"
             ],
             [
              0.4444444444444444,
              "#bd3786"
             ],
             [
              0.5555555555555556,
              "#d8576b"
             ],
             [
              0.6666666666666666,
              "#ed7953"
             ],
             [
              0.7777777777777778,
              "#fb9f3a"
             ],
             [
              0.8888888888888888,
              "#fdca26"
             ],
             [
              1.0,
              "#f0f921"
             ]
            ]
           }
          ],
          "heatmap": [
           {
            "type": "heatmap",
            "colorbar": {
             "outlinewidth": 0,
             "ticks": ""
            },
            "colorscale": [
             [
              0.0,
              "#0d0887"
             ],
             [
              0.1111111111111111,
              "#46039f"
             ],
             [
              0.2222222222222222,
              "#7201a8"
             ],
             [
              0.3333333333333333,
              "#9c179e"
             ],
             [
              0.4444444444444444,
              "#bd3786"
             ],
             [
              0.5555555555555556,
              "#d8576b"
             ],
             [
              0.6666666666666666,
              "#ed7953"
             ],
             [
              0.7777777777777778,
              "#fb9f3a"
             ],
             [
              0.8888888888888888,
              "#fdca26"
             ],
             [
              1.0,
              "#f0f921"
             ]
            ]
           }
          ],
          "heatmapgl": [
           {
            "type": "heatmapgl",
            "colorbar": {
             "outlinewidth": 0,
             "ticks": ""
            },
            "colorscale": [
             [
              0.0,
              "#0d0887"
             ],
             [
              0.1111111111111111,
              "#46039f"
             ],
             [
              0.2222222222222222,
              "#7201a8"
             ],
             [
              0.3333333333333333,
              "#9c179e"
             ],
             [
              0.4444444444444444,
              "#bd3786"
             ],
             [
              0.5555555555555556,
              "#d8576b"
             ],
             [
              0.6666666666666666,
              "#ed7953"
             ],
             [
              0.7777777777777778,
              "#fb9f3a"
             ],
             [
              0.8888888888888888,
              "#fdca26"
             ],
             [
              1.0,
              "#f0f921"
             ]
            ]
           }
          ],
          "contourcarpet": [
           {
            "type": "contourcarpet",
            "colorbar": {
             "outlinewidth": 0,
             "ticks": ""
            }
           }
          ],
          "contour": [
           {
            "type": "contour",
            "colorbar": {
             "outlinewidth": 0,
             "ticks": ""
            },
            "colorscale": [
             [
              0.0,
              "#0d0887"
             ],
             [
              0.1111111111111111,
              "#46039f"
             ],
             [
              0.2222222222222222,
              "#7201a8"
             ],
             [
              0.3333333333333333,
              "#9c179e"
             ],
             [
              0.4444444444444444,
              "#bd3786"
             ],
             [
              0.5555555555555556,
              "#d8576b"
             ],
             [
              0.6666666666666666,
              "#ed7953"
             ],
             [
              0.7777777777777778,
              "#fb9f3a"
             ],
             [
              0.8888888888888888,
              "#fdca26"
             ],
             [
              1.0,
              "#f0f921"
             ]
            ]
           }
          ],
          "surface": [
           {
            "type": "surface",
            "colorbar": {
             "outlinewidth": 0,
             "ticks": ""
            },
            "colorscale": [
             [
              0.0,
              "#0d0887"
             ],
             [
              0.1111111111111111,
              "#46039f"
             ],
             [
              0.2222222222222222,
              "#7201a8"
             ],
             [
              0.3333333333333333,
              "#9c179e"
             ],
             [
              0.4444444444444444,
              "#bd3786"
             ],
             [
              0.5555555555555556,
              "#d8576b"
             ],
             [
              0.6666666666666666,
              "#ed7953"
             ],
             [
              0.7777777777777778,
              "#fb9f3a"
             ],
             [
              0.8888888888888888,
              "#fdca26"
             ],
             [
              1.0,
              "#f0f921"
             ]
            ]
           }
          ],
          "mesh3d": [
           {
            "type": "mesh3d",
            "colorbar": {
             "outlinewidth": 0,
             "ticks": ""
            }
           }
          ],
          "scatter": [
           {
            "fillpattern": {
             "fillmode": "overlay",
             "size": 10,
             "solidity": 0.2
            },
            "type": "scatter"
           }
          ],
          "parcoords": [
           {
            "type": "parcoords",
            "line": {
             "colorbar": {
              "outlinewidth": 0,
              "ticks": ""
             }
            }
           }
          ],
          "scatterpolargl": [
           {
            "type": "scatterpolargl",
            "marker": {
             "colorbar": {
              "outlinewidth": 0,
              "ticks": ""
             }
            }
           }
          ],
          "bar": [
           {
            "error_x": {
             "color": "#2a3f5f"
            },
            "error_y": {
             "color": "#2a3f5f"
            },
            "marker": {
             "line": {
              "color": "#E5ECF6",
              "width": 0.5
             },
             "pattern": {
              "fillmode": "overlay",
              "size": 10,
              "solidity": 0.2
             }
            },
            "type": "bar"
           }
          ],
          "scattergeo": [
           {
            "type": "scattergeo",
            "marker": {
             "colorbar": {
              "outlinewidth": 0,
              "ticks": ""
             }
            }
           }
          ],
          "scatterpolar": [
           {
            "type": "scatterpolar",
            "marker": {
             "colorbar": {
              "outlinewidth": 0,
              "ticks": ""
             }
            }
           }
          ],
          "histogram": [
           {
            "marker": {
             "pattern": {
              "fillmode": "overlay",
              "size": 10,
              "solidity": 0.2
             }
            },
            "type": "histogram"
           }
          ],
          "scattergl": [
           {
            "type": "scattergl",
            "marker": {
             "colorbar": {
              "outlinewidth": 0,
              "ticks": ""
             }
            }
           }
          ],
          "scatter3d": [
           {
            "type": "scatter3d",
            "line": {
             "colorbar": {
              "outlinewidth": 0,
              "ticks": ""
             }
            },
            "marker": {
             "colorbar": {
              "outlinewidth": 0,
              "ticks": ""
             }
            }
           }
          ],
          "scattermapbox": [
           {
            "type": "scattermapbox",
            "marker": {
             "colorbar": {
              "outlinewidth": 0,
              "ticks": ""
             }
            }
           }
          ],
          "scatterternary": [
           {
            "type": "scatterternary",
            "marker": {
             "colorbar": {
              "outlinewidth": 0,
              "ticks": ""
             }
            }
           }
          ],
          "scattercarpet": [
           {
            "type": "scattercarpet",
            "marker": {
             "colorbar": {
              "outlinewidth": 0,
              "ticks": ""
             }
            }
           }
          ],
          "carpet": [
           {
            "aaxis": {
             "endlinecolor": "#2a3f5f",
             "gridcolor": "white",
             "linecolor": "white",
             "minorgridcolor": "white",
             "startlinecolor": "#2a3f5f"
            },
            "baxis": {
             "endlinecolor": "#2a3f5f",
             "gridcolor": "white",
             "linecolor": "white",
             "minorgridcolor": "white",
             "startlinecolor": "#2a3f5f"
            },
            "type": "carpet"
           }
          ],
          "table": [
           {
            "cells": {
             "fill": {
              "color": "#EBF0F8"
             },
             "line": {
              "color": "white"
             }
            },
            "header": {
             "fill": {
              "color": "#C8D4E3"
             },
             "line": {
              "color": "white"
             }
            },
            "type": "table"
           }
          ],
          "barpolar": [
           {
            "marker": {
             "line": {
              "color": "#E5ECF6",
              "width": 0.5
             },
             "pattern": {
              "fillmode": "overlay",
              "size": 10,
              "solidity": 0.2
             }
            },
            "type": "barpolar"
           }
          ],
          "pie": [
           {
            "automargin": true,
            "type": "pie"
           }
          ]
         },
         "layout": {
          "autotypenumbers": "strict",
          "colorway": [
           "#636efa",
           "#EF553B",
           "#00cc96",
           "#ab63fa",
           "#FFA15A",
           "#19d3f3",
           "#FF6692",
           "#B6E880",
           "#FF97FF",
           "#FECB52"
          ],
          "font": {
           "color": "#2a3f5f"
          },
          "hovermode": "closest",
          "hoverlabel": {
           "align": "left"
          },
          "paper_bgcolor": "white",
          "plot_bgcolor": "#E5ECF6",
          "polar": {
           "bgcolor": "#E5ECF6",
           "angularaxis": {
            "gridcolor": "white",
            "linecolor": "white",
            "ticks": ""
           },
           "radialaxis": {
            "gridcolor": "white",
            "linecolor": "white",
            "ticks": ""
           }
          },
          "ternary": {
           "bgcolor": "#E5ECF6",
           "aaxis": {
            "gridcolor": "white",
            "linecolor": "white",
            "ticks": ""
           },
           "baxis": {
            "gridcolor": "white",
            "linecolor": "white",
            "ticks": ""
           },
           "caxis": {
            "gridcolor": "white",
            "linecolor": "white",
            "ticks": ""
           }
          },
          "coloraxis": {
           "colorbar": {
            "outlinewidth": 0,
            "ticks": ""
           }
          },
          "colorscale": {
           "sequential": [
            [
             0.0,
             "#0d0887"
            ],
            [
             0.1111111111111111,
             "#46039f"
            ],
            [
             0.2222222222222222,
             "#7201a8"
            ],
            [
             0.3333333333333333,
             "#9c179e"
            ],
            [
             0.4444444444444444,
             "#bd3786"
            ],
            [
             0.5555555555555556,
             "#d8576b"
            ],
            [
             0.6666666666666666,
             "#ed7953"
            ],
            [
             0.7777777777777778,
             "#fb9f3a"
            ],
            [
             0.8888888888888888,
             "#fdca26"
            ],
            [
             1.0,
             "#f0f921"
            ]
           ],
           "sequentialminus": [
            [
             0.0,
             "#0d0887"
            ],
            [
             0.1111111111111111,
             "#46039f"
            ],
            [
             0.2222222222222222,
             "#7201a8"
            ],
            [
             0.3333333333333333,
             "#9c179e"
            ],
            [
             0.4444444444444444,
             "#bd3786"
            ],
            [
             0.5555555555555556,
             "#d8576b"
            ],
            [
             0.6666666666666666,
             "#ed7953"
            ],
            [
             0.7777777777777778,
             "#fb9f3a"
            ],
            [
             0.8888888888888888,
             "#fdca26"
            ],
            [
             1.0,
             "#f0f921"
            ]
           ],
           "diverging": [
            [
             0,
             "#8e0152"
            ],
            [
             0.1,
             "#c51b7d"
            ],
            [
             0.2,
             "#de77ae"
            ],
            [
             0.3,
             "#f1b6da"
            ],
            [
             0.4,
             "#fde0ef"
            ],
            [
             0.5,
             "#f7f7f7"
            ],
            [
             0.6,
             "#e6f5d0"
            ],
            [
             0.7,
             "#b8e186"
            ],
            [
             0.8,
             "#7fbc41"
            ],
            [
             0.9,
             "#4d9221"
            ],
            [
             1,
             "#276419"
            ]
           ]
          },
          "xaxis": {
           "gridcolor": "white",
           "linecolor": "white",
           "ticks": "",
           "title": {
            "standoff": 15
           },
           "zerolinecolor": "white",
           "automargin": true,
           "zerolinewidth": 2
          },
          "yaxis": {
           "gridcolor": "white",
           "linecolor": "white",
           "ticks": "",
           "title": {
            "standoff": 15
           },
           "zerolinecolor": "white",
           "automargin": true,
           "zerolinewidth": 2
          },
          "scene": {
           "xaxis": {
            "backgroundcolor": "#E5ECF6",
            "gridcolor": "white",
            "linecolor": "white",
            "showbackground": true,
            "ticks": "",
            "zerolinecolor": "white",
            "gridwidth": 2
           },
           "yaxis": {
            "backgroundcolor": "#E5ECF6",
            "gridcolor": "white",
            "linecolor": "white",
            "showbackground": true,
            "ticks": "",
            "zerolinecolor": "white",
            "gridwidth": 2
           },
           "zaxis": {
            "backgroundcolor": "#E5ECF6",
            "gridcolor": "white",
            "linecolor": "white",
            "showbackground": true,
            "ticks": "",
            "zerolinecolor": "white",
            "gridwidth": 2
           }
          },
          "shapedefaults": {
           "line": {
            "color": "#2a3f5f"
           }
          },
          "annotationdefaults": {
           "arrowcolor": "#2a3f5f",
           "arrowhead": 0,
           "arrowwidth": 1
          },
          "geo": {
           "bgcolor": "white",
           "landcolor": "#E5ECF6",
           "subunitcolor": "white",
           "showland": true,
           "showlakes": true,
           "lakecolor": "white"
          },
          "title": {
           "x": 0.05
          },
          "mapbox": {
           "style": "light"
          }
         }
        },
        "scene": {
         "domain": {
          "x": [
           0.0,
           1.0
          ],
          "y": [
           0.0,
           1.0
          ]
         },
         "xaxis": {
          "title": {
           "text": "x"
          }
         },
         "yaxis": {
          "title": {
           "text": "y"
          }
         },
         "zaxis": {
          "title": {
           "text": "z"
          }
         }
        },
        "legend": {
         "tracegroupgap": 0
        },
        "margin": {
         "t": 60
        }
       },
       "config": {
        "plotlyServerURL": "https://plot.ly"
       }
      },
      "text/html": "<div>                            <div id=\"1e6d3b59-47b4-4112-9106-5999528e2c74\" class=\"plotly-graph-div\" style=\"height:525px; width:100%;\"></div>            <script type=\"text/javascript\">                require([\"plotly\"], function(Plotly) {                    window.PLOTLYENV=window.PLOTLYENV || {};                                    if (document.getElementById(\"1e6d3b59-47b4-4112-9106-5999528e2c74\")) {                    Plotly.newPlot(                        \"1e6d3b59-47b4-4112-9106-5999528e2c74\",                        [{\"hovertemplate\":\"x=%{x}\\u003cbr\\u003ey=%{y}\\u003cbr\\u003ez=%{z}\\u003cbr\\u003etext=%{text}\\u003cextra\\u003e\\u003c\\u002fextra\\u003e\",\"legendgroup\":\"\",\"marker\":{\"color\":\"#636efa\",\"symbol\":\"circle\"},\"mode\":\"markers+text\",\"name\":\"\",\"scene\":\"scene\",\"showlegend\":false,\"text\":[\"(0.7109) SwinUNETR-f18-\",\"(0.7097) vgg13-Unet-f18\",\"(0.7094) vgg13-Unet-f13\",\"(0.7090) vgg13-Unet-f18\",\"(0.7085) vgg13-Unet-f18\",\"(0.7082) SwinUNETR-f18-\",\"(0.7082) SwinUNETR-f13-\",\"(0.7076) vgg13-Unet-f13\",\"(0.7074) timm-res2net50\",\"(0.7061) vgg13-Unet-f6-\",\"(0.7052) SwinUNETR-f13-\",\"(0.7041) vgg13-Unet-f7-\",\"(0.7040) timm-resnest14\",\"(0.7032) timm-res2net50\"],\"x\":[0.07035852964175074,-0.08198338719008005,-0.021607089201605506,-0.07810347350521453,-0.07619493384654424,0.08479928426681574,0.1228235000060879,-0.012965012505555778,0.034000300136436436,-0.0728925700305598,0.12681826640870697,-0.08264835190838397,0.03152285244871725,-0.04392791472057148],\"y\":[-0.11017975547371806,-0.06002263565039658,0.05901238761223273,-0.04436520235749639,-0.043743882057506935,-0.10420459827985502,0.009233584114254057,0.06992695386272109,0.10347079925377835,0.007338646621956034,-0.003934619373076342,0.007772735288284721,0.1178799188629281,-0.008184332424105874],\"z\":[0.01808789516617273,-0.04344618816288745,-0.08091916600449317,-0.005811545804656733,-0.05288727155897774,0.01982096892411743,-0.030411148893459437,-0.0645890733836463,0.04043047445385544,0.003949304801797282,-0.028252692648574468,0.022384221520580106,0.04445865916424275,0.15718556242592926],\"type\":\"scatter3d\"},{\"marker\":{\"color\":\"red\",\"size\":10},\"mode\":\"markers\",\"name\":\"Genetic Algorithm weights\",\"text\":\"(0.7163)\",\"x\":[0.001267799687275552],\"y\":[-0.01614075095787015],\"z\":[0.0006361700426496114],\"type\":\"scatter3d\"},{\"marker\":{\"color\":\"green\",\"size\":10},\"mode\":\"markers\",\"name\":\"Linear regression weights\",\"text\":\"(0.7161)\",\"x\":[0.0041349434629645125],\"y\":[-0.012178839221660642],\"z\":[0.006934028269845924],\"type\":\"scatter3d\"},{\"marker\":{\"color\":\"blue\",\"size\":10},\"mode\":\"markers\",\"name\":\"Top 3 model ensemble\",\"text\":\"(0.7159)\",\"x\":[-0.011077315583311605],\"y\":[-0.03706333450396063],\"z\":[-0.03542581966706929],\"type\":\"scatter3d\"},{\"marker\":{\"color\":\"purple\",\"size\":10},\"mode\":\"markers\",\"name\":\"Optimal MSE binary ensemble\",\"text\":\"(0.7139)\",\"x\":[1.770085328501106e-05],\"y\":[-0.017845241113160586],\"z\":[-0.010353079658102365],\"type\":\"scatter3d\"}],                        {\"template\":{\"data\":{\"histogram2dcontour\":[{\"type\":\"histogram2dcontour\",\"colorbar\":{\"outlinewidth\":0,\"ticks\":\"\"},\"colorscale\":[[0.0,\"#0d0887\"],[0.1111111111111111,\"#46039f\"],[0.2222222222222222,\"#7201a8\"],[0.3333333333333333,\"#9c179e\"],[0.4444444444444444,\"#bd3786\"],[0.5555555555555556,\"#d8576b\"],[0.6666666666666666,\"#ed7953\"],[0.7777777777777778,\"#fb9f3a\"],[0.8888888888888888,\"#fdca26\"],[1.0,\"#f0f921\"]]}],\"choropleth\":[{\"type\":\"choropleth\",\"colorbar\":{\"outlinewidth\":0,\"ticks\":\"\"}}],\"histogram2d\":[{\"type\":\"histogram2d\",\"colorbar\":{\"outlinewidth\":0,\"ticks\":\"\"},\"colorscale\":[[0.0,\"#0d0887\"],[0.1111111111111111,\"#46039f\"],[0.2222222222222222,\"#7201a8\"],[0.3333333333333333,\"#9c179e\"],[0.4444444444444444,\"#bd3786\"],[0.5555555555555556,\"#d8576b\"],[0.6666666666666666,\"#ed7953\"],[0.7777777777777778,\"#fb9f3a\"],[0.8888888888888888,\"#fdca26\"],[1.0,\"#f0f921\"]]}],\"heatmap\":[{\"type\":\"heatmap\",\"colorbar\":{\"outlinewidth\":0,\"ticks\":\"\"},\"colorscale\":[[0.0,\"#0d0887\"],[0.1111111111111111,\"#46039f\"],[0.2222222222222222,\"#7201a8\"],[0.3333333333333333,\"#9c179e\"],[0.4444444444444444,\"#bd3786\"],[0.5555555555555556,\"#d8576b\"],[0.6666666666666666,\"#ed7953\"],[0.7777777777777778,\"#fb9f3a\"],[0.8888888888888888,\"#fdca26\"],[1.0,\"#f0f921\"]]}],\"heatmapgl\":[{\"type\":\"heatmapgl\",\"colorbar\":{\"outlinewidth\":0,\"ticks\":\"\"},\"colorscale\":[[0.0,\"#0d0887\"],[0.1111111111111111,\"#46039f\"],[0.2222222222222222,\"#7201a8\"],[0.3333333333333333,\"#9c179e\"],[0.4444444444444444,\"#bd3786\"],[0.5555555555555556,\"#d8576b\"],[0.6666666666666666,\"#ed7953\"],[0.7777777777777778,\"#fb9f3a\"],[0.8888888888888888,\"#fdca26\"],[1.0,\"#f0f921\"]]}],\"contourcarpet\":[{\"type\":\"contourcarpet\",\"colorbar\":{\"outlinewidth\":0,\"ticks\":\"\"}}],\"contour\":[{\"type\":\"contour\",\"colorbar\":{\"outlinewidth\":0,\"ticks\":\"\"},\"colorscale\":[[0.0,\"#0d0887\"],[0.1111111111111111,\"#46039f\"],[0.2222222222222222,\"#7201a8\"],[0.3333333333333333,\"#9c179e\"],[0.4444444444444444,\"#bd3786\"],[0.5555555555555556,\"#d8576b\"],[0.6666666666666666,\"#ed7953\"],[0.7777777777777778,\"#fb9f3a\"],[0.8888888888888888,\"#fdca26\"],[1.0,\"#f0f921\"]]}],\"surface\":[{\"type\":\"surface\",\"colorbar\":{\"outlinewidth\":0,\"ticks\":\"\"},\"colorscale\":[[0.0,\"#0d0887\"],[0.1111111111111111,\"#46039f\"],[0.2222222222222222,\"#7201a8\"],[0.3333333333333333,\"#9c179e\"],[0.4444444444444444,\"#bd3786\"],[0.5555555555555556,\"#d8576b\"],[0.6666666666666666,\"#ed7953\"],[0.7777777777777778,\"#fb9f3a\"],[0.8888888888888888,\"#fdca26\"],[1.0,\"#f0f921\"]]}],\"mesh3d\":[{\"type\":\"mesh3d\",\"colorbar\":{\"outlinewidth\":0,\"ticks\":\"\"}}],\"scatter\":[{\"fillpattern\":{\"fillmode\":\"overlay\",\"size\":10,\"solidity\":0.2},\"type\":\"scatter\"}],\"parcoords\":[{\"type\":\"parcoords\",\"line\":{\"colorbar\":{\"outlinewidth\":0,\"ticks\":\"\"}}}],\"scatterpolargl\":[{\"type\":\"scatterpolargl\",\"marker\":{\"colorbar\":{\"outlinewidth\":0,\"ticks\":\"\"}}}],\"bar\":[{\"error_x\":{\"color\":\"#2a3f5f\"},\"error_y\":{\"color\":\"#2a3f5f\"},\"marker\":{\"line\":{\"color\":\"#E5ECF6\",\"width\":0.5},\"pattern\":{\"fillmode\":\"overlay\",\"size\":10,\"solidity\":0.2}},\"type\":\"bar\"}],\"scattergeo\":[{\"type\":\"scattergeo\",\"marker\":{\"colorbar\":{\"outlinewidth\":0,\"ticks\":\"\"}}}],\"scatterpolar\":[{\"type\":\"scatterpolar\",\"marker\":{\"colorbar\":{\"outlinewidth\":0,\"ticks\":\"\"}}}],\"histogram\":[{\"marker\":{\"pattern\":{\"fillmode\":\"overlay\",\"size\":10,\"solidity\":0.2}},\"type\":\"histogram\"}],\"scattergl\":[{\"type\":\"scattergl\",\"marker\":{\"colorbar\":{\"outlinewidth\":0,\"ticks\":\"\"}}}],\"scatter3d\":[{\"type\":\"scatter3d\",\"line\":{\"colorbar\":{\"outlinewidth\":0,\"ticks\":\"\"}},\"marker\":{\"colorbar\":{\"outlinewidth\":0,\"ticks\":\"\"}}}],\"scattermapbox\":[{\"type\":\"scattermapbox\",\"marker\":{\"colorbar\":{\"outlinewidth\":0,\"ticks\":\"\"}}}],\"scatterternary\":[{\"type\":\"scatterternary\",\"marker\":{\"colorbar\":{\"outlinewidth\":0,\"ticks\":\"\"}}}],\"scattercarpet\":[{\"type\":\"scattercarpet\",\"marker\":{\"colorbar\":{\"outlinewidth\":0,\"ticks\":\"\"}}}],\"carpet\":[{\"aaxis\":{\"endlinecolor\":\"#2a3f5f\",\"gridcolor\":\"white\",\"linecolor\":\"white\",\"minorgridcolor\":\"white\",\"startlinecolor\":\"#2a3f5f\"},\"baxis\":{\"endlinecolor\":\"#2a3f5f\",\"gridcolor\":\"white\",\"linecolor\":\"white\",\"minorgridcolor\":\"white\",\"startlinecolor\":\"#2a3f5f\"},\"type\":\"carpet\"}],\"table\":[{\"cells\":{\"fill\":{\"color\":\"#EBF0F8\"},\"line\":{\"color\":\"white\"}},\"header\":{\"fill\":{\"color\":\"#C8D4E3\"},\"line\":{\"color\":\"white\"}},\"type\":\"table\"}],\"barpolar\":[{\"marker\":{\"line\":{\"color\":\"#E5ECF6\",\"width\":0.5},\"pattern\":{\"fillmode\":\"overlay\",\"size\":10,\"solidity\":0.2}},\"type\":\"barpolar\"}],\"pie\":[{\"automargin\":true,\"type\":\"pie\"}]},\"layout\":{\"autotypenumbers\":\"strict\",\"colorway\":[\"#636efa\",\"#EF553B\",\"#00cc96\",\"#ab63fa\",\"#FFA15A\",\"#19d3f3\",\"#FF6692\",\"#B6E880\",\"#FF97FF\",\"#FECB52\"],\"font\":{\"color\":\"#2a3f5f\"},\"hovermode\":\"closest\",\"hoverlabel\":{\"align\":\"left\"},\"paper_bgcolor\":\"white\",\"plot_bgcolor\":\"#E5ECF6\",\"polar\":{\"bgcolor\":\"#E5ECF6\",\"angularaxis\":{\"gridcolor\":\"white\",\"linecolor\":\"white\",\"ticks\":\"\"},\"radialaxis\":{\"gridcolor\":\"white\",\"linecolor\":\"white\",\"ticks\":\"\"}},\"ternary\":{\"bgcolor\":\"#E5ECF6\",\"aaxis\":{\"gridcolor\":\"white\",\"linecolor\":\"white\",\"ticks\":\"\"},\"baxis\":{\"gridcolor\":\"white\",\"linecolor\":\"white\",\"ticks\":\"\"},\"caxis\":{\"gridcolor\":\"white\",\"linecolor\":\"white\",\"ticks\":\"\"}},\"coloraxis\":{\"colorbar\":{\"outlinewidth\":0,\"ticks\":\"\"}},\"colorscale\":{\"sequential\":[[0.0,\"#0d0887\"],[0.1111111111111111,\"#46039f\"],[0.2222222222222222,\"#7201a8\"],[0.3333333333333333,\"#9c179e\"],[0.4444444444444444,\"#bd3786\"],[0.5555555555555556,\"#d8576b\"],[0.6666666666666666,\"#ed7953\"],[0.7777777777777778,\"#fb9f3a\"],[0.8888888888888888,\"#fdca26\"],[1.0,\"#f0f921\"]],\"sequentialminus\":[[0.0,\"#0d0887\"],[0.1111111111111111,\"#46039f\"],[0.2222222222222222,\"#7201a8\"],[0.3333333333333333,\"#9c179e\"],[0.4444444444444444,\"#bd3786\"],[0.5555555555555556,\"#d8576b\"],[0.6666666666666666,\"#ed7953\"],[0.7777777777777778,\"#fb9f3a\"],[0.8888888888888888,\"#fdca26\"],[1.0,\"#f0f921\"]],\"diverging\":[[0,\"#8e0152\"],[0.1,\"#c51b7d\"],[0.2,\"#de77ae\"],[0.3,\"#f1b6da\"],[0.4,\"#fde0ef\"],[0.5,\"#f7f7f7\"],[0.6,\"#e6f5d0\"],[0.7,\"#b8e186\"],[0.8,\"#7fbc41\"],[0.9,\"#4d9221\"],[1,\"#276419\"]]},\"xaxis\":{\"gridcolor\":\"white\",\"linecolor\":\"white\",\"ticks\":\"\",\"title\":{\"standoff\":15},\"zerolinecolor\":\"white\",\"automargin\":true,\"zerolinewidth\":2},\"yaxis\":{\"gridcolor\":\"white\",\"linecolor\":\"white\",\"ticks\":\"\",\"title\":{\"standoff\":15},\"zerolinecolor\":\"white\",\"automargin\":true,\"zerolinewidth\":2},\"scene\":{\"xaxis\":{\"backgroundcolor\":\"#E5ECF6\",\"gridcolor\":\"white\",\"linecolor\":\"white\",\"showbackground\":true,\"ticks\":\"\",\"zerolinecolor\":\"white\",\"gridwidth\":2},\"yaxis\":{\"backgroundcolor\":\"#E5ECF6\",\"gridcolor\":\"white\",\"linecolor\":\"white\",\"showbackground\":true,\"ticks\":\"\",\"zerolinecolor\":\"white\",\"gridwidth\":2},\"zaxis\":{\"backgroundcolor\":\"#E5ECF6\",\"gridcolor\":\"white\",\"linecolor\":\"white\",\"showbackground\":true,\"ticks\":\"\",\"zerolinecolor\":\"white\",\"gridwidth\":2}},\"shapedefaults\":{\"line\":{\"color\":\"#2a3f5f\"}},\"annotationdefaults\":{\"arrowcolor\":\"#2a3f5f\",\"arrowhead\":0,\"arrowwidth\":1},\"geo\":{\"bgcolor\":\"white\",\"landcolor\":\"#E5ECF6\",\"subunitcolor\":\"white\",\"showland\":true,\"showlakes\":true,\"lakecolor\":\"white\"},\"title\":{\"x\":0.05},\"mapbox\":{\"style\":\"light\"}}},\"scene\":{\"domain\":{\"x\":[0.0,1.0],\"y\":[0.0,1.0]},\"xaxis\":{\"title\":{\"text\":\"x\"}},\"yaxis\":{\"title\":{\"text\":\"y\"}},\"zaxis\":{\"title\":{\"text\":\"z\"}}},\"legend\":{\"tracegroupgap\":0},\"margin\":{\"t\":60}},                        {\"responsive\": true}                    ).then(function(){\n                            \nvar gd = document.getElementById('1e6d3b59-47b4-4112-9106-5999528e2c74');\nvar x = new MutationObserver(function (mutations, observer) {{\n        var display = window.getComputedStyle(gd).display;\n        if (!display || display === 'none') {{\n            console.log([gd, 'removed!']);\n            Plotly.purge(gd);\n            observer.disconnect();\n        }}\n}});\n\n// Listen for the removal of the full notebook cells\nvar notebookContainer = gd.closest('#notebook-container');\nif (notebookContainer) {{\n    x.observe(notebookContainer, {childList: true});\n}}\n\n// Listen for the clearing of the current output cell\nvar outputEl = gd.closest('.output');\nif (outputEl) {{\n    x.observe(outputEl, {childList: true});\n}}\n\n                        })                };                });            </script>        </div>"
     },
     "metadata": {},
     "output_type": "display_data"
    }
   ],
   "source": [
    "# DO the same thing in 3D\n",
    "pca = PCA(n_components=3)\n",
    "embedding = pca.fit_transform(1 - corr)\n",
    "\n",
    "# plot with plotly express interactive\n",
    "fig = px.scatter_3d(x=embedding[:, 0], y=embedding[:, 1], z=embedding[:, 2], text=[f\"({dice_scores[folder]:.4f}) {names[folder][:14]}\" for folder in folders])\n",
    "\n",
    "# show the location of the best linear combination\n",
    "best_normed = best_individual / sum(best_individual)\n",
    "dice = dice_fitness(best_individual, pred_array, targets)\n",
    "fig.add_scatter3d(x=[np.dot(embedding[:, 0], best_normed)], y=[np.dot(embedding[:, 1], best_normed)], z=[np.dot(embedding[:, 2], best_normed)], mode=\"markers\", marker=dict(size=10, color=\"red\"), name=\"Genetic Algorithm weights\", text=f\"({dice:.4f})\")\n",
    "\n",
    "# show the location of the linear regression weights\n",
    "dice = dice_fitness(weights, pred_array, targets)\n",
    "fig.add_scatter3d(x=[np.dot(embedding[:, 0], weights)], y=[np.dot(embedding[:, 1], weights)], z=[np.dot(embedding[:, 2], weights)], mode=\"markers\", marker=dict(size=10, color=\"green\"), name=\"Linear regression weights\", text=f\"({dice:.4f})\")\n",
    "\n",
    "# show the location of the simple ensemble\n",
    "simple_weights = simple_selection / sum(simple_selection)\n",
    "dice = dice_fitness(simple_selection, pred_array, targets)\n",
    "fig.add_scatter3d(x=[np.dot(embedding[:, 0], simple_weights)], y=[np.dot(embedding[:, 1], simple_weights)], z=[np.dot(embedding[:, 2], simple_weights)], mode=\"markers\", marker=dict(size=10, color=\"blue\"), name=\"Top 3 model ensemble\", text=f\"({dice:.4f})\")\n",
    "\n",
    "# show the location of the optimal ensemble according to best_selection\n",
    "best_selection_weights = np.array(best_selection) / sum(best_selection)\n",
    "dice = dice_fitness(best_selection, pred_array, targets)\n",
    "fig.add_scatter3d(x=[np.dot(embedding[:, 0], best_selection_weights)], y=[np.dot(embedding[:, 1], best_selection_weights)], z=[np.dot(embedding[:, 2], best_selection_weights)], mode=\"markers\", marker=dict(size=10, color=\"purple\"), name=\"Optimal MSE binary ensemble\", text=f\"({dice:.4f})\")\n",
    "\n",
    "fig.show()"
   ],
   "metadata": {
    "collapsed": false,
    "ExecuteTime": {
     "end_time": "2024-02-20T09:33:19.339607100Z",
     "start_time": "2024-02-20T09:33:10.700183900Z"
    }
   },
   "id": "3dfd6faa44ba1774"
  },
  {
   "cell_type": "code",
   "execution_count": 294,
   "outputs": [
    {
     "data": {
      "text/plain": "<Figure size 640x480 with 2 Axes>",
      "image/png": "[encoded data removed]"
     },
     "metadata": {},
     "output_type": "display_data"
    }
   ],
   "source": [
    "# show the correlation matrix heatmap\n",
    "import seaborn as sns\n",
    "sns.heatmap(corr, xticklabels=[f\"({dice_scores[folder]:.4f}) {names[folder]}\" for folder in folders], yticklabels=[f\"({dice_scores[folder]:.4f}) {names[folder]}\" for folder in folders], annot=True)\n",
    "plt.show()"
   ],
   "metadata": {
    "collapsed": false,
    "ExecuteTime": {
     "end_time": "2024-02-20T10:25:06.511861900Z",
     "start_time": "2024-02-20T10:25:06.026574100Z"
    }
   },
   "id": "a944f18c85ea6304"
  }
 ],
 "metadata": {
  "kernelspec": {
   "display_name": "Python 3",
   "language": "python",
   "name": "python3"
  },
  "language_info": {
   "codemirror_mode": {
    "name": "ipython",
    "version": 2
   },
   "file_extension": ".py",
   "mimetype": "text/x-python",
   "name": "python",
   "nbconvert_exporter": "python",
   "pygments_lexer": "ipython2",
   "version": "2.7.6"
  }
 },
 "nbformat": 4,
 "nbformat_minor": 5
}
