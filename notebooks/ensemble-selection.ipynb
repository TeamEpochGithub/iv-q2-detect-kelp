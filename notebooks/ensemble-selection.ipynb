{
 "cells": [
  {
   "cell_type": "code",
   "execution_count": 1,
   "outputs": [],
   "source": [
    "import numpy as np\n",
    "import pandas as pd\n",
    "import glob\n",
    "import os\n",
    "from omegaconf import OmegaConf\n",
    "import skimage\n",
    "from tqdm.notebook import tqdm, trange"
   ],
   "metadata": {
    "collapsed": false,
    "ExecuteTime": {
     "end_time": "2024-02-18T16:14:00.316651100Z",
     "start_time": "2024-02-18T16:13:59.949546800Z"
    }
   },
   "id": "14cbbea0e7ec61a6"
  },
  {
   "cell_type": "code",
   "execution_count": 2,
   "outputs": [],
   "source": [
    "# Define parameters here\n",
    "start_date = \"2024-01-00\"\n",
    "max_images = 250\n",
    "output_path = \"../outputs\"\n",
    "target_path = \"../data/raw/train_kelp/\""
   ],
   "metadata": {
    "collapsed": false,
    "ExecuteTime": {
     "end_time": "2024-02-18T16:14:00.335738700Z",
     "start_time": "2024-02-18T16:14:00.316651100Z"
    }
   },
   "id": "a9fc316582519e43"
  },
  {
   "cell_type": "code",
   "execution_count": 3,
   "outputs": [
    {
     "name": "stdout",
     "output_type": "stream",
     "text": [
      "../outputs\\2024-01-26\\16-14-25\\\n",
      "../outputs\\2024-01-26\\17-26-33\\\n",
      "../outputs\\2024-01-26\\17-26-48\\\n",
      "../outputs\\2024-01-26\\21-26-38\\\n",
      "../outputs\\2024-01-26\\21-47-29\\\n",
      "../outputs\\2024-01-26\\23-17-01\\\n",
      "../outputs\\2024-01-27\\11-47-50\\\n",
      "../outputs\\2024-01-27\\12-26-05\\\n",
      "../outputs\\2024-01-27\\12-26-45\\\n",
      "../outputs\\2024-01-27\\16-07-29\\\n",
      "../outputs\\2024-01-27\\16-52-01\\\n",
      "../outputs\\2024-01-27\\18-12-03\\\n",
      "../outputs\\2024-01-27\\19-24-34\\\n",
      "../outputs\\2024-02-14\\09-43-04\\\n",
      "../outputs\\2024-02-14\\14-26-02\\\n",
      "../outputs\\2024-02-14\\14-45-28\\\n"
     ]
    }
   ],
   "source": [
    "# Search for suitable output folders\n",
    "folders = []\n",
    "confs = dict()\n",
    "for day_folder in glob.glob(os.path.join(output_path, \"*/\")):\n",
    "    if day_folder.split(os.sep)[-2] < start_date:\n",
    "        continue       \n",
    "    for timestamp_folder in glob.glob(os.path.join(day_folder, \"*/\")):\n",
    "        if not os.path.exists(os.path.join(timestamp_folder, \"preds\")):\n",
    "            continue\n",
    "        \n",
    "        # read the .hydra/config.yaml file with omegaconf into a dictionary\n",
    "        with open(os.path.join(timestamp_folder, \".hydra\", \"config.yaml\"), \"r\") as f:\n",
    "            cfg = OmegaConf.load(f)\n",
    "            \n",
    "        if \"test_size\" not in cfg or cfg.test_size != 0.2:\n",
    "            continue\n",
    "        \n",
    "        confs[timestamp_folder] = cfg            \n",
    "        print(timestamp_folder)\n",
    "        folders.append(timestamp_folder)"
   ],
   "metadata": {
    "collapsed": false,
    "ExecuteTime": {
     "end_time": "2024-02-18T16:14:00.857387300Z",
     "start_time": "2024-02-18T16:14:00.334738300Z"
    }
   },
   "id": "4814e0907416f14"
  },
  {
   "cell_type": "code",
   "execution_count": 4,
   "outputs": [],
   "source": [
    "# Read the filenames inside the first folder\n",
    "filenames = glob.glob(os.path.join(folders[0], \"preds\", \"*.tif\"))\n",
    "image_names = [os.path.basename(f)[:-9] for f in filenames]"
   ],
   "metadata": {
    "collapsed": false,
    "ExecuteTime": {
     "end_time": "2024-02-18T16:14:00.872390600Z",
     "start_time": "2024-02-18T16:14:00.857387300Z"
    }
   },
   "id": "4406758953145ea9"
  },
  {
   "cell_type": "code",
   "execution_count": 5,
   "outputs": [
    {
     "name": "stdout",
     "output_type": "stream",
     "text": [
      "../outputs\\2024-01-26\\16-14-25\\ vgg11-Unet-f7-bs16-e50-KelpWeightedBatchLoss\n",
      "../outputs\\2024-01-26\\17-26-33\\ vgg11-Unet-f3-bs16-e50-KelpWeightedBatchLoss\n",
      "../outputs\\2024-01-26\\17-26-48\\ vgg11-Unet-f3-bs16-e50-KelpWeightedBatchLoss\n",
      "../outputs\\2024-01-26\\21-26-38\\ resnext50_32x4d-Unet-f3-bs16-e50-KelpWeightedBatchLoss\n",
      "../outputs\\2024-01-26\\21-47-29\\ vgg11-Unet-f3-bs16-e50-KelpWeightedBatchLoss\n",
      "../outputs\\2024-01-26\\23-17-01\\ resnext50_32x4d-Unet-f3-bs16-e50-KelpWeightedBatchLoss\n",
      "../outputs\\2024-01-27\\11-47-50\\ vgg11-Unet-f3-bs16-e50-KelpWeightedBatchLoss\n",
      "../outputs\\2024-01-27\\12-26-05\\ vgg11-Unet-f3-bs16-e50-KelpWeightedBatchLoss\n",
      "../outputs\\2024-01-27\\12-26-45\\ vgg11-Unet-f3-bs16-e50-DiceLoss\n",
      "../outputs\\2024-01-27\\16-07-29\\ vgg11-Unet-f3-bs64-e50-DiceLoss\n",
      "../outputs\\2024-01-27\\16-52-01\\ vgg11-Unet-f3-bs16-e50-DiceLoss\n",
      "../outputs\\2024-01-27\\18-12-03\\ vgg11-Unet-f3-bs16-e50-DiceLoss\n",
      "../outputs\\2024-01-27\\19-24-34\\ vgg11-Unet-f3-bs16-e75-DiceLoss\n",
      "../outputs\\2024-02-14\\09-43-04\\ SwinUNETR-f18-bs16-e75-DiceLoss\n",
      "../outputs\\2024-02-14\\14-26-02\\ SwinUNETR-f18-bs16-e75-DiceLoss\n",
      "../outputs\\2024-02-14\\14-45-28\\ SwinUNETR-f18-bs16-e75-DiceLoss\n"
     ]
    }
   ],
   "source": [
    "# Create a name based on the config\n",
    "names = dict()\n",
    "for folder in folders:\n",
    "    conf = confs[folder]\n",
    "    name = conf.model.model_loop_pipeline.model_blocks_pipeline.model_blocks[0].model.model._target_.split(\".\")[-1]\n",
    "    if name == \"Unet\":\n",
    "        name = f\"{conf.model.model_loop_pipeline.model_blocks_pipeline.model_blocks[0].model.model.encoder_name}-{name}\"\n",
    "    name += f\"-f{len(conf.model.model_loop_pipeline.pretrain_pipeline.pretrain_steps[1].columns)}\"\n",
    "    name += f\"-bs{conf.model.model_loop_pipeline.model_blocks_pipeline.model_blocks[0].batch_size}\"\n",
    "    name += f\"-e{conf.model.model_loop_pipeline.model_blocks_pipeline.model_blocks[0].epochs}\"\n",
    "    name += f\"-{conf.model.model_loop_pipeline.model_blocks_pipeline.model_blocks[0].criterion._target_.split('.')[-1]}\"\n",
    "    names[folder] = name\n",
    "for folder, name in names.items():\n",
    "    print(folder, name)"
   ],
   "metadata": {
    "collapsed": false,
    "ExecuteTime": {
     "end_time": "2024-02-18T16:14:00.893395400Z",
     "start_time": "2024-02-18T16:14:00.874391500Z"
    }
   },
   "id": "b228be1589fd9531"
  },
  {
   "cell_type": "code",
   "execution_count": 6,
   "outputs": [],
   "source": [
    "# Take the first max_images images\n",
    "image_selection = image_names[:min(max_images, len(image_names))]"
   ],
   "metadata": {
    "collapsed": false,
    "ExecuteTime": {
     "end_time": "2024-02-18T16:14:00.905398600Z",
     "start_time": "2024-02-18T16:14:00.889394300Z"
    }
   },
   "id": "76ff6d2cb86d38e2"
  },
  {
   "cell_type": "code",
   "execution_count": 7,
   "outputs": [
    {
     "data": {
      "text/plain": "  0%|          | 0/250 [00:00<?, ?it/s]",
      "application/vnd.jupyter.widget-view+json": {
       "version_major": 2,
       "version_minor": 0,
       "model_id": "f02d6c08860f47df837e682e6bbe3c7d"
      }
     },
     "metadata": {},
     "output_type": "display_data"
    }
   ],
   "source": [
    "# Load the target tiffs into an array\n",
    "targets = []\n",
    "for image_name in tqdm(image_selection):\n",
    "    target = skimage.io.imread(os.path.join(target_path, f\"{image_name}_kelp.tif\"))\n",
    "    targets.append(target)\n",
    "targets = np.array(targets).flatten()"
   ],
   "metadata": {
    "collapsed": false,
    "ExecuteTime": {
     "end_time": "2024-02-18T16:14:01.238494600Z",
     "start_time": "2024-02-18T16:14:00.905398600Z"
    }
   },
   "id": "b47c8eca0f56d075"
  },
  {
   "cell_type": "code",
   "execution_count": null,
   "outputs": [
    {
     "data": {
      "text/plain": "  0%|          | 0/16 [00:00<?, ?it/s]",
      "application/vnd.jupyter.widget-view+json": {
       "version_major": 2,
       "version_minor": 0,
       "model_id": "59f1a11c950a4f10b12c9ccab62cae8a"
      }
     },
     "metadata": {},
     "output_type": "display_data"
    }
   ],
   "source": [
    "# Load the predictions into an array\n",
    "predictions = dict()\n",
    "for folder in tqdm(folders):\n",
    "    preds = []\n",
    "    for image_name in image_selection:\n",
    "        pred = skimage.io.imread(os.path.join(folder, \"preds\", f\"{image_name}_pred.tif\"))\n",
    "        preds.append(pred)\n",
    "    predictions[folder] = np.array(preds).flatten()"
   ],
   "metadata": {
    "collapsed": false,
    "is_executing": true,
    "ExecuteTime": {
     "start_time": "2024-02-18T16:14:01.240495100Z"
    }
   },
   "id": "923568e1d4df43af"
  },
  {
   "cell_type": "code",
   "execution_count": null,
   "outputs": [],
   "source": [
    "# Calculate the dice scores and square error\n",
    "dice_scores = dict()\n",
    "square_errors = dict()\n",
    "for folder, preds in tqdm(predictions.items()):\n",
    "    preds = preds > 0.5\n",
    "    dice_scores[folder] = 2 * np.sum(targets * preds) / (np.sum(targets) + np.sum(preds))   \n",
    "    square_errors[folder] = np.mean((targets - preds) ** 2)"
   ],
   "metadata": {
    "collapsed": false,
    "is_executing": true,
    "ExecuteTime": {
     "start_time": "2024-02-18T16:14:03.587809800Z"
    }
   },
   "id": "e3de2df21717d041"
  },
  {
   "cell_type": "code",
   "execution_count": null,
   "outputs": [],
   "source": [
    "# Remove all models with dice score below 0.6\n",
    "folders = [folder for folder in folders if dice_scores[folder] > 0.6]"
   ],
   "metadata": {
    "collapsed": false,
    "is_executing": true
   },
   "id": "ab56073961f03988"
  },
  {
   "cell_type": "code",
   "execution_count": null,
   "outputs": [],
   "source": [
    "# Sort the folders by dice score\n",
    "folders = sorted(folders, key=lambda folder: dice_scores[folder], reverse=True)"
   ],
   "metadata": {
    "collapsed": false,
    "is_executing": true
   },
   "id": "af46844318af9563"
  },
  {
   "cell_type": "code",
   "execution_count": null,
   "outputs": [],
   "source": [
    "# Create a dataframe with the results\n",
    "df = pd.DataFrame({\n",
    "    \"name\": [names[folder] for folder in folders],\n",
    "    \"dice_score\": [dice_scores[folder] for folder in folders],\n",
    "    \"square_error\": [square_errors[folder] for folder in folders]\n",
    "})"
   ],
   "metadata": {
    "collapsed": false,
    "is_executing": true
   },
   "id": "bd45008b09522c5a"
  },
  {
   "cell_type": "code",
   "execution_count": null,
   "outputs": [],
   "source": [
    "# Create a scatterplot with plotly express\n",
    "import plotly.express as px\n",
    "fig = px.scatter(df, x=\"dice_score\", y=\"square_error\", text=\"name\")\n",
    "fig.show()"
   ],
   "metadata": {
    "collapsed": false,
    "is_executing": true
   },
   "id": "5696c4aa13c792ad"
  },
  {
   "cell_type": "code",
   "execution_count": null,
   "outputs": [],
   "source": [
    "# Step 1 of the algorithm, compute error, error mean per base model, and a covariance matrix\n",
    "errors = np.array([predictions[folder] - targets for folder in folders])\n",
    "error_means = np.mean(errors, axis=1)\n",
    "covariance_matrix = np.cov(errors, bias=True)"
   ],
   "metadata": {
    "collapsed": false,
    "is_executing": true
   },
   "id": "3fd99bb6012ddfdd"
  },
  {
   "cell_type": "code",
   "execution_count": null,
   "outputs": [],
   "source": [
    "# Step 2. Define a function to estimate the squared error of the ensemble\n",
    "def ensemble_error(selection, error_means, covariance_matrix):\n",
    "    selection = np.array(selection) > 0.5\n",
    "    return np.mean(error_means[selection])**2 + np.mean(covariance_matrix[selection][:, selection])    "
   ],
   "metadata": {
    "collapsed": false,
    "is_executing": true
   },
   "id": "1a9ca50d95b9eb1b"
  },
  {
   "cell_type": "code",
   "execution_count": null,
   "outputs": [],
   "source": [
    "# Compute the actual error for comparison\n",
    "def true_error(selection, errors):\n",
    "    selection = np.array(selection) > 0.5\n",
    "    return np.mean(np.mean(errors[selection],axis=0)**2)"
   ],
   "metadata": {
    "collapsed": false,
    "is_executing": true
   },
   "id": "43c95774b80cddaf"
  },
  {
   "cell_type": "code",
   "execution_count": null,
   "outputs": [],
   "source": [
    "# Use timeit to compare the two methods\n",
    "import timeit\n",
    "print(f\"{timeit.timeit(lambda: ensemble_error(np.ones(len(folders)), error_means, covariance_matrix), number=5):.5}s\")\n",
    "print(f\"{timeit.timeit(lambda: true_error(np.ones(len(folders)), errors), number=5):.5}s\")"
   ],
   "metadata": {
    "collapsed": false,
    "is_executing": true
   },
   "id": "7e1a8f89594de2f7"
  },
  {
   "cell_type": "code",
   "execution_count": null,
   "outputs": [],
   "source": [
    "# Step 3. Go through all possible combinations of models and find the best one\n",
    "limit = np.inf \n",
    "best_error = np.inf\n",
    "best_selection = None\n",
    "for i in trange(1,min(2**len(folders),limit)):\n",
    "    selection = [int(x) for x in bin(i)[2:].zfill(len(folders))]\n",
    "    err = ensemble_error(selection, error_means, covariance_matrix)\n",
    "    if err < best_error:\n",
    "        best_error = err\n",
    "        best_selection = selection\n",
    "print(best_error)\n",
    "print(best_selection)\n",
    "print(\"Confirmation:\", true_error(best_selection, errors))"
   ],
   "metadata": {
    "collapsed": false,
    "is_executing": true
   },
   "id": "6f83c19eac9f85a2"
  },
  {
   "cell_type": "code",
   "execution_count": null,
   "outputs": [],
   "source": [
    "simple_selection = np.array([1,1,1,1,0,0,0,0,0,0,0,0,0,0])\n",
    "print(f\"Error (lower is better): Optimised: {best_error:.5f}, simple ensemble: {true_error(simple_selection, errors):.5f}, best model: {true_error([1]+[0]*(len(folders)-1), errors):.5f}\")\n",
    "\n",
    "# compute the dice score for the best and the simple selection ensembles\n",
    "best_preds = np.mean([predictions[folders[i]] for i in range(len(folders)) if best_selection[i] > 0.5], axis=0) > 0.5\n",
    "simple_preds = np.mean([predictions[folders[i]] for i in range(len(folders)) if simple_selection[i] > 0.5], axis=0) > 0.5\n",
    "best_dice = 2 * np.sum(targets * best_preds) / (np.sum(targets) + np.sum(best_preds))\n",
    "simple_dice = 2 * np.sum(targets * simple_preds) / (np.sum(targets) + np.sum(simple_preds))\n",
    "print(f\"Dice (higher is better): Optimised: {best_dice:.5f}, simple ensemble: {simple_dice:.5f}, best model: {dice_scores[folders[0]]:.5f}\")"
   ],
   "metadata": {
    "collapsed": false,
    "is_executing": true
   },
   "id": "ea091cf6ef4baa21"
  },
  {
   "cell_type": "code",
   "execution_count": null,
   "outputs": [],
   "source": [
    "# Use the correlation matrix to visualise the variety in the models\n",
    "corr = np.corrcoef(errors)\n",
    "\n",
    "# Treat the correlation as a distance and use hierarchical clustering to group the models\n",
    "import scipy.cluster.hierarchy as sch\n",
    "import matplotlib.pyplot as plt\n",
    "dendrogram = sch.dendrogram(sch.linkage(1 - corr, method='ward'), labels=[f\"({dice_scores[folder]:.4f}) {names[folder]}\" for folder in folders], orientation=\"left\")\n",
    "# add the names of the models to the x-axis\n",
    "plt.show()"
   ],
   "metadata": {
    "collapsed": false,
    "is_executing": true
   },
   "id": "36872b8aea78974a"
  },
  {
   "cell_type": "code",
   "execution_count": null,
   "outputs": [],
   "source": [
    "# Use UMAP to visualise the models in 2D\n",
    "import umap\n",
    "reducer = umap.UMAP()\n",
    "embedding = reducer.fit_transform(errors.T)\n",
    "plt.scatter(embedding[:, 0], embedding[:, 1])\n",
    "for i, txt in enumerate([f\"({dice_scores[folder]:.4f}) {names[folder]}\" for folder in folders]):\n",
    "    plt.annotate(txt, (embedding[i, 0], embedding[i, 1]))\n",
    "plt.show()"
   ],
   "metadata": {
    "collapsed": false,
    "is_executing": true
   },
   "id": "9b682dd7e0742441"
  }
 ],
 "metadata": {
  "kernelspec": {
   "display_name": "Python 3",
   "language": "python",
   "name": "python3"
  },
  "language_info": {
   "codemirror_mode": {
    "name": "ipython",
    "version": 2
   },
   "file_extension": ".py",
   "mimetype": "text/x-python",
   "name": "python",
   "nbconvert_exporter": "python",
   "pygments_lexer": "ipython2",
   "version": "2.7.6"
  }
 },
 "nbformat": 4,
 "nbformat_minor": 5
}
